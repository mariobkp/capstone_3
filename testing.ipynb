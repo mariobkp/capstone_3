{
 "cells": [
  {
   "cell_type": "code",
   "execution_count": 3,
   "metadata": {},
   "outputs": [],
   "source": [
    "import requests\n",
    "\n",
    "import numpy as np\n",
    "import pandas as pd\n",
    "\n",
    "from bs4 import BeautifulSoup\n",
    "\n",
    "import pprint\n",
    "\n",
    "from skimage import io, color, filters\n",
    "from skimage.transform import resize, rotate\n",
    "\n",
    "\n",
    "import tensorflow as tf\n",
    "from tensorflow import keras\n",
    "from tensorflow.keras import layers\n",
    "from tensorflow.keras.preprocessing.image import ImageDataGenerator, array_to_img, img_to_array, load_img\n",
    "\n",
    "import scipy\n",
    "import os\n",
    "import matplotlib\n",
    "from matplotlib import pyplot as plt\n",
    "\n",
    "from PIL import Image\n",
    "\n",
    "\n",
    "matplotlib.style.use('ggplot')\n",
    "%matplotlib inline"
   ]
  },
  {
   "cell_type": "code",
   "execution_count": null,
   "metadata": {},
   "outputs": [],
   "source": []
  },
  {
   "cell_type": "code",
   "execution_count": null,
   "metadata": {},
   "outputs": [],
   "source": []
  },
  {
   "cell_type": "code",
   "execution_count": null,
   "metadata": {},
   "outputs": [],
   "source": []
  },
  {
   "cell_type": "code",
   "execution_count": 2,
   "metadata": {},
   "outputs": [
    {
     "ename": "NameError",
     "evalue": "name 'attrs' is not defined",
     "output_type": "error",
     "traceback": [
      "\u001b[0;31m---------------------------------------------------------------------------\u001b[0m",
      "\u001b[0;31mNameError\u001b[0m                                 Traceback (most recent call last)",
      "\u001b[0;32m<ipython-input-2-580d62b60592>\u001b[0m in \u001b[0;36m<module>\u001b[0;34m\u001b[0m\n\u001b[0;32m----> 1\u001b[0;31m \u001b[0mdf\u001b[0m \u001b[0;34m=\u001b[0m \u001b[0mpd\u001b[0m\u001b[0;34m.\u001b[0m\u001b[0mDataFrame\u001b[0m\u001b[0;34m.\u001b[0m\u001b[0mfrom_dict\u001b[0m\u001b[0;34m(\u001b[0m\u001b[0mattrs\u001b[0m\u001b[0;34m,\u001b[0m \u001b[0morient\u001b[0m\u001b[0;34m=\u001b[0m\u001b[0;34m'index'\u001b[0m\u001b[0;34m)\u001b[0m\u001b[0;34m.\u001b[0m\u001b[0mT\u001b[0m\u001b[0;34m\u001b[0m\u001b[0m\n\u001b[0m\u001b[1;32m      2\u001b[0m \u001b[0;34m\u001b[0m\u001b[0m\n\u001b[1;32m      3\u001b[0m \u001b[0mdf\u001b[0m\u001b[0;34m\u001b[0m\u001b[0m\n",
      "\u001b[0;31mNameError\u001b[0m: name 'attrs' is not defined"
     ]
    }
   ],
   "source": [
    "df = pd.DataFrame.from_dict(attrs, orient='index').T\n",
    "\n",
    "df"
   ]
  },
  {
   "cell_type": "code",
   "execution_count": 107,
   "metadata": {},
   "outputs": [],
   "source": [
    "import ebay_scraper"
   ]
  },
  {
   "cell_type": "code",
   "execution_count": 108,
   "metadata": {},
   "outputs": [],
   "source": [
    "import requests\n",
    "\n",
    "import csv\n",
    "\n",
    "import pandas as pd\n",
    "\n",
    "from bs4 import BeautifulSoup\n",
    "\n",
    "\n",
    "def get_page(url):\n",
    "\n",
    "    response = requests.get(url)\n",
    "\n",
    "    if not response.ok:\n",
    "        print('Server responded: ', response.status_code)\n",
    "    else:\n",
    "        soup = BeautifulSoup(response.text, 'lxml')\n",
    "    return soup\n",
    "\n",
    "\n",
    "def get_detail_data(soup):\n",
    "\n",
    "    # title\n",
    "    # price\n",
    "    # image\n",
    "    # description\n",
    "\n",
    "    try:\n",
    "        # title = soup.find('h1', id='itemTitle').get('span')\n",
    "        title = soup.find('span', class_='g-hdn').next_sibling\n",
    "    except:\n",
    "        title = ''\n",
    "    \n",
    "    try:\n",
    "        p = soup.find('span', id='prcIsum').text.strip()\n",
    "        currency, price = p.split(' ')\n",
    "    except:\n",
    "        price = ''\n",
    "        currency = ''\n",
    "    \n",
    "    try:\n",
    "        img = soup.find('img', id='icImg').get('src')\n",
    "    except:\n",
    "        img = ''\n",
    "    \n",
    "    try:\n",
    "        # desc = [tr.find_all('td') for tr in soup.find('div', id='viTabs_0_is').find('table').find_all('tr')]\n",
    "        \n",
    "        table = soup.find('div', id='viTabs_0_is').find('table')\n",
    "        table_rows = table.find_all('tr')\n",
    "        \n",
    "        d = []\n",
    "\n",
    "        for tr in table_rows:\n",
    "            td = tr.find_all('td')\n",
    "            row = [tr.get_text(strip=True) for tr in td]\n",
    "            d.append(row)\n",
    "\n",
    "        try:\n",
    "            cols = [x[0] for x in d] + [x[2] for x in d]\n",
    "        except:\n",
    "            cols = [x[0] for x in d]\n",
    "        try:\n",
    "            vals = [x[1] for x in d] + [x[3] for x in d]\n",
    "        except:\n",
    "            vals = [x[1] for x in d]\n",
    "        attrs = {k: v for k,v in zip(cols, vals)}\n",
    "\n",
    "        desc = attrs\n",
    "        # desc = pd.DataFrame.from_dict(attrs, orient='index').T\n",
    "    except:\n",
    "        desc = ''\n",
    "    \n",
    "    \n",
    "    data = {\n",
    "        'title': title,\n",
    "        'price': price,\n",
    "        'currency': currency,\n",
    "        'image': img,\n",
    "        'desc': desc\n",
    "    }\n",
    "\n",
    "    return data\n",
    "\n",
    "\n",
    "def get_index_data(soup):\n",
    "\n",
    "    try:\n",
    "        links = soup.find_all('a', class_='s-item__link')\n",
    "    except:\n",
    "        links = []\n",
    "    \n",
    "    urls = [item.get('href') for item in links]\n",
    "\n",
    "    return urls\n",
    "\n",
    "\n",
    "def write_csv(data, url, cat):\n",
    "    \n",
    "    file_name = str(cat) + '.csv'\n",
    "    \n",
    "    with open(file_name, 'a') as csvfile:\n",
    "        writer = csv.writer(csvfile)\n",
    "\n",
    "        row = [data['title'], data['price'], data['currency'], data['desc'], data['image'], url]\n",
    "\n",
    "        writer.writerow(row)\n",
    "\n",
    "\n"
   ]
  },
  {
   "cell_type": "code",
   "execution_count": 109,
   "metadata": {},
   "outputs": [],
   "source": [
    "def main(url, cat):\n",
    "    \n",
    "    page = 1\n",
    "\n",
    "    # print(get_detail_data(get_page(url)))\n",
    "    while requests.get(url).ok==True:\n",
    "\n",
    "        products = get_index_data(get_page(url))\n",
    "\n",
    "        for link in products:\n",
    "            data = get_detail_data(get_page(link))\n",
    "            write_csv(data, link, cat)\n",
    "\n",
    "        page += 1\n",
    "\n",
    "        url = url + '&_pgn=' + str(page)"
   ]
  },
  {
   "cell_type": "code",
   "execution_count": 112,
   "metadata": {},
   "outputs": [],
   "source": [
    "main('https://www.ebay.com/b/Mens-Boots/11498/bn_56522?rt=nc&LH_ItemCondition=3000', 'boots')"
   ]
  },
  {
   "cell_type": "code",
   "execution_count": null,
   "metadata": {},
   "outputs": [],
   "source": []
  },
  {
   "cell_type": "code",
   "execution_count": null,
   "metadata": {},
   "outputs": [],
   "source": []
  },
  {
   "cell_type": "code",
   "execution_count": null,
   "metadata": {},
   "outputs": [],
   "source": []
  },
  {
   "cell_type": "code",
   "execution_count": null,
   "metadata": {},
   "outputs": [],
   "source": []
  },
  {
   "cell_type": "code",
   "execution_count": null,
   "metadata": {},
   "outputs": [],
   "source": []
  },
  {
   "cell_type": "code",
   "execution_count": 4,
   "metadata": {},
   "outputs": [],
   "source": [
    "pants = pd.read_csv('./data/pants.csv', names=['title', 'price', 'currency', 'attributes', 'image_link', 'listing_link'])"
   ]
  },
  {
   "cell_type": "code",
   "execution_count": 48,
   "metadata": {},
   "outputs": [
    {
     "name": "stdout",
     "output_type": "stream",
     "text": [
      "<class 'pandas.core.frame.DataFrame'>\n",
      "Int64Index: 22038 entries, 0 to 22156\n",
      "Data columns (total 6 columns):\n",
      " #   Column        Non-Null Count  Dtype \n",
      "---  ------        --------------  ----- \n",
      " 0   title         22038 non-null  object\n",
      " 1   price         18286 non-null  object\n",
      " 2   currency      18286 non-null  object\n",
      " 3   attributes    12106 non-null  object\n",
      " 4   image_link    22038 non-null  object\n",
      " 5   listing_link  22038 non-null  object\n",
      "dtypes: object(6)\n",
      "memory usage: 1.2+ MB\n"
     ]
    }
   ],
   "source": [
    "pants.info()"
   ]
  },
  {
   "cell_type": "code",
   "execution_count": 5,
   "metadata": {},
   "outputs": [
    {
     "data": {
      "text/plain": [
       "1        {'Condition:': 'Pre-owned:An item that has bee...\n",
       "2        {'Condition:': 'Pre-owned:An item that has bee...\n",
       "3        {'Condition:': 'Pre-owned:An item that has bee...\n",
       "4        {'Condition:': 'Pre-owned:An item that has bee...\n",
       "6        {'Condition:': 'Pre-owned:An item that has bee...\n",
       "8        {'Condition:': 'Pre-owned:An item that has bee...\n",
       "10       {'Condition:': 'Pre-owned:An item that has bee...\n",
       "13       {'Condition:': 'Pre-owned:An item that has bee...\n",
       "14       {'Condition:': 'Pre-owned:An item that has bee...\n",
       "15       {'Condition:': 'Pre-owned:An item that has bee...\n",
       "17       {'Condition:': 'Pre-owned:An item that has bee...\n",
       "18       {'Condition:': 'Pre-owned:An item that has bee...\n",
       "19       {'Condition:': 'Pre-owned:An item that has bee...\n",
       "21       {'Condition:': 'Pre-owned:An item that has bee...\n",
       "23       {'Condition:': 'Pre-owned:An item that has bee...\n",
       "25       {'Condition:': 'Pre-owned:An item that has bee...\n",
       "28       {'Condition:': 'Pre-owned:An item that has bee...\n",
       "30       {'Condition:': 'Pre-owned:An item that has bee...\n",
       "31       {'Condition:': 'Pre-owned:An item that has bee...\n",
       "32       {'Condition:': 'Pre-owned:An item that has bee...\n",
       "33       {'Condition:': 'Pre-owned:An item that has bee...\n",
       "34       {'Condition:': 'Pre-owned:An item that has bee...\n",
       "35       {'Condition:': 'Pre-owned:An item that has bee...\n",
       "38       {'Condition:': 'Pre-owned:An item that has bee...\n",
       "41       {'Condition:': 'Pre-owned:An item that has bee...\n",
       "42       {'Condition:': 'Pre-owned:An item that has bee...\n",
       "44       {'Condition:': 'Pre-owned:An item that has bee...\n",
       "45       {'Condition:': 'Pre-owned:An item that has bee...\n",
       "46       {'Condition:': 'Pre-owned:An item that has bee...\n",
       "51       {'Condition:': 'Pre-owned:An item that has bee...\n",
       "                               ...                        \n",
       "22110    {'Condition:': 'Pre-owned:An item that has bee...\n",
       "22112    {'Condition:': 'Pre-owned:An item that has bee...\n",
       "22114    {'Condition:': 'Pre-owned:An item that has bee...\n",
       "22115    {'Condition:': 'Pre-owned:An item that has bee...\n",
       "22116    {'Condition:': 'Pre-owned:An item that has bee...\n",
       "22118    {'Condition:': 'Pre-owned:An item that has bee...\n",
       "22119    {'Condition:': 'Pre-owned:An item that has bee...\n",
       "22120    {'Condition:': 'Pre-owned:An item that has bee...\n",
       "22122    {'Condition:': 'Pre-owned:An item that has bee...\n",
       "22123    {'Condition:': 'Pre-owned:An item that has bee...\n",
       "22127    {'Condition:': 'Pre-owned:An item that has bee...\n",
       "22129    {'Condition:': 'Pre-owned:An item that has bee...\n",
       "22131    {'Condition:': 'Pre-owned:An item that has bee...\n",
       "22132    {'Condition:': 'Pre-owned:An item that has bee...\n",
       "22133    {'Condition:': 'Pre-owned:An item that has bee...\n",
       "22135    {'Condition:': 'Pre-owned:An item that has bee...\n",
       "22136    {'Condition:': 'Pre-owned:An item that has bee...\n",
       "22137    {'Condition:': 'Pre-owned:An item that has bee...\n",
       "22138    {'Condition:': 'Pre-owned:An item that has bee...\n",
       "22139    {'Condition:': 'Pre-owned:An item that has bee...\n",
       "22140    {'Condition:': 'Pre-owned:An item that has bee...\n",
       "22141    {'Condition:': 'Pre-owned:An item that has bee...\n",
       "22142    {'Condition:': 'Pre-owned:An item that has bee...\n",
       "22146    {'Condition:': 'Pre-owned:An item that has bee...\n",
       "22147    {'Condition:': 'Pre-owned:An item that has bee...\n",
       "22148    {'Condition:': 'Pre-owned:An item that has bee...\n",
       "22151    {'Condition:': 'Pre-owned:An item that has bee...\n",
       "22152    {'Condition:': 'Pre-owned:An item that has bee...\n",
       "22153    {'Condition:': 'Pre-owned:An item that has bee...\n",
       "22156    {'Condition:': 'Pre-owned:An item that has bee...\n",
       "Name: attributes, Length: 12106, dtype: object"
      ]
     },
     "execution_count": 5,
     "metadata": {},
     "output_type": "execute_result"
    }
   ],
   "source": [
    "attr = pants[pants['attributes'].notna()].attributes\n",
    "\n",
    "attr"
   ]
  },
  {
   "cell_type": "code",
   "execution_count": 6,
   "metadata": {},
   "outputs": [
    {
     "ename": "SyntaxError",
     "evalue": "can't assign to function call (<ipython-input-6-60222e0531d9>, line 2)",
     "output_type": "error",
     "traceback": [
      "\u001b[0;36m  File \u001b[0;32m\"<ipython-input-6-60222e0531d9>\"\u001b[0;36m, line \u001b[0;32m2\u001b[0m\n\u001b[0;31m    for x.items() in attr})\u001b[0m\n\u001b[0m       ^\u001b[0m\n\u001b[0;31mSyntaxError\u001b[0m\u001b[0;31m:\u001b[0m can't assign to function call\n"
     ]
    }
   ],
   "source": [
    "pd.DataFrame.from_dict({i: x[i] \n",
    "                           for x.items() in attr})"
   ]
  },
  {
   "cell_type": "code",
   "execution_count": 6,
   "metadata": {},
   "outputs": [
    {
     "data": {
      "text/plain": [
       "title           Dickies Carpenter Jeans Dungaree Five Pocket H...\n",
       "price                                                   $19.99/ea\n",
       "currency                                                       US\n",
       "attributes                                                    NaN\n",
       "image_link      https://i.ebayimg.com/images/g/DAoAAOSwaldesiK...\n",
       "listing_link    https://www.ebay.com/itm/Dickies-Carpenter-Jea...\n",
       "Name: 0, dtype: object"
      ]
     },
     "execution_count": 6,
     "metadata": {},
     "output_type": "execute_result"
    }
   ],
   "source": [
    "pants.iloc[0]"
   ]
  },
  {
   "cell_type": "code",
   "execution_count": 7,
   "metadata": {},
   "outputs": [
    {
     "data": {
      "text/plain": [
       "'https://i.ebayimg.com/images/g/DAoAAOSwaldesiKQ/s-l300.jpg'"
      ]
     },
     "execution_count": 7,
     "metadata": {},
     "output_type": "execute_result"
    }
   ],
   "source": [
    "pants.image_link[0]"
   ]
  },
  {
   "cell_type": "code",
   "execution_count": 8,
   "metadata": {},
   "outputs": [],
   "source": [
    "test = io.imread(pants.image_link[0])"
   ]
  },
  {
   "cell_type": "code",
   "execution_count": 9,
   "metadata": {},
   "outputs": [
    {
     "name": "stdout",
     "output_type": "stream",
     "text": [
      "Type: <class 'numpy.ndarray'>\n",
      "Shape: (289, 300, 3)\n"
     ]
    }
   ],
   "source": [
    "print('Type: {}'.format(type(test)))\n",
    "print('Shape: {}'.format(test.shape))"
   ]
  },
  {
   "cell_type": "code",
   "execution_count": 12,
   "metadata": {},
   "outputs": [
    {
     "data": {
      "image/png": "[encoded data removed]",
      "text/plain": [
       "<Figure size 432x288 with 1 Axes>"
      ]
     },
     "metadata": {
      "needs_background": "light"
     },
     "output_type": "display_data"
    }
   ],
   "source": [
    "io.imshow(test);"
   ]
  },
  {
   "cell_type": "code",
   "execution_count": 13,
   "metadata": {},
   "outputs": [
    {
     "data": {
      "image/png": "[encoded data removed]",
      "text/plain": [
       "<Figure size 432x288 with 1 Axes>"
      ]
     },
     "metadata": {
      "needs_background": "light"
     },
     "output_type": "display_data"
    }
   ],
   "source": [
    "io.imshow(resize(test, (300,300)));"
   ]
  },
  {
   "cell_type": "code",
   "execution_count": 14,
   "metadata": {},
   "outputs": [
    {
     "name": "stdout",
     "output_type": "stream",
     "text": [
      "Type: <class 'numpy.ndarray'>\n",
      "Shape: (300, 225, 3)\n"
     ]
    }
   ],
   "source": [
    "test2 = io.imread(pants.image_link[1])\n",
    "\n",
    "print('Type: {}'.format(type(test2)))\n",
    "print('Shape: {}'.format(test2.shape))"
   ]
  },
  {
   "cell_type": "code",
   "execution_count": 15,
   "metadata": {},
   "outputs": [
    {
     "data": {
      "text/plain": [
       "<matplotlib.image.AxesImage at 0x7f39f59c2e10>"
      ]
     },
     "execution_count": 15,
     "metadata": {},
     "output_type": "execute_result"
    },
    {
     "data": {
      "image/png": "[encoded data removed]",
      "text/plain": [
       "<Figure size 432x288 with 1 Axes>"
      ]
     },
     "metadata": {
      "needs_background": "light"
     },
     "output_type": "display_data"
    }
   ],
   "source": [
    "io.imshow(test2)"
   ]
  },
  {
   "cell_type": "code",
   "execution_count": 16,
   "metadata": {},
   "outputs": [
    {
     "data": {
      "image/png": "[encoded data removed]",
      "text/plain": [
       "<Figure size 432x288 with 1 Axes>"
      ]
     },
     "metadata": {
      "needs_background": "light"
     },
     "output_type": "display_data"
    }
   ],
   "source": [
    "io.imshow(resize(test2, (300,300)));"
   ]
  },
  {
   "cell_type": "code",
   "execution_count": 49,
   "metadata": {},
   "outputs": [],
   "source": [
    "urls = pd.DataFrame(pants.image_link)"
   ]
  },
  {
   "cell_type": "code",
   "execution_count": 46,
   "metadata": {},
   "outputs": [],
   "source": [
    "pants = pants.drop(urls[urls.image_link.isnull()].index, axis=0)"
   ]
  },
  {
   "cell_type": "code",
   "execution_count": null,
   "metadata": {},
   "outputs": [],
   "source": [
    "urls = pd.DataFrame(pants.image_link)"
   ]
  },
  {
   "cell_type": "code",
   "execution_count": 50,
   "metadata": {},
   "outputs": [],
   "source": [
    "rows = []\n",
    "\n",
    "for index, i in urls.iterrows():\n",
    "    rows.append(i[-1])\n",
    "\n",
    "counter = 0\n",
    "\n",
    "for i in rows:\n",
    "    file_name = './imgs/pants' + str(counter) + '.jpg'\n",
    "\n",
    "    response = requests.get(i)\n",
    "    file = open(file_name, \"wb\")\n",
    "    file.write(response.content)\n",
    "    file.close()\n",
    "    counter += 1"
   ]
  },
  {
   "cell_type": "code",
   "execution_count": 33,
   "metadata": {},
   "outputs": [
    {
     "data": {
      "text/plain": [
       "72"
      ]
     },
     "execution_count": 33,
     "metadata": {},
     "output_type": "execute_result"
    }
   ],
   "source": [
    "counter"
   ]
  },
  {
   "cell_type": "code",
   "execution_count": 51,
   "metadata": {},
   "outputs": [],
   "source": [
    "boots = pd.read_csv('./data/boots.csv', names=['title', 'price', 'currency', 'attributes', 'image_link', 'listing_link'])"
   ]
  },
  {
   "cell_type": "code",
   "execution_count": 52,
   "metadata": {},
   "outputs": [
    {
     "name": "stdout",
     "output_type": "stream",
     "text": [
      "<class 'pandas.core.frame.DataFrame'>\n",
      "RangeIndex: 39216 entries, 0 to 39215\n",
      "Data columns (total 6 columns):\n",
      " #   Column        Non-Null Count  Dtype \n",
      "---  ------        --------------  ----- \n",
      " 0   title         38341 non-null  object\n",
      " 1   price         25289 non-null  object\n",
      " 2   currency      25289 non-null  object\n",
      " 3   attributes    26335 non-null  object\n",
      " 4   image_link    38341 non-null  object\n",
      " 5   listing_link  39216 non-null  object\n",
      "dtypes: object(6)\n",
      "memory usage: 1.8+ MB\n"
     ]
    }
   ],
   "source": [
    "boots.info()"
   ]
  },
  {
   "cell_type": "code",
   "execution_count": 56,
   "metadata": {},
   "outputs": [],
   "source": [
    "urls = pd.DataFrame(boots.image_link)"
   ]
  },
  {
   "cell_type": "code",
   "execution_count": 54,
   "metadata": {},
   "outputs": [],
   "source": [
    "boots = boots.drop(urls[urls.image_link.isnull()].index, axis=0)"
   ]
  },
  {
   "cell_type": "code",
   "execution_count": 55,
   "metadata": {},
   "outputs": [
    {
     "name": "stdout",
     "output_type": "stream",
     "text": [
      "<class 'pandas.core.frame.DataFrame'>\n",
      "Int64Index: 38341 entries, 0 to 39215\n",
      "Data columns (total 6 columns):\n",
      " #   Column        Non-Null Count  Dtype \n",
      "---  ------        --------------  ----- \n",
      " 0   title         38341 non-null  object\n",
      " 1   price         25289 non-null  object\n",
      " 2   currency      25289 non-null  object\n",
      " 3   attributes    26335 non-null  object\n",
      " 4   image_link    38341 non-null  object\n",
      " 5   listing_link  38341 non-null  object\n",
      "dtypes: object(6)\n",
      "memory usage: 2.0+ MB\n"
     ]
    }
   ],
   "source": [
    "boots.info()"
   ]
  },
  {
   "cell_type": "code",
   "execution_count": null,
   "metadata": {},
   "outputs": [],
   "source": [
    "urls = pd.DataFrame(boots.image_link)"
   ]
  },
  {
   "cell_type": "code",
   "execution_count": 57,
   "metadata": {},
   "outputs": [],
   "source": [
    "rows = []\n",
    "\n",
    "for index, i in urls.iterrows():\n",
    "    rows.append(i[-1])\n",
    "\n",
    "counter = 0\n",
    "\n",
    "for i in rows:\n",
    "    file_name = './imgs/boots' + str(counter) + '.jpg'\n",
    "\n",
    "    response = requests.get(i)\n",
    "    file = open(file_name, \"wb\")\n",
    "    file.write(response.content)\n",
    "    file.close()\n",
    "    counter += 1"
   ]
  },
  {
   "cell_type": "code",
   "execution_count": 58,
   "metadata": {},
   "outputs": [],
   "source": [
    "casual_shirts = pd.read_csv('./data/casual_shirts.csv', names=['title', 'price', 'currency', 'attributes', 'image_link', 'listing_link'])"
   ]
  },
  {
   "cell_type": "code",
   "execution_count": 59,
   "metadata": {},
   "outputs": [
    {
     "name": "stdout",
     "output_type": "stream",
     "text": [
      "<class 'pandas.core.frame.DataFrame'>\n",
      "RangeIndex: 27330 entries, 0 to 27329\n",
      "Data columns (total 6 columns):\n",
      " #   Column        Non-Null Count  Dtype \n",
      "---  ------        --------------  ----- \n",
      " 0   title         27282 non-null  object\n",
      " 1   price         19801 non-null  object\n",
      " 2   currency      19801 non-null  object\n",
      " 3   attributes    15376 non-null  object\n",
      " 4   image_link    27282 non-null  object\n",
      " 5   listing_link  27330 non-null  object\n",
      "dtypes: object(6)\n",
      "memory usage: 1.3+ MB\n"
     ]
    }
   ],
   "source": [
    "casual_shirts.info()"
   ]
  },
  {
   "cell_type": "code",
   "execution_count": 60,
   "metadata": {},
   "outputs": [],
   "source": [
    "urls = pd.DataFrame(casual_shirts.image_link)"
   ]
  },
  {
   "cell_type": "code",
   "execution_count": 63,
   "metadata": {},
   "outputs": [],
   "source": [
    "casual_shirts = casual_shirts.drop(urls[urls.image_link.isnull()].index, axis=0)"
   ]
  },
  {
   "cell_type": "code",
   "execution_count": 64,
   "metadata": {},
   "outputs": [
    {
     "name": "stdout",
     "output_type": "stream",
     "text": [
      "<class 'pandas.core.frame.DataFrame'>\n",
      "Int64Index: 27282 entries, 0 to 27329\n",
      "Data columns (total 6 columns):\n",
      " #   Column        Non-Null Count  Dtype \n",
      "---  ------        --------------  ----- \n",
      " 0   title         27282 non-null  object\n",
      " 1   price         19801 non-null  object\n",
      " 2   currency      19801 non-null  object\n",
      " 3   attributes    15376 non-null  object\n",
      " 4   image_link    27282 non-null  object\n",
      " 5   listing_link  27282 non-null  object\n",
      "dtypes: object(6)\n",
      "memory usage: 1.5+ MB\n"
     ]
    }
   ],
   "source": [
    "casual_shirts.info()"
   ]
  },
  {
   "cell_type": "code",
   "execution_count": 65,
   "metadata": {},
   "outputs": [],
   "source": [
    "urls = pd.DataFrame(casual_shirts.image_link)"
   ]
  },
  {
   "cell_type": "code",
   "execution_count": 66,
   "metadata": {},
   "outputs": [],
   "source": [
    "rows = []\n",
    "\n",
    "for index, i in urls.iterrows():\n",
    "    rows.append(i[-1])\n",
    "\n",
    "counter = 0\n",
    "\n",
    "for i in rows:\n",
    "    file_name = './imgs/casualshirt' + str(counter) + '.jpg'\n",
    "\n",
    "    response = requests.get(i)\n",
    "    file = open(file_name, \"wb\")\n",
    "    file.write(response.content)\n",
    "    file.close()\n",
    "    counter += 1"
   ]
  },
  {
   "cell_type": "code",
   "execution_count": 67,
   "metadata": {},
   "outputs": [],
   "source": [
    "casual_shoes = pd.read_csv('./data/casual_shoes.csv', names=['title', 'price', 'currency', 'attributes', 'image_link', 'listing_link'])"
   ]
  },
  {
   "cell_type": "code",
   "execution_count": 68,
   "metadata": {},
   "outputs": [
    {
     "name": "stdout",
     "output_type": "stream",
     "text": [
      "<class 'pandas.core.frame.DataFrame'>\n",
      "RangeIndex: 39312 entries, 0 to 39311\n",
      "Data columns (total 6 columns):\n",
      " #   Column        Non-Null Count  Dtype \n",
      "---  ------        --------------  ----- \n",
      " 0   title         38508 non-null  object\n",
      " 1   price         28767 non-null  object\n",
      " 2   currency      28767 non-null  object\n",
      " 3   attributes    27046 non-null  object\n",
      " 4   image_link    38508 non-null  object\n",
      " 5   listing_link  39312 non-null  object\n",
      "dtypes: object(6)\n",
      "memory usage: 1.8+ MB\n"
     ]
    }
   ],
   "source": [
    "casual_shoes.info()"
   ]
  },
  {
   "cell_type": "code",
   "execution_count": 69,
   "metadata": {},
   "outputs": [],
   "source": [
    "urls = pd.DataFrame(casual_shoes.image_link)"
   ]
  },
  {
   "cell_type": "code",
   "execution_count": 70,
   "metadata": {},
   "outputs": [],
   "source": [
    "casual_shoes = casual_shoes.drop(urls[urls.image_link.isnull()].index, axis=0)"
   ]
  },
  {
   "cell_type": "code",
   "execution_count": 71,
   "metadata": {},
   "outputs": [
    {
     "name": "stdout",
     "output_type": "stream",
     "text": [
      "<class 'pandas.core.frame.DataFrame'>\n",
      "Int64Index: 38508 entries, 0 to 39311\n",
      "Data columns (total 6 columns):\n",
      " #   Column        Non-Null Count  Dtype \n",
      "---  ------        --------------  ----- \n",
      " 0   title         38508 non-null  object\n",
      " 1   price         28767 non-null  object\n",
      " 2   currency      28767 non-null  object\n",
      " 3   attributes    27046 non-null  object\n",
      " 4   image_link    38508 non-null  object\n",
      " 5   listing_link  38508 non-null  object\n",
      "dtypes: object(6)\n",
      "memory usage: 2.1+ MB\n"
     ]
    }
   ],
   "source": [
    "casual_shoes.info()"
   ]
  },
  {
   "cell_type": "code",
   "execution_count": 72,
   "metadata": {},
   "outputs": [],
   "source": [
    "urls = pd.DataFrame(casual_shoes.image_link)"
   ]
  },
  {
   "cell_type": "code",
   "execution_count": 73,
   "metadata": {},
   "outputs": [],
   "source": [
    "rows = []\n",
    "\n",
    "for index, i in urls.iterrows():\n",
    "    rows.append(i[-1])\n",
    "\n",
    "counter = 0\n",
    "\n",
    "for i in rows:\n",
    "    file_name = './imgs/casualshoe' + str(counter) + '.jpg'\n",
    "\n",
    "    response = requests.get(i)\n",
    "    file = open(file_name, \"wb\")\n",
    "    file.write(response.content)\n",
    "    file.close()\n",
    "    counter += 1"
   ]
  },
  {
   "cell_type": "code",
   "execution_count": 74,
   "metadata": {},
   "outputs": [],
   "source": [
    "coats_jackets = pd.read_csv('./data/coats_jackets.csv', names=['title', 'price', 'currency', 'attributes', 'image_link', 'listing_link'])"
   ]
  },
  {
   "cell_type": "code",
   "execution_count": 75,
   "metadata": {},
   "outputs": [
    {
     "name": "stdout",
     "output_type": "stream",
     "text": [
      "<class 'pandas.core.frame.DataFrame'>\n",
      "RangeIndex: 39216 entries, 0 to 39215\n",
      "Data columns (total 6 columns):\n",
      " #   Column        Non-Null Count  Dtype \n",
      "---  ------        --------------  ----- \n",
      " 0   title         39208 non-null  object\n",
      " 1   price         29871 non-null  object\n",
      " 2   currency      29871 non-null  object\n",
      " 3   attributes    31541 non-null  object\n",
      " 4   image_link    39208 non-null  object\n",
      " 5   listing_link  39216 non-null  object\n",
      "dtypes: object(6)\n",
      "memory usage: 1.8+ MB\n"
     ]
    }
   ],
   "source": [
    "coats_jackets.info()"
   ]
  },
  {
   "cell_type": "code",
   "execution_count": 76,
   "metadata": {},
   "outputs": [],
   "source": [
    "urls = pd.DataFrame(coats_jackets.image_link)"
   ]
  },
  {
   "cell_type": "code",
   "execution_count": 77,
   "metadata": {},
   "outputs": [],
   "source": [
    "coats_jackets = coats_jackets.drop(urls[urls.image_link.isnull()].index, axis=0)"
   ]
  },
  {
   "cell_type": "code",
   "execution_count": 78,
   "metadata": {},
   "outputs": [
    {
     "name": "stdout",
     "output_type": "stream",
     "text": [
      "<class 'pandas.core.frame.DataFrame'>\n",
      "Int64Index: 39208 entries, 0 to 39215\n",
      "Data columns (total 6 columns):\n",
      " #   Column        Non-Null Count  Dtype \n",
      "---  ------        --------------  ----- \n",
      " 0   title         39208 non-null  object\n",
      " 1   price         29871 non-null  object\n",
      " 2   currency      29871 non-null  object\n",
      " 3   attributes    31541 non-null  object\n",
      " 4   image_link    39208 non-null  object\n",
      " 5   listing_link  39208 non-null  object\n",
      "dtypes: object(6)\n",
      "memory usage: 2.1+ MB\n"
     ]
    }
   ],
   "source": [
    "coats_jackets.info()"
   ]
  },
  {
   "cell_type": "code",
   "execution_count": 79,
   "metadata": {},
   "outputs": [],
   "source": [
    "urls = pd.DataFrame(coats_jackets.image_link)"
   ]
  },
  {
   "cell_type": "code",
   "execution_count": 80,
   "metadata": {},
   "outputs": [],
   "source": [
    "rows = []\n",
    "\n",
    "for index, i in urls.iterrows():\n",
    "    rows.append(i[-1])\n",
    "\n",
    "counter = 0\n",
    "\n",
    "for i in rows:\n",
    "    file_name = './imgs/coatjacket' + str(counter) + '.jpg'\n",
    "\n",
    "    response = requests.get(i)\n",
    "    file = open(file_name, \"wb\")\n",
    "    file.write(response.content)\n",
    "    file.close()\n",
    "    counter += 1"
   ]
  },
  {
   "cell_type": "code",
   "execution_count": 81,
   "metadata": {},
   "outputs": [],
   "source": [
    "dress_shirts = pd.read_csv('./data/dress_shirts.csv', names=['title', 'price', 'currency', 'attributes', 'image_link', 'listing_link'])"
   ]
  },
  {
   "cell_type": "code",
   "execution_count": 82,
   "metadata": {},
   "outputs": [
    {
     "name": "stdout",
     "output_type": "stream",
     "text": [
      "<class 'pandas.core.frame.DataFrame'>\n",
      "RangeIndex: 39216 entries, 0 to 39215\n",
      "Data columns (total 6 columns):\n",
      " #   Column        Non-Null Count  Dtype \n",
      "---  ------        --------------  ----- \n",
      " 0   title         39216 non-null  object\n",
      " 1   price         21790 non-null  object\n",
      " 2   currency      21790 non-null  object\n",
      " 3   attributes    27957 non-null  object\n",
      " 4   image_link    39216 non-null  object\n",
      " 5   listing_link  39216 non-null  object\n",
      "dtypes: object(6)\n",
      "memory usage: 1.8+ MB\n"
     ]
    }
   ],
   "source": [
    "dress_shirts.info()"
   ]
  },
  {
   "cell_type": "code",
   "execution_count": 83,
   "metadata": {},
   "outputs": [],
   "source": [
    "urls = pd.DataFrame(dress_shirts.image_link)"
   ]
  },
  {
   "cell_type": "code",
   "execution_count": 84,
   "metadata": {},
   "outputs": [],
   "source": [
    "dress_shirts = dress_shirts.drop(urls[urls.image_link.isnull()].index, axis=0)"
   ]
  },
  {
   "cell_type": "code",
   "execution_count": 85,
   "metadata": {},
   "outputs": [
    {
     "name": "stdout",
     "output_type": "stream",
     "text": [
      "<class 'pandas.core.frame.DataFrame'>\n",
      "Int64Index: 39216 entries, 0 to 39215\n",
      "Data columns (total 6 columns):\n",
      " #   Column        Non-Null Count  Dtype \n",
      "---  ------        --------------  ----- \n",
      " 0   title         39216 non-null  object\n",
      " 1   price         21790 non-null  object\n",
      " 2   currency      21790 non-null  object\n",
      " 3   attributes    27957 non-null  object\n",
      " 4   image_link    39216 non-null  object\n",
      " 5   listing_link  39216 non-null  object\n",
      "dtypes: object(6)\n",
      "memory usage: 2.1+ MB\n"
     ]
    }
   ],
   "source": [
    "dress_shirts.info()"
   ]
  },
  {
   "cell_type": "code",
   "execution_count": 86,
   "metadata": {},
   "outputs": [],
   "source": [
    "urls = pd.DataFrame(dress_shirts.image_link)"
   ]
  },
  {
   "cell_type": "code",
   "execution_count": 87,
   "metadata": {},
   "outputs": [],
   "source": [
    "rows = []\n",
    "\n",
    "for index, i in urls.iterrows():\n",
    "    rows.append(i[-1])\n",
    "\n",
    "counter = 0\n",
    "\n",
    "for i in rows:\n",
    "    file_name = './imgs/dressshirt/dressshirt' + str(counter) + '.jpg'\n",
    "\n",
    "    response = requests.get(i)\n",
    "    file = open(file_name, \"wb\")\n",
    "    file.write(response.content)\n",
    "    file.close()\n",
    "    counter += 1"
   ]
  },
  {
   "cell_type": "code",
   "execution_count": 166,
   "metadata": {},
   "outputs": [],
   "source": [
    "dress_shoes = pd.read_csv('./data/dress_shoes.csv', names=['title', 'price', 'currency', 'attributes', 'image_link', 'listing_link'])"
   ]
  },
  {
   "cell_type": "code",
   "execution_count": 167,
   "metadata": {},
   "outputs": [
    {
     "name": "stdout",
     "output_type": "stream",
     "text": [
      "<class 'pandas.core.frame.DataFrame'>\n",
      "RangeIndex: 39264 entries, 0 to 39263\n",
      "Data columns (total 6 columns):\n",
      " #   Column        Non-Null Count  Dtype \n",
      "---  ------        --------------  ----- \n",
      " 0   title         38638 non-null  object\n",
      " 1   price         25771 non-null  object\n",
      " 2   currency      25771 non-null  object\n",
      " 3   attributes    23602 non-null  object\n",
      " 4   image_link    38638 non-null  object\n",
      " 5   listing_link  39264 non-null  object\n",
      "dtypes: object(6)\n",
      "memory usage: 1.8+ MB\n"
     ]
    }
   ],
   "source": [
    "dress_shoes.info()"
   ]
  },
  {
   "cell_type": "code",
   "execution_count": 168,
   "metadata": {},
   "outputs": [],
   "source": [
    "urls = pd.DataFrame(dress_shoes.image_link)"
   ]
  },
  {
   "cell_type": "code",
   "execution_count": 169,
   "metadata": {},
   "outputs": [],
   "source": [
    "dress_shoes = dress_shoes.drop(urls[urls.image_link.isnull()].index, axis=0)"
   ]
  },
  {
   "cell_type": "code",
   "execution_count": 173,
   "metadata": {},
   "outputs": [],
   "source": [
    "dress_shoes= dress_shoes.drop(dress_shoes[dress_shoes.image_link.str.contains(\"shoeffl\")].index, axis=0)"
   ]
  },
  {
   "cell_type": "code",
   "execution_count": 174,
   "metadata": {},
   "outputs": [
    {
     "name": "stdout",
     "output_type": "stream",
     "text": [
      "<class 'pandas.core.frame.DataFrame'>\n",
      "Int64Index: 38599 entries, 0 to 39263\n",
      "Data columns (total 6 columns):\n",
      " #   Column        Non-Null Count  Dtype \n",
      "---  ------        --------------  ----- \n",
      " 0   title         38599 non-null  object\n",
      " 1   price         25732 non-null  object\n",
      " 2   currency      25732 non-null  object\n",
      " 3   attributes    23602 non-null  object\n",
      " 4   image_link    38599 non-null  object\n",
      " 5   listing_link  38599 non-null  object\n",
      "dtypes: object(6)\n",
      "memory usage: 2.1+ MB\n"
     ]
    }
   ],
   "source": [
    "dress_shoes.info()"
   ]
  },
  {
   "cell_type": "code",
   "execution_count": 175,
   "metadata": {},
   "outputs": [],
   "source": [
    "urls = pd.DataFrame(dress_shoes.image_link)"
   ]
  },
  {
   "cell_type": "code",
   "execution_count": 176,
   "metadata": {},
   "outputs": [],
   "source": [
    "rows = []\n",
    "\n",
    "for index, i in urls.iterrows():\n",
    "    rows.append(i[-1])\n",
    "\n",
    "counter = 0\n",
    "\n",
    "for i in rows:\n",
    "    file_name = './imgs/dressshoe/dressshoe' + str(counter) + '.jpg'\n",
    "\n",
    "    response = requests.get(i)\n",
    "    file = open(file_name, \"wb\")\n",
    "    file.write(response.content)\n",
    "    file.close()\n",
    "    counter += 1"
   ]
  },
  {
   "cell_type": "code",
   "execution_count": 126,
   "metadata": {},
   "outputs": [
    {
     "data": {
      "text/plain": [
       "71"
      ]
     },
     "execution_count": 126,
     "metadata": {},
     "output_type": "execute_result"
    }
   ],
   "source": []
  },
  {
   "cell_type": "code",
   "execution_count": null,
   "metadata": {},
   "outputs": [],
   "source": []
  },
  {
   "cell_type": "code",
   "execution_count": null,
   "metadata": {},
   "outputs": [],
   "source": []
  },
  {
   "cell_type": "code",
   "execution_count": null,
   "metadata": {},
   "outputs": [],
   "source": []
  },
  {
   "cell_type": "code",
   "execution_count": null,
   "metadata": {},
   "outputs": [],
   "source": []
  },
  {
   "cell_type": "code",
   "execution_count": null,
   "metadata": {},
   "outputs": [],
   "source": []
  },
  {
   "cell_type": "code",
   "execution_count": null,
   "metadata": {},
   "outputs": [],
   "source": []
  },
  {
   "cell_type": "code",
   "execution_count": 135,
   "metadata": {},
   "outputs": [],
   "source": [
    "jeans = pd.read_csv('./data/jeans.csv', names=['title', 'price', 'currency', 'attributes', 'image_link', 'listing_link'])"
   ]
  },
  {
   "cell_type": "code",
   "execution_count": 136,
   "metadata": {},
   "outputs": [
    {
     "name": "stdout",
     "output_type": "stream",
     "text": [
      "<class 'pandas.core.frame.DataFrame'>\n",
      "RangeIndex: 29083 entries, 0 to 29082\n",
      "Data columns (total 6 columns):\n",
      " #   Column        Non-Null Count  Dtype \n",
      "---  ------        --------------  ----- \n",
      " 0   title         28808 non-null  object\n",
      " 1   price         20828 non-null  object\n",
      " 2   currency      20828 non-null  object\n",
      " 3   attributes    19251 non-null  object\n",
      " 4   image_link    28808 non-null  object\n",
      " 5   listing_link  29083 non-null  object\n",
      "dtypes: object(6)\n",
      "memory usage: 1.3+ MB\n"
     ]
    }
   ],
   "source": [
    "jeans.info()"
   ]
  },
  {
   "cell_type": "code",
   "execution_count": 137,
   "metadata": {},
   "outputs": [],
   "source": [
    "urls = pd.DataFrame(jeans.image_link)"
   ]
  },
  {
   "cell_type": "code",
   "execution_count": 138,
   "metadata": {},
   "outputs": [],
   "source": [
    "jeans = jeans.drop(urls[urls.image_link.isnull()].index, axis=0)"
   ]
  },
  {
   "cell_type": "code",
   "execution_count": 139,
   "metadata": {},
   "outputs": [
    {
     "name": "stdout",
     "output_type": "stream",
     "text": [
      "<class 'pandas.core.frame.DataFrame'>\n",
      "Int64Index: 28808 entries, 0 to 29082\n",
      "Data columns (total 6 columns):\n",
      " #   Column        Non-Null Count  Dtype \n",
      "---  ------        --------------  ----- \n",
      " 0   title         28808 non-null  object\n",
      " 1   price         20828 non-null  object\n",
      " 2   currency      20828 non-null  object\n",
      " 3   attributes    19251 non-null  object\n",
      " 4   image_link    28808 non-null  object\n",
      " 5   listing_link  28808 non-null  object\n",
      "dtypes: object(6)\n",
      "memory usage: 1.5+ MB\n"
     ]
    }
   ],
   "source": [
    "jeans.info()"
   ]
  },
  {
   "cell_type": "code",
   "execution_count": 140,
   "metadata": {},
   "outputs": [],
   "source": [
    "urls = pd.DataFrame(jeans.image_link)"
   ]
  },
  {
   "cell_type": "code",
   "execution_count": 142,
   "metadata": {},
   "outputs": [],
   "source": [
    "rows = []\n",
    "\n",
    "for index, i in urls.iterrows():\n",
    "    rows.append(i[-1])\n",
    "\n",
    "counter = 0\n",
    "\n",
    "for i in rows:\n",
    "    file_name = './imgs/jeans/jeans' + str(counter) + '.jpg'\n",
    "\n",
    "    response = requests.get(i)\n",
    "    file = open(file_name, \"wb\")\n",
    "    file.write(response.content)\n",
    "    file.close()\n",
    "    counter += 1"
   ]
  },
  {
   "cell_type": "code",
   "execution_count": 177,
   "metadata": {},
   "outputs": [],
   "source": [
    "polos = pd.read_csv('./data/polo_shirt.csv', names=['title', 'price', 'currency', 'attributes', 'image_link', 'listing_link'])"
   ]
  },
  {
   "cell_type": "code",
   "execution_count": 178,
   "metadata": {},
   "outputs": [
    {
     "name": "stdout",
     "output_type": "stream",
     "text": [
      "<class 'pandas.core.frame.DataFrame'>\n",
      "RangeIndex: 34299 entries, 0 to 34298\n",
      "Data columns (total 6 columns):\n",
      " #   Column        Non-Null Count  Dtype \n",
      "---  ------        --------------  ----- \n",
      " 0   title         34299 non-null  object\n",
      " 1   price         21302 non-null  object\n",
      " 2   currency      21302 non-null  object\n",
      " 3   attributes    22274 non-null  object\n",
      " 4   image_link    34299 non-null  object\n",
      " 5   listing_link  34299 non-null  object\n",
      "dtypes: object(6)\n",
      "memory usage: 1.6+ MB\n"
     ]
    }
   ],
   "source": [
    "polos.info()"
   ]
  },
  {
   "cell_type": "code",
   "execution_count": 179,
   "metadata": {},
   "outputs": [],
   "source": [
    "urls = pd.DataFrame(polos.image_link)"
   ]
  },
  {
   "cell_type": "code",
   "execution_count": 180,
   "metadata": {},
   "outputs": [],
   "source": [
    "polos = polos.drop(urls[urls.image_link.isnull()].index, axis=0)"
   ]
  },
  {
   "cell_type": "code",
   "execution_count": 181,
   "metadata": {},
   "outputs": [
    {
     "name": "stdout",
     "output_type": "stream",
     "text": [
      "<class 'pandas.core.frame.DataFrame'>\n",
      "Int64Index: 34299 entries, 0 to 34298\n",
      "Data columns (total 6 columns):\n",
      " #   Column        Non-Null Count  Dtype \n",
      "---  ------        --------------  ----- \n",
      " 0   title         34299 non-null  object\n",
      " 1   price         21302 non-null  object\n",
      " 2   currency      21302 non-null  object\n",
      " 3   attributes    22274 non-null  object\n",
      " 4   image_link    34299 non-null  object\n",
      " 5   listing_link  34299 non-null  object\n",
      "dtypes: object(6)\n",
      "memory usage: 1.8+ MB\n"
     ]
    }
   ],
   "source": [
    "polos.info()"
   ]
  },
  {
   "cell_type": "code",
   "execution_count": 182,
   "metadata": {},
   "outputs": [],
   "source": [
    "urls = pd.DataFrame(polos.image_link)"
   ]
  },
  {
   "cell_type": "code",
   "execution_count": 183,
   "metadata": {},
   "outputs": [],
   "source": [
    "rows = []\n",
    "\n",
    "for index, i in urls.iterrows():\n",
    "    rows.append(i[-1])\n",
    "\n",
    "counter = 0\n",
    "\n",
    "for i in rows:\n",
    "    file_name = './imgs/polos/polo' + str(counter) + '.jpg'\n",
    "\n",
    "    response = requests.get(i)\n",
    "    file = open(file_name, \"wb\")\n",
    "    file.write(response.content)\n",
    "    file.close()\n",
    "    counter += 1"
   ]
  },
  {
   "cell_type": "code",
   "execution_count": 184,
   "metadata": {},
   "outputs": [],
   "source": [
    "shorts = pd.read_csv('./data/shorts.csv', names=['title', 'price', 'currency', 'attributes', 'image_link', 'listing_link'])"
   ]
  },
  {
   "cell_type": "code",
   "execution_count": 185,
   "metadata": {},
   "outputs": [
    {
     "name": "stdout",
     "output_type": "stream",
     "text": [
      "<class 'pandas.core.frame.DataFrame'>\n",
      "RangeIndex: 27070 entries, 0 to 27069\n",
      "Data columns (total 6 columns):\n",
      " #   Column        Non-Null Count  Dtype \n",
      "---  ------        --------------  ----- \n",
      " 0   title         26901 non-null  object\n",
      " 1   price         15266 non-null  object\n",
      " 2   currency      15266 non-null  object\n",
      " 3   attributes    21243 non-null  object\n",
      " 4   image_link    26901 non-null  object\n",
      " 5   listing_link  27070 non-null  object\n",
      "dtypes: object(6)\n",
      "memory usage: 1.2+ MB\n"
     ]
    }
   ],
   "source": [
    "shorts.info()"
   ]
  },
  {
   "cell_type": "code",
   "execution_count": 186,
   "metadata": {},
   "outputs": [],
   "source": [
    "urls = pd.DataFrame(shorts.image_link)"
   ]
  },
  {
   "cell_type": "code",
   "execution_count": 187,
   "metadata": {},
   "outputs": [],
   "source": [
    "shorts = shorts.drop(urls[urls.image_link.isnull()].index, axis=0)"
   ]
  },
  {
   "cell_type": "code",
   "execution_count": 188,
   "metadata": {},
   "outputs": [
    {
     "name": "stdout",
     "output_type": "stream",
     "text": [
      "<class 'pandas.core.frame.DataFrame'>\n",
      "Int64Index: 26901 entries, 0 to 27069\n",
      "Data columns (total 6 columns):\n",
      " #   Column        Non-Null Count  Dtype \n",
      "---  ------        --------------  ----- \n",
      " 0   title         26901 non-null  object\n",
      " 1   price         15266 non-null  object\n",
      " 2   currency      15266 non-null  object\n",
      " 3   attributes    21243 non-null  object\n",
      " 4   image_link    26901 non-null  object\n",
      " 5   listing_link  26901 non-null  object\n",
      "dtypes: object(6)\n",
      "memory usage: 1.4+ MB\n"
     ]
    }
   ],
   "source": [
    "shorts.info()"
   ]
  },
  {
   "cell_type": "code",
   "execution_count": 189,
   "metadata": {},
   "outputs": [],
   "source": [
    "urls = pd.DataFrame(shorts.image_link)"
   ]
  },
  {
   "cell_type": "code",
   "execution_count": 190,
   "metadata": {},
   "outputs": [],
   "source": [
    "rows = []\n",
    "\n",
    "for index, i in urls.iterrows():\n",
    "    rows.append(i[-1])\n",
    "\n",
    "counter = 0\n",
    "\n",
    "for i in rows:\n",
    "    file_name = './imgs/shorts/shorts' + str(counter) + '.jpg'\n",
    "\n",
    "    response = requests.get(i)\n",
    "    file = open(file_name, \"wb\")\n",
    "    file.write(response.content)\n",
    "    file.close()\n",
    "    counter += 1"
   ]
  },
  {
   "cell_type": "code",
   "execution_count": 191,
   "metadata": {},
   "outputs": [],
   "source": [
    "sneakers = pd.read_csv('./data/sneakers.csv', names=['title', 'price', 'currency', 'attributes', 'image_link', 'listing_link'])"
   ]
  },
  {
   "cell_type": "code",
   "execution_count": 192,
   "metadata": {},
   "outputs": [
    {
     "name": "stdout",
     "output_type": "stream",
     "text": [
      "<class 'pandas.core.frame.DataFrame'>\n",
      "RangeIndex: 39264 entries, 0 to 39263\n",
      "Data columns (total 6 columns):\n",
      " #   Column        Non-Null Count  Dtype \n",
      "---  ------        --------------  ----- \n",
      " 0   title         32132 non-null  object\n",
      " 1   price         27237 non-null  object\n",
      " 2   currency      27237 non-null  object\n",
      " 3   attributes    27039 non-null  object\n",
      " 4   image_link    32132 non-null  object\n",
      " 5   listing_link  39264 non-null  object\n",
      "dtypes: object(6)\n",
      "memory usage: 1.8+ MB\n"
     ]
    }
   ],
   "source": [
    "sneakers.info()"
   ]
  },
  {
   "cell_type": "code",
   "execution_count": 193,
   "metadata": {},
   "outputs": [],
   "source": [
    "urls = pd.DataFrame(sneakers.image_link)"
   ]
  },
  {
   "cell_type": "code",
   "execution_count": 194,
   "metadata": {},
   "outputs": [],
   "source": [
    "sneakers = sneakers.drop(urls[urls.image_link.isnull()].index, axis=0)"
   ]
  },
  {
   "cell_type": "code",
   "execution_count": 198,
   "metadata": {},
   "outputs": [
    {
     "data": {
      "text/html": [
       "<div>\n",
       "<style scoped>\n",
       "    .dataframe tbody tr th:only-of-type {\n",
       "        vertical-align: middle;\n",
       "    }\n",
       "\n",
       "    .dataframe tbody tr th {\n",
       "        vertical-align: top;\n",
       "    }\n",
       "\n",
       "    .dataframe thead th {\n",
       "        text-align: right;\n",
       "    }\n",
       "</style>\n",
       "<table border=\"1\" class=\"dataframe\">\n",
       "  <thead>\n",
       "    <tr style=\"text-align: right;\">\n",
       "      <th></th>\n",
       "      <th>title</th>\n",
       "      <th>price</th>\n",
       "      <th>currency</th>\n",
       "      <th>attributes</th>\n",
       "      <th>image_link</th>\n",
       "      <th>listing_link</th>\n",
       "    </tr>\n",
       "  </thead>\n",
       "  <tbody>\n",
       "  </tbody>\n",
       "</table>\n",
       "</div>"
      ],
      "text/plain": [
       "Empty DataFrame\n",
       "Columns: [title, price, currency, attributes, image_link, listing_link]\n",
       "Index: []"
      ]
     },
     "execution_count": 198,
     "metadata": {},
     "output_type": "execute_result"
    }
   ],
   "source": [
    "sneakers[sneakers.image_link.str.contains(\"shoeffl\")]"
   ]
  },
  {
   "cell_type": "code",
   "execution_count": 195,
   "metadata": {
    "scrolled": true
   },
   "outputs": [
    {
     "name": "stdout",
     "output_type": "stream",
     "text": [
      "<class 'pandas.core.frame.DataFrame'>\n",
      "Int64Index: 32132 entries, 0 to 39263\n",
      "Data columns (total 6 columns):\n",
      " #   Column        Non-Null Count  Dtype \n",
      "---  ------        --------------  ----- \n",
      " 0   title         32132 non-null  object\n",
      " 1   price         27237 non-null  object\n",
      " 2   currency      27237 non-null  object\n",
      " 3   attributes    27039 non-null  object\n",
      " 4   image_link    32132 non-null  object\n",
      " 5   listing_link  32132 non-null  object\n",
      "dtypes: object(6)\n",
      "memory usage: 1.7+ MB\n"
     ]
    }
   ],
   "source": [
    "sneakers.info()"
   ]
  },
  {
   "cell_type": "code",
   "execution_count": 196,
   "metadata": {},
   "outputs": [],
   "source": [
    "urls = pd.DataFrame(sneakers.image_link)"
   ]
  },
  {
   "cell_type": "code",
   "execution_count": 199,
   "metadata": {},
   "outputs": [],
   "source": [
    "rows = []\n",
    "\n",
    "for index, i in urls.iterrows():\n",
    "    rows.append(i[-1])\n",
    "\n",
    "counter = 0\n",
    "\n",
    "for i in rows:\n",
    "    file_name = './imgs/sneakers/sneakers' + str(counter) + '.jpg'\n",
    "\n",
    "    response = requests.get(i)\n",
    "    file = open(file_name, \"wb\")\n",
    "    file.write(response.content)\n",
    "    file.close()\n",
    "    counter += 1"
   ]
  },
  {
   "cell_type": "code",
   "execution_count": 205,
   "metadata": {},
   "outputs": [],
   "source": [
    "suits = pd.read_csv('./data/suits_blazers.csv', names=['title', 'price', 'currency', 'attributes', 'image_link', 'listing_link'])"
   ]
  },
  {
   "cell_type": "code",
   "execution_count": 206,
   "metadata": {},
   "outputs": [
    {
     "name": "stdout",
     "output_type": "stream",
     "text": [
      "<class 'pandas.core.frame.DataFrame'>\n",
      "RangeIndex: 39216 entries, 0 to 39215\n",
      "Data columns (total 6 columns):\n",
      " #   Column        Non-Null Count  Dtype \n",
      "---  ------        --------------  ----- \n",
      " 0   title         38910 non-null  object\n",
      " 1   price         15365 non-null  object\n",
      " 2   currency      15365 non-null  object\n",
      " 3   attributes    16168 non-null  object\n",
      " 4   image_link    38910 non-null  object\n",
      " 5   listing_link  39216 non-null  object\n",
      "dtypes: object(6)\n",
      "memory usage: 1.8+ MB\n"
     ]
    }
   ],
   "source": [
    "suits.info()"
   ]
  },
  {
   "cell_type": "code",
   "execution_count": 207,
   "metadata": {},
   "outputs": [],
   "source": [
    "urls = pd.DataFrame(suits.image_link)"
   ]
  },
  {
   "cell_type": "code",
   "execution_count": 208,
   "metadata": {},
   "outputs": [],
   "source": [
    "suits = suits.drop(urls[urls.image_link.isnull()].index, axis=0)"
   ]
  },
  {
   "cell_type": "code",
   "execution_count": 209,
   "metadata": {},
   "outputs": [
    {
     "name": "stdout",
     "output_type": "stream",
     "text": [
      "<class 'pandas.core.frame.DataFrame'>\n",
      "Int64Index: 38910 entries, 0 to 39215\n",
      "Data columns (total 6 columns):\n",
      " #   Column        Non-Null Count  Dtype \n",
      "---  ------        --------------  ----- \n",
      " 0   title         38910 non-null  object\n",
      " 1   price         15365 non-null  object\n",
      " 2   currency      15365 non-null  object\n",
      " 3   attributes    16168 non-null  object\n",
      " 4   image_link    38910 non-null  object\n",
      " 5   listing_link  38910 non-null  object\n",
      "dtypes: object(6)\n",
      "memory usage: 2.1+ MB\n"
     ]
    }
   ],
   "source": [
    "suits.info()"
   ]
  },
  {
   "cell_type": "code",
   "execution_count": 210,
   "metadata": {},
   "outputs": [],
   "source": [
    "urls = pd.DataFrame(suits.image_link)"
   ]
  },
  {
   "cell_type": "code",
   "execution_count": 211,
   "metadata": {},
   "outputs": [],
   "source": [
    "rows = []\n",
    "\n",
    "for index, i in urls.iterrows():\n",
    "    rows.append(i[-1])\n",
    "\n",
    "counter = 0\n",
    "\n",
    "for i in rows:\n",
    "    file_name = './imgs/suits/suit' + str(counter) + '.jpg'\n",
    "\n",
    "    response = requests.get(i)\n",
    "    file = open(file_name, \"wb\")\n",
    "    file.write(response.content)\n",
    "    file.close()\n",
    "    counter += 1"
   ]
  },
  {
   "cell_type": "code",
   "execution_count": 219,
   "metadata": {},
   "outputs": [],
   "source": [
    "sweaters = pd.read_csv('./data/sweaters.csv', names=['title', 'price', 'currency', 'attributes', 'image_link', 'listing_link'])"
   ]
  },
  {
   "cell_type": "code",
   "execution_count": 220,
   "metadata": {},
   "outputs": [
    {
     "name": "stdout",
     "output_type": "stream",
     "text": [
      "<class 'pandas.core.frame.DataFrame'>\n",
      "RangeIndex: 39216 entries, 0 to 39215\n",
      "Data columns (total 6 columns):\n",
      " #   Column        Non-Null Count  Dtype \n",
      "---  ------        --------------  ----- \n",
      " 0   title         39216 non-null  object\n",
      " 1   price         26141 non-null  object\n",
      " 2   currency      26141 non-null  object\n",
      " 3   attributes    28071 non-null  object\n",
      " 4   image_link    39216 non-null  object\n",
      " 5   listing_link  39216 non-null  object\n",
      "dtypes: object(6)\n",
      "memory usage: 1.8+ MB\n"
     ]
    }
   ],
   "source": [
    "sweaters.info()"
   ]
  },
  {
   "cell_type": "code",
   "execution_count": 221,
   "metadata": {},
   "outputs": [],
   "source": [
    "urls = pd.DataFrame(sweaters.image_link)"
   ]
  },
  {
   "cell_type": "code",
   "execution_count": 222,
   "metadata": {},
   "outputs": [],
   "source": [
    "suits = suits.drop(urls[urls.image_link.isnull()].index, axis=0)"
   ]
  },
  {
   "cell_type": "code",
   "execution_count": 223,
   "metadata": {},
   "outputs": [
    {
     "name": "stdout",
     "output_type": "stream",
     "text": [
      "<class 'pandas.core.frame.DataFrame'>\n",
      "RangeIndex: 39216 entries, 0 to 39215\n",
      "Data columns (total 6 columns):\n",
      " #   Column        Non-Null Count  Dtype \n",
      "---  ------        --------------  ----- \n",
      " 0   title         39216 non-null  object\n",
      " 1   price         26141 non-null  object\n",
      " 2   currency      26141 non-null  object\n",
      " 3   attributes    28071 non-null  object\n",
      " 4   image_link    39216 non-null  object\n",
      " 5   listing_link  39216 non-null  object\n",
      "dtypes: object(6)\n",
      "memory usage: 1.8+ MB\n"
     ]
    }
   ],
   "source": [
    "sweaters.info()"
   ]
  },
  {
   "cell_type": "code",
   "execution_count": 224,
   "metadata": {},
   "outputs": [],
   "source": [
    "urls = pd.DataFrame(sweaters.image_link)"
   ]
  },
  {
   "cell_type": "code",
   "execution_count": 225,
   "metadata": {},
   "outputs": [],
   "source": [
    "rows = []\n",
    "\n",
    "for index, i in urls.iterrows():\n",
    "    rows.append(i[-1])\n",
    "\n",
    "counter = 0\n",
    "\n",
    "for i in rows:\n",
    "    file_name = './imgs/sweaters/sweater' + str(counter) + '.jpg'\n",
    "\n",
    "    response = requests.get(i)\n",
    "    file = open(file_name, \"wb\")\n",
    "    file.write(response.content)\n",
    "    file.close()\n",
    "    counter += 1"
   ]
  },
  {
   "cell_type": "code",
   "execution_count": 226,
   "metadata": {},
   "outputs": [],
   "source": [
    "tees = pd.read_csv('./data/t_shirts.csv', names=['title', 'price', 'currency', 'attributes', 'image_link', 'listing_link'])"
   ]
  },
  {
   "cell_type": "code",
   "execution_count": 227,
   "metadata": {},
   "outputs": [
    {
     "name": "stdout",
     "output_type": "stream",
     "text": [
      "<class 'pandas.core.frame.DataFrame'>\n",
      "RangeIndex: 27033 entries, 0 to 27032\n",
      "Data columns (total 6 columns):\n",
      " #   Column        Non-Null Count  Dtype \n",
      "---  ------        --------------  ----- \n",
      " 0   title         27033 non-null  object\n",
      " 1   price         19681 non-null  object\n",
      " 2   currency      19681 non-null  object\n",
      " 3   attributes    19873 non-null  object\n",
      " 4   image_link    27033 non-null  object\n",
      " 5   listing_link  27033 non-null  object\n",
      "dtypes: object(6)\n",
      "memory usage: 1.2+ MB\n"
     ]
    }
   ],
   "source": [
    "tees.info()"
   ]
  },
  {
   "cell_type": "code",
   "execution_count": 228,
   "metadata": {},
   "outputs": [],
   "source": [
    "urls = pd.DataFrame(tees.image_link)"
   ]
  },
  {
   "cell_type": "code",
   "execution_count": 229,
   "metadata": {},
   "outputs": [],
   "source": [
    "tees = tees.drop(urls[urls.image_link.isnull()].index, axis=0)"
   ]
  },
  {
   "cell_type": "code",
   "execution_count": 230,
   "metadata": {},
   "outputs": [
    {
     "name": "stdout",
     "output_type": "stream",
     "text": [
      "<class 'pandas.core.frame.DataFrame'>\n",
      "Int64Index: 27033 entries, 0 to 27032\n",
      "Data columns (total 6 columns):\n",
      " #   Column        Non-Null Count  Dtype \n",
      "---  ------        --------------  ----- \n",
      " 0   title         27033 non-null  object\n",
      " 1   price         19681 non-null  object\n",
      " 2   currency      19681 non-null  object\n",
      " 3   attributes    19873 non-null  object\n",
      " 4   image_link    27033 non-null  object\n",
      " 5   listing_link  27033 non-null  object\n",
      "dtypes: object(6)\n",
      "memory usage: 1.4+ MB\n"
     ]
    }
   ],
   "source": [
    "tees.info()"
   ]
  },
  {
   "cell_type": "code",
   "execution_count": 231,
   "metadata": {},
   "outputs": [],
   "source": [
    "urls = pd.DataFrame(tees.image_link)"
   ]
  },
  {
   "cell_type": "code",
   "execution_count": 232,
   "metadata": {},
   "outputs": [],
   "source": [
    "rows = []\n",
    "\n",
    "for index, i in urls.iterrows():\n",
    "    rows.append(i[-1])\n",
    "\n",
    "counter = 0\n",
    "\n",
    "for i in rows:\n",
    "    file_name = './imgs/tshirts/tshirt' + str(counter) + '.jpg'\n",
    "\n",
    "    response = requests.get(i)\n",
    "    file = open(file_name, \"wb\")\n",
    "    file.write(response.content)\n",
    "    file.close()\n",
    "    counter += 1"
   ]
  },
  {
   "cell_type": "code",
   "execution_count": null,
   "metadata": {},
   "outputs": [],
   "source": []
  },
  {
   "cell_type": "code",
   "execution_count": null,
   "metadata": {},
   "outputs": [],
   "source": []
  },
  {
   "cell_type": "code",
   "execution_count": null,
   "metadata": {},
   "outputs": [],
   "source": []
  },
  {
   "cell_type": "code",
   "execution_count": null,
   "metadata": {},
   "outputs": [],
   "source": []
  },
  {
   "cell_type": "code",
   "execution_count": null,
   "metadata": {},
   "outputs": [],
   "source": []
  },
  {
   "cell_type": "code",
   "execution_count": null,
   "metadata": {},
   "outputs": [],
   "source": []
  },
  {
   "cell_type": "code",
   "execution_count": null,
   "metadata": {},
   "outputs": [],
   "source": []
  }
 ],
 "metadata": {
  "kernelspec": {
   "display_name": "Python 3",
   "language": "python",
   "name": "python3"
  },
  "language_info": {
   "codemirror_mode": {
    "name": "ipython",
    "version": 3
   },
   "file_extension": ".py",
   "mimetype": "text/x-python",
   "name": "python",
   "nbconvert_exporter": "python",
   "pygments_lexer": "ipython3",
   "version": "3.7.9"
  }
 },
 "nbformat": 4,
 "nbformat_minor": 4
}
