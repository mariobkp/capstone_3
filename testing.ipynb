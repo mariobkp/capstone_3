{
 "cells": [
  {
   "cell_type": "code",
   "execution_count": 1,
   "metadata": {},
   "outputs": [],
   "source": [
    "import requests\n",
    "\n",
    "import numpy as np\n",
    "import pandas as pd\n",
    "\n",
    "from bs4 import BeautifulSoup\n",
    "\n",
    "import pprint\n",
    "\n",
    "from skimage import io, color, filters\n",
    "from skimage.transform import resize, rotate\n",
    "\n",
    "\n",
    "import tensorflow as tf\n",
    "from tensorflow import keras\n",
    "from tensorflow.keras import layers\n",
    "from tensorflow.keras.preprocessing.image import ImageDataGenerator, array_to_img, img_to_array, load_img\n",
    "\n",
    "import scipy\n",
    "import os\n",
    "import matplotlib\n",
    "from matplotlib import pyplot as plt\n",
    "\n",
    "from PIL import Image\n",
    "\n",
    "\n",
    "matplotlib.style.use('ggplot')\n",
    "%matplotlib inline"
   ]
  },
  {
   "cell_type": "code",
   "execution_count": 2,
   "metadata": {},
   "outputs": [
    {
     "name": "stdout",
     "output_type": "stream",
     "text": [
      "Num GPUs Available:  1\n"
     ]
    }
   ],
   "source": [
    "physical_devices = tf.config.experimental.list_physical_devices('GPU')\n",
    "print(\"Num GPUs Available: \", len(physical_devices))"
   ]
  },
  {
   "cell_type": "code",
   "execution_count": null,
   "metadata": {},
   "outputs": [],
   "source": []
  },
  {
   "cell_type": "code",
   "execution_count": null,
   "metadata": {},
   "outputs": [],
   "source": []
  },
  {
   "cell_type": "code",
   "execution_count": 3,
   "metadata": {},
   "outputs": [],
   "source": [
    "# df = pd.DataFrame.from_dict(attrs, orient='index').T\n",
    "\n",
    "# df"
   ]
  },
  {
   "cell_type": "code",
   "execution_count": 4,
   "metadata": {},
   "outputs": [],
   "source": [
    "import ebay_scraper"
   ]
  },
  {
   "cell_type": "code",
   "execution_count": 5,
   "metadata": {},
   "outputs": [],
   "source": [
    "import requests\n",
    "\n",
    "import csv\n",
    "\n",
    "import pandas as pd\n",
    "\n",
    "from bs4 import BeautifulSoup\n",
    "\n",
    "\n",
    "# def get_page(url):\n",
    "\n",
    "#     response = requests.get(url)\n",
    "\n",
    "#     if not response.ok:\n",
    "#         print('Server responded: ', response.status_code)\n",
    "#     else:\n",
    "#         soup = BeautifulSoup(response.text, 'lxml')\n",
    "#     return soup\n",
    "\n",
    "\n",
    "# def get_detail_data(soup):\n",
    "\n",
    "#     # title\n",
    "#     # price\n",
    "#     # image\n",
    "#     # description\n",
    "\n",
    "#     try:\n",
    "#         # title = soup.find('h1', id='itemTitle').get('span')\n",
    "#         title = soup.find('span', class_='g-hdn').next_sibling\n",
    "#     except:\n",
    "#         title = ''\n",
    "    \n",
    "#     try:\n",
    "#         p = soup.find('span', id='prcIsum').text.strip()\n",
    "#         currency, price = p.split(' ')\n",
    "#     except:\n",
    "#         price = ''\n",
    "#         currency = ''\n",
    "    \n",
    "#     try:\n",
    "#         img = soup.find('img', id='icImg').get('src')\n",
    "#     except:\n",
    "#         img = ''\n",
    "    \n",
    "#     try:\n",
    "#         # desc = [tr.find_all('td') for tr in soup.find('div', id='viTabs_0_is').find('table').find_all('tr')]\n",
    "        \n",
    "#         table = soup.find('div', id='viTabs_0_is').find('table')\n",
    "#         table_rows = table.find_all('tr')\n",
    "        \n",
    "#         d = []\n",
    "\n",
    "#         for tr in table_rows:\n",
    "#             td = tr.find_all('td')\n",
    "#             row = [tr.get_text(strip=True) for tr in td]\n",
    "#             d.append(row)\n",
    "\n",
    "#         try:\n",
    "#             cols = [x[0] for x in d] + [x[2] for x in d]\n",
    "#         except:\n",
    "#             cols = [x[0] for x in d]\n",
    "#         try:\n",
    "#             vals = [x[1] for x in d] + [x[3] for x in d]\n",
    "#         except:\n",
    "#             vals = [x[1] for x in d]\n",
    "#         attrs = {k: v for k,v in zip(cols, vals)}\n",
    "\n",
    "#         desc = attrs\n",
    "#         # desc = pd.DataFrame.from_dict(attrs, orient='index').T\n",
    "#     except:\n",
    "#         desc = ''\n",
    "    \n",
    "    \n",
    "#     data = {\n",
    "#         'title': title,\n",
    "#         'price': price,\n",
    "#         'currency': currency,\n",
    "#         'image': img,\n",
    "#         'desc': desc\n",
    "#     }\n",
    "\n",
    "#     return data\n",
    "\n",
    "\n",
    "# def get_index_data(soup):\n",
    "\n",
    "#     try:\n",
    "#         links = soup.find_all('a', class_='s-item__link')\n",
    "#     except:\n",
    "#         links = []\n",
    "    \n",
    "#     urls = [item.get('href') for item in links]\n",
    "\n",
    "#     return urls\n",
    "\n",
    "\n",
    "# def write_csv(data, url, cat):\n",
    "    \n",
    "#     file_name = str(cat) + '.csv'\n",
    "    \n",
    "#     with open(file_name, 'a') as csvfile:\n",
    "#         writer = csv.writer(csvfile)\n",
    "\n",
    "#         row = [data['title'], data['price'], data['currency'], data['desc'], data['image'], url]\n",
    "\n",
    "#         writer.writerow(row)\n",
    "\n",
    "\n"
   ]
  },
  {
   "cell_type": "code",
   "execution_count": 6,
   "metadata": {},
   "outputs": [],
   "source": [
    "# def main(url, cat):\n",
    "    \n",
    "#     page = 1\n",
    "\n",
    "#     # print(get_detail_data(get_page(url)))\n",
    "#     while requests.get(url).ok==True:\n",
    "\n",
    "#         products = get_index_data(get_page(url))\n",
    "\n",
    "#         for link in products:\n",
    "#             data = get_detail_data(get_page(link))\n",
    "#             write_csv(data, link, cat)\n",
    "\n",
    "#         page += 1\n",
    "\n",
    "#         url = url + '&_pgn=' + str(page)"
   ]
  },
  {
   "cell_type": "code",
   "execution_count": null,
   "metadata": {},
   "outputs": [],
   "source": []
  },
  {
   "cell_type": "code",
   "execution_count": null,
   "metadata": {},
   "outputs": [],
   "source": []
  },
  {
   "cell_type": "code",
   "execution_count": null,
   "metadata": {},
   "outputs": [],
   "source": []
  },
  {
   "cell_type": "code",
   "execution_count": null,
   "metadata": {},
   "outputs": [],
   "source": []
  },
  {
   "cell_type": "code",
   "execution_count": null,
   "metadata": {},
   "outputs": [],
   "source": []
  },
  {
   "cell_type": "code",
   "execution_count": null,
   "metadata": {},
   "outputs": [],
   "source": []
  },
  {
   "cell_type": "code",
   "execution_count": 7,
   "metadata": {},
   "outputs": [],
   "source": [
    "pants = pd.read_csv('./data/pants.csv', names=['title', 'price', 'currency', 'attributes', 'image_link', 'listing_link'])"
   ]
  },
  {
   "cell_type": "code",
   "execution_count": 8,
   "metadata": {},
   "outputs": [
    {
     "name": "stdout",
     "output_type": "stream",
     "text": [
      "<class 'pandas.core.frame.DataFrame'>\n",
      "RangeIndex: 22157 entries, 0 to 22156\n",
      "Data columns (total 6 columns):\n",
      " #   Column        Non-Null Count  Dtype \n",
      "---  ------        --------------  ----- \n",
      " 0   title         22038 non-null  object\n",
      " 1   price         18286 non-null  object\n",
      " 2   currency      18286 non-null  object\n",
      " 3   attributes    12106 non-null  object\n",
      " 4   image_link    22038 non-null  object\n",
      " 5   listing_link  22157 non-null  object\n",
      "dtypes: object(6)\n",
      "memory usage: 1.0+ MB\n"
     ]
    }
   ],
   "source": [
    "pants.info()"
   ]
  },
  {
   "cell_type": "code",
   "execution_count": null,
   "metadata": {},
   "outputs": [],
   "source": []
  },
  {
   "cell_type": "code",
   "execution_count": 9,
   "metadata": {},
   "outputs": [],
   "source": [
    "# pd.DataFrame.from_dict({i: x[i] \n",
    "#                            for x.items() in attr})"
   ]
  },
  {
   "cell_type": "code",
   "execution_count": 10,
   "metadata": {},
   "outputs": [
    {
     "data": {
      "text/plain": [
       "title           Dickies Carpenter Jeans Dungaree Five Pocket H...\n",
       "price                                                   $19.99/ea\n",
       "currency                                                       US\n",
       "attributes                                                    NaN\n",
       "image_link      https://i.ebayimg.com/images/g/DAoAAOSwaldesiK...\n",
       "listing_link    https://www.ebay.com/itm/Dickies-Carpenter-Jea...\n",
       "Name: 0, dtype: object"
      ]
     },
     "execution_count": 10,
     "metadata": {},
     "output_type": "execute_result"
    }
   ],
   "source": [
    "pants.iloc[0]"
   ]
  },
  {
   "cell_type": "code",
   "execution_count": 11,
   "metadata": {},
   "outputs": [
    {
     "data": {
      "text/plain": [
       "'https://i.ebayimg.com/images/g/DAoAAOSwaldesiKQ/s-l300.jpg'"
      ]
     },
     "execution_count": 11,
     "metadata": {},
     "output_type": "execute_result"
    }
   ],
   "source": [
    "pants.image_link[0]"
   ]
  },
  {
   "cell_type": "code",
   "execution_count": 12,
   "metadata": {},
   "outputs": [],
   "source": [
    "test = io.imread(pants.image_link[0])"
   ]
  },
  {
   "cell_type": "code",
   "execution_count": 13,
   "metadata": {},
   "outputs": [
    {
     "name": "stdout",
     "output_type": "stream",
     "text": [
      "Type: <class 'numpy.ndarray'>\n",
      "Shape: (289, 300, 3)\n"
     ]
    }
   ],
   "source": [
    "print('Type: {}'.format(type(test)))\n",
    "print('Shape: {}'.format(test.shape))"
   ]
  },
  {
   "cell_type": "code",
   "execution_count": 14,
   "metadata": {},
   "outputs": [
    {
     "data": {
      "image/png": "[encoded data removed]",
      "text/plain": [
       "<Figure size 432x288 with 1 Axes>"
      ]
     },
     "metadata": {
      "needs_background": "light"
     },
     "output_type": "display_data"
    }
   ],
   "source": [
    "io.imshow(test);"
   ]
  },
  {
   "cell_type": "code",
   "execution_count": 15,
   "metadata": {},
   "outputs": [
    {
     "data": {
      "image/png": "[encoded data removed]",
      "text/plain": [
       "<Figure size 432x288 with 1 Axes>"
      ]
     },
     "metadata": {
      "needs_background": "light"
     },
     "output_type": "display_data"
    }
   ],
   "source": [
    "io.imshow(resize(test, (300,300)));"
   ]
  },
  {
   "cell_type": "code",
   "execution_count": 16,
   "metadata": {},
   "outputs": [
    {
     "name": "stdout",
     "output_type": "stream",
     "text": [
      "Type: <class 'numpy.ndarray'>\n",
      "Shape: (300, 225, 3)\n"
     ]
    }
   ],
   "source": [
    "test2 = io.imread(pants.image_link[1])\n",
    "\n",
    "print('Type: {}'.format(type(test2)))\n",
    "print('Shape: {}'.format(test2.shape))"
   ]
  },
  {
   "cell_type": "code",
   "execution_count": 17,
   "metadata": {},
   "outputs": [
    {
     "data": {
      "text/plain": [
       "<matplotlib.image.AxesImage at 0x7f90907019d0>"
      ]
     },
     "execution_count": 17,
     "metadata": {},
     "output_type": "execute_result"
    },
    {
     "data": {
      "image/png": "[encoded data removed]",
      "text/plain": [
       "<Figure size 432x288 with 1 Axes>"
      ]
     },
     "metadata": {
      "needs_background": "light"
     },
     "output_type": "display_data"
    }
   ],
   "source": [
    "io.imshow(test2)"
   ]
  },
  {
   "cell_type": "code",
   "execution_count": 18,
   "metadata": {},
   "outputs": [
    {
     "data": {
      "image/png": "[encoded data removed]",
      "text/plain": [
       "<Figure size 432x288 with 1 Axes>"
      ]
     },
     "metadata": {
      "needs_background": "light"
     },
     "output_type": "display_data"
    }
   ],
   "source": [
    "io.imshow(resize(test2, (300,300)));"
   ]
  },
  {
   "cell_type": "code",
   "execution_count": 19,
   "metadata": {},
   "outputs": [],
   "source": [
    "urls = pd.DataFrame(pants.image_link)"
   ]
  },
  {
   "cell_type": "code",
   "execution_count": 20,
   "metadata": {},
   "outputs": [],
   "source": [
    "pants = pants.drop(urls[urls.image_link.isnull()].index, axis=0)"
   ]
  },
  {
   "cell_type": "code",
   "execution_count": 21,
   "metadata": {},
   "outputs": [],
   "source": [
    "urls = pd.DataFrame(pants.image_link)"
   ]
  },
  {
   "cell_type": "code",
   "execution_count": 22,
   "metadata": {},
   "outputs": [],
   "source": [
    "# rows = []\n",
    "\n",
    "# for index, i in urls.iterrows():\n",
    "#     rows.append(i[-1])\n",
    "\n",
    "# counter = 0\n",
    "\n",
    "# for i in rows:\n",
    "#     file_name = './imgs/pants' + str(counter) + '.jpg'\n",
    "\n",
    "#     response = requests.get(i)\n",
    "#     file = open(file_name, \"wb\")\n",
    "#     file.write(response.content)\n",
    "#     file.close()\n",
    "#     counter += 1"
   ]
  },
  {
   "cell_type": "code",
   "execution_count": null,
   "metadata": {},
   "outputs": [],
   "source": []
  },
  {
   "cell_type": "code",
   "execution_count": 23,
   "metadata": {},
   "outputs": [],
   "source": [
    "boots = pd.read_csv('./data/boots.csv', names=['title', 'price', 'currency', 'attributes', 'image_link', 'listing_link'])"
   ]
  },
  {
   "cell_type": "code",
   "execution_count": 24,
   "metadata": {},
   "outputs": [
    {
     "name": "stdout",
     "output_type": "stream",
     "text": [
      "<class 'pandas.core.frame.DataFrame'>\n",
      "RangeIndex: 39216 entries, 0 to 39215\n",
      "Data columns (total 6 columns):\n",
      " #   Column        Non-Null Count  Dtype \n",
      "---  ------        --------------  ----- \n",
      " 0   title         38341 non-null  object\n",
      " 1   price         25289 non-null  object\n",
      " 2   currency      25289 non-null  object\n",
      " 3   attributes    26335 non-null  object\n",
      " 4   image_link    38341 non-null  object\n",
      " 5   listing_link  39216 non-null  object\n",
      "dtypes: object(6)\n",
      "memory usage: 1.8+ MB\n"
     ]
    }
   ],
   "source": [
    "boots.info()"
   ]
  },
  {
   "cell_type": "code",
   "execution_count": 25,
   "metadata": {},
   "outputs": [],
   "source": [
    "urls = pd.DataFrame(boots.image_link)"
   ]
  },
  {
   "cell_type": "code",
   "execution_count": 26,
   "metadata": {},
   "outputs": [],
   "source": [
    "boots = boots.drop(urls[urls.image_link.isnull()].index, axis=0)"
   ]
  },
  {
   "cell_type": "code",
   "execution_count": 27,
   "metadata": {},
   "outputs": [
    {
     "name": "stdout",
     "output_type": "stream",
     "text": [
      "<class 'pandas.core.frame.DataFrame'>\n",
      "Int64Index: 38341 entries, 0 to 39215\n",
      "Data columns (total 6 columns):\n",
      " #   Column        Non-Null Count  Dtype \n",
      "---  ------        --------------  ----- \n",
      " 0   title         38341 non-null  object\n",
      " 1   price         25289 non-null  object\n",
      " 2   currency      25289 non-null  object\n",
      " 3   attributes    26335 non-null  object\n",
      " 4   image_link    38341 non-null  object\n",
      " 5   listing_link  38341 non-null  object\n",
      "dtypes: object(6)\n",
      "memory usage: 2.0+ MB\n"
     ]
    }
   ],
   "source": [
    "boots.info()"
   ]
  },
  {
   "cell_type": "code",
   "execution_count": 28,
   "metadata": {},
   "outputs": [],
   "source": [
    "urls = pd.DataFrame(boots.image_link)"
   ]
  },
  {
   "cell_type": "code",
   "execution_count": 29,
   "metadata": {},
   "outputs": [],
   "source": [
    "# rows = []\n",
    "\n",
    "# for index, i in urls.iterrows():\n",
    "#     rows.append(i[-1])\n",
    "\n",
    "# counter = 0\n",
    "\n",
    "# for i in rows:\n",
    "#     file_name = './imgs/boots' + str(counter) + '.jpg'\n",
    "\n",
    "#     response = requests.get(i)\n",
    "#     file = open(file_name, \"wb\")\n",
    "#     file.write(response.content)\n",
    "#     file.close()\n",
    "#     counter += 1"
   ]
  },
  {
   "cell_type": "code",
   "execution_count": 30,
   "metadata": {},
   "outputs": [],
   "source": [
    "casual_shirts = pd.read_csv('./data/casual_shirts.csv', names=['title', 'price', 'currency', 'attributes', 'image_link', 'listing_link'])"
   ]
  },
  {
   "cell_type": "code",
   "execution_count": 31,
   "metadata": {},
   "outputs": [
    {
     "name": "stdout",
     "output_type": "stream",
     "text": [
      "<class 'pandas.core.frame.DataFrame'>\n",
      "RangeIndex: 27330 entries, 0 to 27329\n",
      "Data columns (total 6 columns):\n",
      " #   Column        Non-Null Count  Dtype \n",
      "---  ------        --------------  ----- \n",
      " 0   title         27282 non-null  object\n",
      " 1   price         19801 non-null  object\n",
      " 2   currency      19801 non-null  object\n",
      " 3   attributes    15376 non-null  object\n",
      " 4   image_link    27282 non-null  object\n",
      " 5   listing_link  27330 non-null  object\n",
      "dtypes: object(6)\n",
      "memory usage: 1.3+ MB\n"
     ]
    }
   ],
   "source": [
    "casual_shirts.info()"
   ]
  },
  {
   "cell_type": "code",
   "execution_count": 32,
   "metadata": {},
   "outputs": [],
   "source": [
    "urls = pd.DataFrame(casual_shirts.image_link)"
   ]
  },
  {
   "cell_type": "code",
   "execution_count": 33,
   "metadata": {},
   "outputs": [],
   "source": [
    "casual_shirts = casual_shirts.drop(urls[urls.image_link.isnull()].index, axis=0)"
   ]
  },
  {
   "cell_type": "code",
   "execution_count": 34,
   "metadata": {},
   "outputs": [
    {
     "name": "stdout",
     "output_type": "stream",
     "text": [
      "<class 'pandas.core.frame.DataFrame'>\n",
      "Int64Index: 27282 entries, 0 to 27329\n",
      "Data columns (total 6 columns):\n",
      " #   Column        Non-Null Count  Dtype \n",
      "---  ------        --------------  ----- \n",
      " 0   title         27282 non-null  object\n",
      " 1   price         19801 non-null  object\n",
      " 2   currency      19801 non-null  object\n",
      " 3   attributes    15376 non-null  object\n",
      " 4   image_link    27282 non-null  object\n",
      " 5   listing_link  27282 non-null  object\n",
      "dtypes: object(6)\n",
      "memory usage: 1.5+ MB\n"
     ]
    }
   ],
   "source": [
    "casual_shirts.info()"
   ]
  },
  {
   "cell_type": "code",
   "execution_count": 35,
   "metadata": {},
   "outputs": [],
   "source": [
    "urls = pd.DataFrame(casual_shirts.image_link)"
   ]
  },
  {
   "cell_type": "code",
   "execution_count": 36,
   "metadata": {},
   "outputs": [],
   "source": [
    "# rows = []\n",
    "\n",
    "# for index, i in urls.iterrows():\n",
    "#     rows.append(i[-1])\n",
    "\n",
    "# counter = 0\n",
    "\n",
    "# for i in rows:\n",
    "#     file_name = './imgs/casualshirt' + str(counter) + '.jpg'\n",
    "\n",
    "#     response = requests.get(i)\n",
    "#     file = open(file_name, \"wb\")\n",
    "#     file.write(response.content)\n",
    "#     file.close()\n",
    "#     counter += 1"
   ]
  },
  {
   "cell_type": "code",
   "execution_count": 37,
   "metadata": {},
   "outputs": [],
   "source": [
    "casual_shoes = pd.read_csv('./data/casual_shoes.csv', names=['title', 'price', 'currency', 'attributes', 'image_link', 'listing_link'])"
   ]
  },
  {
   "cell_type": "code",
   "execution_count": 38,
   "metadata": {},
   "outputs": [
    {
     "name": "stdout",
     "output_type": "stream",
     "text": [
      "<class 'pandas.core.frame.DataFrame'>\n",
      "RangeIndex: 39312 entries, 0 to 39311\n",
      "Data columns (total 6 columns):\n",
      " #   Column        Non-Null Count  Dtype \n",
      "---  ------        --------------  ----- \n",
      " 0   title         38508 non-null  object\n",
      " 1   price         28767 non-null  object\n",
      " 2   currency      28767 non-null  object\n",
      " 3   attributes    27046 non-null  object\n",
      " 4   image_link    38508 non-null  object\n",
      " 5   listing_link  39312 non-null  object\n",
      "dtypes: object(6)\n",
      "memory usage: 1.8+ MB\n"
     ]
    }
   ],
   "source": [
    "casual_shoes.info()"
   ]
  },
  {
   "cell_type": "code",
   "execution_count": 39,
   "metadata": {},
   "outputs": [],
   "source": [
    "urls = pd.DataFrame(casual_shoes.image_link)"
   ]
  },
  {
   "cell_type": "code",
   "execution_count": 40,
   "metadata": {},
   "outputs": [],
   "source": [
    "casual_shoes = casual_shoes.drop(urls[urls.image_link.isnull()].index, axis=0)"
   ]
  },
  {
   "cell_type": "code",
   "execution_count": 41,
   "metadata": {},
   "outputs": [
    {
     "name": "stdout",
     "output_type": "stream",
     "text": [
      "<class 'pandas.core.frame.DataFrame'>\n",
      "Int64Index: 38508 entries, 0 to 39311\n",
      "Data columns (total 6 columns):\n",
      " #   Column        Non-Null Count  Dtype \n",
      "---  ------        --------------  ----- \n",
      " 0   title         38508 non-null  object\n",
      " 1   price         28767 non-null  object\n",
      " 2   currency      28767 non-null  object\n",
      " 3   attributes    27046 non-null  object\n",
      " 4   image_link    38508 non-null  object\n",
      " 5   listing_link  38508 non-null  object\n",
      "dtypes: object(6)\n",
      "memory usage: 2.1+ MB\n"
     ]
    }
   ],
   "source": [
    "casual_shoes.info()"
   ]
  },
  {
   "cell_type": "code",
   "execution_count": 42,
   "metadata": {},
   "outputs": [],
   "source": [
    "urls = pd.DataFrame(casual_shoes.image_link)"
   ]
  },
  {
   "cell_type": "code",
   "execution_count": 43,
   "metadata": {},
   "outputs": [],
   "source": [
    "# rows = []\n",
    "\n",
    "# for index, i in urls.iterrows():\n",
    "#     rows.append(i[-1])\n",
    "\n",
    "# counter = 0\n",
    "\n",
    "# for i in rows:\n",
    "#     file_name = './imgs/casualshoe' + str(counter) + '.jpg'\n",
    "\n",
    "#     response = requests.get(i)\n",
    "#     file = open(file_name, \"wb\")\n",
    "#     file.write(response.content)\n",
    "#     file.close()\n",
    "#     counter += 1"
   ]
  },
  {
   "cell_type": "code",
   "execution_count": 210,
   "metadata": {},
   "outputs": [],
   "source": [
    "coats_jackets = pd.read_csv('./data/coats_jackets.csv', names=['title', 'price', 'currency', 'attributes', 'image_link', 'listing_link'])"
   ]
  },
  {
   "cell_type": "code",
   "execution_count": 211,
   "metadata": {},
   "outputs": [
    {
     "name": "stdout",
     "output_type": "stream",
     "text": [
      "<class 'pandas.core.frame.DataFrame'>\n",
      "RangeIndex: 39216 entries, 0 to 39215\n",
      "Data columns (total 6 columns):\n",
      " #   Column        Non-Null Count  Dtype \n",
      "---  ------        --------------  ----- \n",
      " 0   title         39208 non-null  object\n",
      " 1   price         29871 non-null  object\n",
      " 2   currency      29871 non-null  object\n",
      " 3   attributes    31541 non-null  object\n",
      " 4   image_link    39208 non-null  object\n",
      " 5   listing_link  39216 non-null  object\n",
      "dtypes: object(6)\n",
      "memory usage: 1.8+ MB\n"
     ]
    }
   ],
   "source": [
    "coats_jackets.info()"
   ]
  },
  {
   "cell_type": "code",
   "execution_count": 212,
   "metadata": {},
   "outputs": [],
   "source": [
    "urls = pd.DataFrame(coats_jackets.image_link)"
   ]
  },
  {
   "cell_type": "code",
   "execution_count": 213,
   "metadata": {},
   "outputs": [],
   "source": [
    "coats_jackets = coats_jackets.drop(urls[urls.image_link.isnull()].index, axis=0)"
   ]
  },
  {
   "cell_type": "code",
   "execution_count": 214,
   "metadata": {},
   "outputs": [],
   "source": [
    "coats_jackets = coats_jackets.drop([18499], axis=0)"
   ]
  },
  {
   "cell_type": "code",
   "execution_count": 215,
   "metadata": {},
   "outputs": [
    {
     "name": "stdout",
     "output_type": "stream",
     "text": [
      "<class 'pandas.core.frame.DataFrame'>\n",
      "Int64Index: 39207 entries, 0 to 39215\n",
      "Data columns (total 6 columns):\n",
      " #   Column        Non-Null Count  Dtype \n",
      "---  ------        --------------  ----- \n",
      " 0   title         39207 non-null  object\n",
      " 1   price         29870 non-null  object\n",
      " 2   currency      29870 non-null  object\n",
      " 3   attributes    31540 non-null  object\n",
      " 4   image_link    39207 non-null  object\n",
      " 5   listing_link  39207 non-null  object\n",
      "dtypes: object(6)\n",
      "memory usage: 2.1+ MB\n"
     ]
    }
   ],
   "source": [
    "coats_jackets.info()"
   ]
  },
  {
   "cell_type": "code",
   "execution_count": 216,
   "metadata": {},
   "outputs": [
    {
     "data": {
      "text/plain": [
       "title            Dunning Golf Men’s Gray Full Zip Jacket Sz Large\n",
       "price                                                      $48.88\n",
       "currency                                                       US\n",
       "attributes                                                    NaN\n",
       "image_link      https://i.ebayimg.com/images/g/bxIAAOSwgAZfWq9...\n",
       "listing_link    https://www.ebay.com/itm/Dunning-Golf-Men-s-Gr...\n",
       "Name: 18500, dtype: object"
      ]
     },
     "execution_count": 216,
     "metadata": {},
     "output_type": "execute_result"
    }
   ],
   "source": [
    "coats_jackets.iloc[18495]"
   ]
  },
  {
   "cell_type": "code",
   "execution_count": null,
   "metadata": {},
   "outputs": [],
   "source": []
  },
  {
   "cell_type": "code",
   "execution_count": 217,
   "metadata": {},
   "outputs": [],
   "source": [
    "urls = pd.DataFrame(coats_jackets.image_link)"
   ]
  },
  {
   "cell_type": "code",
   "execution_count": 219,
   "metadata": {},
   "outputs": [],
   "source": [
    "# rows = []\n",
    "\n",
    "# for index, i in urls.iterrows():\n",
    "#     rows.append(i[-1])\n",
    "\n",
    "# counter = 0\n",
    "\n",
    "# for i in rows:\n",
    "#     file_name = './imgs/coatjacket/coatjacket' + str(counter) + '.jpg'\n",
    "\n",
    "#     response = requests.get(i)\n",
    "#     file = open(file_name, \"wb\")\n",
    "#     file.write(response.content)\n",
    "#     file.close()\n",
    "#     counter += 1"
   ]
  },
  {
   "cell_type": "code",
   "execution_count": 53,
   "metadata": {},
   "outputs": [],
   "source": [
    "dress_shirts = pd.read_csv('./data/dress_shirts.csv', names=['title', 'price', 'currency', 'attributes', 'image_link', 'listing_link'])"
   ]
  },
  {
   "cell_type": "code",
   "execution_count": 54,
   "metadata": {},
   "outputs": [
    {
     "name": "stdout",
     "output_type": "stream",
     "text": [
      "<class 'pandas.core.frame.DataFrame'>\n",
      "RangeIndex: 39216 entries, 0 to 39215\n",
      "Data columns (total 6 columns):\n",
      " #   Column        Non-Null Count  Dtype \n",
      "---  ------        --------------  ----- \n",
      " 0   title         39216 non-null  object\n",
      " 1   price         21790 non-null  object\n",
      " 2   currency      21790 non-null  object\n",
      " 3   attributes    27957 non-null  object\n",
      " 4   image_link    39216 non-null  object\n",
      " 5   listing_link  39216 non-null  object\n",
      "dtypes: object(6)\n",
      "memory usage: 1.8+ MB\n"
     ]
    }
   ],
   "source": [
    "dress_shirts.info()"
   ]
  },
  {
   "cell_type": "code",
   "execution_count": 55,
   "metadata": {},
   "outputs": [],
   "source": [
    "urls = pd.DataFrame(dress_shirts.image_link)"
   ]
  },
  {
   "cell_type": "code",
   "execution_count": 56,
   "metadata": {},
   "outputs": [],
   "source": [
    "dress_shirts = dress_shirts.drop(urls[urls.image_link.isnull()].index, axis=0)"
   ]
  },
  {
   "cell_type": "code",
   "execution_count": 57,
   "metadata": {},
   "outputs": [
    {
     "name": "stdout",
     "output_type": "stream",
     "text": [
      "<class 'pandas.core.frame.DataFrame'>\n",
      "Int64Index: 39216 entries, 0 to 39215\n",
      "Data columns (total 6 columns):\n",
      " #   Column        Non-Null Count  Dtype \n",
      "---  ------        --------------  ----- \n",
      " 0   title         39216 non-null  object\n",
      " 1   price         21790 non-null  object\n",
      " 2   currency      21790 non-null  object\n",
      " 3   attributes    27957 non-null  object\n",
      " 4   image_link    39216 non-null  object\n",
      " 5   listing_link  39216 non-null  object\n",
      "dtypes: object(6)\n",
      "memory usage: 2.1+ MB\n"
     ]
    }
   ],
   "source": [
    "dress_shirts.info()"
   ]
  },
  {
   "cell_type": "code",
   "execution_count": 58,
   "metadata": {},
   "outputs": [],
   "source": [
    "urls = pd.DataFrame(dress_shirts.image_link)"
   ]
  },
  {
   "cell_type": "code",
   "execution_count": 59,
   "metadata": {},
   "outputs": [],
   "source": [
    "# rows = []\n",
    "\n",
    "# for index, i in urls.iterrows():\n",
    "#     rows.append(i[-1])\n",
    "\n",
    "# counter = 0\n",
    "\n",
    "# for i in rows:\n",
    "#     file_name = './imgs/dressshirt/dressshirt' + str(counter) + '.jpg'\n",
    "\n",
    "#     response = requests.get(i)\n",
    "#     file = open(file_name, \"wb\")\n",
    "#     file.write(response.content)\n",
    "#     file.close()\n",
    "#     counter += 1"
   ]
  },
  {
   "cell_type": "code",
   "execution_count": 60,
   "metadata": {},
   "outputs": [],
   "source": [
    "dress_shoes = pd.read_csv('./data/dress_shoes.csv', names=['title', 'price', 'currency', 'attributes', 'image_link', 'listing_link'])"
   ]
  },
  {
   "cell_type": "code",
   "execution_count": 61,
   "metadata": {},
   "outputs": [
    {
     "name": "stdout",
     "output_type": "stream",
     "text": [
      "<class 'pandas.core.frame.DataFrame'>\n",
      "RangeIndex: 39264 entries, 0 to 39263\n",
      "Data columns (total 6 columns):\n",
      " #   Column        Non-Null Count  Dtype \n",
      "---  ------        --------------  ----- \n",
      " 0   title         38638 non-null  object\n",
      " 1   price         25771 non-null  object\n",
      " 2   currency      25771 non-null  object\n",
      " 3   attributes    23602 non-null  object\n",
      " 4   image_link    38638 non-null  object\n",
      " 5   listing_link  39264 non-null  object\n",
      "dtypes: object(6)\n",
      "memory usage: 1.8+ MB\n"
     ]
    }
   ],
   "source": [
    "dress_shoes.info()"
   ]
  },
  {
   "cell_type": "code",
   "execution_count": 62,
   "metadata": {},
   "outputs": [],
   "source": [
    "urls = pd.DataFrame(dress_shoes.image_link)"
   ]
  },
  {
   "cell_type": "code",
   "execution_count": 63,
   "metadata": {},
   "outputs": [],
   "source": [
    "dress_shoes = dress_shoes.drop(urls[urls.image_link.isnull()].index, axis=0)"
   ]
  },
  {
   "cell_type": "code",
   "execution_count": 64,
   "metadata": {},
   "outputs": [],
   "source": [
    "dress_shoes= dress_shoes.drop(dress_shoes[dress_shoes.image_link.str.contains(\"shoeffl\")].index, axis=0)"
   ]
  },
  {
   "cell_type": "code",
   "execution_count": 65,
   "metadata": {},
   "outputs": [
    {
     "name": "stdout",
     "output_type": "stream",
     "text": [
      "<class 'pandas.core.frame.DataFrame'>\n",
      "Int64Index: 38599 entries, 0 to 39263\n",
      "Data columns (total 6 columns):\n",
      " #   Column        Non-Null Count  Dtype \n",
      "---  ------        --------------  ----- \n",
      " 0   title         38599 non-null  object\n",
      " 1   price         25732 non-null  object\n",
      " 2   currency      25732 non-null  object\n",
      " 3   attributes    23602 non-null  object\n",
      " 4   image_link    38599 non-null  object\n",
      " 5   listing_link  38599 non-null  object\n",
      "dtypes: object(6)\n",
      "memory usage: 2.1+ MB\n"
     ]
    }
   ],
   "source": [
    "dress_shoes.info()"
   ]
  },
  {
   "cell_type": "code",
   "execution_count": 66,
   "metadata": {},
   "outputs": [],
   "source": [
    "urls = pd.DataFrame(dress_shoes.image_link)"
   ]
  },
  {
   "cell_type": "code",
   "execution_count": 67,
   "metadata": {},
   "outputs": [],
   "source": [
    "# rows = []\n",
    "\n",
    "# for index, i in urls.iterrows():\n",
    "#     rows.append(i[-1])\n",
    "\n",
    "# counter = 0\n",
    "\n",
    "# for i in rows:\n",
    "#     file_name = './imgs/dressshoe/dressshoe' + str(counter) + '.jpg'\n",
    "\n",
    "#     response = requests.get(i)\n",
    "#     file = open(file_name, \"wb\")\n",
    "#     file.write(response.content)\n",
    "#     file.close()\n",
    "#     counter += 1"
   ]
  },
  {
   "cell_type": "code",
   "execution_count": null,
   "metadata": {},
   "outputs": [],
   "source": []
  },
  {
   "cell_type": "code",
   "execution_count": null,
   "metadata": {},
   "outputs": [],
   "source": []
  },
  {
   "cell_type": "code",
   "execution_count": null,
   "metadata": {},
   "outputs": [],
   "source": []
  },
  {
   "cell_type": "code",
   "execution_count": null,
   "metadata": {},
   "outputs": [],
   "source": []
  },
  {
   "cell_type": "code",
   "execution_count": null,
   "metadata": {},
   "outputs": [],
   "source": []
  },
  {
   "cell_type": "code",
   "execution_count": null,
   "metadata": {},
   "outputs": [],
   "source": []
  },
  {
   "cell_type": "code",
   "execution_count": null,
   "metadata": {},
   "outputs": [],
   "source": []
  },
  {
   "cell_type": "code",
   "execution_count": 68,
   "metadata": {},
   "outputs": [],
   "source": [
    "jeans = pd.read_csv('./data/jeans.csv', names=['title', 'price', 'currency', 'attributes', 'image_link', 'listing_link'])"
   ]
  },
  {
   "cell_type": "code",
   "execution_count": 69,
   "metadata": {},
   "outputs": [
    {
     "name": "stdout",
     "output_type": "stream",
     "text": [
      "<class 'pandas.core.frame.DataFrame'>\n",
      "RangeIndex: 29083 entries, 0 to 29082\n",
      "Data columns (total 6 columns):\n",
      " #   Column        Non-Null Count  Dtype \n",
      "---  ------        --------------  ----- \n",
      " 0   title         28808 non-null  object\n",
      " 1   price         20828 non-null  object\n",
      " 2   currency      20828 non-null  object\n",
      " 3   attributes    19251 non-null  object\n",
      " 4   image_link    28808 non-null  object\n",
      " 5   listing_link  29083 non-null  object\n",
      "dtypes: object(6)\n",
      "memory usage: 1.3+ MB\n"
     ]
    }
   ],
   "source": [
    "jeans.info()"
   ]
  },
  {
   "cell_type": "code",
   "execution_count": 70,
   "metadata": {},
   "outputs": [],
   "source": [
    "urls = pd.DataFrame(jeans.image_link)"
   ]
  },
  {
   "cell_type": "code",
   "execution_count": 71,
   "metadata": {},
   "outputs": [],
   "source": [
    "jeans = jeans.drop(urls[urls.image_link.isnull()].index, axis=0)"
   ]
  },
  {
   "cell_type": "code",
   "execution_count": 72,
   "metadata": {},
   "outputs": [
    {
     "name": "stdout",
     "output_type": "stream",
     "text": [
      "<class 'pandas.core.frame.DataFrame'>\n",
      "Int64Index: 28808 entries, 0 to 29082\n",
      "Data columns (total 6 columns):\n",
      " #   Column        Non-Null Count  Dtype \n",
      "---  ------        --------------  ----- \n",
      " 0   title         28808 non-null  object\n",
      " 1   price         20828 non-null  object\n",
      " 2   currency      20828 non-null  object\n",
      " 3   attributes    19251 non-null  object\n",
      " 4   image_link    28808 non-null  object\n",
      " 5   listing_link  28808 non-null  object\n",
      "dtypes: object(6)\n",
      "memory usage: 1.5+ MB\n"
     ]
    }
   ],
   "source": [
    "jeans.info()"
   ]
  },
  {
   "cell_type": "code",
   "execution_count": 73,
   "metadata": {},
   "outputs": [],
   "source": [
    "urls = pd.DataFrame(jeans.image_link)"
   ]
  },
  {
   "cell_type": "code",
   "execution_count": 74,
   "metadata": {},
   "outputs": [],
   "source": [
    "# rows = []\n",
    "\n",
    "# for index, i in urls.iterrows():\n",
    "#     rows.append(i[-1])\n",
    "\n",
    "# counter = 0\n",
    "\n",
    "# for i in rows:\n",
    "#     file_name = './imgs/jeans/jeans' + str(counter) + '.jpg'\n",
    "\n",
    "#     response = requests.get(i)\n",
    "#     file = open(file_name, \"wb\")\n",
    "#     file.write(response.content)\n",
    "#     file.close()\n",
    "#     counter += 1"
   ]
  },
  {
   "cell_type": "code",
   "execution_count": 75,
   "metadata": {},
   "outputs": [],
   "source": [
    "polos = pd.read_csv('./data/polo_shirt.csv', names=['title', 'price', 'currency', 'attributes', 'image_link', 'listing_link'])"
   ]
  },
  {
   "cell_type": "code",
   "execution_count": 76,
   "metadata": {},
   "outputs": [
    {
     "name": "stdout",
     "output_type": "stream",
     "text": [
      "<class 'pandas.core.frame.DataFrame'>\n",
      "RangeIndex: 34299 entries, 0 to 34298\n",
      "Data columns (total 6 columns):\n",
      " #   Column        Non-Null Count  Dtype \n",
      "---  ------        --------------  ----- \n",
      " 0   title         34299 non-null  object\n",
      " 1   price         21302 non-null  object\n",
      " 2   currency      21302 non-null  object\n",
      " 3   attributes    22274 non-null  object\n",
      " 4   image_link    34299 non-null  object\n",
      " 5   listing_link  34299 non-null  object\n",
      "dtypes: object(6)\n",
      "memory usage: 1.6+ MB\n"
     ]
    }
   ],
   "source": [
    "polos.info()"
   ]
  },
  {
   "cell_type": "code",
   "execution_count": 77,
   "metadata": {},
   "outputs": [],
   "source": [
    "urls = pd.DataFrame(polos.image_link)"
   ]
  },
  {
   "cell_type": "code",
   "execution_count": 78,
   "metadata": {},
   "outputs": [],
   "source": [
    "polos = polos.drop(urls[urls.image_link.isnull()].index, axis=0)"
   ]
  },
  {
   "cell_type": "code",
   "execution_count": 79,
   "metadata": {},
   "outputs": [
    {
     "name": "stdout",
     "output_type": "stream",
     "text": [
      "<class 'pandas.core.frame.DataFrame'>\n",
      "Int64Index: 34299 entries, 0 to 34298\n",
      "Data columns (total 6 columns):\n",
      " #   Column        Non-Null Count  Dtype \n",
      "---  ------        --------------  ----- \n",
      " 0   title         34299 non-null  object\n",
      " 1   price         21302 non-null  object\n",
      " 2   currency      21302 non-null  object\n",
      " 3   attributes    22274 non-null  object\n",
      " 4   image_link    34299 non-null  object\n",
      " 5   listing_link  34299 non-null  object\n",
      "dtypes: object(6)\n",
      "memory usage: 1.8+ MB\n"
     ]
    }
   ],
   "source": [
    "polos.info()"
   ]
  },
  {
   "cell_type": "code",
   "execution_count": 80,
   "metadata": {},
   "outputs": [],
   "source": [
    "urls = pd.DataFrame(polos.image_link)"
   ]
  },
  {
   "cell_type": "code",
   "execution_count": 81,
   "metadata": {},
   "outputs": [],
   "source": [
    "# rows = []\n",
    "\n",
    "# for index, i in urls.iterrows():\n",
    "#     rows.append(i[-1])\n",
    "\n",
    "# counter = 0\n",
    "\n",
    "# for i in rows:\n",
    "#     file_name = './imgs/polos/polo' + str(counter) + '.jpg'\n",
    "\n",
    "#     response = requests.get(i)\n",
    "#     file = open(file_name, \"wb\")\n",
    "#     file.write(response.content)\n",
    "#     file.close()\n",
    "#     counter += 1"
   ]
  },
  {
   "cell_type": "code",
   "execution_count": 82,
   "metadata": {},
   "outputs": [],
   "source": [
    "shorts = pd.read_csv('./data/shorts.csv', names=['title', 'price', 'currency', 'attributes', 'image_link', 'listing_link'])"
   ]
  },
  {
   "cell_type": "code",
   "execution_count": 83,
   "metadata": {},
   "outputs": [
    {
     "name": "stdout",
     "output_type": "stream",
     "text": [
      "<class 'pandas.core.frame.DataFrame'>\n",
      "RangeIndex: 27070 entries, 0 to 27069\n",
      "Data columns (total 6 columns):\n",
      " #   Column        Non-Null Count  Dtype \n",
      "---  ------        --------------  ----- \n",
      " 0   title         26901 non-null  object\n",
      " 1   price         15266 non-null  object\n",
      " 2   currency      15266 non-null  object\n",
      " 3   attributes    21243 non-null  object\n",
      " 4   image_link    26901 non-null  object\n",
      " 5   listing_link  27070 non-null  object\n",
      "dtypes: object(6)\n",
      "memory usage: 1.2+ MB\n"
     ]
    }
   ],
   "source": [
    "shorts.info()"
   ]
  },
  {
   "cell_type": "code",
   "execution_count": 84,
   "metadata": {},
   "outputs": [],
   "source": [
    "urls = pd.DataFrame(shorts.image_link)"
   ]
  },
  {
   "cell_type": "code",
   "execution_count": 85,
   "metadata": {},
   "outputs": [],
   "source": [
    "shorts = shorts.drop(urls[urls.image_link.isnull()].index, axis=0)"
   ]
  },
  {
   "cell_type": "code",
   "execution_count": 86,
   "metadata": {},
   "outputs": [
    {
     "name": "stdout",
     "output_type": "stream",
     "text": [
      "<class 'pandas.core.frame.DataFrame'>\n",
      "Int64Index: 26901 entries, 0 to 27069\n",
      "Data columns (total 6 columns):\n",
      " #   Column        Non-Null Count  Dtype \n",
      "---  ------        --------------  ----- \n",
      " 0   title         26901 non-null  object\n",
      " 1   price         15266 non-null  object\n",
      " 2   currency      15266 non-null  object\n",
      " 3   attributes    21243 non-null  object\n",
      " 4   image_link    26901 non-null  object\n",
      " 5   listing_link  26901 non-null  object\n",
      "dtypes: object(6)\n",
      "memory usage: 1.4+ MB\n"
     ]
    }
   ],
   "source": [
    "shorts.info()"
   ]
  },
  {
   "cell_type": "code",
   "execution_count": 87,
   "metadata": {},
   "outputs": [],
   "source": [
    "urls = pd.DataFrame(shorts.image_link)"
   ]
  },
  {
   "cell_type": "code",
   "execution_count": 88,
   "metadata": {},
   "outputs": [],
   "source": [
    "# rows = []\n",
    "\n",
    "# for index, i in urls.iterrows():\n",
    "#     rows.append(i[-1])\n",
    "\n",
    "# counter = 0\n",
    "\n",
    "# for i in rows:\n",
    "#     file_name = './imgs/shorts/shorts' + str(counter) + '.jpg'\n",
    "\n",
    "#     response = requests.get(i)\n",
    "#     file = open(file_name, \"wb\")\n",
    "#     file.write(response.content)\n",
    "#     file.close()\n",
    "#     counter += 1"
   ]
  },
  {
   "cell_type": "code",
   "execution_count": 89,
   "metadata": {},
   "outputs": [],
   "source": [
    "sneakers = pd.read_csv('./data/sneakers.csv', names=['title', 'price', 'currency', 'attributes', 'image_link', 'listing_link'])"
   ]
  },
  {
   "cell_type": "code",
   "execution_count": 90,
   "metadata": {},
   "outputs": [
    {
     "name": "stdout",
     "output_type": "stream",
     "text": [
      "<class 'pandas.core.frame.DataFrame'>\n",
      "RangeIndex: 39264 entries, 0 to 39263\n",
      "Data columns (total 6 columns):\n",
      " #   Column        Non-Null Count  Dtype \n",
      "---  ------        --------------  ----- \n",
      " 0   title         32132 non-null  object\n",
      " 1   price         27237 non-null  object\n",
      " 2   currency      27237 non-null  object\n",
      " 3   attributes    27039 non-null  object\n",
      " 4   image_link    32132 non-null  object\n",
      " 5   listing_link  39264 non-null  object\n",
      "dtypes: object(6)\n",
      "memory usage: 1.8+ MB\n"
     ]
    }
   ],
   "source": [
    "sneakers.info()"
   ]
  },
  {
   "cell_type": "code",
   "execution_count": 91,
   "metadata": {},
   "outputs": [],
   "source": [
    "urls = pd.DataFrame(sneakers.image_link)"
   ]
  },
  {
   "cell_type": "code",
   "execution_count": 92,
   "metadata": {},
   "outputs": [],
   "source": [
    "sneakers = sneakers.drop(urls[urls.image_link.isnull()].index, axis=0)"
   ]
  },
  {
   "cell_type": "code",
   "execution_count": 93,
   "metadata": {},
   "outputs": [
    {
     "data": {
      "text/html": [
       "<div>\n",
       "<style scoped>\n",
       "    .dataframe tbody tr th:only-of-type {\n",
       "        vertical-align: middle;\n",
       "    }\n",
       "\n",
       "    .dataframe tbody tr th {\n",
       "        vertical-align: top;\n",
       "    }\n",
       "\n",
       "    .dataframe thead th {\n",
       "        text-align: right;\n",
       "    }\n",
       "</style>\n",
       "<table border=\"1\" class=\"dataframe\">\n",
       "  <thead>\n",
       "    <tr style=\"text-align: right;\">\n",
       "      <th></th>\n",
       "      <th>title</th>\n",
       "      <th>price</th>\n",
       "      <th>currency</th>\n",
       "      <th>attributes</th>\n",
       "      <th>image_link</th>\n",
       "      <th>listing_link</th>\n",
       "    </tr>\n",
       "  </thead>\n",
       "  <tbody>\n",
       "  </tbody>\n",
       "</table>\n",
       "</div>"
      ],
      "text/plain": [
       "Empty DataFrame\n",
       "Columns: [title, price, currency, attributes, image_link, listing_link]\n",
       "Index: []"
      ]
     },
     "execution_count": 93,
     "metadata": {},
     "output_type": "execute_result"
    }
   ],
   "source": [
    "sneakers[sneakers.image_link.str.contains(\"shoeffl\")]"
   ]
  },
  {
   "cell_type": "code",
   "execution_count": 94,
   "metadata": {
    "scrolled": true
   },
   "outputs": [
    {
     "name": "stdout",
     "output_type": "stream",
     "text": [
      "<class 'pandas.core.frame.DataFrame'>\n",
      "Int64Index: 32132 entries, 0 to 39263\n",
      "Data columns (total 6 columns):\n",
      " #   Column        Non-Null Count  Dtype \n",
      "---  ------        --------------  ----- \n",
      " 0   title         32132 non-null  object\n",
      " 1   price         27237 non-null  object\n",
      " 2   currency      27237 non-null  object\n",
      " 3   attributes    27039 non-null  object\n",
      " 4   image_link    32132 non-null  object\n",
      " 5   listing_link  32132 non-null  object\n",
      "dtypes: object(6)\n",
      "memory usage: 1.7+ MB\n"
     ]
    }
   ],
   "source": [
    "sneakers.info()"
   ]
  },
  {
   "cell_type": "code",
   "execution_count": 95,
   "metadata": {},
   "outputs": [],
   "source": [
    "urls = pd.DataFrame(sneakers.image_link)"
   ]
  },
  {
   "cell_type": "code",
   "execution_count": 96,
   "metadata": {},
   "outputs": [],
   "source": [
    "# rows = []\n",
    "\n",
    "# for index, i in urls.iterrows():\n",
    "#     rows.append(i[-1])\n",
    "\n",
    "# counter = 0\n",
    "\n",
    "# for i in rows:\n",
    "#     file_name = './imgs/sneakers/sneakers' + str(counter) + '.jpg'\n",
    "\n",
    "#     response = requests.get(i)\n",
    "#     file = open(file_name, \"wb\")\n",
    "#     file.write(response.content)\n",
    "#     file.close()\n",
    "#     counter += 1"
   ]
  },
  {
   "cell_type": "code",
   "execution_count": 97,
   "metadata": {},
   "outputs": [],
   "source": [
    "suits = pd.read_csv('./data/suits_blazers.csv', names=['title', 'price', 'currency', 'attributes', 'image_link', 'listing_link'])"
   ]
  },
  {
   "cell_type": "code",
   "execution_count": 98,
   "metadata": {},
   "outputs": [
    {
     "name": "stdout",
     "output_type": "stream",
     "text": [
      "<class 'pandas.core.frame.DataFrame'>\n",
      "RangeIndex: 39216 entries, 0 to 39215\n",
      "Data columns (total 6 columns):\n",
      " #   Column        Non-Null Count  Dtype \n",
      "---  ------        --------------  ----- \n",
      " 0   title         38910 non-null  object\n",
      " 1   price         15365 non-null  object\n",
      " 2   currency      15365 non-null  object\n",
      " 3   attributes    16168 non-null  object\n",
      " 4   image_link    38910 non-null  object\n",
      " 5   listing_link  39216 non-null  object\n",
      "dtypes: object(6)\n",
      "memory usage: 1.8+ MB\n"
     ]
    }
   ],
   "source": [
    "suits.info()"
   ]
  },
  {
   "cell_type": "code",
   "execution_count": 99,
   "metadata": {},
   "outputs": [],
   "source": [
    "urls = pd.DataFrame(suits.image_link)"
   ]
  },
  {
   "cell_type": "code",
   "execution_count": 100,
   "metadata": {},
   "outputs": [],
   "source": [
    "suits = suits.drop(urls[urls.image_link.isnull()].index, axis=0)"
   ]
  },
  {
   "cell_type": "code",
   "execution_count": 101,
   "metadata": {},
   "outputs": [
    {
     "name": "stdout",
     "output_type": "stream",
     "text": [
      "<class 'pandas.core.frame.DataFrame'>\n",
      "Int64Index: 38910 entries, 0 to 39215\n",
      "Data columns (total 6 columns):\n",
      " #   Column        Non-Null Count  Dtype \n",
      "---  ------        --------------  ----- \n",
      " 0   title         38910 non-null  object\n",
      " 1   price         15365 non-null  object\n",
      " 2   currency      15365 non-null  object\n",
      " 3   attributes    16168 non-null  object\n",
      " 4   image_link    38910 non-null  object\n",
      " 5   listing_link  38910 non-null  object\n",
      "dtypes: object(6)\n",
      "memory usage: 2.1+ MB\n"
     ]
    }
   ],
   "source": [
    "suits.info()"
   ]
  },
  {
   "cell_type": "code",
   "execution_count": 102,
   "metadata": {},
   "outputs": [],
   "source": [
    "urls = pd.DataFrame(suits.image_link)"
   ]
  },
  {
   "cell_type": "code",
   "execution_count": 103,
   "metadata": {},
   "outputs": [],
   "source": [
    "# rows = []\n",
    "\n",
    "# for index, i in urls.iterrows():\n",
    "#     rows.append(i[-1])\n",
    "\n",
    "# counter = 0\n",
    "\n",
    "# for i in rows:\n",
    "#     file_name = './imgs/suits/suit' + str(counter) + '.jpg'\n",
    "\n",
    "#     response = requests.get(i)\n",
    "#     file = open(file_name, \"wb\")\n",
    "#     file.write(response.content)\n",
    "#     file.close()\n",
    "#     counter += 1"
   ]
  },
  {
   "cell_type": "code",
   "execution_count": 104,
   "metadata": {},
   "outputs": [],
   "source": [
    "sweaters = pd.read_csv('./data/sweaters.csv', names=['title', 'price', 'currency', 'attributes', 'image_link', 'listing_link'])"
   ]
  },
  {
   "cell_type": "code",
   "execution_count": 105,
   "metadata": {},
   "outputs": [
    {
     "name": "stdout",
     "output_type": "stream",
     "text": [
      "<class 'pandas.core.frame.DataFrame'>\n",
      "RangeIndex: 39216 entries, 0 to 39215\n",
      "Data columns (total 6 columns):\n",
      " #   Column        Non-Null Count  Dtype \n",
      "---  ------        --------------  ----- \n",
      " 0   title         39216 non-null  object\n",
      " 1   price         26141 non-null  object\n",
      " 2   currency      26141 non-null  object\n",
      " 3   attributes    28071 non-null  object\n",
      " 4   image_link    39216 non-null  object\n",
      " 5   listing_link  39216 non-null  object\n",
      "dtypes: object(6)\n",
      "memory usage: 1.8+ MB\n"
     ]
    }
   ],
   "source": [
    "sweaters.info()"
   ]
  },
  {
   "cell_type": "code",
   "execution_count": 106,
   "metadata": {},
   "outputs": [],
   "source": [
    "urls = pd.DataFrame(sweaters.image_link)"
   ]
  },
  {
   "cell_type": "code",
   "execution_count": 107,
   "metadata": {},
   "outputs": [],
   "source": [
    "suits = suits.drop(urls[urls.image_link.isnull()].index, axis=0)"
   ]
  },
  {
   "cell_type": "code",
   "execution_count": 108,
   "metadata": {},
   "outputs": [
    {
     "name": "stdout",
     "output_type": "stream",
     "text": [
      "<class 'pandas.core.frame.DataFrame'>\n",
      "RangeIndex: 39216 entries, 0 to 39215\n",
      "Data columns (total 6 columns):\n",
      " #   Column        Non-Null Count  Dtype \n",
      "---  ------        --------------  ----- \n",
      " 0   title         39216 non-null  object\n",
      " 1   price         26141 non-null  object\n",
      " 2   currency      26141 non-null  object\n",
      " 3   attributes    28071 non-null  object\n",
      " 4   image_link    39216 non-null  object\n",
      " 5   listing_link  39216 non-null  object\n",
      "dtypes: object(6)\n",
      "memory usage: 1.8+ MB\n"
     ]
    }
   ],
   "source": [
    "sweaters.info()"
   ]
  },
  {
   "cell_type": "code",
   "execution_count": 109,
   "metadata": {},
   "outputs": [],
   "source": [
    "urls = pd.DataFrame(sweaters.image_link)"
   ]
  },
  {
   "cell_type": "code",
   "execution_count": 110,
   "metadata": {},
   "outputs": [],
   "source": [
    "# rows = []\n",
    "\n",
    "# for index, i in urls.iterrows():\n",
    "#     rows.append(i[-1])\n",
    "\n",
    "# counter = 0\n",
    "\n",
    "# for i in rows:\n",
    "#     file_name = './imgs/sweaters/sweater' + str(counter) + '.jpg'\n",
    "\n",
    "#     response = requests.get(i)\n",
    "#     file = open(file_name, \"wb\")\n",
    "#     file.write(response.content)\n",
    "#     file.close()\n",
    "#     counter += 1"
   ]
  },
  {
   "cell_type": "code",
   "execution_count": 111,
   "metadata": {},
   "outputs": [],
   "source": [
    "tees = pd.read_csv('./data/t_shirts.csv', names=['title', 'price', 'currency', 'attributes', 'image_link', 'listing_link'])"
   ]
  },
  {
   "cell_type": "code",
   "execution_count": 112,
   "metadata": {},
   "outputs": [
    {
     "name": "stdout",
     "output_type": "stream",
     "text": [
      "<class 'pandas.core.frame.DataFrame'>\n",
      "RangeIndex: 27033 entries, 0 to 27032\n",
      "Data columns (total 6 columns):\n",
      " #   Column        Non-Null Count  Dtype \n",
      "---  ------        --------------  ----- \n",
      " 0   title         27033 non-null  object\n",
      " 1   price         19681 non-null  object\n",
      " 2   currency      19681 non-null  object\n",
      " 3   attributes    19873 non-null  object\n",
      " 4   image_link    27033 non-null  object\n",
      " 5   listing_link  27033 non-null  object\n",
      "dtypes: object(6)\n",
      "memory usage: 1.2+ MB\n"
     ]
    }
   ],
   "source": [
    "tees.info()"
   ]
  },
  {
   "cell_type": "code",
   "execution_count": 113,
   "metadata": {},
   "outputs": [],
   "source": [
    "urls = pd.DataFrame(tees.image_link)"
   ]
  },
  {
   "cell_type": "code",
   "execution_count": 114,
   "metadata": {},
   "outputs": [],
   "source": [
    "tees = tees.drop(urls[urls.image_link.isnull()].index, axis=0)"
   ]
  },
  {
   "cell_type": "code",
   "execution_count": 115,
   "metadata": {},
   "outputs": [
    {
     "name": "stdout",
     "output_type": "stream",
     "text": [
      "<class 'pandas.core.frame.DataFrame'>\n",
      "Int64Index: 27033 entries, 0 to 27032\n",
      "Data columns (total 6 columns):\n",
      " #   Column        Non-Null Count  Dtype \n",
      "---  ------        --------------  ----- \n",
      " 0   title         27033 non-null  object\n",
      " 1   price         19681 non-null  object\n",
      " 2   currency      19681 non-null  object\n",
      " 3   attributes    19873 non-null  object\n",
      " 4   image_link    27033 non-null  object\n",
      " 5   listing_link  27033 non-null  object\n",
      "dtypes: object(6)\n",
      "memory usage: 1.4+ MB\n"
     ]
    }
   ],
   "source": [
    "tees.info()"
   ]
  },
  {
   "cell_type": "code",
   "execution_count": 116,
   "metadata": {},
   "outputs": [],
   "source": [
    "# urls = pd.DataFrame(tees.image_link)"
   ]
  },
  {
   "cell_type": "code",
   "execution_count": 117,
   "metadata": {},
   "outputs": [],
   "source": [
    "# rows = []\n",
    "\n",
    "# for index, i in urls.iterrows():\n",
    "#     rows.append(i[-1])\n",
    "\n",
    "# counter = 0\n",
    "\n",
    "# for i in rows:\n",
    "#     file_name = './imgs/tshirts/tshirt' + str(counter) + '.jpg'\n",
    "\n",
    "#     response = requests.get(i)\n",
    "#     file = open(file_name, \"wb\")\n",
    "#     file.write(response.content)\n",
    "#     file.close()\n",
    "#     counter += 1"
   ]
  },
  {
   "cell_type": "code",
   "execution_count": 118,
   "metadata": {},
   "outputs": [],
   "source": [
    "tees['i'] = tees.index"
   ]
  },
  {
   "cell_type": "code",
   "execution_count": 119,
   "metadata": {},
   "outputs": [
    {
     "data": {
      "text/html": [
       "<div>\n",
       "<style scoped>\n",
       "    .dataframe tbody tr th:only-of-type {\n",
       "        vertical-align: middle;\n",
       "    }\n",
       "\n",
       "    .dataframe tbody tr th {\n",
       "        vertical-align: top;\n",
       "    }\n",
       "\n",
       "    .dataframe thead th {\n",
       "        text-align: right;\n",
       "    }\n",
       "</style>\n",
       "<table border=\"1\" class=\"dataframe\">\n",
       "  <thead>\n",
       "    <tr style=\"text-align: right;\">\n",
       "      <th></th>\n",
       "      <th>title</th>\n",
       "      <th>price</th>\n",
       "      <th>currency</th>\n",
       "      <th>attributes</th>\n",
       "      <th>image_link</th>\n",
       "      <th>listing_link</th>\n",
       "      <th>i</th>\n",
       "    </tr>\n",
       "  </thead>\n",
       "  <tbody>\n",
       "    <tr>\n",
       "      <th>0</th>\n",
       "      <td>Lot of 8 Nike T-Shirts - Men's Size XL</td>\n",
       "      <td>$52.88</td>\n",
       "      <td>US</td>\n",
       "      <td>{'Condition:': 'Pre-owned:An item that has bee...</td>\n",
       "      <td>https://i.ebayimg.com/images/g/ObkAAOSwyxhfSNz...</td>\n",
       "      <td>https://www.ebay.com/itm/Lot-of-8-Nike-T-Shirt...</td>\n",
       "      <td>0</td>\n",
       "    </tr>\n",
       "    <tr>\n",
       "      <th>1</th>\n",
       "      <td>Quicksilver Men's Graphic T-shirt L Surfer Shirt</td>\n",
       "      <td>$5.00</td>\n",
       "      <td>US</td>\n",
       "      <td>NaN</td>\n",
       "      <td>https://i.ebayimg.com/images/g/81oAAOSw22Ff45L...</td>\n",
       "      <td>https://www.ebay.com/itm/Quicksilver-Mens-Grap...</td>\n",
       "      <td>1</td>\n",
       "    </tr>\n",
       "    <tr>\n",
       "      <th>2</th>\n",
       "      <td>Lot of 2 Rick and Morty Ripple Junction T-Shir...</td>\n",
       "      <td>$6.99</td>\n",
       "      <td>US</td>\n",
       "      <td>{'Condition:': 'Pre-owned:An item that has bee...</td>\n",
       "      <td>https://i.ebayimg.com/images/g/eJAAAOSwqlZf43Y...</td>\n",
       "      <td>https://www.ebay.com/itm/Lot-of-2-Rick-and-Mor...</td>\n",
       "      <td>2</td>\n",
       "    </tr>\n",
       "    <tr>\n",
       "      <th>3</th>\n",
       "      <td>Jamaica Irie Tank Top Size Medium Lindsays Ori...</td>\n",
       "      <td>$9.25</td>\n",
       "      <td>US</td>\n",
       "      <td>{'Condition:': 'Pre-owned:An item that has bee...</td>\n",
       "      <td>https://i.ebayimg.com/images/g/qfMAAOSwUmhf423...</td>\n",
       "      <td>https://www.ebay.com/itm/Jamaica-Irie-Tank-Top...</td>\n",
       "      <td>3</td>\n",
       "    </tr>\n",
       "    <tr>\n",
       "      <th>4</th>\n",
       "      <td>Lot of 4 Polo by Ralph Lauren Mens Small Short...</td>\n",
       "      <td>NaN</td>\n",
       "      <td>NaN</td>\n",
       "      <td>{'Condition:': 'Pre-owned:An item that has bee...</td>\n",
       "      <td>https://i.ebayimg.com/images/g/DqUAAOSwi9Vf4zB...</td>\n",
       "      <td>https://www.ebay.com/itm/Lot-of-4-Polo-by-Ralp...</td>\n",
       "      <td>4</td>\n",
       "    </tr>\n",
       "  </tbody>\n",
       "</table>\n",
       "</div>"
      ],
      "text/plain": [
       "                                               title   price currency  \\\n",
       "0             Lot of 8 Nike T-Shirts - Men's Size XL  $52.88       US   \n",
       "1   Quicksilver Men's Graphic T-shirt L Surfer Shirt   $5.00       US   \n",
       "2  Lot of 2 Rick and Morty Ripple Junction T-Shir...   $6.99       US   \n",
       "3  Jamaica Irie Tank Top Size Medium Lindsays Ori...   $9.25       US   \n",
       "4  Lot of 4 Polo by Ralph Lauren Mens Small Short...     NaN      NaN   \n",
       "\n",
       "                                          attributes  \\\n",
       "0  {'Condition:': 'Pre-owned:An item that has bee...   \n",
       "1                                                NaN   \n",
       "2  {'Condition:': 'Pre-owned:An item that has bee...   \n",
       "3  {'Condition:': 'Pre-owned:An item that has bee...   \n",
       "4  {'Condition:': 'Pre-owned:An item that has bee...   \n",
       "\n",
       "                                          image_link  \\\n",
       "0  https://i.ebayimg.com/images/g/ObkAAOSwyxhfSNz...   \n",
       "1  https://i.ebayimg.com/images/g/81oAAOSw22Ff45L...   \n",
       "2  https://i.ebayimg.com/images/g/eJAAAOSwqlZf43Y...   \n",
       "3  https://i.ebayimg.com/images/g/qfMAAOSwUmhf423...   \n",
       "4  https://i.ebayimg.com/images/g/DqUAAOSwi9Vf4zB...   \n",
       "\n",
       "                                        listing_link  i  \n",
       "0  https://www.ebay.com/itm/Lot-of-8-Nike-T-Shirt...  0  \n",
       "1  https://www.ebay.com/itm/Quicksilver-Mens-Grap...  1  \n",
       "2  https://www.ebay.com/itm/Lot-of-2-Rick-and-Mor...  2  \n",
       "3  https://www.ebay.com/itm/Jamaica-Irie-Tank-Top...  3  \n",
       "4  https://www.ebay.com/itm/Lot-of-4-Polo-by-Ralp...  4  "
      ]
     },
     "execution_count": 119,
     "metadata": {},
     "output_type": "execute_result"
    }
   ],
   "source": [
    "tees.head()"
   ]
  },
  {
   "cell_type": "code",
   "execution_count": 120,
   "metadata": {},
   "outputs": [],
   "source": [
    "tees['i'] = './imgs/tshirts/shirt' + str(tees.index) + '.jpg'"
   ]
  },
  {
   "cell_type": "code",
   "execution_count": 121,
   "metadata": {},
   "outputs": [],
   "source": [
    "for i in tees.index:\n",
    "    tees['i'][i] = './imgs/tshirts/shirt' + str(i) + '.jpg'"
   ]
  },
  {
   "cell_type": "code",
   "execution_count": 122,
   "metadata": {},
   "outputs": [
    {
     "data": {
      "text/plain": [
       "title           Uniqlo Metal Gear Solid Mens T Shirt XL Vtg 20...\n",
       "price                                                      $49.00\n",
       "currency                                                       US\n",
       "attributes      {'Condition:': 'Pre-owned:An item that has bee...\n",
       "image_link      https://i.ebayimg.com/images/g/9iMAAOSwB4Zf43R...\n",
       "listing_link    https://www.ebay.com/itm/Uniqlo-Metal-Gear-Sol...\n",
       "i                                      ./imgs/tshirts/shirt27.jpg\n",
       "Name: 27, dtype: object"
      ]
     },
     "execution_count": 122,
     "metadata": {},
     "output_type": "execute_result"
    }
   ],
   "source": [
    "tees.iloc[27]"
   ]
  },
  {
   "cell_type": "code",
   "execution_count": 123,
   "metadata": {},
   "outputs": [],
   "source": [
    "tees['price'] = tees['price'].replace('[\\$,]', '', regex=True).astype(float)"
   ]
  },
  {
   "cell_type": "code",
   "execution_count": 124,
   "metadata": {},
   "outputs": [
    {
     "data": {
      "text/html": [
       "<div>\n",
       "<style scoped>\n",
       "    .dataframe tbody tr th:only-of-type {\n",
       "        vertical-align: middle;\n",
       "    }\n",
       "\n",
       "    .dataframe tbody tr th {\n",
       "        vertical-align: top;\n",
       "    }\n",
       "\n",
       "    .dataframe thead th {\n",
       "        text-align: right;\n",
       "    }\n",
       "</style>\n",
       "<table border=\"1\" class=\"dataframe\">\n",
       "  <thead>\n",
       "    <tr style=\"text-align: right;\">\n",
       "      <th></th>\n",
       "      <th>price</th>\n",
       "    </tr>\n",
       "  </thead>\n",
       "  <tbody>\n",
       "    <tr>\n",
       "      <th>count</th>\n",
       "      <td>19681.000000</td>\n",
       "    </tr>\n",
       "    <tr>\n",
       "      <th>mean</th>\n",
       "      <td>29.323417</td>\n",
       "    </tr>\n",
       "    <tr>\n",
       "      <th>std</th>\n",
       "      <td>94.088025</td>\n",
       "    </tr>\n",
       "    <tr>\n",
       "      <th>min</th>\n",
       "      <td>1.990000</td>\n",
       "    </tr>\n",
       "    <tr>\n",
       "      <th>25%</th>\n",
       "      <td>9.990000</td>\n",
       "    </tr>\n",
       "    <tr>\n",
       "      <th>50%</th>\n",
       "      <td>14.990000</td>\n",
       "    </tr>\n",
       "    <tr>\n",
       "      <th>75%</th>\n",
       "      <td>20.000000</td>\n",
       "    </tr>\n",
       "    <tr>\n",
       "      <th>max</th>\n",
       "      <td>2500.000000</td>\n",
       "    </tr>\n",
       "  </tbody>\n",
       "</table>\n",
       "</div>"
      ],
      "text/plain": [
       "              price\n",
       "count  19681.000000\n",
       "mean      29.323417\n",
       "std       94.088025\n",
       "min        1.990000\n",
       "25%        9.990000\n",
       "50%       14.990000\n",
       "75%       20.000000\n",
       "max     2500.000000"
      ]
     },
     "execution_count": 124,
     "metadata": {},
     "output_type": "execute_result"
    }
   ],
   "source": [
    "tees.describe()"
   ]
  },
  {
   "cell_type": "code",
   "execution_count": 125,
   "metadata": {},
   "outputs": [
    {
     "name": "stdout",
     "output_type": "stream",
     "text": [
      "<class 'pandas.core.frame.DataFrame'>\n",
      "Int64Index: 38341 entries, 0 to 39215\n",
      "Data columns (total 6 columns):\n",
      " #   Column        Non-Null Count  Dtype \n",
      "---  ------        --------------  ----- \n",
      " 0   title         38341 non-null  object\n",
      " 1   price         25289 non-null  object\n",
      " 2   currency      25289 non-null  object\n",
      " 3   attributes    26335 non-null  object\n",
      " 4   image_link    38341 non-null  object\n",
      " 5   listing_link  38341 non-null  object\n",
      "dtypes: object(6)\n",
      "memory usage: 2.0+ MB\n"
     ]
    }
   ],
   "source": [
    "boots.info()"
   ]
  },
  {
   "cell_type": "code",
   "execution_count": 126,
   "metadata": {},
   "outputs": [
    {
     "data": {
      "text/html": [
       "<div>\n",
       "<style scoped>\n",
       "    .dataframe tbody tr th:only-of-type {\n",
       "        vertical-align: middle;\n",
       "    }\n",
       "\n",
       "    .dataframe tbody tr th {\n",
       "        vertical-align: top;\n",
       "    }\n",
       "\n",
       "    .dataframe thead th {\n",
       "        text-align: right;\n",
       "    }\n",
       "</style>\n",
       "<table border=\"1\" class=\"dataframe\">\n",
       "  <thead>\n",
       "    <tr style=\"text-align: right;\">\n",
       "      <th></th>\n",
       "      <th>title</th>\n",
       "      <th>price</th>\n",
       "      <th>currency</th>\n",
       "      <th>attributes</th>\n",
       "      <th>image_link</th>\n",
       "      <th>listing_link</th>\n",
       "      <th>i</th>\n",
       "    </tr>\n",
       "  </thead>\n",
       "  <tbody>\n",
       "    <tr>\n",
       "      <th>0</th>\n",
       "      <td>Oakley Combat Boots Vibram Sole Size 9.5 Tacti...</td>\n",
       "      <td>$40.00</td>\n",
       "      <td>US</td>\n",
       "      <td>{'Condition:': 'Pre-owned:An item that has bee...</td>\n",
       "      <td>https://i.ebayimg.com/images/g/aJcAAOSwa6Jf478...</td>\n",
       "      <td>https://www.ebay.com/itm/Oakley-Combat-Boots-V...</td>\n",
       "      <td>0</td>\n",
       "    </tr>\n",
       "    <tr>\n",
       "      <th>1</th>\n",
       "      <td>Crockett &amp; Jones England  Brown Boots Shoes ME...</td>\n",
       "      <td>$129.00</td>\n",
       "      <td>US</td>\n",
       "      <td>{'Condition:': 'Pre-owned:An item that has bee...</td>\n",
       "      <td>https://i.ebayimg.com/images/g/ad0AAOSwjGxf454...</td>\n",
       "      <td>https://www.ebay.com/itm/Crockett-Jones-Englan...</td>\n",
       "      <td>1</td>\n",
       "    </tr>\n",
       "    <tr>\n",
       "      <th>2</th>\n",
       "      <td>Tecovas - The Duke Mens Cowboy Boots Size 10.5D</td>\n",
       "      <td>$169.00</td>\n",
       "      <td>US</td>\n",
       "      <td>{'Condition:': 'Pre-owned:An item that has bee...</td>\n",
       "      <td>https://i.ebayimg.com/images/g/vxQAAOSwQqRf5AV...</td>\n",
       "      <td>https://www.ebay.com/itm/Tecovas-The-Duke-Mens...</td>\n",
       "      <td>2</td>\n",
       "    </tr>\n",
       "    <tr>\n",
       "      <th>3</th>\n",
       "      <td>ANDERSON BEAN S1116 MIKE TYSON BISON &amp; BLUE LA...</td>\n",
       "      <td>$50.00</td>\n",
       "      <td>US</td>\n",
       "      <td>NaN</td>\n",
       "      <td>https://i.ebayimg.com/images/g/rDIAAOSwVhFf498...</td>\n",
       "      <td>https://www.ebay.com/itm/ANDERSON-BEAN-S1116-M...</td>\n",
       "      <td>3</td>\n",
       "    </tr>\n",
       "    <tr>\n",
       "      <th>4</th>\n",
       "      <td>Red Wing 866 Pecos Pull On Work Boots 9 2nds</td>\n",
       "      <td>$69.99</td>\n",
       "      <td>US</td>\n",
       "      <td>{'Condition:': 'Pre-owned:An item that has bee...</td>\n",
       "      <td>https://i.ebayimg.com/images/g/SBoAAOSwhHZf5Ce...</td>\n",
       "      <td>https://www.ebay.com/itm/Red-Wing-866-Pecos-Pu...</td>\n",
       "      <td>4</td>\n",
       "    </tr>\n",
       "  </tbody>\n",
       "</table>\n",
       "</div>"
      ],
      "text/plain": [
       "                                               title    price currency  \\\n",
       "0  Oakley Combat Boots Vibram Sole Size 9.5 Tacti...   $40.00       US   \n",
       "1  Crockett & Jones England  Brown Boots Shoes ME...  $129.00       US   \n",
       "2    Tecovas - The Duke Mens Cowboy Boots Size 10.5D  $169.00       US   \n",
       "3  ANDERSON BEAN S1116 MIKE TYSON BISON & BLUE LA...   $50.00       US   \n",
       "4       Red Wing 866 Pecos Pull On Work Boots 9 2nds   $69.99       US   \n",
       "\n",
       "                                          attributes  \\\n",
       "0  {'Condition:': 'Pre-owned:An item that has bee...   \n",
       "1  {'Condition:': 'Pre-owned:An item that has bee...   \n",
       "2  {'Condition:': 'Pre-owned:An item that has bee...   \n",
       "3                                                NaN   \n",
       "4  {'Condition:': 'Pre-owned:An item that has bee...   \n",
       "\n",
       "                                          image_link  \\\n",
       "0  https://i.ebayimg.com/images/g/aJcAAOSwa6Jf478...   \n",
       "1  https://i.ebayimg.com/images/g/ad0AAOSwjGxf454...   \n",
       "2  https://i.ebayimg.com/images/g/vxQAAOSwQqRf5AV...   \n",
       "3  https://i.ebayimg.com/images/g/rDIAAOSwVhFf498...   \n",
       "4  https://i.ebayimg.com/images/g/SBoAAOSwhHZf5Ce...   \n",
       "\n",
       "                                        listing_link  i  \n",
       "0  https://www.ebay.com/itm/Oakley-Combat-Boots-V...  0  \n",
       "1  https://www.ebay.com/itm/Crockett-Jones-Englan...  1  \n",
       "2  https://www.ebay.com/itm/Tecovas-The-Duke-Mens...  2  \n",
       "3  https://www.ebay.com/itm/ANDERSON-BEAN-S1116-M...  3  \n",
       "4  https://www.ebay.com/itm/Red-Wing-866-Pecos-Pu...  4  "
      ]
     },
     "execution_count": 126,
     "metadata": {},
     "output_type": "execute_result"
    }
   ],
   "source": [
    "boots['i'] = boots.index\n",
    "\n",
    "boots.head()"
   ]
  },
  {
   "cell_type": "code",
   "execution_count": 127,
   "metadata": {},
   "outputs": [
    {
     "name": "stderr",
     "output_type": "stream",
     "text": [
      "/home/mario/anaconda3/envs/tensorflow/lib/python3.7/site-packages/ipykernel_launcher.py:2: SettingWithCopyWarning: \n",
      "A value is trying to be set on a copy of a slice from a DataFrame\n",
      "\n",
      "See the caveats in the documentation: https://pandas.pydata.org/pandas-docs/stable/user_guide/indexing.html#returning-a-view-versus-a-copy\n",
      "  \n",
      "/home/mario/anaconda3/envs/tensorflow/lib/python3.7/site-packages/pandas/core/indexing.py:670: SettingWithCopyWarning: \n",
      "A value is trying to be set on a copy of a slice from a DataFrame\n",
      "\n",
      "See the caveats in the documentation: https://pandas.pydata.org/pandas-docs/stable/user_guide/indexing.html#returning-a-view-versus-a-copy\n",
      "  iloc._setitem_with_indexer(indexer, value)\n"
     ]
    }
   ],
   "source": [
    "for i in boots.index:\n",
    "    boots['i'][i] = './imgs/boots/boots' + str(i) + '.jpg'"
   ]
  },
  {
   "cell_type": "code",
   "execution_count": 128,
   "metadata": {},
   "outputs": [
    {
     "data": {
      "text/html": [
       "<div>\n",
       "<style scoped>\n",
       "    .dataframe tbody tr th:only-of-type {\n",
       "        vertical-align: middle;\n",
       "    }\n",
       "\n",
       "    .dataframe tbody tr th {\n",
       "        vertical-align: top;\n",
       "    }\n",
       "\n",
       "    .dataframe thead th {\n",
       "        text-align: right;\n",
       "    }\n",
       "</style>\n",
       "<table border=\"1\" class=\"dataframe\">\n",
       "  <thead>\n",
       "    <tr style=\"text-align: right;\">\n",
       "      <th></th>\n",
       "      <th>title</th>\n",
       "      <th>price</th>\n",
       "      <th>currency</th>\n",
       "      <th>attributes</th>\n",
       "      <th>image_link</th>\n",
       "      <th>listing_link</th>\n",
       "      <th>i</th>\n",
       "    </tr>\n",
       "  </thead>\n",
       "  <tbody>\n",
       "    <tr>\n",
       "      <th>0</th>\n",
       "      <td>Oakley Combat Boots Vibram Sole Size 9.5 Tacti...</td>\n",
       "      <td>$40.00</td>\n",
       "      <td>US</td>\n",
       "      <td>{'Condition:': 'Pre-owned:An item that has bee...</td>\n",
       "      <td>https://i.ebayimg.com/images/g/aJcAAOSwa6Jf478...</td>\n",
       "      <td>https://www.ebay.com/itm/Oakley-Combat-Boots-V...</td>\n",
       "      <td>./imgs/boots/boots0.jpg</td>\n",
       "    </tr>\n",
       "    <tr>\n",
       "      <th>1</th>\n",
       "      <td>Crockett &amp; Jones England  Brown Boots Shoes ME...</td>\n",
       "      <td>$129.00</td>\n",
       "      <td>US</td>\n",
       "      <td>{'Condition:': 'Pre-owned:An item that has bee...</td>\n",
       "      <td>https://i.ebayimg.com/images/g/ad0AAOSwjGxf454...</td>\n",
       "      <td>https://www.ebay.com/itm/Crockett-Jones-Englan...</td>\n",
       "      <td>./imgs/boots/boots1.jpg</td>\n",
       "    </tr>\n",
       "    <tr>\n",
       "      <th>2</th>\n",
       "      <td>Tecovas - The Duke Mens Cowboy Boots Size 10.5D</td>\n",
       "      <td>$169.00</td>\n",
       "      <td>US</td>\n",
       "      <td>{'Condition:': 'Pre-owned:An item that has bee...</td>\n",
       "      <td>https://i.ebayimg.com/images/g/vxQAAOSwQqRf5AV...</td>\n",
       "      <td>https://www.ebay.com/itm/Tecovas-The-Duke-Mens...</td>\n",
       "      <td>./imgs/boots/boots2.jpg</td>\n",
       "    </tr>\n",
       "    <tr>\n",
       "      <th>3</th>\n",
       "      <td>ANDERSON BEAN S1116 MIKE TYSON BISON &amp; BLUE LA...</td>\n",
       "      <td>$50.00</td>\n",
       "      <td>US</td>\n",
       "      <td>NaN</td>\n",
       "      <td>https://i.ebayimg.com/images/g/rDIAAOSwVhFf498...</td>\n",
       "      <td>https://www.ebay.com/itm/ANDERSON-BEAN-S1116-M...</td>\n",
       "      <td>./imgs/boots/boots3.jpg</td>\n",
       "    </tr>\n",
       "    <tr>\n",
       "      <th>4</th>\n",
       "      <td>Red Wing 866 Pecos Pull On Work Boots 9 2nds</td>\n",
       "      <td>$69.99</td>\n",
       "      <td>US</td>\n",
       "      <td>{'Condition:': 'Pre-owned:An item that has bee...</td>\n",
       "      <td>https://i.ebayimg.com/images/g/SBoAAOSwhHZf5Ce...</td>\n",
       "      <td>https://www.ebay.com/itm/Red-Wing-866-Pecos-Pu...</td>\n",
       "      <td>./imgs/boots/boots4.jpg</td>\n",
       "    </tr>\n",
       "  </tbody>\n",
       "</table>\n",
       "</div>"
      ],
      "text/plain": [
       "                                               title    price currency  \\\n",
       "0  Oakley Combat Boots Vibram Sole Size 9.5 Tacti...   $40.00       US   \n",
       "1  Crockett & Jones England  Brown Boots Shoes ME...  $129.00       US   \n",
       "2    Tecovas - The Duke Mens Cowboy Boots Size 10.5D  $169.00       US   \n",
       "3  ANDERSON BEAN S1116 MIKE TYSON BISON & BLUE LA...   $50.00       US   \n",
       "4       Red Wing 866 Pecos Pull On Work Boots 9 2nds   $69.99       US   \n",
       "\n",
       "                                          attributes  \\\n",
       "0  {'Condition:': 'Pre-owned:An item that has bee...   \n",
       "1  {'Condition:': 'Pre-owned:An item that has bee...   \n",
       "2  {'Condition:': 'Pre-owned:An item that has bee...   \n",
       "3                                                NaN   \n",
       "4  {'Condition:': 'Pre-owned:An item that has bee...   \n",
       "\n",
       "                                          image_link  \\\n",
       "0  https://i.ebayimg.com/images/g/aJcAAOSwa6Jf478...   \n",
       "1  https://i.ebayimg.com/images/g/ad0AAOSwjGxf454...   \n",
       "2  https://i.ebayimg.com/images/g/vxQAAOSwQqRf5AV...   \n",
       "3  https://i.ebayimg.com/images/g/rDIAAOSwVhFf498...   \n",
       "4  https://i.ebayimg.com/images/g/SBoAAOSwhHZf5Ce...   \n",
       "\n",
       "                                        listing_link                        i  \n",
       "0  https://www.ebay.com/itm/Oakley-Combat-Boots-V...  ./imgs/boots/boots0.jpg  \n",
       "1  https://www.ebay.com/itm/Crockett-Jones-Englan...  ./imgs/boots/boots1.jpg  \n",
       "2  https://www.ebay.com/itm/Tecovas-The-Duke-Mens...  ./imgs/boots/boots2.jpg  \n",
       "3  https://www.ebay.com/itm/ANDERSON-BEAN-S1116-M...  ./imgs/boots/boots3.jpg  \n",
       "4  https://www.ebay.com/itm/Red-Wing-866-Pecos-Pu...  ./imgs/boots/boots4.jpg  "
      ]
     },
     "execution_count": 128,
     "metadata": {},
     "output_type": "execute_result"
    }
   ],
   "source": [
    "boots.head()"
   ]
  },
  {
   "cell_type": "code",
   "execution_count": 129,
   "metadata": {},
   "outputs": [],
   "source": [
    "boots['price'] = boots['price'].replace('[^.0-9]', '', regex=True).astype(float)"
   ]
  },
  {
   "cell_type": "code",
   "execution_count": 130,
   "metadata": {},
   "outputs": [
    {
     "data": {
      "text/html": [
       "<div>\n",
       "<style scoped>\n",
       "    .dataframe tbody tr th:only-of-type {\n",
       "        vertical-align: middle;\n",
       "    }\n",
       "\n",
       "    .dataframe tbody tr th {\n",
       "        vertical-align: top;\n",
       "    }\n",
       "\n",
       "    .dataframe thead th {\n",
       "        text-align: right;\n",
       "    }\n",
       "</style>\n",
       "<table border=\"1\" class=\"dataframe\">\n",
       "  <thead>\n",
       "    <tr style=\"text-align: right;\">\n",
       "      <th></th>\n",
       "      <th>price</th>\n",
       "    </tr>\n",
       "  </thead>\n",
       "  <tbody>\n",
       "    <tr>\n",
       "      <th>count</th>\n",
       "      <td>25289.000000</td>\n",
       "    </tr>\n",
       "    <tr>\n",
       "      <th>mean</th>\n",
       "      <td>101.230545</td>\n",
       "    </tr>\n",
       "    <tr>\n",
       "      <th>std</th>\n",
       "      <td>73.554472</td>\n",
       "    </tr>\n",
       "    <tr>\n",
       "      <th>min</th>\n",
       "      <td>17.850000</td>\n",
       "    </tr>\n",
       "    <tr>\n",
       "      <th>25%</th>\n",
       "      <td>55.950000</td>\n",
       "    </tr>\n",
       "    <tr>\n",
       "      <th>50%</th>\n",
       "      <td>77.990000</td>\n",
       "    </tr>\n",
       "    <tr>\n",
       "      <th>75%</th>\n",
       "      <td>120.000000</td>\n",
       "    </tr>\n",
       "    <tr>\n",
       "      <th>max</th>\n",
       "      <td>447.000000</td>\n",
       "    </tr>\n",
       "  </tbody>\n",
       "</table>\n",
       "</div>"
      ],
      "text/plain": [
       "              price\n",
       "count  25289.000000\n",
       "mean     101.230545\n",
       "std       73.554472\n",
       "min       17.850000\n",
       "25%       55.950000\n",
       "50%       77.990000\n",
       "75%      120.000000\n",
       "max      447.000000"
      ]
     },
     "execution_count": 130,
     "metadata": {},
     "output_type": "execute_result"
    }
   ],
   "source": [
    "boots.describe()"
   ]
  },
  {
   "cell_type": "code",
   "execution_count": 131,
   "metadata": {},
   "outputs": [
    {
     "name": "stdout",
     "output_type": "stream",
     "text": [
      "<class 'pandas.core.frame.DataFrame'>\n",
      "Int64Index: 27282 entries, 0 to 27329\n",
      "Data columns (total 6 columns):\n",
      " #   Column        Non-Null Count  Dtype \n",
      "---  ------        --------------  ----- \n",
      " 0   title         27282 non-null  object\n",
      " 1   price         19801 non-null  object\n",
      " 2   currency      19801 non-null  object\n",
      " 3   attributes    15376 non-null  object\n",
      " 4   image_link    27282 non-null  object\n",
      " 5   listing_link  27282 non-null  object\n",
      "dtypes: object(6)\n",
      "memory usage: 1.5+ MB\n"
     ]
    }
   ],
   "source": [
    "casual_shirts.info()"
   ]
  },
  {
   "cell_type": "code",
   "execution_count": 132,
   "metadata": {},
   "outputs": [
    {
     "data": {
      "text/html": [
       "<div>\n",
       "<style scoped>\n",
       "    .dataframe tbody tr th:only-of-type {\n",
       "        vertical-align: middle;\n",
       "    }\n",
       "\n",
       "    .dataframe tbody tr th {\n",
       "        vertical-align: top;\n",
       "    }\n",
       "\n",
       "    .dataframe thead th {\n",
       "        text-align: right;\n",
       "    }\n",
       "</style>\n",
       "<table border=\"1\" class=\"dataframe\">\n",
       "  <thead>\n",
       "    <tr style=\"text-align: right;\">\n",
       "      <th></th>\n",
       "      <th>title</th>\n",
       "      <th>price</th>\n",
       "      <th>currency</th>\n",
       "      <th>attributes</th>\n",
       "      <th>image_link</th>\n",
       "      <th>listing_link</th>\n",
       "      <th>i</th>\n",
       "    </tr>\n",
       "  </thead>\n",
       "  <tbody>\n",
       "    <tr>\n",
       "      <th>0</th>\n",
       "      <td>VTG The Alaskan Mens  2XL Tall Grn / White Pla...</td>\n",
       "      <td>$30.00</td>\n",
       "      <td>US</td>\n",
       "      <td>{'Condition:': 'Pre-owned:An item that has bee...</td>\n",
       "      <td>https://i.ebayimg.com/images/g/bUkAAOSw2Plf4zh...</td>\n",
       "      <td>https://www.ebay.com/itm/VTG-The-Alaskan-Mens-...</td>\n",
       "      <td>0</td>\n",
       "    </tr>\n",
       "    <tr>\n",
       "      <th>1</th>\n",
       "      <td>Vineyard Vines Performance Striped Blue Mens P...</td>\n",
       "      <td>$16.00</td>\n",
       "      <td>US</td>\n",
       "      <td>{'Condition:': 'Pre-owned:An item that has bee...</td>\n",
       "      <td>https://i.ebayimg.com/images/g/EskAAOSwLttf4tN...</td>\n",
       "      <td>https://www.ebay.com/itm/Vineyard-Vines-Perfor...</td>\n",
       "      <td>1</td>\n",
       "    </tr>\n",
       "    <tr>\n",
       "      <th>2</th>\n",
       "      <td>Nike Golf Dri Fit Polo Shirt Short Sleeve Red ...</td>\n",
       "      <td>$24.96</td>\n",
       "      <td>US</td>\n",
       "      <td>{'Condition:': 'Pre-owned:An item that has bee...</td>\n",
       "      <td>https://i.ebayimg.com/images/g/RTwAAOSwETVf4tT...</td>\n",
       "      <td>https://www.ebay.com/itm/Nike-Golf-Dri-Fit-Pol...</td>\n",
       "      <td>2</td>\n",
       "    </tr>\n",
       "    <tr>\n",
       "      <th>3</th>\n",
       "      <td>Champs Men's Casual Shirt</td>\n",
       "      <td>$12.99</td>\n",
       "      <td>US</td>\n",
       "      <td>NaN</td>\n",
       "      <td>https://i.ebayimg.com/images/g/IksAAOSwTcdf40w...</td>\n",
       "      <td>https://www.ebay.com/itm/Champs-Mens-Casual-Sh...</td>\n",
       "      <td>3</td>\n",
       "    </tr>\n",
       "    <tr>\n",
       "      <th>4</th>\n",
       "      <td>Brooks Brothers Men's Casual Shirt</td>\n",
       "      <td>$12.99</td>\n",
       "      <td>US</td>\n",
       "      <td>NaN</td>\n",
       "      <td>https://i.ebayimg.com/images/g/NL0AAOSwW-9f40s...</td>\n",
       "      <td>https://www.ebay.com/itm/Brooks-Brothers-Mens-...</td>\n",
       "      <td>4</td>\n",
       "    </tr>\n",
       "  </tbody>\n",
       "</table>\n",
       "</div>"
      ],
      "text/plain": [
       "                                               title   price currency  \\\n",
       "0  VTG The Alaskan Mens  2XL Tall Grn / White Pla...  $30.00       US   \n",
       "1  Vineyard Vines Performance Striped Blue Mens P...  $16.00       US   \n",
       "2  Nike Golf Dri Fit Polo Shirt Short Sleeve Red ...  $24.96       US   \n",
       "3                          Champs Men's Casual Shirt  $12.99       US   \n",
       "4                 Brooks Brothers Men's Casual Shirt  $12.99       US   \n",
       "\n",
       "                                          attributes  \\\n",
       "0  {'Condition:': 'Pre-owned:An item that has bee...   \n",
       "1  {'Condition:': 'Pre-owned:An item that has bee...   \n",
       "2  {'Condition:': 'Pre-owned:An item that has bee...   \n",
       "3                                                NaN   \n",
       "4                                                NaN   \n",
       "\n",
       "                                          image_link  \\\n",
       "0  https://i.ebayimg.com/images/g/bUkAAOSw2Plf4zh...   \n",
       "1  https://i.ebayimg.com/images/g/EskAAOSwLttf4tN...   \n",
       "2  https://i.ebayimg.com/images/g/RTwAAOSwETVf4tT...   \n",
       "3  https://i.ebayimg.com/images/g/IksAAOSwTcdf40w...   \n",
       "4  https://i.ebayimg.com/images/g/NL0AAOSwW-9f40s...   \n",
       "\n",
       "                                        listing_link  i  \n",
       "0  https://www.ebay.com/itm/VTG-The-Alaskan-Mens-...  0  \n",
       "1  https://www.ebay.com/itm/Vineyard-Vines-Perfor...  1  \n",
       "2  https://www.ebay.com/itm/Nike-Golf-Dri-Fit-Pol...  2  \n",
       "3  https://www.ebay.com/itm/Champs-Mens-Casual-Sh...  3  \n",
       "4  https://www.ebay.com/itm/Brooks-Brothers-Mens-...  4  "
      ]
     },
     "execution_count": 132,
     "metadata": {},
     "output_type": "execute_result"
    }
   ],
   "source": [
    "casual_shirts['i'] = casual_shirts.index\n",
    "\n",
    "casual_shirts.head()"
   ]
  },
  {
   "cell_type": "code",
   "execution_count": 133,
   "metadata": {},
   "outputs": [
    {
     "name": "stderr",
     "output_type": "stream",
     "text": [
      "/home/mario/anaconda3/envs/tensorflow/lib/python3.7/site-packages/ipykernel_launcher.py:2: SettingWithCopyWarning: \n",
      "A value is trying to be set on a copy of a slice from a DataFrame\n",
      "\n",
      "See the caveats in the documentation: https://pandas.pydata.org/pandas-docs/stable/user_guide/indexing.html#returning-a-view-versus-a-copy\n",
      "  \n",
      "/home/mario/anaconda3/envs/tensorflow/lib/python3.7/site-packages/pandas/core/indexing.py:670: SettingWithCopyWarning: \n",
      "A value is trying to be set on a copy of a slice from a DataFrame\n",
      "\n",
      "See the caveats in the documentation: https://pandas.pydata.org/pandas-docs/stable/user_guide/indexing.html#returning-a-view-versus-a-copy\n",
      "  iloc._setitem_with_indexer(indexer, value)\n"
     ]
    }
   ],
   "source": [
    "for i in casual_shirts.index:\n",
    "    casual_shirts['i'][i] = './imgs/casualshirt/casualshirt' + str(i) + '.jpg'"
   ]
  },
  {
   "cell_type": "code",
   "execution_count": 134,
   "metadata": {},
   "outputs": [
    {
     "data": {
      "text/html": [
       "<div>\n",
       "<style scoped>\n",
       "    .dataframe tbody tr th:only-of-type {\n",
       "        vertical-align: middle;\n",
       "    }\n",
       "\n",
       "    .dataframe tbody tr th {\n",
       "        vertical-align: top;\n",
       "    }\n",
       "\n",
       "    .dataframe thead th {\n",
       "        text-align: right;\n",
       "    }\n",
       "</style>\n",
       "<table border=\"1\" class=\"dataframe\">\n",
       "  <thead>\n",
       "    <tr style=\"text-align: right;\">\n",
       "      <th></th>\n",
       "      <th>title</th>\n",
       "      <th>price</th>\n",
       "      <th>currency</th>\n",
       "      <th>attributes</th>\n",
       "      <th>image_link</th>\n",
       "      <th>listing_link</th>\n",
       "      <th>i</th>\n",
       "    </tr>\n",
       "  </thead>\n",
       "  <tbody>\n",
       "    <tr>\n",
       "      <th>0</th>\n",
       "      <td>VTG The Alaskan Mens  2XL Tall Grn / White Pla...</td>\n",
       "      <td>$30.00</td>\n",
       "      <td>US</td>\n",
       "      <td>{'Condition:': 'Pre-owned:An item that has bee...</td>\n",
       "      <td>https://i.ebayimg.com/images/g/bUkAAOSw2Plf4zh...</td>\n",
       "      <td>https://www.ebay.com/itm/VTG-The-Alaskan-Mens-...</td>\n",
       "      <td>./imgs/casualshirt/casualshirt0.jpg</td>\n",
       "    </tr>\n",
       "    <tr>\n",
       "      <th>1</th>\n",
       "      <td>Vineyard Vines Performance Striped Blue Mens P...</td>\n",
       "      <td>$16.00</td>\n",
       "      <td>US</td>\n",
       "      <td>{'Condition:': 'Pre-owned:An item that has bee...</td>\n",
       "      <td>https://i.ebayimg.com/images/g/EskAAOSwLttf4tN...</td>\n",
       "      <td>https://www.ebay.com/itm/Vineyard-Vines-Perfor...</td>\n",
       "      <td>./imgs/casualshirt/casualshirt1.jpg</td>\n",
       "    </tr>\n",
       "    <tr>\n",
       "      <th>2</th>\n",
       "      <td>Nike Golf Dri Fit Polo Shirt Short Sleeve Red ...</td>\n",
       "      <td>$24.96</td>\n",
       "      <td>US</td>\n",
       "      <td>{'Condition:': 'Pre-owned:An item that has bee...</td>\n",
       "      <td>https://i.ebayimg.com/images/g/RTwAAOSwETVf4tT...</td>\n",
       "      <td>https://www.ebay.com/itm/Nike-Golf-Dri-Fit-Pol...</td>\n",
       "      <td>./imgs/casualshirt/casualshirt2.jpg</td>\n",
       "    </tr>\n",
       "    <tr>\n",
       "      <th>3</th>\n",
       "      <td>Champs Men's Casual Shirt</td>\n",
       "      <td>$12.99</td>\n",
       "      <td>US</td>\n",
       "      <td>NaN</td>\n",
       "      <td>https://i.ebayimg.com/images/g/IksAAOSwTcdf40w...</td>\n",
       "      <td>https://www.ebay.com/itm/Champs-Mens-Casual-Sh...</td>\n",
       "      <td>./imgs/casualshirt/casualshirt3.jpg</td>\n",
       "    </tr>\n",
       "    <tr>\n",
       "      <th>4</th>\n",
       "      <td>Brooks Brothers Men's Casual Shirt</td>\n",
       "      <td>$12.99</td>\n",
       "      <td>US</td>\n",
       "      <td>NaN</td>\n",
       "      <td>https://i.ebayimg.com/images/g/NL0AAOSwW-9f40s...</td>\n",
       "      <td>https://www.ebay.com/itm/Brooks-Brothers-Mens-...</td>\n",
       "      <td>./imgs/casualshirt/casualshirt4.jpg</td>\n",
       "    </tr>\n",
       "  </tbody>\n",
       "</table>\n",
       "</div>"
      ],
      "text/plain": [
       "                                               title   price currency  \\\n",
       "0  VTG The Alaskan Mens  2XL Tall Grn / White Pla...  $30.00       US   \n",
       "1  Vineyard Vines Performance Striped Blue Mens P...  $16.00       US   \n",
       "2  Nike Golf Dri Fit Polo Shirt Short Sleeve Red ...  $24.96       US   \n",
       "3                          Champs Men's Casual Shirt  $12.99       US   \n",
       "4                 Brooks Brothers Men's Casual Shirt  $12.99       US   \n",
       "\n",
       "                                          attributes  \\\n",
       "0  {'Condition:': 'Pre-owned:An item that has bee...   \n",
       "1  {'Condition:': 'Pre-owned:An item that has bee...   \n",
       "2  {'Condition:': 'Pre-owned:An item that has bee...   \n",
       "3                                                NaN   \n",
       "4                                                NaN   \n",
       "\n",
       "                                          image_link  \\\n",
       "0  https://i.ebayimg.com/images/g/bUkAAOSw2Plf4zh...   \n",
       "1  https://i.ebayimg.com/images/g/EskAAOSwLttf4tN...   \n",
       "2  https://i.ebayimg.com/images/g/RTwAAOSwETVf4tT...   \n",
       "3  https://i.ebayimg.com/images/g/IksAAOSwTcdf40w...   \n",
       "4  https://i.ebayimg.com/images/g/NL0AAOSwW-9f40s...   \n",
       "\n",
       "                                        listing_link  \\\n",
       "0  https://www.ebay.com/itm/VTG-The-Alaskan-Mens-...   \n",
       "1  https://www.ebay.com/itm/Vineyard-Vines-Perfor...   \n",
       "2  https://www.ebay.com/itm/Nike-Golf-Dri-Fit-Pol...   \n",
       "3  https://www.ebay.com/itm/Champs-Mens-Casual-Sh...   \n",
       "4  https://www.ebay.com/itm/Brooks-Brothers-Mens-...   \n",
       "\n",
       "                                     i  \n",
       "0  ./imgs/casualshirt/casualshirt0.jpg  \n",
       "1  ./imgs/casualshirt/casualshirt1.jpg  \n",
       "2  ./imgs/casualshirt/casualshirt2.jpg  \n",
       "3  ./imgs/casualshirt/casualshirt3.jpg  \n",
       "4  ./imgs/casualshirt/casualshirt4.jpg  "
      ]
     },
     "execution_count": 134,
     "metadata": {},
     "output_type": "execute_result"
    }
   ],
   "source": [
    "casual_shirts.head()"
   ]
  },
  {
   "cell_type": "code",
   "execution_count": 135,
   "metadata": {},
   "outputs": [
    {
     "data": {
      "text/plain": [
       "title           PIERRINI  MILANO 100% LINEN MEN SHIRT SIZE 3XL...\n",
       "price                                                         NaN\n",
       "currency                                                      NaN\n",
       "attributes                                                    NaN\n",
       "image_link      https://i.ebayimg.com/images/g/LJgAAOSwG5teCPw...\n",
       "listing_link    https://www.ebay.com/itm/PIERRINI-MILANO-100-L...\n",
       "i                         ./imgs/casualshirt/casualshirt19511.jpg\n",
       "Name: 19511, dtype: object"
      ]
     },
     "execution_count": 135,
     "metadata": {},
     "output_type": "execute_result"
    }
   ],
   "source": [
    "casual_shirts.iloc[19504]"
   ]
  },
  {
   "cell_type": "code",
   "execution_count": 136,
   "metadata": {},
   "outputs": [
    {
     "data": {
      "text/html": [
       "<div>\n",
       "<style scoped>\n",
       "    .dataframe tbody tr th:only-of-type {\n",
       "        vertical-align: middle;\n",
       "    }\n",
       "\n",
       "    .dataframe tbody tr th {\n",
       "        vertical-align: top;\n",
       "    }\n",
       "\n",
       "    .dataframe thead th {\n",
       "        text-align: right;\n",
       "    }\n",
       "</style>\n",
       "<table border=\"1\" class=\"dataframe\">\n",
       "  <thead>\n",
       "    <tr style=\"text-align: right;\">\n",
       "      <th></th>\n",
       "      <th>price</th>\n",
       "    </tr>\n",
       "  </thead>\n",
       "  <tbody>\n",
       "    <tr>\n",
       "      <th>count</th>\n",
       "      <td>19801.000000</td>\n",
       "    </tr>\n",
       "    <tr>\n",
       "      <th>mean</th>\n",
       "      <td>40.399908</td>\n",
       "    </tr>\n",
       "    <tr>\n",
       "      <th>std</th>\n",
       "      <td>43.631460</td>\n",
       "    </tr>\n",
       "    <tr>\n",
       "      <th>min</th>\n",
       "      <td>6.000000</td>\n",
       "    </tr>\n",
       "    <tr>\n",
       "      <th>25%</th>\n",
       "      <td>24.890000</td>\n",
       "    </tr>\n",
       "    <tr>\n",
       "      <th>50%</th>\n",
       "      <td>29.990000</td>\n",
       "    </tr>\n",
       "    <tr>\n",
       "      <th>75%</th>\n",
       "      <td>39.990000</td>\n",
       "    </tr>\n",
       "    <tr>\n",
       "      <th>max</th>\n",
       "      <td>700.000000</td>\n",
       "    </tr>\n",
       "  </tbody>\n",
       "</table>\n",
       "</div>"
      ],
      "text/plain": [
       "              price\n",
       "count  19801.000000\n",
       "mean      40.399908\n",
       "std       43.631460\n",
       "min        6.000000\n",
       "25%       24.890000\n",
       "50%       29.990000\n",
       "75%       39.990000\n",
       "max      700.000000"
      ]
     },
     "execution_count": 136,
     "metadata": {},
     "output_type": "execute_result"
    }
   ],
   "source": [
    "casual_shirts['price'] = casual_shirts['price'].replace('[^.0-9]', '', regex=True).astype(float)\n",
    "\n",
    "casual_shirts.describe()"
   ]
  },
  {
   "cell_type": "code",
   "execution_count": 137,
   "metadata": {},
   "outputs": [
    {
     "data": {
      "text/html": [
       "<div>\n",
       "<style scoped>\n",
       "    .dataframe tbody tr th:only-of-type {\n",
       "        vertical-align: middle;\n",
       "    }\n",
       "\n",
       "    .dataframe tbody tr th {\n",
       "        vertical-align: top;\n",
       "    }\n",
       "\n",
       "    .dataframe thead th {\n",
       "        text-align: right;\n",
       "    }\n",
       "</style>\n",
       "<table border=\"1\" class=\"dataframe\">\n",
       "  <thead>\n",
       "    <tr style=\"text-align: right;\">\n",
       "      <th></th>\n",
       "      <th>title</th>\n",
       "      <th>price</th>\n",
       "      <th>currency</th>\n",
       "      <th>attributes</th>\n",
       "      <th>image_link</th>\n",
       "      <th>listing_link</th>\n",
       "      <th>i</th>\n",
       "    </tr>\n",
       "  </thead>\n",
       "  <tbody>\n",
       "    <tr>\n",
       "      <th>0</th>\n",
       "      <td>Steve Madden Men’s Casual Shoes Sz 11</td>\n",
       "      <td>$30.00</td>\n",
       "      <td>US</td>\n",
       "      <td>{'Condition:': 'Pre-owned:An item that has bee...</td>\n",
       "      <td>https://i.ebayimg.com/images/g/UB0AAOSwsFdf4~u...</td>\n",
       "      <td>https://www.ebay.com/itm/Steve-Madden-Men-s-Ca...</td>\n",
       "      <td>0</td>\n",
       "    </tr>\n",
       "    <tr>\n",
       "      <th>1</th>\n",
       "      <td>Timberland Mens Waterproof Shoes Size 11 Genui...</td>\n",
       "      <td>$39.99</td>\n",
       "      <td>US</td>\n",
       "      <td>{'Condition:': 'Pre-owned:An item that has bee...</td>\n",
       "      <td>https://i.ebayimg.com/images/g/BRYAAOSwyHhf5As...</td>\n",
       "      <td>https://www.ebay.com/itm/Timberland-Mens-Water...</td>\n",
       "      <td>1</td>\n",
       "    </tr>\n",
       "    <tr>\n",
       "      <th>2</th>\n",
       "      <td>Shoes for Crews Bloodstone Black, Style# 62101...</td>\n",
       "      <td>$29.99/ea</td>\n",
       "      <td>US</td>\n",
       "      <td>NaN</td>\n",
       "      <td>https://i.ebayimg.com/images/g/avMAAOSwsKxfqge...</td>\n",
       "      <td>https://www.ebay.com/itm/Shoes-for-Crews-Blood...</td>\n",
       "      <td>2</td>\n",
       "    </tr>\n",
       "    <tr>\n",
       "      <th>3</th>\n",
       "      <td>Mens Authentic Louis Vuitton Run Away Monogram...</td>\n",
       "      <td>$650.00</td>\n",
       "      <td>US</td>\n",
       "      <td>{'Condition:': 'Pre-owned:An item that has bee...</td>\n",
       "      <td>https://i.ebayimg.com/images/g/kHgAAOSwxzxfu~G...</td>\n",
       "      <td>https://www.ebay.com/itm/Mens-Authentic-Louis-...</td>\n",
       "      <td>3</td>\n",
       "    </tr>\n",
       "    <tr>\n",
       "      <th>4</th>\n",
       "      <td>Olukai Mens Light Brown Fabric Walking Casual ...</td>\n",
       "      <td>$39.50</td>\n",
       "      <td>US</td>\n",
       "      <td>NaN</td>\n",
       "      <td>https://i.ebayimg.com/images/g/30QAAOSwXkRf4~j...</td>\n",
       "      <td>https://www.ebay.com/itm/Olukai-Mens-Light-Bro...</td>\n",
       "      <td>4</td>\n",
       "    </tr>\n",
       "  </tbody>\n",
       "</table>\n",
       "</div>"
      ],
      "text/plain": [
       "                                               title      price currency  \\\n",
       "0              Steve Madden Men’s Casual Shoes Sz 11     $30.00       US   \n",
       "1  Timberland Mens Waterproof Shoes Size 11 Genui...     $39.99       US   \n",
       "2  Shoes for Crews Bloodstone Black, Style# 62101...  $29.99/ea       US   \n",
       "3  Mens Authentic Louis Vuitton Run Away Monogram...    $650.00       US   \n",
       "4  Olukai Mens Light Brown Fabric Walking Casual ...     $39.50       US   \n",
       "\n",
       "                                          attributes  \\\n",
       "0  {'Condition:': 'Pre-owned:An item that has bee...   \n",
       "1  {'Condition:': 'Pre-owned:An item that has bee...   \n",
       "2                                                NaN   \n",
       "3  {'Condition:': 'Pre-owned:An item that has bee...   \n",
       "4                                                NaN   \n",
       "\n",
       "                                          image_link  \\\n",
       "0  https://i.ebayimg.com/images/g/UB0AAOSwsFdf4~u...   \n",
       "1  https://i.ebayimg.com/images/g/BRYAAOSwyHhf5As...   \n",
       "2  https://i.ebayimg.com/images/g/avMAAOSwsKxfqge...   \n",
       "3  https://i.ebayimg.com/images/g/kHgAAOSwxzxfu~G...   \n",
       "4  https://i.ebayimg.com/images/g/30QAAOSwXkRf4~j...   \n",
       "\n",
       "                                        listing_link  i  \n",
       "0  https://www.ebay.com/itm/Steve-Madden-Men-s-Ca...  0  \n",
       "1  https://www.ebay.com/itm/Timberland-Mens-Water...  1  \n",
       "2  https://www.ebay.com/itm/Shoes-for-Crews-Blood...  2  \n",
       "3  https://www.ebay.com/itm/Mens-Authentic-Louis-...  3  \n",
       "4  https://www.ebay.com/itm/Olukai-Mens-Light-Bro...  4  "
      ]
     },
     "execution_count": 137,
     "metadata": {},
     "output_type": "execute_result"
    }
   ],
   "source": [
    "casual_shoes['i'] = casual_shoes.index\n",
    "\n",
    "casual_shoes.head()"
   ]
  },
  {
   "cell_type": "code",
   "execution_count": 138,
   "metadata": {},
   "outputs": [
    {
     "name": "stderr",
     "output_type": "stream",
     "text": [
      "/home/mario/anaconda3/envs/tensorflow/lib/python3.7/site-packages/ipykernel_launcher.py:2: SettingWithCopyWarning: \n",
      "A value is trying to be set on a copy of a slice from a DataFrame\n",
      "\n",
      "See the caveats in the documentation: https://pandas.pydata.org/pandas-docs/stable/user_guide/indexing.html#returning-a-view-versus-a-copy\n",
      "  \n",
      "/home/mario/anaconda3/envs/tensorflow/lib/python3.7/site-packages/pandas/core/indexing.py:670: SettingWithCopyWarning: \n",
      "A value is trying to be set on a copy of a slice from a DataFrame\n",
      "\n",
      "See the caveats in the documentation: https://pandas.pydata.org/pandas-docs/stable/user_guide/indexing.html#returning-a-view-versus-a-copy\n",
      "  iloc._setitem_with_indexer(indexer, value)\n"
     ]
    }
   ],
   "source": [
    "for i in casual_shoes.index:\n",
    "    casual_shoes['i'][i] = './imgs/casualshoe/casualshoe' + str(i) + '.jpg'"
   ]
  },
  {
   "cell_type": "code",
   "execution_count": 139,
   "metadata": {},
   "outputs": [
    {
     "data": {
      "text/html": [
       "<div>\n",
       "<style scoped>\n",
       "    .dataframe tbody tr th:only-of-type {\n",
       "        vertical-align: middle;\n",
       "    }\n",
       "\n",
       "    .dataframe tbody tr th {\n",
       "        vertical-align: top;\n",
       "    }\n",
       "\n",
       "    .dataframe thead th {\n",
       "        text-align: right;\n",
       "    }\n",
       "</style>\n",
       "<table border=\"1\" class=\"dataframe\">\n",
       "  <thead>\n",
       "    <tr style=\"text-align: right;\">\n",
       "      <th></th>\n",
       "      <th>title</th>\n",
       "      <th>price</th>\n",
       "      <th>currency</th>\n",
       "      <th>attributes</th>\n",
       "      <th>image_link</th>\n",
       "      <th>listing_link</th>\n",
       "      <th>i</th>\n",
       "    </tr>\n",
       "  </thead>\n",
       "  <tbody>\n",
       "    <tr>\n",
       "      <th>0</th>\n",
       "      <td>Steve Madden Men’s Casual Shoes Sz 11</td>\n",
       "      <td>$30.00</td>\n",
       "      <td>US</td>\n",
       "      <td>{'Condition:': 'Pre-owned:An item that has bee...</td>\n",
       "      <td>https://i.ebayimg.com/images/g/UB0AAOSwsFdf4~u...</td>\n",
       "      <td>https://www.ebay.com/itm/Steve-Madden-Men-s-Ca...</td>\n",
       "      <td>./imgs/casualshoe/casualshoe0.jpg</td>\n",
       "    </tr>\n",
       "    <tr>\n",
       "      <th>1</th>\n",
       "      <td>Timberland Mens Waterproof Shoes Size 11 Genui...</td>\n",
       "      <td>$39.99</td>\n",
       "      <td>US</td>\n",
       "      <td>{'Condition:': 'Pre-owned:An item that has bee...</td>\n",
       "      <td>https://i.ebayimg.com/images/g/BRYAAOSwyHhf5As...</td>\n",
       "      <td>https://www.ebay.com/itm/Timberland-Mens-Water...</td>\n",
       "      <td>./imgs/casualshoe/casualshoe1.jpg</td>\n",
       "    </tr>\n",
       "    <tr>\n",
       "      <th>2</th>\n",
       "      <td>Shoes for Crews Bloodstone Black, Style# 62101...</td>\n",
       "      <td>$29.99/ea</td>\n",
       "      <td>US</td>\n",
       "      <td>NaN</td>\n",
       "      <td>https://i.ebayimg.com/images/g/avMAAOSwsKxfqge...</td>\n",
       "      <td>https://www.ebay.com/itm/Shoes-for-Crews-Blood...</td>\n",
       "      <td>./imgs/casualshoe/casualshoe2.jpg</td>\n",
       "    </tr>\n",
       "    <tr>\n",
       "      <th>3</th>\n",
       "      <td>Mens Authentic Louis Vuitton Run Away Monogram...</td>\n",
       "      <td>$650.00</td>\n",
       "      <td>US</td>\n",
       "      <td>{'Condition:': 'Pre-owned:An item that has bee...</td>\n",
       "      <td>https://i.ebayimg.com/images/g/kHgAAOSwxzxfu~G...</td>\n",
       "      <td>https://www.ebay.com/itm/Mens-Authentic-Louis-...</td>\n",
       "      <td>./imgs/casualshoe/casualshoe3.jpg</td>\n",
       "    </tr>\n",
       "    <tr>\n",
       "      <th>4</th>\n",
       "      <td>Olukai Mens Light Brown Fabric Walking Casual ...</td>\n",
       "      <td>$39.50</td>\n",
       "      <td>US</td>\n",
       "      <td>NaN</td>\n",
       "      <td>https://i.ebayimg.com/images/g/30QAAOSwXkRf4~j...</td>\n",
       "      <td>https://www.ebay.com/itm/Olukai-Mens-Light-Bro...</td>\n",
       "      <td>./imgs/casualshoe/casualshoe4.jpg</td>\n",
       "    </tr>\n",
       "  </tbody>\n",
       "</table>\n",
       "</div>"
      ],
      "text/plain": [
       "                                               title      price currency  \\\n",
       "0              Steve Madden Men’s Casual Shoes Sz 11     $30.00       US   \n",
       "1  Timberland Mens Waterproof Shoes Size 11 Genui...     $39.99       US   \n",
       "2  Shoes for Crews Bloodstone Black, Style# 62101...  $29.99/ea       US   \n",
       "3  Mens Authentic Louis Vuitton Run Away Monogram...    $650.00       US   \n",
       "4  Olukai Mens Light Brown Fabric Walking Casual ...     $39.50       US   \n",
       "\n",
       "                                          attributes  \\\n",
       "0  {'Condition:': 'Pre-owned:An item that has bee...   \n",
       "1  {'Condition:': 'Pre-owned:An item that has bee...   \n",
       "2                                                NaN   \n",
       "3  {'Condition:': 'Pre-owned:An item that has bee...   \n",
       "4                                                NaN   \n",
       "\n",
       "                                          image_link  \\\n",
       "0  https://i.ebayimg.com/images/g/UB0AAOSwsFdf4~u...   \n",
       "1  https://i.ebayimg.com/images/g/BRYAAOSwyHhf5As...   \n",
       "2  https://i.ebayimg.com/images/g/avMAAOSwsKxfqge...   \n",
       "3  https://i.ebayimg.com/images/g/kHgAAOSwxzxfu~G...   \n",
       "4  https://i.ebayimg.com/images/g/30QAAOSwXkRf4~j...   \n",
       "\n",
       "                                        listing_link  \\\n",
       "0  https://www.ebay.com/itm/Steve-Madden-Men-s-Ca...   \n",
       "1  https://www.ebay.com/itm/Timberland-Mens-Water...   \n",
       "2  https://www.ebay.com/itm/Shoes-for-Crews-Blood...   \n",
       "3  https://www.ebay.com/itm/Mens-Authentic-Louis-...   \n",
       "4  https://www.ebay.com/itm/Olukai-Mens-Light-Bro...   \n",
       "\n",
       "                                   i  \n",
       "0  ./imgs/casualshoe/casualshoe0.jpg  \n",
       "1  ./imgs/casualshoe/casualshoe1.jpg  \n",
       "2  ./imgs/casualshoe/casualshoe2.jpg  \n",
       "3  ./imgs/casualshoe/casualshoe3.jpg  \n",
       "4  ./imgs/casualshoe/casualshoe4.jpg  "
      ]
     },
     "execution_count": 139,
     "metadata": {},
     "output_type": "execute_result"
    }
   ],
   "source": [
    "casual_shoes.head()"
   ]
  },
  {
   "cell_type": "code",
   "execution_count": 140,
   "metadata": {},
   "outputs": [
    {
     "data": {
      "text/plain": [
       "title           GUCCI Dark Green GENUINE SUEDE, Silver Metal L...\n",
       "price                                                         NaN\n",
       "currency                                                      NaN\n",
       "attributes                                                    NaN\n",
       "image_link      https://i.ebayimg.com/images/g/KJgAAOSwxSNf5A7...\n",
       "listing_link    https://www.ebay.com/itm/GUCCI-Dark-Green-GENU...\n",
       "i                           ./imgs/casualshoe/casualshoe30042.jpg\n",
       "Name: 30042, dtype: object"
      ]
     },
     "execution_count": 140,
     "metadata": {},
     "output_type": "execute_result"
    }
   ],
   "source": [
    "casual_shoes.iloc[29294]"
   ]
  },
  {
   "cell_type": "code",
   "execution_count": 141,
   "metadata": {},
   "outputs": [
    {
     "data": {
      "text/html": [
       "<div>\n",
       "<style scoped>\n",
       "    .dataframe tbody tr th:only-of-type {\n",
       "        vertical-align: middle;\n",
       "    }\n",
       "\n",
       "    .dataframe tbody tr th {\n",
       "        vertical-align: top;\n",
       "    }\n",
       "\n",
       "    .dataframe thead th {\n",
       "        text-align: right;\n",
       "    }\n",
       "</style>\n",
       "<table border=\"1\" class=\"dataframe\">\n",
       "  <thead>\n",
       "    <tr style=\"text-align: right;\">\n",
       "      <th></th>\n",
       "      <th>price</th>\n",
       "    </tr>\n",
       "  </thead>\n",
       "  <tbody>\n",
       "    <tr>\n",
       "      <th>count</th>\n",
       "      <td>28767.000000</td>\n",
       "    </tr>\n",
       "    <tr>\n",
       "      <th>mean</th>\n",
       "      <td>114.504896</td>\n",
       "    </tr>\n",
       "    <tr>\n",
       "      <th>std</th>\n",
       "      <td>174.275984</td>\n",
       "    </tr>\n",
       "    <tr>\n",
       "      <th>min</th>\n",
       "      <td>9.900000</td>\n",
       "    </tr>\n",
       "    <tr>\n",
       "      <th>25%</th>\n",
       "      <td>30.000000</td>\n",
       "    </tr>\n",
       "    <tr>\n",
       "      <th>50%</th>\n",
       "      <td>46.000000</td>\n",
       "    </tr>\n",
       "    <tr>\n",
       "      <th>75%</th>\n",
       "      <td>98.000000</td>\n",
       "    </tr>\n",
       "    <tr>\n",
       "      <th>max</th>\n",
       "      <td>900.000000</td>\n",
       "    </tr>\n",
       "  </tbody>\n",
       "</table>\n",
       "</div>"
      ],
      "text/plain": [
       "              price\n",
       "count  28767.000000\n",
       "mean     114.504896\n",
       "std      174.275984\n",
       "min        9.900000\n",
       "25%       30.000000\n",
       "50%       46.000000\n",
       "75%       98.000000\n",
       "max      900.000000"
      ]
     },
     "execution_count": 141,
     "metadata": {},
     "output_type": "execute_result"
    }
   ],
   "source": [
    "casual_shoes['price'] = casual_shoes['price'].replace('[^.0-9]', '', regex=True).astype(float)\n",
    "\n",
    "casual_shoes.describe()"
   ]
  },
  {
   "cell_type": "code",
   "execution_count": 220,
   "metadata": {},
   "outputs": [
    {
     "name": "stdout",
     "output_type": "stream",
     "text": [
      "<class 'pandas.core.frame.DataFrame'>\n",
      "Int64Index: 39207 entries, 0 to 39215\n",
      "Data columns (total 6 columns):\n",
      " #   Column        Non-Null Count  Dtype \n",
      "---  ------        --------------  ----- \n",
      " 0   title         39207 non-null  object\n",
      " 1   price         29870 non-null  object\n",
      " 2   currency      29870 non-null  object\n",
      " 3   attributes    31540 non-null  object\n",
      " 4   image_link    39207 non-null  object\n",
      " 5   listing_link  39207 non-null  object\n",
      "dtypes: object(6)\n",
      "memory usage: 2.1+ MB\n"
     ]
    }
   ],
   "source": [
    "coats_jackets.info()"
   ]
  },
  {
   "cell_type": "code",
   "execution_count": 221,
   "metadata": {},
   "outputs": [
    {
     "data": {
      "text/html": [
       "<div>\n",
       "<style scoped>\n",
       "    .dataframe tbody tr th:only-of-type {\n",
       "        vertical-align: middle;\n",
       "    }\n",
       "\n",
       "    .dataframe tbody tr th {\n",
       "        vertical-align: top;\n",
       "    }\n",
       "\n",
       "    .dataframe thead th {\n",
       "        text-align: right;\n",
       "    }\n",
       "</style>\n",
       "<table border=\"1\" class=\"dataframe\">\n",
       "  <thead>\n",
       "    <tr style=\"text-align: right;\">\n",
       "      <th></th>\n",
       "      <th>title</th>\n",
       "      <th>price</th>\n",
       "      <th>currency</th>\n",
       "      <th>attributes</th>\n",
       "      <th>image_link</th>\n",
       "      <th>listing_link</th>\n",
       "      <th>i</th>\n",
       "    </tr>\n",
       "  </thead>\n",
       "  <tbody>\n",
       "    <tr>\n",
       "      <th>0</th>\n",
       "      <td>Moose Knuckles Shearling Collar Jacket Coat Si...</td>\n",
       "      <td>$250.00</td>\n",
       "      <td>US</td>\n",
       "      <td>{'Condition:': 'Pre-owned:An item that has bee...</td>\n",
       "      <td>https://i.ebayimg.com/images/g/EYgAAOSwT~lf48B...</td>\n",
       "      <td>https://www.ebay.com/itm/Moose-Knuckles-Shearl...</td>\n",
       "      <td>0</td>\n",
       "    </tr>\n",
       "    <tr>\n",
       "      <th>1</th>\n",
       "      <td>Marmot Men XL Full Zip Ski Shell Jacket Blue W...</td>\n",
       "      <td>$39.99</td>\n",
       "      <td>US</td>\n",
       "      <td>NaN</td>\n",
       "      <td>https://i.ebayimg.com/images/g/I5gAAOSwFdNf4ni...</td>\n",
       "      <td>https://www.ebay.com/itm/Marmot-Men-XL-Full-Zi...</td>\n",
       "      <td>1</td>\n",
       "    </tr>\n",
       "    <tr>\n",
       "      <th>2</th>\n",
       "      <td>Patagonia Piton Fleece Jacket Men's XL Orange</td>\n",
       "      <td>$60.00</td>\n",
       "      <td>US</td>\n",
       "      <td>{'Condition:': 'Pre-owned:An item that has bee...</td>\n",
       "      <td>https://i.ebayimg.com/images/g/lPcAAOSwc-df49J...</td>\n",
       "      <td>https://www.ebay.com/itm/Patagonia-Piton-Fleec...</td>\n",
       "      <td>2</td>\n",
       "    </tr>\n",
       "    <tr>\n",
       "      <th>3</th>\n",
       "      <td>Carhartt Sherpa Lined Red Flannel Shirt Jacket M</td>\n",
       "      <td>$50.00</td>\n",
       "      <td>US</td>\n",
       "      <td>{'Condition:': 'Pre-owned:An item that has bee...</td>\n",
       "      <td>https://i.ebayimg.com/images/g/~ggAAOSwq1Ff474...</td>\n",
       "      <td>https://www.ebay.com/itm/Carhartt-Sherpa-Lined...</td>\n",
       "      <td>3</td>\n",
       "    </tr>\n",
       "    <tr>\n",
       "      <th>4</th>\n",
       "      <td>Patagonia Polartec Fleece Base Pullover Men's ...</td>\n",
       "      <td>$39.99</td>\n",
       "      <td>US</td>\n",
       "      <td>{'Condition:': 'Pre-owned:An item that has bee...</td>\n",
       "      <td>https://i.ebayimg.com/images/g/qMcAAOSwDXlf47U...</td>\n",
       "      <td>https://www.ebay.com/itm/Patagonia-Polartec-Fl...</td>\n",
       "      <td>4</td>\n",
       "    </tr>\n",
       "  </tbody>\n",
       "</table>\n",
       "</div>"
      ],
      "text/plain": [
       "                                               title    price currency  \\\n",
       "0  Moose Knuckles Shearling Collar Jacket Coat Si...  $250.00       US   \n",
       "1  Marmot Men XL Full Zip Ski Shell Jacket Blue W...   $39.99       US   \n",
       "2     Patagonia Piton Fleece Jacket Men's XL Orange    $60.00       US   \n",
       "3   Carhartt Sherpa Lined Red Flannel Shirt Jacket M   $50.00       US   \n",
       "4  Patagonia Polartec Fleece Base Pullover Men's ...   $39.99       US   \n",
       "\n",
       "                                          attributes  \\\n",
       "0  {'Condition:': 'Pre-owned:An item that has bee...   \n",
       "1                                                NaN   \n",
       "2  {'Condition:': 'Pre-owned:An item that has bee...   \n",
       "3  {'Condition:': 'Pre-owned:An item that has bee...   \n",
       "4  {'Condition:': 'Pre-owned:An item that has bee...   \n",
       "\n",
       "                                          image_link  \\\n",
       "0  https://i.ebayimg.com/images/g/EYgAAOSwT~lf48B...   \n",
       "1  https://i.ebayimg.com/images/g/I5gAAOSwFdNf4ni...   \n",
       "2  https://i.ebayimg.com/images/g/lPcAAOSwc-df49J...   \n",
       "3  https://i.ebayimg.com/images/g/~ggAAOSwq1Ff474...   \n",
       "4  https://i.ebayimg.com/images/g/qMcAAOSwDXlf47U...   \n",
       "\n",
       "                                        listing_link  i  \n",
       "0  https://www.ebay.com/itm/Moose-Knuckles-Shearl...  0  \n",
       "1  https://www.ebay.com/itm/Marmot-Men-XL-Full-Zi...  1  \n",
       "2  https://www.ebay.com/itm/Patagonia-Piton-Fleec...  2  \n",
       "3  https://www.ebay.com/itm/Carhartt-Sherpa-Lined...  3  \n",
       "4  https://www.ebay.com/itm/Patagonia-Polartec-Fl...  4  "
      ]
     },
     "execution_count": 221,
     "metadata": {},
     "output_type": "execute_result"
    }
   ],
   "source": [
    "coats_jackets['i'] = coats_jackets.index\n",
    "\n",
    "coats_jackets.head()"
   ]
  },
  {
   "cell_type": "code",
   "execution_count": 222,
   "metadata": {},
   "outputs": [
    {
     "name": "stderr",
     "output_type": "stream",
     "text": [
      "/home/mario/anaconda3/envs/tensorflow/lib/python3.7/site-packages/ipykernel_launcher.py:2: SettingWithCopyWarning: \n",
      "A value is trying to be set on a copy of a slice from a DataFrame\n",
      "\n",
      "See the caveats in the documentation: https://pandas.pydata.org/pandas-docs/stable/user_guide/indexing.html#returning-a-view-versus-a-copy\n",
      "  \n",
      "/home/mario/anaconda3/envs/tensorflow/lib/python3.7/site-packages/pandas/core/indexing.py:670: SettingWithCopyWarning: \n",
      "A value is trying to be set on a copy of a slice from a DataFrame\n",
      "\n",
      "See the caveats in the documentation: https://pandas.pydata.org/pandas-docs/stable/user_guide/indexing.html#returning-a-view-versus-a-copy\n",
      "  iloc._setitem_with_indexer(indexer, value)\n"
     ]
    }
   ],
   "source": [
    "for i in coats_jackets.index:\n",
    "    coats_jackets['i'][i] = './imgs/coatjacket/coatjacket' + str(i) + '.jpg'"
   ]
  },
  {
   "cell_type": "code",
   "execution_count": 223,
   "metadata": {},
   "outputs": [
    {
     "data": {
      "text/html": [
       "<div>\n",
       "<style scoped>\n",
       "    .dataframe tbody tr th:only-of-type {\n",
       "        vertical-align: middle;\n",
       "    }\n",
       "\n",
       "    .dataframe tbody tr th {\n",
       "        vertical-align: top;\n",
       "    }\n",
       "\n",
       "    .dataframe thead th {\n",
       "        text-align: right;\n",
       "    }\n",
       "</style>\n",
       "<table border=\"1\" class=\"dataframe\">\n",
       "  <thead>\n",
       "    <tr style=\"text-align: right;\">\n",
       "      <th></th>\n",
       "      <th>title</th>\n",
       "      <th>price</th>\n",
       "      <th>currency</th>\n",
       "      <th>attributes</th>\n",
       "      <th>image_link</th>\n",
       "      <th>listing_link</th>\n",
       "      <th>i</th>\n",
       "    </tr>\n",
       "  </thead>\n",
       "  <tbody>\n",
       "    <tr>\n",
       "      <th>0</th>\n",
       "      <td>Moose Knuckles Shearling Collar Jacket Coat Si...</td>\n",
       "      <td>$250.00</td>\n",
       "      <td>US</td>\n",
       "      <td>{'Condition:': 'Pre-owned:An item that has bee...</td>\n",
       "      <td>https://i.ebayimg.com/images/g/EYgAAOSwT~lf48B...</td>\n",
       "      <td>https://www.ebay.com/itm/Moose-Knuckles-Shearl...</td>\n",
       "      <td>./imgs/coatjacket/coatjacket0.jpg</td>\n",
       "    </tr>\n",
       "    <tr>\n",
       "      <th>1</th>\n",
       "      <td>Marmot Men XL Full Zip Ski Shell Jacket Blue W...</td>\n",
       "      <td>$39.99</td>\n",
       "      <td>US</td>\n",
       "      <td>NaN</td>\n",
       "      <td>https://i.ebayimg.com/images/g/I5gAAOSwFdNf4ni...</td>\n",
       "      <td>https://www.ebay.com/itm/Marmot-Men-XL-Full-Zi...</td>\n",
       "      <td>./imgs/coatjacket/coatjacket1.jpg</td>\n",
       "    </tr>\n",
       "    <tr>\n",
       "      <th>2</th>\n",
       "      <td>Patagonia Piton Fleece Jacket Men's XL Orange</td>\n",
       "      <td>$60.00</td>\n",
       "      <td>US</td>\n",
       "      <td>{'Condition:': 'Pre-owned:An item that has bee...</td>\n",
       "      <td>https://i.ebayimg.com/images/g/lPcAAOSwc-df49J...</td>\n",
       "      <td>https://www.ebay.com/itm/Patagonia-Piton-Fleec...</td>\n",
       "      <td>./imgs/coatjacket/coatjacket2.jpg</td>\n",
       "    </tr>\n",
       "    <tr>\n",
       "      <th>3</th>\n",
       "      <td>Carhartt Sherpa Lined Red Flannel Shirt Jacket M</td>\n",
       "      <td>$50.00</td>\n",
       "      <td>US</td>\n",
       "      <td>{'Condition:': 'Pre-owned:An item that has bee...</td>\n",
       "      <td>https://i.ebayimg.com/images/g/~ggAAOSwq1Ff474...</td>\n",
       "      <td>https://www.ebay.com/itm/Carhartt-Sherpa-Lined...</td>\n",
       "      <td>./imgs/coatjacket/coatjacket3.jpg</td>\n",
       "    </tr>\n",
       "    <tr>\n",
       "      <th>4</th>\n",
       "      <td>Patagonia Polartec Fleece Base Pullover Men's ...</td>\n",
       "      <td>$39.99</td>\n",
       "      <td>US</td>\n",
       "      <td>{'Condition:': 'Pre-owned:An item that has bee...</td>\n",
       "      <td>https://i.ebayimg.com/images/g/qMcAAOSwDXlf47U...</td>\n",
       "      <td>https://www.ebay.com/itm/Patagonia-Polartec-Fl...</td>\n",
       "      <td>./imgs/coatjacket/coatjacket4.jpg</td>\n",
       "    </tr>\n",
       "  </tbody>\n",
       "</table>\n",
       "</div>"
      ],
      "text/plain": [
       "                                               title    price currency  \\\n",
       "0  Moose Knuckles Shearling Collar Jacket Coat Si...  $250.00       US   \n",
       "1  Marmot Men XL Full Zip Ski Shell Jacket Blue W...   $39.99       US   \n",
       "2     Patagonia Piton Fleece Jacket Men's XL Orange    $60.00       US   \n",
       "3   Carhartt Sherpa Lined Red Flannel Shirt Jacket M   $50.00       US   \n",
       "4  Patagonia Polartec Fleece Base Pullover Men's ...   $39.99       US   \n",
       "\n",
       "                                          attributes  \\\n",
       "0  {'Condition:': 'Pre-owned:An item that has bee...   \n",
       "1                                                NaN   \n",
       "2  {'Condition:': 'Pre-owned:An item that has bee...   \n",
       "3  {'Condition:': 'Pre-owned:An item that has bee...   \n",
       "4  {'Condition:': 'Pre-owned:An item that has bee...   \n",
       "\n",
       "                                          image_link  \\\n",
       "0  https://i.ebayimg.com/images/g/EYgAAOSwT~lf48B...   \n",
       "1  https://i.ebayimg.com/images/g/I5gAAOSwFdNf4ni...   \n",
       "2  https://i.ebayimg.com/images/g/lPcAAOSwc-df49J...   \n",
       "3  https://i.ebayimg.com/images/g/~ggAAOSwq1Ff474...   \n",
       "4  https://i.ebayimg.com/images/g/qMcAAOSwDXlf47U...   \n",
       "\n",
       "                                        listing_link  \\\n",
       "0  https://www.ebay.com/itm/Moose-Knuckles-Shearl...   \n",
       "1  https://www.ebay.com/itm/Marmot-Men-XL-Full-Zi...   \n",
       "2  https://www.ebay.com/itm/Patagonia-Piton-Fleec...   \n",
       "3  https://www.ebay.com/itm/Carhartt-Sherpa-Lined...   \n",
       "4  https://www.ebay.com/itm/Patagonia-Polartec-Fl...   \n",
       "\n",
       "                                   i  \n",
       "0  ./imgs/coatjacket/coatjacket0.jpg  \n",
       "1  ./imgs/coatjacket/coatjacket1.jpg  \n",
       "2  ./imgs/coatjacket/coatjacket2.jpg  \n",
       "3  ./imgs/coatjacket/coatjacket3.jpg  \n",
       "4  ./imgs/coatjacket/coatjacket4.jpg  "
      ]
     },
     "execution_count": 223,
     "metadata": {},
     "output_type": "execute_result"
    }
   ],
   "source": [
    "coats_jackets.head()"
   ]
  },
  {
   "cell_type": "code",
   "execution_count": 224,
   "metadata": {},
   "outputs": [
    {
     "data": {
      "text/plain": [
       "title            Dunning Golf Men’s Gray Full Zip Jacket Sz Large\n",
       "price                                                      $48.88\n",
       "currency                                                       US\n",
       "attributes                                                    NaN\n",
       "image_link      https://i.ebayimg.com/images/g/bxIAAOSwgAZfWq9...\n",
       "listing_link    https://www.ebay.com/itm/Dunning-Golf-Men-s-Gr...\n",
       "i                           ./imgs/coatjacket/coatjacket18500.jpg\n",
       "Name: 18500, dtype: object"
      ]
     },
     "execution_count": 224,
     "metadata": {},
     "output_type": "execute_result"
    }
   ],
   "source": [
    "coats_jackets.iloc[18495]"
   ]
  },
  {
   "cell_type": "code",
   "execution_count": 225,
   "metadata": {},
   "outputs": [
    {
     "data": {
      "text/html": [
       "<div>\n",
       "<style scoped>\n",
       "    .dataframe tbody tr th:only-of-type {\n",
       "        vertical-align: middle;\n",
       "    }\n",
       "\n",
       "    .dataframe tbody tr th {\n",
       "        vertical-align: top;\n",
       "    }\n",
       "\n",
       "    .dataframe thead th {\n",
       "        text-align: right;\n",
       "    }\n",
       "</style>\n",
       "<table border=\"1\" class=\"dataframe\">\n",
       "  <thead>\n",
       "    <tr style=\"text-align: right;\">\n",
       "      <th></th>\n",
       "      <th>price</th>\n",
       "    </tr>\n",
       "  </thead>\n",
       "  <tbody>\n",
       "    <tr>\n",
       "      <th>count</th>\n",
       "      <td>29870.000000</td>\n",
       "    </tr>\n",
       "    <tr>\n",
       "      <th>mean</th>\n",
       "      <td>114.110057</td>\n",
       "    </tr>\n",
       "    <tr>\n",
       "      <th>std</th>\n",
       "      <td>113.853922</td>\n",
       "    </tr>\n",
       "    <tr>\n",
       "      <th>min</th>\n",
       "      <td>7.000000</td>\n",
       "    </tr>\n",
       "    <tr>\n",
       "      <th>25%</th>\n",
       "      <td>49.990000</td>\n",
       "    </tr>\n",
       "    <tr>\n",
       "      <th>50%</th>\n",
       "      <td>70.000000</td>\n",
       "    </tr>\n",
       "    <tr>\n",
       "      <th>75%</th>\n",
       "      <td>150.000000</td>\n",
       "    </tr>\n",
       "    <tr>\n",
       "      <th>max</th>\n",
       "      <td>1000.000000</td>\n",
       "    </tr>\n",
       "  </tbody>\n",
       "</table>\n",
       "</div>"
      ],
      "text/plain": [
       "              price\n",
       "count  29870.000000\n",
       "mean     114.110057\n",
       "std      113.853922\n",
       "min        7.000000\n",
       "25%       49.990000\n",
       "50%       70.000000\n",
       "75%      150.000000\n",
       "max     1000.000000"
      ]
     },
     "execution_count": 225,
     "metadata": {},
     "output_type": "execute_result"
    }
   ],
   "source": [
    "coats_jackets['price'] = coats_jackets['price'].replace('[^.0-9]', '', regex=True).astype(float)\n",
    "\n",
    "coats_jackets.describe()"
   ]
  },
  {
   "cell_type": "code",
   "execution_count": 148,
   "metadata": {},
   "outputs": [
    {
     "data": {
      "text/html": [
       "<div>\n",
       "<style scoped>\n",
       "    .dataframe tbody tr th:only-of-type {\n",
       "        vertical-align: middle;\n",
       "    }\n",
       "\n",
       "    .dataframe tbody tr th {\n",
       "        vertical-align: top;\n",
       "    }\n",
       "\n",
       "    .dataframe thead th {\n",
       "        text-align: right;\n",
       "    }\n",
       "</style>\n",
       "<table border=\"1\" class=\"dataframe\">\n",
       "  <thead>\n",
       "    <tr style=\"text-align: right;\">\n",
       "      <th></th>\n",
       "      <th>title</th>\n",
       "      <th>price</th>\n",
       "      <th>currency</th>\n",
       "      <th>attributes</th>\n",
       "      <th>image_link</th>\n",
       "      <th>listing_link</th>\n",
       "      <th>i</th>\n",
       "    </tr>\n",
       "  </thead>\n",
       "  <tbody>\n",
       "    <tr>\n",
       "      <th>0</th>\n",
       "      <td>Mens Dress Shirt</td>\n",
       "      <td>NaN</td>\n",
       "      <td>NaN</td>\n",
       "      <td>{'Condition:': 'Pre-owned:An item that has bee...</td>\n",
       "      <td>https://i.ebayimg.com/images/g/2kkAAOSwgEJfvf7...</td>\n",
       "      <td>https://www.ebay.com/itm/Mens-Dress-Shirt/2338...</td>\n",
       "      <td>0</td>\n",
       "    </tr>\n",
       "    <tr>\n",
       "      <th>1</th>\n",
       "      <td>Calvin Klein Dress Shirt</td>\n",
       "      <td>NaN</td>\n",
       "      <td>NaN</td>\n",
       "      <td>{'Condition:': 'Pre-owned:An item that has bee...</td>\n",
       "      <td>https://i.ebayimg.com/images/g/3hsAAOSwhrRfvf-...</td>\n",
       "      <td>https://www.ebay.com/itm/Calvin-Klein-Dress-Sh...</td>\n",
       "      <td>1</td>\n",
       "    </tr>\n",
       "    <tr>\n",
       "      <th>2</th>\n",
       "      <td>Polo Ralph Lauren dress shirt XXL oxford butto...</td>\n",
       "      <td>$27.99</td>\n",
       "      <td>US</td>\n",
       "      <td>{'Condition:': 'Pre-owned:An item that has bee...</td>\n",
       "      <td>https://i.ebayimg.com/images/g/rEYAAOSwBGJf4t8...</td>\n",
       "      <td>https://www.ebay.com/itm/Polo-Ralph-Lauren-dre...</td>\n",
       "      <td>2</td>\n",
       "    </tr>\n",
       "    <tr>\n",
       "      <th>3</th>\n",
       "      <td>UNTUCKit mens Purple Long sleeve dress shirt S...</td>\n",
       "      <td>$29.99</td>\n",
       "      <td>US</td>\n",
       "      <td>{'Condition:': 'Pre-owned:An item that has bee...</td>\n",
       "      <td>https://i.ebayimg.com/images/g/GnIAAOSwPzVfk5C...</td>\n",
       "      <td>https://www.ebay.com/itm/UNTUCKit-mens-Purple-...</td>\n",
       "      <td>3</td>\n",
       "    </tr>\n",
       "    <tr>\n",
       "      <th>4</th>\n",
       "      <td>Jos A Bank Traveler White Shirt Size 15 34</td>\n",
       "      <td>$25.00</td>\n",
       "      <td>US</td>\n",
       "      <td>{'Condition:': 'Pre-owned:An item that has bee...</td>\n",
       "      <td>https://i.ebayimg.com/images/g/1NsAAOSwDxdf4t3...</td>\n",
       "      <td>https://www.ebay.com/itm/Jos-A-Bank-Traveler-W...</td>\n",
       "      <td>4</td>\n",
       "    </tr>\n",
       "  </tbody>\n",
       "</table>\n",
       "</div>"
      ],
      "text/plain": [
       "                                               title   price currency  \\\n",
       "0                                  Mens Dress Shirt      NaN      NaN   \n",
       "1                           Calvin Klein Dress Shirt     NaN      NaN   \n",
       "2  Polo Ralph Lauren dress shirt XXL oxford butto...  $27.99       US   \n",
       "3  UNTUCKit mens Purple Long sleeve dress shirt S...  $29.99       US   \n",
       "4         Jos A Bank Traveler White Shirt Size 15 34  $25.00       US   \n",
       "\n",
       "                                          attributes  \\\n",
       "0  {'Condition:': 'Pre-owned:An item that has bee...   \n",
       "1  {'Condition:': 'Pre-owned:An item that has bee...   \n",
       "2  {'Condition:': 'Pre-owned:An item that has bee...   \n",
       "3  {'Condition:': 'Pre-owned:An item that has bee...   \n",
       "4  {'Condition:': 'Pre-owned:An item that has bee...   \n",
       "\n",
       "                                          image_link  \\\n",
       "0  https://i.ebayimg.com/images/g/2kkAAOSwgEJfvf7...   \n",
       "1  https://i.ebayimg.com/images/g/3hsAAOSwhrRfvf-...   \n",
       "2  https://i.ebayimg.com/images/g/rEYAAOSwBGJf4t8...   \n",
       "3  https://i.ebayimg.com/images/g/GnIAAOSwPzVfk5C...   \n",
       "4  https://i.ebayimg.com/images/g/1NsAAOSwDxdf4t3...   \n",
       "\n",
       "                                        listing_link  i  \n",
       "0  https://www.ebay.com/itm/Mens-Dress-Shirt/2338...  0  \n",
       "1  https://www.ebay.com/itm/Calvin-Klein-Dress-Sh...  1  \n",
       "2  https://www.ebay.com/itm/Polo-Ralph-Lauren-dre...  2  \n",
       "3  https://www.ebay.com/itm/UNTUCKit-mens-Purple-...  3  \n",
       "4  https://www.ebay.com/itm/Jos-A-Bank-Traveler-W...  4  "
      ]
     },
     "execution_count": 148,
     "metadata": {},
     "output_type": "execute_result"
    }
   ],
   "source": [
    "dress_shirts['i'] = dress_shirts.index\n",
    "\n",
    "dress_shirts.head()"
   ]
  },
  {
   "cell_type": "code",
   "execution_count": 149,
   "metadata": {},
   "outputs": [
    {
     "name": "stderr",
     "output_type": "stream",
     "text": [
      "/home/mario/anaconda3/envs/tensorflow/lib/python3.7/site-packages/ipykernel_launcher.py:2: SettingWithCopyWarning: \n",
      "A value is trying to be set on a copy of a slice from a DataFrame\n",
      "\n",
      "See the caveats in the documentation: https://pandas.pydata.org/pandas-docs/stable/user_guide/indexing.html#returning-a-view-versus-a-copy\n",
      "  \n",
      "/home/mario/anaconda3/envs/tensorflow/lib/python3.7/site-packages/pandas/core/indexing.py:670: SettingWithCopyWarning: \n",
      "A value is trying to be set on a copy of a slice from a DataFrame\n",
      "\n",
      "See the caveats in the documentation: https://pandas.pydata.org/pandas-docs/stable/user_guide/indexing.html#returning-a-view-versus-a-copy\n",
      "  iloc._setitem_with_indexer(indexer, value)\n"
     ]
    }
   ],
   "source": [
    "for i in dress_shirts.index:\n",
    "    dress_shirts['i'][i] = './imgs/dressshirt/dressshirt' + str(i) + '.jpg'"
   ]
  },
  {
   "cell_type": "code",
   "execution_count": 150,
   "metadata": {},
   "outputs": [
    {
     "data": {
      "text/html": [
       "<div>\n",
       "<style scoped>\n",
       "    .dataframe tbody tr th:only-of-type {\n",
       "        vertical-align: middle;\n",
       "    }\n",
       "\n",
       "    .dataframe tbody tr th {\n",
       "        vertical-align: top;\n",
       "    }\n",
       "\n",
       "    .dataframe thead th {\n",
       "        text-align: right;\n",
       "    }\n",
       "</style>\n",
       "<table border=\"1\" class=\"dataframe\">\n",
       "  <thead>\n",
       "    <tr style=\"text-align: right;\">\n",
       "      <th></th>\n",
       "      <th>title</th>\n",
       "      <th>price</th>\n",
       "      <th>currency</th>\n",
       "      <th>attributes</th>\n",
       "      <th>image_link</th>\n",
       "      <th>listing_link</th>\n",
       "      <th>i</th>\n",
       "    </tr>\n",
       "  </thead>\n",
       "  <tbody>\n",
       "    <tr>\n",
       "      <th>0</th>\n",
       "      <td>Mens Dress Shirt</td>\n",
       "      <td>NaN</td>\n",
       "      <td>NaN</td>\n",
       "      <td>{'Condition:': 'Pre-owned:An item that has bee...</td>\n",
       "      <td>https://i.ebayimg.com/images/g/2kkAAOSwgEJfvf7...</td>\n",
       "      <td>https://www.ebay.com/itm/Mens-Dress-Shirt/2338...</td>\n",
       "      <td>./imgs/dressshirt/dressshirt0.jpg</td>\n",
       "    </tr>\n",
       "    <tr>\n",
       "      <th>1</th>\n",
       "      <td>Calvin Klein Dress Shirt</td>\n",
       "      <td>NaN</td>\n",
       "      <td>NaN</td>\n",
       "      <td>{'Condition:': 'Pre-owned:An item that has bee...</td>\n",
       "      <td>https://i.ebayimg.com/images/g/3hsAAOSwhrRfvf-...</td>\n",
       "      <td>https://www.ebay.com/itm/Calvin-Klein-Dress-Sh...</td>\n",
       "      <td>./imgs/dressshirt/dressshirt1.jpg</td>\n",
       "    </tr>\n",
       "    <tr>\n",
       "      <th>2</th>\n",
       "      <td>Polo Ralph Lauren dress shirt XXL oxford butto...</td>\n",
       "      <td>$27.99</td>\n",
       "      <td>US</td>\n",
       "      <td>{'Condition:': 'Pre-owned:An item that has bee...</td>\n",
       "      <td>https://i.ebayimg.com/images/g/rEYAAOSwBGJf4t8...</td>\n",
       "      <td>https://www.ebay.com/itm/Polo-Ralph-Lauren-dre...</td>\n",
       "      <td>./imgs/dressshirt/dressshirt2.jpg</td>\n",
       "    </tr>\n",
       "    <tr>\n",
       "      <th>3</th>\n",
       "      <td>UNTUCKit mens Purple Long sleeve dress shirt S...</td>\n",
       "      <td>$29.99</td>\n",
       "      <td>US</td>\n",
       "      <td>{'Condition:': 'Pre-owned:An item that has bee...</td>\n",
       "      <td>https://i.ebayimg.com/images/g/GnIAAOSwPzVfk5C...</td>\n",
       "      <td>https://www.ebay.com/itm/UNTUCKit-mens-Purple-...</td>\n",
       "      <td>./imgs/dressshirt/dressshirt3.jpg</td>\n",
       "    </tr>\n",
       "    <tr>\n",
       "      <th>4</th>\n",
       "      <td>Jos A Bank Traveler White Shirt Size 15 34</td>\n",
       "      <td>$25.00</td>\n",
       "      <td>US</td>\n",
       "      <td>{'Condition:': 'Pre-owned:An item that has bee...</td>\n",
       "      <td>https://i.ebayimg.com/images/g/1NsAAOSwDxdf4t3...</td>\n",
       "      <td>https://www.ebay.com/itm/Jos-A-Bank-Traveler-W...</td>\n",
       "      <td>./imgs/dressshirt/dressshirt4.jpg</td>\n",
       "    </tr>\n",
       "  </tbody>\n",
       "</table>\n",
       "</div>"
      ],
      "text/plain": [
       "                                               title   price currency  \\\n",
       "0                                  Mens Dress Shirt      NaN      NaN   \n",
       "1                           Calvin Klein Dress Shirt     NaN      NaN   \n",
       "2  Polo Ralph Lauren dress shirt XXL oxford butto...  $27.99       US   \n",
       "3  UNTUCKit mens Purple Long sleeve dress shirt S...  $29.99       US   \n",
       "4         Jos A Bank Traveler White Shirt Size 15 34  $25.00       US   \n",
       "\n",
       "                                          attributes  \\\n",
       "0  {'Condition:': 'Pre-owned:An item that has bee...   \n",
       "1  {'Condition:': 'Pre-owned:An item that has bee...   \n",
       "2  {'Condition:': 'Pre-owned:An item that has bee...   \n",
       "3  {'Condition:': 'Pre-owned:An item that has bee...   \n",
       "4  {'Condition:': 'Pre-owned:An item that has bee...   \n",
       "\n",
       "                                          image_link  \\\n",
       "0  https://i.ebayimg.com/images/g/2kkAAOSwgEJfvf7...   \n",
       "1  https://i.ebayimg.com/images/g/3hsAAOSwhrRfvf-...   \n",
       "2  https://i.ebayimg.com/images/g/rEYAAOSwBGJf4t8...   \n",
       "3  https://i.ebayimg.com/images/g/GnIAAOSwPzVfk5C...   \n",
       "4  https://i.ebayimg.com/images/g/1NsAAOSwDxdf4t3...   \n",
       "\n",
       "                                        listing_link  \\\n",
       "0  https://www.ebay.com/itm/Mens-Dress-Shirt/2338...   \n",
       "1  https://www.ebay.com/itm/Calvin-Klein-Dress-Sh...   \n",
       "2  https://www.ebay.com/itm/Polo-Ralph-Lauren-dre...   \n",
       "3  https://www.ebay.com/itm/UNTUCKit-mens-Purple-...   \n",
       "4  https://www.ebay.com/itm/Jos-A-Bank-Traveler-W...   \n",
       "\n",
       "                                   i  \n",
       "0  ./imgs/dressshirt/dressshirt0.jpg  \n",
       "1  ./imgs/dressshirt/dressshirt1.jpg  \n",
       "2  ./imgs/dressshirt/dressshirt2.jpg  \n",
       "3  ./imgs/dressshirt/dressshirt3.jpg  \n",
       "4  ./imgs/dressshirt/dressshirt4.jpg  "
      ]
     },
     "execution_count": 150,
     "metadata": {},
     "output_type": "execute_result"
    }
   ],
   "source": [
    "dress_shirts.head()"
   ]
  },
  {
   "cell_type": "code",
   "execution_count": 151,
   "metadata": {},
   "outputs": [
    {
     "data": {
      "text/plain": [
       "title            Batistini Navy Tonal Stripe Dress Shirt 41/42 15\n",
       "price                                                         NaN\n",
       "currency                                                      NaN\n",
       "attributes      {'Condition:': 'Pre-owned:An item that has bee...\n",
       "image_link      https://i.ebayimg.com/images/g/27QAAOSw-gJfxg0...\n",
       "listing_link    https://www.ebay.com/itm/Batistini-Navy-Tonal-...\n",
       "i                           ./imgs/dressshirt/dressshirt37434.jpg\n",
       "Name: 37434, dtype: object"
      ]
     },
     "execution_count": 151,
     "metadata": {},
     "output_type": "execute_result"
    }
   ],
   "source": [
    "dress_shirts.iloc[37434]"
   ]
  },
  {
   "cell_type": "code",
   "execution_count": 152,
   "metadata": {},
   "outputs": [
    {
     "data": {
      "text/html": [
       "<div>\n",
       "<style scoped>\n",
       "    .dataframe tbody tr th:only-of-type {\n",
       "        vertical-align: middle;\n",
       "    }\n",
       "\n",
       "    .dataframe tbody tr th {\n",
       "        vertical-align: top;\n",
       "    }\n",
       "\n",
       "    .dataframe thead th {\n",
       "        text-align: right;\n",
       "    }\n",
       "</style>\n",
       "<table border=\"1\" class=\"dataframe\">\n",
       "  <thead>\n",
       "    <tr style=\"text-align: right;\">\n",
       "      <th></th>\n",
       "      <th>price</th>\n",
       "    </tr>\n",
       "  </thead>\n",
       "  <tbody>\n",
       "    <tr>\n",
       "      <th>count</th>\n",
       "      <td>21790.000000</td>\n",
       "    </tr>\n",
       "    <tr>\n",
       "      <th>mean</th>\n",
       "      <td>36.577712</td>\n",
       "    </tr>\n",
       "    <tr>\n",
       "      <th>std</th>\n",
       "      <td>15.876785</td>\n",
       "    </tr>\n",
       "    <tr>\n",
       "      <th>min</th>\n",
       "      <td>5.990000</td>\n",
       "    </tr>\n",
       "    <tr>\n",
       "      <th>25%</th>\n",
       "      <td>25.000000</td>\n",
       "    </tr>\n",
       "    <tr>\n",
       "      <th>50%</th>\n",
       "      <td>33.000000</td>\n",
       "    </tr>\n",
       "    <tr>\n",
       "      <th>75%</th>\n",
       "      <td>44.980000</td>\n",
       "    </tr>\n",
       "    <tr>\n",
       "      <th>max</th>\n",
       "      <td>148.000000</td>\n",
       "    </tr>\n",
       "  </tbody>\n",
       "</table>\n",
       "</div>"
      ],
      "text/plain": [
       "              price\n",
       "count  21790.000000\n",
       "mean      36.577712\n",
       "std       15.876785\n",
       "min        5.990000\n",
       "25%       25.000000\n",
       "50%       33.000000\n",
       "75%       44.980000\n",
       "max      148.000000"
      ]
     },
     "execution_count": 152,
     "metadata": {},
     "output_type": "execute_result"
    }
   ],
   "source": [
    "dress_shirts['price'] = dress_shirts['price'].replace('[^.0-9]', '', regex=True).astype(float)\n",
    "\n",
    "dress_shirts.describe()"
   ]
  },
  {
   "cell_type": "code",
   "execution_count": 153,
   "metadata": {},
   "outputs": [
    {
     "data": {
      "text/html": [
       "<div>\n",
       "<style scoped>\n",
       "    .dataframe tbody tr th:only-of-type {\n",
       "        vertical-align: middle;\n",
       "    }\n",
       "\n",
       "    .dataframe tbody tr th {\n",
       "        vertical-align: top;\n",
       "    }\n",
       "\n",
       "    .dataframe thead th {\n",
       "        text-align: right;\n",
       "    }\n",
       "</style>\n",
       "<table border=\"1\" class=\"dataframe\">\n",
       "  <thead>\n",
       "    <tr style=\"text-align: right;\">\n",
       "      <th></th>\n",
       "      <th>title</th>\n",
       "      <th>price</th>\n",
       "      <th>currency</th>\n",
       "      <th>attributes</th>\n",
       "      <th>image_link</th>\n",
       "      <th>listing_link</th>\n",
       "      <th>i</th>\n",
       "    </tr>\n",
       "  </thead>\n",
       "  <tbody>\n",
       "    <tr>\n",
       "      <th>0</th>\n",
       "      <td>Rockport oxford mens shoes 9.5</td>\n",
       "      <td>$39.00</td>\n",
       "      <td>US</td>\n",
       "      <td>{'Condition:': 'Pre-owned:An item that has bee...</td>\n",
       "      <td>https://i.ebayimg.com/images/g/iA8AAOSwkYpf5I-...</td>\n",
       "      <td>https://www.ebay.com/itm/Rockport-oxford-mens-...</td>\n",
       "      <td>0</td>\n",
       "    </tr>\n",
       "    <tr>\n",
       "      <th>1</th>\n",
       "      <td>Dr Doc Martens Black White Oxford Wingtip Brog...</td>\n",
       "      <td>$49.99</td>\n",
       "      <td>US</td>\n",
       "      <td>{'Condition:': 'Pre-owned:An item that has bee...</td>\n",
       "      <td>https://i.ebayimg.com/images/g/ReUAAOSwxB5ftKj...</td>\n",
       "      <td>https://www.ebay.com/itm/Dr-Doc-Martens-Black-...</td>\n",
       "      <td>1</td>\n",
       "    </tr>\n",
       "    <tr>\n",
       "      <th>2</th>\n",
       "      <td>Johnson Murphy Men Dress Shoes Sz 10.5-D</td>\n",
       "      <td>$50.00</td>\n",
       "      <td>US</td>\n",
       "      <td>{'Condition:': 'Pre-owned:An item that has bee...</td>\n",
       "      <td>https://i.ebayimg.com/images/g/qF8AAOSwmCxf5KM...</td>\n",
       "      <td>https://www.ebay.com/itm/Johnson-Murphy-Men-Dr...</td>\n",
       "      <td>2</td>\n",
       "    </tr>\n",
       "    <tr>\n",
       "      <th>3</th>\n",
       "      <td>VTG Florsheim Imperial Wing Tip Black Oxford D...</td>\n",
       "      <td>$24.99</td>\n",
       "      <td>US</td>\n",
       "      <td>{'Condition:': 'Pre-owned:An item that has bee...</td>\n",
       "      <td>https://i.ebayimg.com/images/g/eQAAAOSwevBf5K2...</td>\n",
       "      <td>https://www.ebay.com/itm/VTG-Florsheim-Imperia...</td>\n",
       "      <td>3</td>\n",
       "    </tr>\n",
       "    <tr>\n",
       "      <th>4</th>\n",
       "      <td>Allen Edmonds Mens Shoe Bridgeton Model Tassel...</td>\n",
       "      <td>$36.97</td>\n",
       "      <td>US</td>\n",
       "      <td>{'Condition:': 'Pre-owned:An item that has bee...</td>\n",
       "      <td>https://i.ebayimg.com/images/g/8KUAAOSwdHlf5Ku...</td>\n",
       "      <td>https://www.ebay.com/itm/Allen-Edmonds-Mens-Sh...</td>\n",
       "      <td>4</td>\n",
       "    </tr>\n",
       "  </tbody>\n",
       "</table>\n",
       "</div>"
      ],
      "text/plain": [
       "                                               title   price currency  \\\n",
       "0                     Rockport oxford mens shoes 9.5  $39.00       US   \n",
       "1  Dr Doc Martens Black White Oxford Wingtip Brog...  $49.99       US   \n",
       "2           Johnson Murphy Men Dress Shoes Sz 10.5-D  $50.00       US   \n",
       "3  VTG Florsheim Imperial Wing Tip Black Oxford D...  $24.99       US   \n",
       "4  Allen Edmonds Mens Shoe Bridgeton Model Tassel...  $36.97       US   \n",
       "\n",
       "                                          attributes  \\\n",
       "0  {'Condition:': 'Pre-owned:An item that has bee...   \n",
       "1  {'Condition:': 'Pre-owned:An item that has bee...   \n",
       "2  {'Condition:': 'Pre-owned:An item that has bee...   \n",
       "3  {'Condition:': 'Pre-owned:An item that has bee...   \n",
       "4  {'Condition:': 'Pre-owned:An item that has bee...   \n",
       "\n",
       "                                          image_link  \\\n",
       "0  https://i.ebayimg.com/images/g/iA8AAOSwkYpf5I-...   \n",
       "1  https://i.ebayimg.com/images/g/ReUAAOSwxB5ftKj...   \n",
       "2  https://i.ebayimg.com/images/g/qF8AAOSwmCxf5KM...   \n",
       "3  https://i.ebayimg.com/images/g/eQAAAOSwevBf5K2...   \n",
       "4  https://i.ebayimg.com/images/g/8KUAAOSwdHlf5Ku...   \n",
       "\n",
       "                                        listing_link  i  \n",
       "0  https://www.ebay.com/itm/Rockport-oxford-mens-...  0  \n",
       "1  https://www.ebay.com/itm/Dr-Doc-Martens-Black-...  1  \n",
       "2  https://www.ebay.com/itm/Johnson-Murphy-Men-Dr...  2  \n",
       "3  https://www.ebay.com/itm/VTG-Florsheim-Imperia...  3  \n",
       "4  https://www.ebay.com/itm/Allen-Edmonds-Mens-Sh...  4  "
      ]
     },
     "execution_count": 153,
     "metadata": {},
     "output_type": "execute_result"
    }
   ],
   "source": [
    "dress_shoes['i'] = dress_shoes.index\n",
    "\n",
    "dress_shoes.head()"
   ]
  },
  {
   "cell_type": "code",
   "execution_count": 154,
   "metadata": {},
   "outputs": [
    {
     "name": "stderr",
     "output_type": "stream",
     "text": [
      "/home/mario/anaconda3/envs/tensorflow/lib/python3.7/site-packages/ipykernel_launcher.py:2: SettingWithCopyWarning: \n",
      "A value is trying to be set on a copy of a slice from a DataFrame\n",
      "\n",
      "See the caveats in the documentation: https://pandas.pydata.org/pandas-docs/stable/user_guide/indexing.html#returning-a-view-versus-a-copy\n",
      "  \n",
      "/home/mario/anaconda3/envs/tensorflow/lib/python3.7/site-packages/pandas/core/indexing.py:670: SettingWithCopyWarning: \n",
      "A value is trying to be set on a copy of a slice from a DataFrame\n",
      "\n",
      "See the caveats in the documentation: https://pandas.pydata.org/pandas-docs/stable/user_guide/indexing.html#returning-a-view-versus-a-copy\n",
      "  iloc._setitem_with_indexer(indexer, value)\n"
     ]
    }
   ],
   "source": [
    "for i in dress_shoes.index:\n",
    "    dress_shoes['i'][i] = './imgs/dressshoe/dressshoe' + str(i) + '.jpg'"
   ]
  },
  {
   "cell_type": "code",
   "execution_count": 155,
   "metadata": {},
   "outputs": [
    {
     "data": {
      "text/html": [
       "<div>\n",
       "<style scoped>\n",
       "    .dataframe tbody tr th:only-of-type {\n",
       "        vertical-align: middle;\n",
       "    }\n",
       "\n",
       "    .dataframe tbody tr th {\n",
       "        vertical-align: top;\n",
       "    }\n",
       "\n",
       "    .dataframe thead th {\n",
       "        text-align: right;\n",
       "    }\n",
       "</style>\n",
       "<table border=\"1\" class=\"dataframe\">\n",
       "  <thead>\n",
       "    <tr style=\"text-align: right;\">\n",
       "      <th></th>\n",
       "      <th>title</th>\n",
       "      <th>price</th>\n",
       "      <th>currency</th>\n",
       "      <th>attributes</th>\n",
       "      <th>image_link</th>\n",
       "      <th>listing_link</th>\n",
       "      <th>i</th>\n",
       "    </tr>\n",
       "  </thead>\n",
       "  <tbody>\n",
       "    <tr>\n",
       "      <th>0</th>\n",
       "      <td>Rockport oxford mens shoes 9.5</td>\n",
       "      <td>$39.00</td>\n",
       "      <td>US</td>\n",
       "      <td>{'Condition:': 'Pre-owned:An item that has bee...</td>\n",
       "      <td>https://i.ebayimg.com/images/g/iA8AAOSwkYpf5I-...</td>\n",
       "      <td>https://www.ebay.com/itm/Rockport-oxford-mens-...</td>\n",
       "      <td>./imgs/dressshoe/dressshoe0.jpg</td>\n",
       "    </tr>\n",
       "    <tr>\n",
       "      <th>1</th>\n",
       "      <td>Dr Doc Martens Black White Oxford Wingtip Brog...</td>\n",
       "      <td>$49.99</td>\n",
       "      <td>US</td>\n",
       "      <td>{'Condition:': 'Pre-owned:An item that has bee...</td>\n",
       "      <td>https://i.ebayimg.com/images/g/ReUAAOSwxB5ftKj...</td>\n",
       "      <td>https://www.ebay.com/itm/Dr-Doc-Martens-Black-...</td>\n",
       "      <td>./imgs/dressshoe/dressshoe1.jpg</td>\n",
       "    </tr>\n",
       "    <tr>\n",
       "      <th>2</th>\n",
       "      <td>Johnson Murphy Men Dress Shoes Sz 10.5-D</td>\n",
       "      <td>$50.00</td>\n",
       "      <td>US</td>\n",
       "      <td>{'Condition:': 'Pre-owned:An item that has bee...</td>\n",
       "      <td>https://i.ebayimg.com/images/g/qF8AAOSwmCxf5KM...</td>\n",
       "      <td>https://www.ebay.com/itm/Johnson-Murphy-Men-Dr...</td>\n",
       "      <td>./imgs/dressshoe/dressshoe2.jpg</td>\n",
       "    </tr>\n",
       "    <tr>\n",
       "      <th>3</th>\n",
       "      <td>VTG Florsheim Imperial Wing Tip Black Oxford D...</td>\n",
       "      <td>$24.99</td>\n",
       "      <td>US</td>\n",
       "      <td>{'Condition:': 'Pre-owned:An item that has bee...</td>\n",
       "      <td>https://i.ebayimg.com/images/g/eQAAAOSwevBf5K2...</td>\n",
       "      <td>https://www.ebay.com/itm/VTG-Florsheim-Imperia...</td>\n",
       "      <td>./imgs/dressshoe/dressshoe3.jpg</td>\n",
       "    </tr>\n",
       "    <tr>\n",
       "      <th>4</th>\n",
       "      <td>Allen Edmonds Mens Shoe Bridgeton Model Tassel...</td>\n",
       "      <td>$36.97</td>\n",
       "      <td>US</td>\n",
       "      <td>{'Condition:': 'Pre-owned:An item that has bee...</td>\n",
       "      <td>https://i.ebayimg.com/images/g/8KUAAOSwdHlf5Ku...</td>\n",
       "      <td>https://www.ebay.com/itm/Allen-Edmonds-Mens-Sh...</td>\n",
       "      <td>./imgs/dressshoe/dressshoe4.jpg</td>\n",
       "    </tr>\n",
       "  </tbody>\n",
       "</table>\n",
       "</div>"
      ],
      "text/plain": [
       "                                               title   price currency  \\\n",
       "0                     Rockport oxford mens shoes 9.5  $39.00       US   \n",
       "1  Dr Doc Martens Black White Oxford Wingtip Brog...  $49.99       US   \n",
       "2           Johnson Murphy Men Dress Shoes Sz 10.5-D  $50.00       US   \n",
       "3  VTG Florsheim Imperial Wing Tip Black Oxford D...  $24.99       US   \n",
       "4  Allen Edmonds Mens Shoe Bridgeton Model Tassel...  $36.97       US   \n",
       "\n",
       "                                          attributes  \\\n",
       "0  {'Condition:': 'Pre-owned:An item that has bee...   \n",
       "1  {'Condition:': 'Pre-owned:An item that has bee...   \n",
       "2  {'Condition:': 'Pre-owned:An item that has bee...   \n",
       "3  {'Condition:': 'Pre-owned:An item that has bee...   \n",
       "4  {'Condition:': 'Pre-owned:An item that has bee...   \n",
       "\n",
       "                                          image_link  \\\n",
       "0  https://i.ebayimg.com/images/g/iA8AAOSwkYpf5I-...   \n",
       "1  https://i.ebayimg.com/images/g/ReUAAOSwxB5ftKj...   \n",
       "2  https://i.ebayimg.com/images/g/qF8AAOSwmCxf5KM...   \n",
       "3  https://i.ebayimg.com/images/g/eQAAAOSwevBf5K2...   \n",
       "4  https://i.ebayimg.com/images/g/8KUAAOSwdHlf5Ku...   \n",
       "\n",
       "                                        listing_link  \\\n",
       "0  https://www.ebay.com/itm/Rockport-oxford-mens-...   \n",
       "1  https://www.ebay.com/itm/Dr-Doc-Martens-Black-...   \n",
       "2  https://www.ebay.com/itm/Johnson-Murphy-Men-Dr...   \n",
       "3  https://www.ebay.com/itm/VTG-Florsheim-Imperia...   \n",
       "4  https://www.ebay.com/itm/Allen-Edmonds-Mens-Sh...   \n",
       "\n",
       "                                 i  \n",
       "0  ./imgs/dressshoe/dressshoe0.jpg  \n",
       "1  ./imgs/dressshoe/dressshoe1.jpg  \n",
       "2  ./imgs/dressshoe/dressshoe2.jpg  \n",
       "3  ./imgs/dressshoe/dressshoe3.jpg  \n",
       "4  ./imgs/dressshoe/dressshoe4.jpg  "
      ]
     },
     "execution_count": 155,
     "metadata": {},
     "output_type": "execute_result"
    }
   ],
   "source": [
    "dress_shoes.head()"
   ]
  },
  {
   "cell_type": "code",
   "execution_count": 156,
   "metadata": {},
   "outputs": [
    {
     "data": {
      "text/plain": [
       "title           Mens Cole Haan boat deck shoes 12M white leath...\n",
       "price                                                      $66.99\n",
       "currency                                                       US\n",
       "attributes                                                    NaN\n",
       "image_link      https://i.ebayimg.com/images/g/BOEAAOSwc1JeZAX...\n",
       "listing_link    https://www.ebay.com/itm/Mens-Cole-Haan-boat-d...\n",
       "i                             ./imgs/dressshoe/dressshoe36083.jpg\n",
       "Name: 36083, dtype: object"
      ]
     },
     "execution_count": 156,
     "metadata": {},
     "output_type": "execute_result"
    }
   ],
   "source": [
    "dress_shoes.iloc[35495]"
   ]
  },
  {
   "cell_type": "code",
   "execution_count": 157,
   "metadata": {},
   "outputs": [
    {
     "data": {
      "text/html": [
       "<div>\n",
       "<style scoped>\n",
       "    .dataframe tbody tr th:only-of-type {\n",
       "        vertical-align: middle;\n",
       "    }\n",
       "\n",
       "    .dataframe tbody tr th {\n",
       "        vertical-align: top;\n",
       "    }\n",
       "\n",
       "    .dataframe thead th {\n",
       "        text-align: right;\n",
       "    }\n",
       "</style>\n",
       "<table border=\"1\" class=\"dataframe\">\n",
       "  <thead>\n",
       "    <tr style=\"text-align: right;\">\n",
       "      <th></th>\n",
       "      <th>price</th>\n",
       "    </tr>\n",
       "  </thead>\n",
       "  <tbody>\n",
       "    <tr>\n",
       "      <th>count</th>\n",
       "      <td>25732.000000</td>\n",
       "    </tr>\n",
       "    <tr>\n",
       "      <th>mean</th>\n",
       "      <td>82.300017</td>\n",
       "    </tr>\n",
       "    <tr>\n",
       "      <th>std</th>\n",
       "      <td>81.964743</td>\n",
       "    </tr>\n",
       "    <tr>\n",
       "      <th>min</th>\n",
       "      <td>8.990000</td>\n",
       "    </tr>\n",
       "    <tr>\n",
       "      <th>25%</th>\n",
       "      <td>36.980000</td>\n",
       "    </tr>\n",
       "    <tr>\n",
       "      <th>50%</th>\n",
       "      <td>49.990000</td>\n",
       "    </tr>\n",
       "    <tr>\n",
       "      <th>75%</th>\n",
       "      <td>89.990000</td>\n",
       "    </tr>\n",
       "    <tr>\n",
       "      <th>max</th>\n",
       "      <td>499.000000</td>\n",
       "    </tr>\n",
       "  </tbody>\n",
       "</table>\n",
       "</div>"
      ],
      "text/plain": [
       "              price\n",
       "count  25732.000000\n",
       "mean      82.300017\n",
       "std       81.964743\n",
       "min        8.990000\n",
       "25%       36.980000\n",
       "50%       49.990000\n",
       "75%       89.990000\n",
       "max      499.000000"
      ]
     },
     "execution_count": 157,
     "metadata": {},
     "output_type": "execute_result"
    }
   ],
   "source": [
    "dress_shoes['price'] = dress_shoes['price'].replace('[^.0-9]', '', regex=True).astype(float)\n",
    "\n",
    "dress_shoes.describe()"
   ]
  },
  {
   "cell_type": "code",
   "execution_count": 158,
   "metadata": {},
   "outputs": [
    {
     "data": {
      "text/html": [
       "<div>\n",
       "<style scoped>\n",
       "    .dataframe tbody tr th:only-of-type {\n",
       "        vertical-align: middle;\n",
       "    }\n",
       "\n",
       "    .dataframe tbody tr th {\n",
       "        vertical-align: top;\n",
       "    }\n",
       "\n",
       "    .dataframe thead th {\n",
       "        text-align: right;\n",
       "    }\n",
       "</style>\n",
       "<table border=\"1\" class=\"dataframe\">\n",
       "  <thead>\n",
       "    <tr style=\"text-align: right;\">\n",
       "      <th></th>\n",
       "      <th>title</th>\n",
       "      <th>price</th>\n",
       "      <th>currency</th>\n",
       "      <th>attributes</th>\n",
       "      <th>image_link</th>\n",
       "      <th>listing_link</th>\n",
       "      <th>i</th>\n",
       "    </tr>\n",
       "  </thead>\n",
       "  <tbody>\n",
       "    <tr>\n",
       "      <th>0</th>\n",
       "      <td>rogue territory Chino</td>\n",
       "      <td>$89.00</td>\n",
       "      <td>US</td>\n",
       "      <td>{'Condition:': 'Pre-owned:An item that has bee...</td>\n",
       "      <td>https://i.ebayimg.com/images/g/RZoAAOSwGgdf4kd...</td>\n",
       "      <td>https://www.ebay.com/itm/rogue-territory-Chino...</td>\n",
       "      <td>0</td>\n",
       "    </tr>\n",
       "    <tr>\n",
       "      <th>1</th>\n",
       "      <td>\"GRADE A\"  CARHARTT  AUTHENTIC COTTON DENIM WO...</td>\n",
       "      <td>$8.00</td>\n",
       "      <td>US</td>\n",
       "      <td>NaN</td>\n",
       "      <td>https://i.ebayimg.com/images/g/kHIAAOSwleBf0tv...</td>\n",
       "      <td>https://www.ebay.com/itm/GRADE-A-CARHARTT-AUTH...</td>\n",
       "      <td>1</td>\n",
       "    </tr>\n",
       "    <tr>\n",
       "      <th>2</th>\n",
       "      <td>Pelle Pelle Mens Jeans Black 36 X 34</td>\n",
       "      <td>$29.97</td>\n",
       "      <td>US</td>\n",
       "      <td>{'Condition:': 'Pre-owned:An item that has bee...</td>\n",
       "      <td>https://i.ebayimg.com/images/g/xBoAAOSwhTRf4nU...</td>\n",
       "      <td>https://www.ebay.com/itm/Pelle-Pelle-Mens-Jean...</td>\n",
       "      <td>2</td>\n",
       "    </tr>\n",
       "    <tr>\n",
       "      <th>3</th>\n",
       "      <td>Carhartt  Dungaree Fit  Brown Jeans 34 x 30 In...</td>\n",
       "      <td>$15.00</td>\n",
       "      <td>US</td>\n",
       "      <td>{'Condition:': 'Pre-owned:An item that has bee...</td>\n",
       "      <td>https://i.ebayimg.com/images/g/Ce8AAOSww6lf4nE...</td>\n",
       "      <td>https://www.ebay.com/itm/Carhartt-Dungaree-Fit...</td>\n",
       "      <td>3</td>\n",
       "    </tr>\n",
       "    <tr>\n",
       "      <th>4</th>\n",
       "      <td>Hollister Classic Straight Mens Medium Wash Je...</td>\n",
       "      <td>$15.00</td>\n",
       "      <td>US</td>\n",
       "      <td>{'Condition:': 'Pre-owned:An item that has bee...</td>\n",
       "      <td>https://i.ebayimg.com/images/g/CCkAAOSwpsJfuX8...</td>\n",
       "      <td>https://www.ebay.com/itm/Hollister-Classic-Str...</td>\n",
       "      <td>4</td>\n",
       "    </tr>\n",
       "  </tbody>\n",
       "</table>\n",
       "</div>"
      ],
      "text/plain": [
       "                                               title   price currency  \\\n",
       "0                             rogue territory Chino   $89.00       US   \n",
       "1  \"GRADE A\"  CARHARTT  AUTHENTIC COTTON DENIM WO...   $8.00       US   \n",
       "2               Pelle Pelle Mens Jeans Black 36 X 34  $29.97       US   \n",
       "3  Carhartt  Dungaree Fit  Brown Jeans 34 x 30 In...  $15.00       US   \n",
       "4  Hollister Classic Straight Mens Medium Wash Je...  $15.00       US   \n",
       "\n",
       "                                          attributes  \\\n",
       "0  {'Condition:': 'Pre-owned:An item that has bee...   \n",
       "1                                                NaN   \n",
       "2  {'Condition:': 'Pre-owned:An item that has bee...   \n",
       "3  {'Condition:': 'Pre-owned:An item that has bee...   \n",
       "4  {'Condition:': 'Pre-owned:An item that has bee...   \n",
       "\n",
       "                                          image_link  \\\n",
       "0  https://i.ebayimg.com/images/g/RZoAAOSwGgdf4kd...   \n",
       "1  https://i.ebayimg.com/images/g/kHIAAOSwleBf0tv...   \n",
       "2  https://i.ebayimg.com/images/g/xBoAAOSwhTRf4nU...   \n",
       "3  https://i.ebayimg.com/images/g/Ce8AAOSww6lf4nE...   \n",
       "4  https://i.ebayimg.com/images/g/CCkAAOSwpsJfuX8...   \n",
       "\n",
       "                                        listing_link  i  \n",
       "0  https://www.ebay.com/itm/rogue-territory-Chino...  0  \n",
       "1  https://www.ebay.com/itm/GRADE-A-CARHARTT-AUTH...  1  \n",
       "2  https://www.ebay.com/itm/Pelle-Pelle-Mens-Jean...  2  \n",
       "3  https://www.ebay.com/itm/Carhartt-Dungaree-Fit...  3  \n",
       "4  https://www.ebay.com/itm/Hollister-Classic-Str...  4  "
      ]
     },
     "execution_count": 158,
     "metadata": {},
     "output_type": "execute_result"
    }
   ],
   "source": [
    "jeans['i'] = jeans.index\n",
    "\n",
    "jeans.head()"
   ]
  },
  {
   "cell_type": "code",
   "execution_count": 159,
   "metadata": {},
   "outputs": [
    {
     "name": "stderr",
     "output_type": "stream",
     "text": [
      "/home/mario/anaconda3/envs/tensorflow/lib/python3.7/site-packages/ipykernel_launcher.py:2: SettingWithCopyWarning: \n",
      "A value is trying to be set on a copy of a slice from a DataFrame\n",
      "\n",
      "See the caveats in the documentation: https://pandas.pydata.org/pandas-docs/stable/user_guide/indexing.html#returning-a-view-versus-a-copy\n",
      "  \n",
      "/home/mario/anaconda3/envs/tensorflow/lib/python3.7/site-packages/pandas/core/indexing.py:670: SettingWithCopyWarning: \n",
      "A value is trying to be set on a copy of a slice from a DataFrame\n",
      "\n",
      "See the caveats in the documentation: https://pandas.pydata.org/pandas-docs/stable/user_guide/indexing.html#returning-a-view-versus-a-copy\n",
      "  iloc._setitem_with_indexer(indexer, value)\n"
     ]
    }
   ],
   "source": [
    "for i in jeans.index:\n",
    "    jeans['i'][i] = './imgs/jeans/jeans' + str(i) + '.jpg'"
   ]
  },
  {
   "cell_type": "code",
   "execution_count": 160,
   "metadata": {},
   "outputs": [
    {
     "data": {
      "text/html": [
       "<div>\n",
       "<style scoped>\n",
       "    .dataframe tbody tr th:only-of-type {\n",
       "        vertical-align: middle;\n",
       "    }\n",
       "\n",
       "    .dataframe tbody tr th {\n",
       "        vertical-align: top;\n",
       "    }\n",
       "\n",
       "    .dataframe thead th {\n",
       "        text-align: right;\n",
       "    }\n",
       "</style>\n",
       "<table border=\"1\" class=\"dataframe\">\n",
       "  <thead>\n",
       "    <tr style=\"text-align: right;\">\n",
       "      <th></th>\n",
       "      <th>title</th>\n",
       "      <th>price</th>\n",
       "      <th>currency</th>\n",
       "      <th>attributes</th>\n",
       "      <th>image_link</th>\n",
       "      <th>listing_link</th>\n",
       "      <th>i</th>\n",
       "    </tr>\n",
       "  </thead>\n",
       "  <tbody>\n",
       "    <tr>\n",
       "      <th>0</th>\n",
       "      <td>rogue territory Chino</td>\n",
       "      <td>$89.00</td>\n",
       "      <td>US</td>\n",
       "      <td>{'Condition:': 'Pre-owned:An item that has bee...</td>\n",
       "      <td>https://i.ebayimg.com/images/g/RZoAAOSwGgdf4kd...</td>\n",
       "      <td>https://www.ebay.com/itm/rogue-territory-Chino...</td>\n",
       "      <td>./imgs/jeans/jeans0.jpg</td>\n",
       "    </tr>\n",
       "    <tr>\n",
       "      <th>1</th>\n",
       "      <td>\"GRADE A\"  CARHARTT  AUTHENTIC COTTON DENIM WO...</td>\n",
       "      <td>$8.00</td>\n",
       "      <td>US</td>\n",
       "      <td>NaN</td>\n",
       "      <td>https://i.ebayimg.com/images/g/kHIAAOSwleBf0tv...</td>\n",
       "      <td>https://www.ebay.com/itm/GRADE-A-CARHARTT-AUTH...</td>\n",
       "      <td>./imgs/jeans/jeans1.jpg</td>\n",
       "    </tr>\n",
       "    <tr>\n",
       "      <th>2</th>\n",
       "      <td>Pelle Pelle Mens Jeans Black 36 X 34</td>\n",
       "      <td>$29.97</td>\n",
       "      <td>US</td>\n",
       "      <td>{'Condition:': 'Pre-owned:An item that has bee...</td>\n",
       "      <td>https://i.ebayimg.com/images/g/xBoAAOSwhTRf4nU...</td>\n",
       "      <td>https://www.ebay.com/itm/Pelle-Pelle-Mens-Jean...</td>\n",
       "      <td>./imgs/jeans/jeans2.jpg</td>\n",
       "    </tr>\n",
       "    <tr>\n",
       "      <th>3</th>\n",
       "      <td>Carhartt  Dungaree Fit  Brown Jeans 34 x 30 In...</td>\n",
       "      <td>$15.00</td>\n",
       "      <td>US</td>\n",
       "      <td>{'Condition:': 'Pre-owned:An item that has bee...</td>\n",
       "      <td>https://i.ebayimg.com/images/g/Ce8AAOSww6lf4nE...</td>\n",
       "      <td>https://www.ebay.com/itm/Carhartt-Dungaree-Fit...</td>\n",
       "      <td>./imgs/jeans/jeans3.jpg</td>\n",
       "    </tr>\n",
       "    <tr>\n",
       "      <th>4</th>\n",
       "      <td>Hollister Classic Straight Mens Medium Wash Je...</td>\n",
       "      <td>$15.00</td>\n",
       "      <td>US</td>\n",
       "      <td>{'Condition:': 'Pre-owned:An item that has bee...</td>\n",
       "      <td>https://i.ebayimg.com/images/g/CCkAAOSwpsJfuX8...</td>\n",
       "      <td>https://www.ebay.com/itm/Hollister-Classic-Str...</td>\n",
       "      <td>./imgs/jeans/jeans4.jpg</td>\n",
       "    </tr>\n",
       "  </tbody>\n",
       "</table>\n",
       "</div>"
      ],
      "text/plain": [
       "                                               title   price currency  \\\n",
       "0                             rogue territory Chino   $89.00       US   \n",
       "1  \"GRADE A\"  CARHARTT  AUTHENTIC COTTON DENIM WO...   $8.00       US   \n",
       "2               Pelle Pelle Mens Jeans Black 36 X 34  $29.97       US   \n",
       "3  Carhartt  Dungaree Fit  Brown Jeans 34 x 30 In...  $15.00       US   \n",
       "4  Hollister Classic Straight Mens Medium Wash Je...  $15.00       US   \n",
       "\n",
       "                                          attributes  \\\n",
       "0  {'Condition:': 'Pre-owned:An item that has bee...   \n",
       "1                                                NaN   \n",
       "2  {'Condition:': 'Pre-owned:An item that has bee...   \n",
       "3  {'Condition:': 'Pre-owned:An item that has bee...   \n",
       "4  {'Condition:': 'Pre-owned:An item that has bee...   \n",
       "\n",
       "                                          image_link  \\\n",
       "0  https://i.ebayimg.com/images/g/RZoAAOSwGgdf4kd...   \n",
       "1  https://i.ebayimg.com/images/g/kHIAAOSwleBf0tv...   \n",
       "2  https://i.ebayimg.com/images/g/xBoAAOSwhTRf4nU...   \n",
       "3  https://i.ebayimg.com/images/g/Ce8AAOSww6lf4nE...   \n",
       "4  https://i.ebayimg.com/images/g/CCkAAOSwpsJfuX8...   \n",
       "\n",
       "                                        listing_link                        i  \n",
       "0  https://www.ebay.com/itm/rogue-territory-Chino...  ./imgs/jeans/jeans0.jpg  \n",
       "1  https://www.ebay.com/itm/GRADE-A-CARHARTT-AUTH...  ./imgs/jeans/jeans1.jpg  \n",
       "2  https://www.ebay.com/itm/Pelle-Pelle-Mens-Jean...  ./imgs/jeans/jeans2.jpg  \n",
       "3  https://www.ebay.com/itm/Carhartt-Dungaree-Fit...  ./imgs/jeans/jeans3.jpg  \n",
       "4  https://www.ebay.com/itm/Hollister-Classic-Str...  ./imgs/jeans/jeans4.jpg  "
      ]
     },
     "execution_count": 160,
     "metadata": {},
     "output_type": "execute_result"
    }
   ],
   "source": [
    "jeans.head()"
   ]
  },
  {
   "cell_type": "code",
   "execution_count": 161,
   "metadata": {},
   "outputs": [
    {
     "data": {
      "text/plain": [
       "title           Vintage Mens Dickies Denim Overalls 34x30 Made...\n",
       "price                                                      $34.99\n",
       "currency                                                       US\n",
       "attributes      {'Condition:': 'Pre-owned:An item that has bee...\n",
       "image_link      https://i.ebayimg.com/images/g/9GoAAOSwbs5f4q2...\n",
       "listing_link    https://www.ebay.com/itm/Vintage-Mens-Dickies-...\n",
       "i                                     ./imgs/jeans/jeans24629.jpg\n",
       "Name: 24629, dtype: object"
      ]
     },
     "execution_count": 161,
     "metadata": {},
     "output_type": "execute_result"
    }
   ],
   "source": [
    "jeans.iloc[24391]"
   ]
  },
  {
   "cell_type": "code",
   "execution_count": 162,
   "metadata": {},
   "outputs": [
    {
     "data": {
      "text/html": [
       "<div>\n",
       "<style scoped>\n",
       "    .dataframe tbody tr th:only-of-type {\n",
       "        vertical-align: middle;\n",
       "    }\n",
       "\n",
       "    .dataframe tbody tr th {\n",
       "        vertical-align: top;\n",
       "    }\n",
       "\n",
       "    .dataframe thead th {\n",
       "        text-align: right;\n",
       "    }\n",
       "</style>\n",
       "<table border=\"1\" class=\"dataframe\">\n",
       "  <thead>\n",
       "    <tr style=\"text-align: right;\">\n",
       "      <th></th>\n",
       "      <th>price</th>\n",
       "    </tr>\n",
       "  </thead>\n",
       "  <tbody>\n",
       "    <tr>\n",
       "      <th>count</th>\n",
       "      <td>20828.000000</td>\n",
       "    </tr>\n",
       "    <tr>\n",
       "      <th>mean</th>\n",
       "      <td>41.806169</td>\n",
       "    </tr>\n",
       "    <tr>\n",
       "      <th>std</th>\n",
       "      <td>46.988513</td>\n",
       "    </tr>\n",
       "    <tr>\n",
       "      <th>min</th>\n",
       "      <td>5.000000</td>\n",
       "    </tr>\n",
       "    <tr>\n",
       "      <th>25%</th>\n",
       "      <td>23.990000</td>\n",
       "    </tr>\n",
       "    <tr>\n",
       "      <th>50%</th>\n",
       "      <td>32.000000</td>\n",
       "    </tr>\n",
       "    <tr>\n",
       "      <th>75%</th>\n",
       "      <td>49.990000</td>\n",
       "    </tr>\n",
       "    <tr>\n",
       "      <th>max</th>\n",
       "      <td>950.000000</td>\n",
       "    </tr>\n",
       "  </tbody>\n",
       "</table>\n",
       "</div>"
      ],
      "text/plain": [
       "              price\n",
       "count  20828.000000\n",
       "mean      41.806169\n",
       "std       46.988513\n",
       "min        5.000000\n",
       "25%       23.990000\n",
       "50%       32.000000\n",
       "75%       49.990000\n",
       "max      950.000000"
      ]
     },
     "execution_count": 162,
     "metadata": {},
     "output_type": "execute_result"
    }
   ],
   "source": [
    "jeans['price'] = jeans['price'].replace('[^.0-9]', '', regex=True).astype(float)\n",
    "\n",
    "jeans.describe()"
   ]
  },
  {
   "cell_type": "code",
   "execution_count": 163,
   "metadata": {},
   "outputs": [
    {
     "data": {
      "text/html": [
       "<div>\n",
       "<style scoped>\n",
       "    .dataframe tbody tr th:only-of-type {\n",
       "        vertical-align: middle;\n",
       "    }\n",
       "\n",
       "    .dataframe tbody tr th {\n",
       "        vertical-align: top;\n",
       "    }\n",
       "\n",
       "    .dataframe thead th {\n",
       "        text-align: right;\n",
       "    }\n",
       "</style>\n",
       "<table border=\"1\" class=\"dataframe\">\n",
       "  <thead>\n",
       "    <tr style=\"text-align: right;\">\n",
       "      <th></th>\n",
       "      <th>title</th>\n",
       "      <th>price</th>\n",
       "      <th>currency</th>\n",
       "      <th>attributes</th>\n",
       "      <th>image_link</th>\n",
       "      <th>listing_link</th>\n",
       "      <th>i</th>\n",
       "    </tr>\n",
       "  </thead>\n",
       "  <tbody>\n",
       "    <tr>\n",
       "      <th>0</th>\n",
       "      <td>Dickies Carpenter Jeans Dungaree Five Pocket H...</td>\n",
       "      <td>$19.99/ea</td>\n",
       "      <td>US</td>\n",
       "      <td>NaN</td>\n",
       "      <td>https://i.ebayimg.com/images/g/DAoAAOSwaldesiK...</td>\n",
       "      <td>https://www.ebay.com/itm/Dickies-Carpenter-Jea...</td>\n",
       "      <td>0</td>\n",
       "    </tr>\n",
       "    <tr>\n",
       "      <th>1</th>\n",
       "      <td>Carhartt work pants 32x30</td>\n",
       "      <td>$25.00</td>\n",
       "      <td>US</td>\n",
       "      <td>{'Condition:': 'Pre-owned:An item that has bee...</td>\n",
       "      <td>https://i.ebayimg.com/images/g/ME0AAOSwh1tf2Uw...</td>\n",
       "      <td>https://www.ebay.com/itm/Carhartt-work-pants-3...</td>\n",
       "      <td>1</td>\n",
       "    </tr>\n",
       "    <tr>\n",
       "      <th>2</th>\n",
       "      <td>Cargo Work Pants Uniform Used Cintas Unifirst ...</td>\n",
       "      <td>$8.89</td>\n",
       "      <td>US</td>\n",
       "      <td>{'Condition:': 'Pre-owned:An item that has bee...</td>\n",
       "      <td>https://i.ebayimg.com/images/g/Q7gAAOSwWUVc3DR...</td>\n",
       "      <td>https://www.ebay.com/itm/Cargo-Work-Pants-Unif...</td>\n",
       "      <td>2</td>\n",
       "    </tr>\n",
       "    <tr>\n",
       "      <th>3</th>\n",
       "      <td>IBEX New Wool Order Men’s Pant Size 32</td>\n",
       "      <td>$75.00</td>\n",
       "      <td>US</td>\n",
       "      <td>{'Condition:': 'Pre-owned:An item that has bee...</td>\n",
       "      <td>https://i.ebayimg.com/images/g/g1QAAOSw97dfyy9...</td>\n",
       "      <td>https://www.ebay.com/itm/IBEX-New-Wool-Order-M...</td>\n",
       "      <td>3</td>\n",
       "    </tr>\n",
       "    <tr>\n",
       "      <th>4</th>\n",
       "      <td>CARHARTT DOUBLE KNEE PANTS 36X28 CARPENTER WOR...</td>\n",
       "      <td>$27.99</td>\n",
       "      <td>US</td>\n",
       "      <td>{'Condition:': 'Pre-owned:An item that has bee...</td>\n",
       "      <td>https://i.ebayimg.com/images/g/e~cAAOSwHflf2Sm...</td>\n",
       "      <td>https://www.ebay.com/itm/CARHARTT-DOUBLE-KNEE-...</td>\n",
       "      <td>4</td>\n",
       "    </tr>\n",
       "  </tbody>\n",
       "</table>\n",
       "</div>"
      ],
      "text/plain": [
       "                                               title      price currency  \\\n",
       "0  Dickies Carpenter Jeans Dungaree Five Pocket H...  $19.99/ea       US   \n",
       "1                          Carhartt work pants 32x30     $25.00       US   \n",
       "2  Cargo Work Pants Uniform Used Cintas Unifirst ...      $8.89       US   \n",
       "3             IBEX New Wool Order Men’s Pant Size 32     $75.00       US   \n",
       "4  CARHARTT DOUBLE KNEE PANTS 36X28 CARPENTER WOR...     $27.99       US   \n",
       "\n",
       "                                          attributes  \\\n",
       "0                                                NaN   \n",
       "1  {'Condition:': 'Pre-owned:An item that has bee...   \n",
       "2  {'Condition:': 'Pre-owned:An item that has bee...   \n",
       "3  {'Condition:': 'Pre-owned:An item that has bee...   \n",
       "4  {'Condition:': 'Pre-owned:An item that has bee...   \n",
       "\n",
       "                                          image_link  \\\n",
       "0  https://i.ebayimg.com/images/g/DAoAAOSwaldesiK...   \n",
       "1  https://i.ebayimg.com/images/g/ME0AAOSwh1tf2Uw...   \n",
       "2  https://i.ebayimg.com/images/g/Q7gAAOSwWUVc3DR...   \n",
       "3  https://i.ebayimg.com/images/g/g1QAAOSw97dfyy9...   \n",
       "4  https://i.ebayimg.com/images/g/e~cAAOSwHflf2Sm...   \n",
       "\n",
       "                                        listing_link  i  \n",
       "0  https://www.ebay.com/itm/Dickies-Carpenter-Jea...  0  \n",
       "1  https://www.ebay.com/itm/Carhartt-work-pants-3...  1  \n",
       "2  https://www.ebay.com/itm/Cargo-Work-Pants-Unif...  2  \n",
       "3  https://www.ebay.com/itm/IBEX-New-Wool-Order-M...  3  \n",
       "4  https://www.ebay.com/itm/CARHARTT-DOUBLE-KNEE-...  4  "
      ]
     },
     "execution_count": 163,
     "metadata": {},
     "output_type": "execute_result"
    }
   ],
   "source": [
    "pants['i'] = pants.index\n",
    "\n",
    "pants.head()"
   ]
  },
  {
   "cell_type": "code",
   "execution_count": 164,
   "metadata": {},
   "outputs": [
    {
     "name": "stderr",
     "output_type": "stream",
     "text": [
      "/home/mario/anaconda3/envs/tensorflow/lib/python3.7/site-packages/ipykernel_launcher.py:2: SettingWithCopyWarning: \n",
      "A value is trying to be set on a copy of a slice from a DataFrame\n",
      "\n",
      "See the caveats in the documentation: https://pandas.pydata.org/pandas-docs/stable/user_guide/indexing.html#returning-a-view-versus-a-copy\n",
      "  \n",
      "/home/mario/anaconda3/envs/tensorflow/lib/python3.7/site-packages/pandas/core/indexing.py:670: SettingWithCopyWarning: \n",
      "A value is trying to be set on a copy of a slice from a DataFrame\n",
      "\n",
      "See the caveats in the documentation: https://pandas.pydata.org/pandas-docs/stable/user_guide/indexing.html#returning-a-view-versus-a-copy\n",
      "  iloc._setitem_with_indexer(indexer, value)\n"
     ]
    }
   ],
   "source": [
    "for i in pants.index:\n",
    "    pants['i'][i] = './imgs/pants/pants' + str(i) + '.jpg'"
   ]
  },
  {
   "cell_type": "code",
   "execution_count": 165,
   "metadata": {},
   "outputs": [
    {
     "data": {
      "text/html": [
       "<div>\n",
       "<style scoped>\n",
       "    .dataframe tbody tr th:only-of-type {\n",
       "        vertical-align: middle;\n",
       "    }\n",
       "\n",
       "    .dataframe tbody tr th {\n",
       "        vertical-align: top;\n",
       "    }\n",
       "\n",
       "    .dataframe thead th {\n",
       "        text-align: right;\n",
       "    }\n",
       "</style>\n",
       "<table border=\"1\" class=\"dataframe\">\n",
       "  <thead>\n",
       "    <tr style=\"text-align: right;\">\n",
       "      <th></th>\n",
       "      <th>title</th>\n",
       "      <th>price</th>\n",
       "      <th>currency</th>\n",
       "      <th>attributes</th>\n",
       "      <th>image_link</th>\n",
       "      <th>listing_link</th>\n",
       "      <th>i</th>\n",
       "    </tr>\n",
       "  </thead>\n",
       "  <tbody>\n",
       "    <tr>\n",
       "      <th>0</th>\n",
       "      <td>Dickies Carpenter Jeans Dungaree Five Pocket H...</td>\n",
       "      <td>$19.99/ea</td>\n",
       "      <td>US</td>\n",
       "      <td>NaN</td>\n",
       "      <td>https://i.ebayimg.com/images/g/DAoAAOSwaldesiK...</td>\n",
       "      <td>https://www.ebay.com/itm/Dickies-Carpenter-Jea...</td>\n",
       "      <td>./imgs/pants/pants0.jpg</td>\n",
       "    </tr>\n",
       "    <tr>\n",
       "      <th>1</th>\n",
       "      <td>Carhartt work pants 32x30</td>\n",
       "      <td>$25.00</td>\n",
       "      <td>US</td>\n",
       "      <td>{'Condition:': 'Pre-owned:An item that has bee...</td>\n",
       "      <td>https://i.ebayimg.com/images/g/ME0AAOSwh1tf2Uw...</td>\n",
       "      <td>https://www.ebay.com/itm/Carhartt-work-pants-3...</td>\n",
       "      <td>./imgs/pants/pants1.jpg</td>\n",
       "    </tr>\n",
       "    <tr>\n",
       "      <th>2</th>\n",
       "      <td>Cargo Work Pants Uniform Used Cintas Unifirst ...</td>\n",
       "      <td>$8.89</td>\n",
       "      <td>US</td>\n",
       "      <td>{'Condition:': 'Pre-owned:An item that has bee...</td>\n",
       "      <td>https://i.ebayimg.com/images/g/Q7gAAOSwWUVc3DR...</td>\n",
       "      <td>https://www.ebay.com/itm/Cargo-Work-Pants-Unif...</td>\n",
       "      <td>./imgs/pants/pants2.jpg</td>\n",
       "    </tr>\n",
       "    <tr>\n",
       "      <th>3</th>\n",
       "      <td>IBEX New Wool Order Men’s Pant Size 32</td>\n",
       "      <td>$75.00</td>\n",
       "      <td>US</td>\n",
       "      <td>{'Condition:': 'Pre-owned:An item that has bee...</td>\n",
       "      <td>https://i.ebayimg.com/images/g/g1QAAOSw97dfyy9...</td>\n",
       "      <td>https://www.ebay.com/itm/IBEX-New-Wool-Order-M...</td>\n",
       "      <td>./imgs/pants/pants3.jpg</td>\n",
       "    </tr>\n",
       "    <tr>\n",
       "      <th>4</th>\n",
       "      <td>CARHARTT DOUBLE KNEE PANTS 36X28 CARPENTER WOR...</td>\n",
       "      <td>$27.99</td>\n",
       "      <td>US</td>\n",
       "      <td>{'Condition:': 'Pre-owned:An item that has bee...</td>\n",
       "      <td>https://i.ebayimg.com/images/g/e~cAAOSwHflf2Sm...</td>\n",
       "      <td>https://www.ebay.com/itm/CARHARTT-DOUBLE-KNEE-...</td>\n",
       "      <td>./imgs/pants/pants4.jpg</td>\n",
       "    </tr>\n",
       "  </tbody>\n",
       "</table>\n",
       "</div>"
      ],
      "text/plain": [
       "                                               title      price currency  \\\n",
       "0  Dickies Carpenter Jeans Dungaree Five Pocket H...  $19.99/ea       US   \n",
       "1                          Carhartt work pants 32x30     $25.00       US   \n",
       "2  Cargo Work Pants Uniform Used Cintas Unifirst ...      $8.89       US   \n",
       "3             IBEX New Wool Order Men’s Pant Size 32     $75.00       US   \n",
       "4  CARHARTT DOUBLE KNEE PANTS 36X28 CARPENTER WOR...     $27.99       US   \n",
       "\n",
       "                                          attributes  \\\n",
       "0                                                NaN   \n",
       "1  {'Condition:': 'Pre-owned:An item that has bee...   \n",
       "2  {'Condition:': 'Pre-owned:An item that has bee...   \n",
       "3  {'Condition:': 'Pre-owned:An item that has bee...   \n",
       "4  {'Condition:': 'Pre-owned:An item that has bee...   \n",
       "\n",
       "                                          image_link  \\\n",
       "0  https://i.ebayimg.com/images/g/DAoAAOSwaldesiK...   \n",
       "1  https://i.ebayimg.com/images/g/ME0AAOSwh1tf2Uw...   \n",
       "2  https://i.ebayimg.com/images/g/Q7gAAOSwWUVc3DR...   \n",
       "3  https://i.ebayimg.com/images/g/g1QAAOSw97dfyy9...   \n",
       "4  https://i.ebayimg.com/images/g/e~cAAOSwHflf2Sm...   \n",
       "\n",
       "                                        listing_link                        i  \n",
       "0  https://www.ebay.com/itm/Dickies-Carpenter-Jea...  ./imgs/pants/pants0.jpg  \n",
       "1  https://www.ebay.com/itm/Carhartt-work-pants-3...  ./imgs/pants/pants1.jpg  \n",
       "2  https://www.ebay.com/itm/Cargo-Work-Pants-Unif...  ./imgs/pants/pants2.jpg  \n",
       "3  https://www.ebay.com/itm/IBEX-New-Wool-Order-M...  ./imgs/pants/pants3.jpg  \n",
       "4  https://www.ebay.com/itm/CARHARTT-DOUBLE-KNEE-...  ./imgs/pants/pants4.jpg  "
      ]
     },
     "execution_count": 165,
     "metadata": {},
     "output_type": "execute_result"
    }
   ],
   "source": [
    "pants.head()"
   ]
  },
  {
   "cell_type": "code",
   "execution_count": 166,
   "metadata": {},
   "outputs": [
    {
     "data": {
      "text/plain": [
       "title             Polo Ralph Lauren Men's Sleepwear Pants Size XL\n",
       "price                                                      $29.99\n",
       "currency                                                       US\n",
       "attributes      {'Condition:': 'Pre-owned:An item that has bee...\n",
       "image_link      https://i.ebayimg.com/images/g/mHUAAOSwoZBf4r1...\n",
       "listing_link    https://www.ebay.com/itm/Polo-Ralph-Lauren-Men...\n",
       "i                                     ./imgs/pants/pants20910.jpg\n",
       "Name: 20910, dtype: object"
      ]
     },
     "execution_count": 166,
     "metadata": {},
     "output_type": "execute_result"
    }
   ],
   "source": [
    "pants.iloc[20791]"
   ]
  },
  {
   "cell_type": "code",
   "execution_count": 167,
   "metadata": {},
   "outputs": [
    {
     "data": {
      "text/html": [
       "<div>\n",
       "<style scoped>\n",
       "    .dataframe tbody tr th:only-of-type {\n",
       "        vertical-align: middle;\n",
       "    }\n",
       "\n",
       "    .dataframe tbody tr th {\n",
       "        vertical-align: top;\n",
       "    }\n",
       "\n",
       "    .dataframe thead th {\n",
       "        text-align: right;\n",
       "    }\n",
       "</style>\n",
       "<table border=\"1\" class=\"dataframe\">\n",
       "  <thead>\n",
       "    <tr style=\"text-align: right;\">\n",
       "      <th></th>\n",
       "      <th>price</th>\n",
       "    </tr>\n",
       "  </thead>\n",
       "  <tbody>\n",
       "    <tr>\n",
       "      <th>count</th>\n",
       "      <td>18286.000000</td>\n",
       "    </tr>\n",
       "    <tr>\n",
       "      <th>mean</th>\n",
       "      <td>42.470873</td>\n",
       "    </tr>\n",
       "    <tr>\n",
       "      <th>std</th>\n",
       "      <td>36.637599</td>\n",
       "    </tr>\n",
       "    <tr>\n",
       "      <th>min</th>\n",
       "      <td>4.490000</td>\n",
       "    </tr>\n",
       "    <tr>\n",
       "      <th>25%</th>\n",
       "      <td>24.990000</td>\n",
       "    </tr>\n",
       "    <tr>\n",
       "      <th>50%</th>\n",
       "      <td>29.990000</td>\n",
       "    </tr>\n",
       "    <tr>\n",
       "      <th>75%</th>\n",
       "      <td>48.000000</td>\n",
       "    </tr>\n",
       "    <tr>\n",
       "      <th>max</th>\n",
       "      <td>295.000000</td>\n",
       "    </tr>\n",
       "  </tbody>\n",
       "</table>\n",
       "</div>"
      ],
      "text/plain": [
       "              price\n",
       "count  18286.000000\n",
       "mean      42.470873\n",
       "std       36.637599\n",
       "min        4.490000\n",
       "25%       24.990000\n",
       "50%       29.990000\n",
       "75%       48.000000\n",
       "max      295.000000"
      ]
     },
     "execution_count": 167,
     "metadata": {},
     "output_type": "execute_result"
    }
   ],
   "source": [
    "pants['price'] = pants['price'].replace('[^.0-9]', '', regex=True).astype(float)\n",
    "\n",
    "pants.describe()"
   ]
  },
  {
   "cell_type": "code",
   "execution_count": 168,
   "metadata": {},
   "outputs": [
    {
     "data": {
      "text/html": [
       "<div>\n",
       "<style scoped>\n",
       "    .dataframe tbody tr th:only-of-type {\n",
       "        vertical-align: middle;\n",
       "    }\n",
       "\n",
       "    .dataframe tbody tr th {\n",
       "        vertical-align: top;\n",
       "    }\n",
       "\n",
       "    .dataframe thead th {\n",
       "        text-align: right;\n",
       "    }\n",
       "</style>\n",
       "<table border=\"1\" class=\"dataframe\">\n",
       "  <thead>\n",
       "    <tr style=\"text-align: right;\">\n",
       "      <th></th>\n",
       "      <th>title</th>\n",
       "      <th>price</th>\n",
       "      <th>currency</th>\n",
       "      <th>attributes</th>\n",
       "      <th>image_link</th>\n",
       "      <th>listing_link</th>\n",
       "      <th>i</th>\n",
       "    </tr>\n",
       "  </thead>\n",
       "  <tbody>\n",
       "    <tr>\n",
       "      <th>0</th>\n",
       "      <td>Van Heusen Studio Polo Slim Fit Men's Sz XL</td>\n",
       "      <td>$5.50</td>\n",
       "      <td>US</td>\n",
       "      <td>NaN</td>\n",
       "      <td>https://i.ebayimg.com/images/g/iFcAAOSw9BBf44g...</td>\n",
       "      <td>https://www.ebay.com/itm/Van-Heusen-Studio-Pol...</td>\n",
       "      <td>0</td>\n",
       "    </tr>\n",
       "    <tr>\n",
       "      <th>1</th>\n",
       "      <td>Ducks Unlimited Green Short Sleeve Polo Shirt ...</td>\n",
       "      <td>$21.99</td>\n",
       "      <td>US</td>\n",
       "      <td>NaN</td>\n",
       "      <td>https://i.ebayimg.com/images/g/xDAAAOSwFjRf3l0...</td>\n",
       "      <td>https://www.ebay.com/itm/Ducks-Unlimited-Green...</td>\n",
       "      <td>1</td>\n",
       "    </tr>\n",
       "    <tr>\n",
       "      <th>2</th>\n",
       "      <td>Rhoback Mens XL Performance Golf Collared Polo...</td>\n",
       "      <td>$54.95</td>\n",
       "      <td>US</td>\n",
       "      <td>NaN</td>\n",
       "      <td>https://i.ebayimg.com/images/g/ho0AAOSwQHVf44Y...</td>\n",
       "      <td>https://www.ebay.com/itm/Rhoback-Mens-XL-Perfo...</td>\n",
       "      <td>2</td>\n",
       "    </tr>\n",
       "    <tr>\n",
       "      <th>3</th>\n",
       "      <td>RLX Golf Polo Medium</td>\n",
       "      <td>$19.99</td>\n",
       "      <td>US</td>\n",
       "      <td>{'Condition:': 'Pre-owned:An item that has bee...</td>\n",
       "      <td>https://i.ebayimg.com/images/g/SbgAAOSwenZfqZR...</td>\n",
       "      <td>https://www.ebay.com/itm/RLX-Golf-Polo-Medium/...</td>\n",
       "      <td>3</td>\n",
       "    </tr>\n",
       "    <tr>\n",
       "      <th>4</th>\n",
       "      <td>Fred Perry Mens Large Embroidered Logo Collare...</td>\n",
       "      <td>$33.95</td>\n",
       "      <td>US</td>\n",
       "      <td>{'Condition:': 'Pre-owned:An item that has bee...</td>\n",
       "      <td>https://i.ebayimg.com/images/g/upIAAOSwl5Bf44g...</td>\n",
       "      <td>https://www.ebay.com/itm/Fred-Perry-Mens-Large...</td>\n",
       "      <td>4</td>\n",
       "    </tr>\n",
       "  </tbody>\n",
       "</table>\n",
       "</div>"
      ],
      "text/plain": [
       "                                               title   price currency  \\\n",
       "0        Van Heusen Studio Polo Slim Fit Men's Sz XL   $5.50       US   \n",
       "1  Ducks Unlimited Green Short Sleeve Polo Shirt ...  $21.99       US   \n",
       "2  Rhoback Mens XL Performance Golf Collared Polo...  $54.95       US   \n",
       "3                               RLX Golf Polo Medium  $19.99       US   \n",
       "4  Fred Perry Mens Large Embroidered Logo Collare...  $33.95       US   \n",
       "\n",
       "                                          attributes  \\\n",
       "0                                                NaN   \n",
       "1                                                NaN   \n",
       "2                                                NaN   \n",
       "3  {'Condition:': 'Pre-owned:An item that has bee...   \n",
       "4  {'Condition:': 'Pre-owned:An item that has bee...   \n",
       "\n",
       "                                          image_link  \\\n",
       "0  https://i.ebayimg.com/images/g/iFcAAOSw9BBf44g...   \n",
       "1  https://i.ebayimg.com/images/g/xDAAAOSwFjRf3l0...   \n",
       "2  https://i.ebayimg.com/images/g/ho0AAOSwQHVf44Y...   \n",
       "3  https://i.ebayimg.com/images/g/SbgAAOSwenZfqZR...   \n",
       "4  https://i.ebayimg.com/images/g/upIAAOSwl5Bf44g...   \n",
       "\n",
       "                                        listing_link  i  \n",
       "0  https://www.ebay.com/itm/Van-Heusen-Studio-Pol...  0  \n",
       "1  https://www.ebay.com/itm/Ducks-Unlimited-Green...  1  \n",
       "2  https://www.ebay.com/itm/Rhoback-Mens-XL-Perfo...  2  \n",
       "3  https://www.ebay.com/itm/RLX-Golf-Polo-Medium/...  3  \n",
       "4  https://www.ebay.com/itm/Fred-Perry-Mens-Large...  4  "
      ]
     },
     "execution_count": 168,
     "metadata": {},
     "output_type": "execute_result"
    }
   ],
   "source": [
    "polos['i'] = polos.index\n",
    "\n",
    "polos.head()"
   ]
  },
  {
   "cell_type": "code",
   "execution_count": 169,
   "metadata": {},
   "outputs": [
    {
     "name": "stderr",
     "output_type": "stream",
     "text": [
      "/home/mario/anaconda3/envs/tensorflow/lib/python3.7/site-packages/ipykernel_launcher.py:2: SettingWithCopyWarning: \n",
      "A value is trying to be set on a copy of a slice from a DataFrame\n",
      "\n",
      "See the caveats in the documentation: https://pandas.pydata.org/pandas-docs/stable/user_guide/indexing.html#returning-a-view-versus-a-copy\n",
      "  \n",
      "/home/mario/anaconda3/envs/tensorflow/lib/python3.7/site-packages/pandas/core/indexing.py:670: SettingWithCopyWarning: \n",
      "A value is trying to be set on a copy of a slice from a DataFrame\n",
      "\n",
      "See the caveats in the documentation: https://pandas.pydata.org/pandas-docs/stable/user_guide/indexing.html#returning-a-view-versus-a-copy\n",
      "  iloc._setitem_with_indexer(indexer, value)\n"
     ]
    }
   ],
   "source": [
    "for i in polos.index:\n",
    "    polos['i'][i] = './imgs/polos/polo' + str(i) + '.jpg'"
   ]
  },
  {
   "cell_type": "code",
   "execution_count": 170,
   "metadata": {},
   "outputs": [
    {
     "data": {
      "text/html": [
       "<div>\n",
       "<style scoped>\n",
       "    .dataframe tbody tr th:only-of-type {\n",
       "        vertical-align: middle;\n",
       "    }\n",
       "\n",
       "    .dataframe tbody tr th {\n",
       "        vertical-align: top;\n",
       "    }\n",
       "\n",
       "    .dataframe thead th {\n",
       "        text-align: right;\n",
       "    }\n",
       "</style>\n",
       "<table border=\"1\" class=\"dataframe\">\n",
       "  <thead>\n",
       "    <tr style=\"text-align: right;\">\n",
       "      <th></th>\n",
       "      <th>title</th>\n",
       "      <th>price</th>\n",
       "      <th>currency</th>\n",
       "      <th>attributes</th>\n",
       "      <th>image_link</th>\n",
       "      <th>listing_link</th>\n",
       "      <th>i</th>\n",
       "    </tr>\n",
       "  </thead>\n",
       "  <tbody>\n",
       "    <tr>\n",
       "      <th>0</th>\n",
       "      <td>Van Heusen Studio Polo Slim Fit Men's Sz XL</td>\n",
       "      <td>$5.50</td>\n",
       "      <td>US</td>\n",
       "      <td>NaN</td>\n",
       "      <td>https://i.ebayimg.com/images/g/iFcAAOSw9BBf44g...</td>\n",
       "      <td>https://www.ebay.com/itm/Van-Heusen-Studio-Pol...</td>\n",
       "      <td>./imgs/polos/polo0.jpg</td>\n",
       "    </tr>\n",
       "    <tr>\n",
       "      <th>1</th>\n",
       "      <td>Ducks Unlimited Green Short Sleeve Polo Shirt ...</td>\n",
       "      <td>$21.99</td>\n",
       "      <td>US</td>\n",
       "      <td>NaN</td>\n",
       "      <td>https://i.ebayimg.com/images/g/xDAAAOSwFjRf3l0...</td>\n",
       "      <td>https://www.ebay.com/itm/Ducks-Unlimited-Green...</td>\n",
       "      <td>./imgs/polos/polo1.jpg</td>\n",
       "    </tr>\n",
       "    <tr>\n",
       "      <th>2</th>\n",
       "      <td>Rhoback Mens XL Performance Golf Collared Polo...</td>\n",
       "      <td>$54.95</td>\n",
       "      <td>US</td>\n",
       "      <td>NaN</td>\n",
       "      <td>https://i.ebayimg.com/images/g/ho0AAOSwQHVf44Y...</td>\n",
       "      <td>https://www.ebay.com/itm/Rhoback-Mens-XL-Perfo...</td>\n",
       "      <td>./imgs/polos/polo2.jpg</td>\n",
       "    </tr>\n",
       "    <tr>\n",
       "      <th>3</th>\n",
       "      <td>RLX Golf Polo Medium</td>\n",
       "      <td>$19.99</td>\n",
       "      <td>US</td>\n",
       "      <td>{'Condition:': 'Pre-owned:An item that has bee...</td>\n",
       "      <td>https://i.ebayimg.com/images/g/SbgAAOSwenZfqZR...</td>\n",
       "      <td>https://www.ebay.com/itm/RLX-Golf-Polo-Medium/...</td>\n",
       "      <td>./imgs/polos/polo3.jpg</td>\n",
       "    </tr>\n",
       "    <tr>\n",
       "      <th>4</th>\n",
       "      <td>Fred Perry Mens Large Embroidered Logo Collare...</td>\n",
       "      <td>$33.95</td>\n",
       "      <td>US</td>\n",
       "      <td>{'Condition:': 'Pre-owned:An item that has bee...</td>\n",
       "      <td>https://i.ebayimg.com/images/g/upIAAOSwl5Bf44g...</td>\n",
       "      <td>https://www.ebay.com/itm/Fred-Perry-Mens-Large...</td>\n",
       "      <td>./imgs/polos/polo4.jpg</td>\n",
       "    </tr>\n",
       "  </tbody>\n",
       "</table>\n",
       "</div>"
      ],
      "text/plain": [
       "                                               title   price currency  \\\n",
       "0        Van Heusen Studio Polo Slim Fit Men's Sz XL   $5.50       US   \n",
       "1  Ducks Unlimited Green Short Sleeve Polo Shirt ...  $21.99       US   \n",
       "2  Rhoback Mens XL Performance Golf Collared Polo...  $54.95       US   \n",
       "3                               RLX Golf Polo Medium  $19.99       US   \n",
       "4  Fred Perry Mens Large Embroidered Logo Collare...  $33.95       US   \n",
       "\n",
       "                                          attributes  \\\n",
       "0                                                NaN   \n",
       "1                                                NaN   \n",
       "2                                                NaN   \n",
       "3  {'Condition:': 'Pre-owned:An item that has bee...   \n",
       "4  {'Condition:': 'Pre-owned:An item that has bee...   \n",
       "\n",
       "                                          image_link  \\\n",
       "0  https://i.ebayimg.com/images/g/iFcAAOSw9BBf44g...   \n",
       "1  https://i.ebayimg.com/images/g/xDAAAOSwFjRf3l0...   \n",
       "2  https://i.ebayimg.com/images/g/ho0AAOSwQHVf44Y...   \n",
       "3  https://i.ebayimg.com/images/g/SbgAAOSwenZfqZR...   \n",
       "4  https://i.ebayimg.com/images/g/upIAAOSwl5Bf44g...   \n",
       "\n",
       "                                        listing_link                       i  \n",
       "0  https://www.ebay.com/itm/Van-Heusen-Studio-Pol...  ./imgs/polos/polo0.jpg  \n",
       "1  https://www.ebay.com/itm/Ducks-Unlimited-Green...  ./imgs/polos/polo1.jpg  \n",
       "2  https://www.ebay.com/itm/Rhoback-Mens-XL-Perfo...  ./imgs/polos/polo2.jpg  \n",
       "3  https://www.ebay.com/itm/RLX-Golf-Polo-Medium/...  ./imgs/polos/polo3.jpg  \n",
       "4  https://www.ebay.com/itm/Fred-Perry-Mens-Large...  ./imgs/polos/polo4.jpg  "
      ]
     },
     "execution_count": 170,
     "metadata": {},
     "output_type": "execute_result"
    }
   ],
   "source": [
    "polos.head()"
   ]
  },
  {
   "cell_type": "code",
   "execution_count": 171,
   "metadata": {},
   "outputs": [
    {
     "data": {
      "text/plain": [
       "title           Ralph Lauren Blue Rugby Shirt With Large Logo ...\n",
       "price                                                      $47.50\n",
       "currency                                                       US\n",
       "attributes      {'Condition:': 'Pre-owned:An item that has bee...\n",
       "image_link      https://i.ebayimg.com/images/g/nZoAAOSwlWNf43x...\n",
       "listing_link    https://www.ebay.com/itm/Ralph-Lauren-Blue-Rug...\n",
       "i                                      ./imgs/polos/polo30556.jpg\n",
       "Name: 30556, dtype: object"
      ]
     },
     "execution_count": 171,
     "metadata": {},
     "output_type": "execute_result"
    }
   ],
   "source": [
    "polos.iloc[30556]"
   ]
  },
  {
   "cell_type": "code",
   "execution_count": 172,
   "metadata": {},
   "outputs": [
    {
     "data": {
      "text/html": [
       "<div>\n",
       "<style scoped>\n",
       "    .dataframe tbody tr th:only-of-type {\n",
       "        vertical-align: middle;\n",
       "    }\n",
       "\n",
       "    .dataframe tbody tr th {\n",
       "        vertical-align: top;\n",
       "    }\n",
       "\n",
       "    .dataframe thead th {\n",
       "        text-align: right;\n",
       "    }\n",
       "</style>\n",
       "<table border=\"1\" class=\"dataframe\">\n",
       "  <thead>\n",
       "    <tr style=\"text-align: right;\">\n",
       "      <th></th>\n",
       "      <th>price</th>\n",
       "    </tr>\n",
       "  </thead>\n",
       "  <tbody>\n",
       "    <tr>\n",
       "      <th>count</th>\n",
       "      <td>21302.000000</td>\n",
       "    </tr>\n",
       "    <tr>\n",
       "      <th>mean</th>\n",
       "      <td>28.840177</td>\n",
       "    </tr>\n",
       "    <tr>\n",
       "      <th>std</th>\n",
       "      <td>14.885076</td>\n",
       "    </tr>\n",
       "    <tr>\n",
       "      <th>min</th>\n",
       "      <td>5.500000</td>\n",
       "    </tr>\n",
       "    <tr>\n",
       "      <th>25%</th>\n",
       "      <td>19.990000</td>\n",
       "    </tr>\n",
       "    <tr>\n",
       "      <th>50%</th>\n",
       "      <td>24.880000</td>\n",
       "    </tr>\n",
       "    <tr>\n",
       "      <th>75%</th>\n",
       "      <td>34.800000</td>\n",
       "    </tr>\n",
       "    <tr>\n",
       "      <th>max</th>\n",
       "      <td>170.000000</td>\n",
       "    </tr>\n",
       "  </tbody>\n",
       "</table>\n",
       "</div>"
      ],
      "text/plain": [
       "              price\n",
       "count  21302.000000\n",
       "mean      28.840177\n",
       "std       14.885076\n",
       "min        5.500000\n",
       "25%       19.990000\n",
       "50%       24.880000\n",
       "75%       34.800000\n",
       "max      170.000000"
      ]
     },
     "execution_count": 172,
     "metadata": {},
     "output_type": "execute_result"
    }
   ],
   "source": [
    "polos['price'] = polos['price'].replace('[^.0-9]', '', regex=True).astype(float)\n",
    "\n",
    "polos.describe()"
   ]
  },
  {
   "cell_type": "code",
   "execution_count": 173,
   "metadata": {},
   "outputs": [
    {
     "data": {
      "text/html": [
       "<div>\n",
       "<style scoped>\n",
       "    .dataframe tbody tr th:only-of-type {\n",
       "        vertical-align: middle;\n",
       "    }\n",
       "\n",
       "    .dataframe tbody tr th {\n",
       "        vertical-align: top;\n",
       "    }\n",
       "\n",
       "    .dataframe thead th {\n",
       "        text-align: right;\n",
       "    }\n",
       "</style>\n",
       "<table border=\"1\" class=\"dataframe\">\n",
       "  <thead>\n",
       "    <tr style=\"text-align: right;\">\n",
       "      <th></th>\n",
       "      <th>title</th>\n",
       "      <th>price</th>\n",
       "      <th>currency</th>\n",
       "      <th>attributes</th>\n",
       "      <th>image_link</th>\n",
       "      <th>listing_link</th>\n",
       "      <th>i</th>\n",
       "    </tr>\n",
       "  </thead>\n",
       "  <tbody>\n",
       "    <tr>\n",
       "      <th>0</th>\n",
       "      <td>Nike Victory dri-fit shorts 482943 Men's Large L</td>\n",
       "      <td>$23.00</td>\n",
       "      <td>US</td>\n",
       "      <td>{'Condition:': 'Pre-owned:An item that has bee...</td>\n",
       "      <td>https://i.ebayimg.com/images/g/dq0AAOSwjVhf43n...</td>\n",
       "      <td>https://www.ebay.com/itm/Nike-Victory-dri-fit-...</td>\n",
       "      <td>0</td>\n",
       "    </tr>\n",
       "    <tr>\n",
       "      <th>1</th>\n",
       "      <td>Calvin Klein Mens Khaki Shorts-Blue Waist 32 G...</td>\n",
       "      <td>$9.99</td>\n",
       "      <td>US</td>\n",
       "      <td>{'Condition:': 'Pre-owned:An item that has bee...</td>\n",
       "      <td>https://i.ebayimg.com/images/g/eIwAAOSwbV9f44k...</td>\n",
       "      <td>https://www.ebay.com/itm/Calvin-Klein-Mens-Kha...</td>\n",
       "      <td>1</td>\n",
       "    </tr>\n",
       "    <tr>\n",
       "      <th>2</th>\n",
       "      <td>Peter Millar Wicking Shorts Purple Size 34</td>\n",
       "      <td>$29.97</td>\n",
       "      <td>US</td>\n",
       "      <td>{'Condition:': 'Pre-owned:An item that has bee...</td>\n",
       "      <td>https://i.ebayimg.com/images/g/JSYAAOSwp19f45D...</td>\n",
       "      <td>https://www.ebay.com/itm/Peter-Millar-Wicking-...</td>\n",
       "      <td>2</td>\n",
       "    </tr>\n",
       "    <tr>\n",
       "      <th>3</th>\n",
       "      <td>Callaway Mens Black Golf Spandex Shorts Size 3...</td>\n",
       "      <td>$9.99</td>\n",
       "      <td>US</td>\n",
       "      <td>{'Condition:': 'Pre-owned:An item that has bee...</td>\n",
       "      <td>https://i.ebayimg.com/images/g/U14AAOSwbLxf44f...</td>\n",
       "      <td>https://www.ebay.com/itm/Callaway-Mens-Black-G...</td>\n",
       "      <td>3</td>\n",
       "    </tr>\n",
       "    <tr>\n",
       "      <th>4</th>\n",
       "      <td>Wrangler Carpenter Cargo Khaki Shorts Men Size 36</td>\n",
       "      <td>$12.99</td>\n",
       "      <td>US</td>\n",
       "      <td>{'Condition:': 'Pre-owned:An item that has bee...</td>\n",
       "      <td>https://i.ebayimg.com/images/g/qpYAAOSwD7Nfw84...</td>\n",
       "      <td>https://www.ebay.com/itm/Wrangler-Carpenter-Ca...</td>\n",
       "      <td>4</td>\n",
       "    </tr>\n",
       "  </tbody>\n",
       "</table>\n",
       "</div>"
      ],
      "text/plain": [
       "                                               title   price currency  \\\n",
       "0   Nike Victory dri-fit shorts 482943 Men's Large L  $23.00       US   \n",
       "1  Calvin Klein Mens Khaki Shorts-Blue Waist 32 G...   $9.99       US   \n",
       "2         Peter Millar Wicking Shorts Purple Size 34  $29.97       US   \n",
       "3  Callaway Mens Black Golf Spandex Shorts Size 3...   $9.99       US   \n",
       "4  Wrangler Carpenter Cargo Khaki Shorts Men Size 36  $12.99       US   \n",
       "\n",
       "                                          attributes  \\\n",
       "0  {'Condition:': 'Pre-owned:An item that has bee...   \n",
       "1  {'Condition:': 'Pre-owned:An item that has bee...   \n",
       "2  {'Condition:': 'Pre-owned:An item that has bee...   \n",
       "3  {'Condition:': 'Pre-owned:An item that has bee...   \n",
       "4  {'Condition:': 'Pre-owned:An item that has bee...   \n",
       "\n",
       "                                          image_link  \\\n",
       "0  https://i.ebayimg.com/images/g/dq0AAOSwjVhf43n...   \n",
       "1  https://i.ebayimg.com/images/g/eIwAAOSwbV9f44k...   \n",
       "2  https://i.ebayimg.com/images/g/JSYAAOSwp19f45D...   \n",
       "3  https://i.ebayimg.com/images/g/U14AAOSwbLxf44f...   \n",
       "4  https://i.ebayimg.com/images/g/qpYAAOSwD7Nfw84...   \n",
       "\n",
       "                                        listing_link  i  \n",
       "0  https://www.ebay.com/itm/Nike-Victory-dri-fit-...  0  \n",
       "1  https://www.ebay.com/itm/Calvin-Klein-Mens-Kha...  1  \n",
       "2  https://www.ebay.com/itm/Peter-Millar-Wicking-...  2  \n",
       "3  https://www.ebay.com/itm/Callaway-Mens-Black-G...  3  \n",
       "4  https://www.ebay.com/itm/Wrangler-Carpenter-Ca...  4  "
      ]
     },
     "execution_count": 173,
     "metadata": {},
     "output_type": "execute_result"
    }
   ],
   "source": [
    "shorts['i'] = shorts.index\n",
    "\n",
    "shorts.head()"
   ]
  },
  {
   "cell_type": "code",
   "execution_count": 174,
   "metadata": {},
   "outputs": [
    {
     "name": "stderr",
     "output_type": "stream",
     "text": [
      "/home/mario/anaconda3/envs/tensorflow/lib/python3.7/site-packages/ipykernel_launcher.py:2: SettingWithCopyWarning: \n",
      "A value is trying to be set on a copy of a slice from a DataFrame\n",
      "\n",
      "See the caveats in the documentation: https://pandas.pydata.org/pandas-docs/stable/user_guide/indexing.html#returning-a-view-versus-a-copy\n",
      "  \n",
      "/home/mario/anaconda3/envs/tensorflow/lib/python3.7/site-packages/pandas/core/indexing.py:670: SettingWithCopyWarning: \n",
      "A value is trying to be set on a copy of a slice from a DataFrame\n",
      "\n",
      "See the caveats in the documentation: https://pandas.pydata.org/pandas-docs/stable/user_guide/indexing.html#returning-a-view-versus-a-copy\n",
      "  iloc._setitem_with_indexer(indexer, value)\n"
     ]
    }
   ],
   "source": [
    "for i in shorts.index:\n",
    "    shorts['i'][i] = './imgs/shorts/shorts' + str(i) + '.jpg'"
   ]
  },
  {
   "cell_type": "code",
   "execution_count": 175,
   "metadata": {},
   "outputs": [
    {
     "data": {
      "text/html": [
       "<div>\n",
       "<style scoped>\n",
       "    .dataframe tbody tr th:only-of-type {\n",
       "        vertical-align: middle;\n",
       "    }\n",
       "\n",
       "    .dataframe tbody tr th {\n",
       "        vertical-align: top;\n",
       "    }\n",
       "\n",
       "    .dataframe thead th {\n",
       "        text-align: right;\n",
       "    }\n",
       "</style>\n",
       "<table border=\"1\" class=\"dataframe\">\n",
       "  <thead>\n",
       "    <tr style=\"text-align: right;\">\n",
       "      <th></th>\n",
       "      <th>title</th>\n",
       "      <th>price</th>\n",
       "      <th>currency</th>\n",
       "      <th>attributes</th>\n",
       "      <th>image_link</th>\n",
       "      <th>listing_link</th>\n",
       "      <th>i</th>\n",
       "    </tr>\n",
       "  </thead>\n",
       "  <tbody>\n",
       "    <tr>\n",
       "      <th>0</th>\n",
       "      <td>Nike Victory dri-fit shorts 482943 Men's Large L</td>\n",
       "      <td>$23.00</td>\n",
       "      <td>US</td>\n",
       "      <td>{'Condition:': 'Pre-owned:An item that has bee...</td>\n",
       "      <td>https://i.ebayimg.com/images/g/dq0AAOSwjVhf43n...</td>\n",
       "      <td>https://www.ebay.com/itm/Nike-Victory-dri-fit-...</td>\n",
       "      <td>./imgs/shorts/shorts0.jpg</td>\n",
       "    </tr>\n",
       "    <tr>\n",
       "      <th>1</th>\n",
       "      <td>Calvin Klein Mens Khaki Shorts-Blue Waist 32 G...</td>\n",
       "      <td>$9.99</td>\n",
       "      <td>US</td>\n",
       "      <td>{'Condition:': 'Pre-owned:An item that has bee...</td>\n",
       "      <td>https://i.ebayimg.com/images/g/eIwAAOSwbV9f44k...</td>\n",
       "      <td>https://www.ebay.com/itm/Calvin-Klein-Mens-Kha...</td>\n",
       "      <td>./imgs/shorts/shorts1.jpg</td>\n",
       "    </tr>\n",
       "    <tr>\n",
       "      <th>2</th>\n",
       "      <td>Peter Millar Wicking Shorts Purple Size 34</td>\n",
       "      <td>$29.97</td>\n",
       "      <td>US</td>\n",
       "      <td>{'Condition:': 'Pre-owned:An item that has bee...</td>\n",
       "      <td>https://i.ebayimg.com/images/g/JSYAAOSwp19f45D...</td>\n",
       "      <td>https://www.ebay.com/itm/Peter-Millar-Wicking-...</td>\n",
       "      <td>./imgs/shorts/shorts2.jpg</td>\n",
       "    </tr>\n",
       "    <tr>\n",
       "      <th>3</th>\n",
       "      <td>Callaway Mens Black Golf Spandex Shorts Size 3...</td>\n",
       "      <td>$9.99</td>\n",
       "      <td>US</td>\n",
       "      <td>{'Condition:': 'Pre-owned:An item that has bee...</td>\n",
       "      <td>https://i.ebayimg.com/images/g/U14AAOSwbLxf44f...</td>\n",
       "      <td>https://www.ebay.com/itm/Callaway-Mens-Black-G...</td>\n",
       "      <td>./imgs/shorts/shorts3.jpg</td>\n",
       "    </tr>\n",
       "    <tr>\n",
       "      <th>4</th>\n",
       "      <td>Wrangler Carpenter Cargo Khaki Shorts Men Size 36</td>\n",
       "      <td>$12.99</td>\n",
       "      <td>US</td>\n",
       "      <td>{'Condition:': 'Pre-owned:An item that has bee...</td>\n",
       "      <td>https://i.ebayimg.com/images/g/qpYAAOSwD7Nfw84...</td>\n",
       "      <td>https://www.ebay.com/itm/Wrangler-Carpenter-Ca...</td>\n",
       "      <td>./imgs/shorts/shorts4.jpg</td>\n",
       "    </tr>\n",
       "  </tbody>\n",
       "</table>\n",
       "</div>"
      ],
      "text/plain": [
       "                                               title   price currency  \\\n",
       "0   Nike Victory dri-fit shorts 482943 Men's Large L  $23.00       US   \n",
       "1  Calvin Klein Mens Khaki Shorts-Blue Waist 32 G...   $9.99       US   \n",
       "2         Peter Millar Wicking Shorts Purple Size 34  $29.97       US   \n",
       "3  Callaway Mens Black Golf Spandex Shorts Size 3...   $9.99       US   \n",
       "4  Wrangler Carpenter Cargo Khaki Shorts Men Size 36  $12.99       US   \n",
       "\n",
       "                                          attributes  \\\n",
       "0  {'Condition:': 'Pre-owned:An item that has bee...   \n",
       "1  {'Condition:': 'Pre-owned:An item that has bee...   \n",
       "2  {'Condition:': 'Pre-owned:An item that has bee...   \n",
       "3  {'Condition:': 'Pre-owned:An item that has bee...   \n",
       "4  {'Condition:': 'Pre-owned:An item that has bee...   \n",
       "\n",
       "                                          image_link  \\\n",
       "0  https://i.ebayimg.com/images/g/dq0AAOSwjVhf43n...   \n",
       "1  https://i.ebayimg.com/images/g/eIwAAOSwbV9f44k...   \n",
       "2  https://i.ebayimg.com/images/g/JSYAAOSwp19f45D...   \n",
       "3  https://i.ebayimg.com/images/g/U14AAOSwbLxf44f...   \n",
       "4  https://i.ebayimg.com/images/g/qpYAAOSwD7Nfw84...   \n",
       "\n",
       "                                        listing_link  \\\n",
       "0  https://www.ebay.com/itm/Nike-Victory-dri-fit-...   \n",
       "1  https://www.ebay.com/itm/Calvin-Klein-Mens-Kha...   \n",
       "2  https://www.ebay.com/itm/Peter-Millar-Wicking-...   \n",
       "3  https://www.ebay.com/itm/Callaway-Mens-Black-G...   \n",
       "4  https://www.ebay.com/itm/Wrangler-Carpenter-Ca...   \n",
       "\n",
       "                           i  \n",
       "0  ./imgs/shorts/shorts0.jpg  \n",
       "1  ./imgs/shorts/shorts1.jpg  \n",
       "2  ./imgs/shorts/shorts2.jpg  \n",
       "3  ./imgs/shorts/shorts3.jpg  \n",
       "4  ./imgs/shorts/shorts4.jpg  "
      ]
     },
     "execution_count": 175,
     "metadata": {},
     "output_type": "execute_result"
    }
   ],
   "source": [
    "shorts.head()"
   ]
  },
  {
   "cell_type": "code",
   "execution_count": 176,
   "metadata": {
    "scrolled": true
   },
   "outputs": [
    {
     "data": {
      "text/plain": [
       "title           Lacoste Light Blue Fleece Sport Shorts - 5/L G...\n",
       "price                                                      $50.00\n",
       "currency                                                       US\n",
       "attributes      {'Condition:': 'Pre-owned:An item that has bee...\n",
       "image_link      https://i.ebayimg.com/images/g/GuEAAOSwJBdf43O...\n",
       "listing_link    https://www.ebay.com/itm/Lacoste-Light-Blue-Fl...\n",
       "i                                   ./imgs/shorts/shorts24969.jpg\n",
       "Name: 24969, dtype: object"
      ]
     },
     "execution_count": 176,
     "metadata": {},
     "output_type": "execute_result"
    }
   ],
   "source": [
    "shorts.iloc[24820]"
   ]
  },
  {
   "cell_type": "code",
   "execution_count": 177,
   "metadata": {},
   "outputs": [
    {
     "data": {
      "text/html": [
       "<div>\n",
       "<style scoped>\n",
       "    .dataframe tbody tr th:only-of-type {\n",
       "        vertical-align: middle;\n",
       "    }\n",
       "\n",
       "    .dataframe tbody tr th {\n",
       "        vertical-align: top;\n",
       "    }\n",
       "\n",
       "    .dataframe thead th {\n",
       "        text-align: right;\n",
       "    }\n",
       "</style>\n",
       "<table border=\"1\" class=\"dataframe\">\n",
       "  <thead>\n",
       "    <tr style=\"text-align: right;\">\n",
       "      <th></th>\n",
       "      <th>price</th>\n",
       "    </tr>\n",
       "  </thead>\n",
       "  <tbody>\n",
       "    <tr>\n",
       "      <th>count</th>\n",
       "      <td>15266.000000</td>\n",
       "    </tr>\n",
       "    <tr>\n",
       "      <th>mean</th>\n",
       "      <td>40.019642</td>\n",
       "    </tr>\n",
       "    <tr>\n",
       "      <th>std</th>\n",
       "      <td>38.812002</td>\n",
       "    </tr>\n",
       "    <tr>\n",
       "      <th>min</th>\n",
       "      <td>5.990000</td>\n",
       "    </tr>\n",
       "    <tr>\n",
       "      <th>25%</th>\n",
       "      <td>23.000000</td>\n",
       "    </tr>\n",
       "    <tr>\n",
       "      <th>50%</th>\n",
       "      <td>29.300000</td>\n",
       "    </tr>\n",
       "    <tr>\n",
       "      <th>75%</th>\n",
       "      <td>44.990000</td>\n",
       "    </tr>\n",
       "    <tr>\n",
       "      <th>max</th>\n",
       "      <td>250.000000</td>\n",
       "    </tr>\n",
       "  </tbody>\n",
       "</table>\n",
       "</div>"
      ],
      "text/plain": [
       "              price\n",
       "count  15266.000000\n",
       "mean      40.019642\n",
       "std       38.812002\n",
       "min        5.990000\n",
       "25%       23.000000\n",
       "50%       29.300000\n",
       "75%       44.990000\n",
       "max      250.000000"
      ]
     },
     "execution_count": 177,
     "metadata": {},
     "output_type": "execute_result"
    }
   ],
   "source": [
    "shorts['price'] = shorts['price'].replace('[^.0-9]', '', regex=True).astype(float)\n",
    "\n",
    "shorts.describe()"
   ]
  },
  {
   "cell_type": "code",
   "execution_count": 178,
   "metadata": {},
   "outputs": [
    {
     "data": {
      "text/html": [
       "<div>\n",
       "<style scoped>\n",
       "    .dataframe tbody tr th:only-of-type {\n",
       "        vertical-align: middle;\n",
       "    }\n",
       "\n",
       "    .dataframe tbody tr th {\n",
       "        vertical-align: top;\n",
       "    }\n",
       "\n",
       "    .dataframe thead th {\n",
       "        text-align: right;\n",
       "    }\n",
       "</style>\n",
       "<table border=\"1\" class=\"dataframe\">\n",
       "  <thead>\n",
       "    <tr style=\"text-align: right;\">\n",
       "      <th></th>\n",
       "      <th>title</th>\n",
       "      <th>price</th>\n",
       "      <th>currency</th>\n",
       "      <th>attributes</th>\n",
       "      <th>image_link</th>\n",
       "      <th>listing_link</th>\n",
       "      <th>i</th>\n",
       "    </tr>\n",
       "  </thead>\n",
       "  <tbody>\n",
       "    <tr>\n",
       "      <th>0</th>\n",
       "      <td>Nike air jordan v 5 retro fire red</td>\n",
       "      <td>$65.00</td>\n",
       "      <td>US</td>\n",
       "      <td>{'Condition:': 'Pre-owned:An item that has bee...</td>\n",
       "      <td>https://i.ebayimg.com/images/g/NhcAAOSwyPhf5Cd...</td>\n",
       "      <td>https://www.ebay.com/itm/Nike-air-jordan-v-5-r...</td>\n",
       "      <td>0</td>\n",
       "    </tr>\n",
       "    <tr>\n",
       "      <th>1</th>\n",
       "      <td>Air Jordan Retro 12 Fiba Size 10</td>\n",
       "      <td>$115.00</td>\n",
       "      <td>US</td>\n",
       "      <td>{'Condition:': 'Pre-owned:An item that has bee...</td>\n",
       "      <td>https://i.ebayimg.com/images/g/bw0AAOSwRIJf5Cr...</td>\n",
       "      <td>https://www.ebay.com/itm/Air-Jordan-Retro-12-F...</td>\n",
       "      <td>1</td>\n",
       "    </tr>\n",
       "    <tr>\n",
       "      <th>3</th>\n",
       "      <td>Nike Air Jordan IV 4 Retro What The Size 13</td>\n",
       "      <td>$180.00</td>\n",
       "      <td>US</td>\n",
       "      <td>{'Condition:': 'Pre-owned:An item that has bee...</td>\n",
       "      <td>https://i.ebayimg.com/images/g/~DAAAOSwpk9f5Bt...</td>\n",
       "      <td>https://www.ebay.com/itm/Nike-Air-Jordan-IV-4-...</td>\n",
       "      <td>3</td>\n",
       "    </tr>\n",
       "    <tr>\n",
       "      <th>4</th>\n",
       "      <td>Nike Air Jordan 11 Retro Concord (2018) 378037...</td>\n",
       "      <td>$100.00</td>\n",
       "      <td>US</td>\n",
       "      <td>{'Condition:': 'Pre-owned:An item that has bee...</td>\n",
       "      <td>https://i.ebayimg.com/images/g/P6YAAOSwr15f5Ce...</td>\n",
       "      <td>https://www.ebay.com/itm/Nike-Air-Jordan-11-Re...</td>\n",
       "      <td>4</td>\n",
       "    </tr>\n",
       "    <tr>\n",
       "      <th>5</th>\n",
       "      <td>Nike Air Jordan Retro 11 XI Concord GS - Size ...</td>\n",
       "      <td>$100.00</td>\n",
       "      <td>US</td>\n",
       "      <td>{'Condition:': 'Pre-owned:An item that has bee...</td>\n",
       "      <td>https://i.ebayimg.com/images/g/sdcAAOSwoKxf5CA...</td>\n",
       "      <td>https://www.ebay.com/itm/Nike-Air-Jordan-Retro...</td>\n",
       "      <td>5</td>\n",
       "    </tr>\n",
       "  </tbody>\n",
       "</table>\n",
       "</div>"
      ],
      "text/plain": [
       "                                               title    price currency  \\\n",
       "0                 Nike air jordan v 5 retro fire red   $65.00       US   \n",
       "1                   Air Jordan Retro 12 Fiba Size 10  $115.00       US   \n",
       "3       Nike Air Jordan IV 4 Retro What The Size 13   $180.00       US   \n",
       "4  Nike Air Jordan 11 Retro Concord (2018) 378037...  $100.00       US   \n",
       "5  Nike Air Jordan Retro 11 XI Concord GS - Size ...  $100.00       US   \n",
       "\n",
       "                                          attributes  \\\n",
       "0  {'Condition:': 'Pre-owned:An item that has bee...   \n",
       "1  {'Condition:': 'Pre-owned:An item that has bee...   \n",
       "3  {'Condition:': 'Pre-owned:An item that has bee...   \n",
       "4  {'Condition:': 'Pre-owned:An item that has bee...   \n",
       "5  {'Condition:': 'Pre-owned:An item that has bee...   \n",
       "\n",
       "                                          image_link  \\\n",
       "0  https://i.ebayimg.com/images/g/NhcAAOSwyPhf5Cd...   \n",
       "1  https://i.ebayimg.com/images/g/bw0AAOSwRIJf5Cr...   \n",
       "3  https://i.ebayimg.com/images/g/~DAAAOSwpk9f5Bt...   \n",
       "4  https://i.ebayimg.com/images/g/P6YAAOSwr15f5Ce...   \n",
       "5  https://i.ebayimg.com/images/g/sdcAAOSwoKxf5CA...   \n",
       "\n",
       "                                        listing_link  i  \n",
       "0  https://www.ebay.com/itm/Nike-air-jordan-v-5-r...  0  \n",
       "1  https://www.ebay.com/itm/Air-Jordan-Retro-12-F...  1  \n",
       "3  https://www.ebay.com/itm/Nike-Air-Jordan-IV-4-...  3  \n",
       "4  https://www.ebay.com/itm/Nike-Air-Jordan-11-Re...  4  \n",
       "5  https://www.ebay.com/itm/Nike-Air-Jordan-Retro...  5  "
      ]
     },
     "execution_count": 178,
     "metadata": {},
     "output_type": "execute_result"
    }
   ],
   "source": [
    "sneakers['i'] = sneakers.index\n",
    "\n",
    "sneakers.head()"
   ]
  },
  {
   "cell_type": "code",
   "execution_count": 179,
   "metadata": {},
   "outputs": [
    {
     "name": "stderr",
     "output_type": "stream",
     "text": [
      "/home/mario/anaconda3/envs/tensorflow/lib/python3.7/site-packages/ipykernel_launcher.py:2: SettingWithCopyWarning: \n",
      "A value is trying to be set on a copy of a slice from a DataFrame\n",
      "\n",
      "See the caveats in the documentation: https://pandas.pydata.org/pandas-docs/stable/user_guide/indexing.html#returning-a-view-versus-a-copy\n",
      "  \n",
      "/home/mario/anaconda3/envs/tensorflow/lib/python3.7/site-packages/pandas/core/indexing.py:670: SettingWithCopyWarning: \n",
      "A value is trying to be set on a copy of a slice from a DataFrame\n",
      "\n",
      "See the caveats in the documentation: https://pandas.pydata.org/pandas-docs/stable/user_guide/indexing.html#returning-a-view-versus-a-copy\n",
      "  iloc._setitem_with_indexer(indexer, value)\n"
     ]
    }
   ],
   "source": [
    "for i in sneakers.index:\n",
    "    sneakers['i'][i] = './imgs/sneakers/sneakers' + str(i) + '.jpg'"
   ]
  },
  {
   "cell_type": "code",
   "execution_count": 180,
   "metadata": {},
   "outputs": [
    {
     "data": {
      "text/html": [
       "<div>\n",
       "<style scoped>\n",
       "    .dataframe tbody tr th:only-of-type {\n",
       "        vertical-align: middle;\n",
       "    }\n",
       "\n",
       "    .dataframe tbody tr th {\n",
       "        vertical-align: top;\n",
       "    }\n",
       "\n",
       "    .dataframe thead th {\n",
       "        text-align: right;\n",
       "    }\n",
       "</style>\n",
       "<table border=\"1\" class=\"dataframe\">\n",
       "  <thead>\n",
       "    <tr style=\"text-align: right;\">\n",
       "      <th></th>\n",
       "      <th>title</th>\n",
       "      <th>price</th>\n",
       "      <th>currency</th>\n",
       "      <th>attributes</th>\n",
       "      <th>image_link</th>\n",
       "      <th>listing_link</th>\n",
       "      <th>i</th>\n",
       "    </tr>\n",
       "  </thead>\n",
       "  <tbody>\n",
       "    <tr>\n",
       "      <th>0</th>\n",
       "      <td>Nike air jordan v 5 retro fire red</td>\n",
       "      <td>$65.00</td>\n",
       "      <td>US</td>\n",
       "      <td>{'Condition:': 'Pre-owned:An item that has bee...</td>\n",
       "      <td>https://i.ebayimg.com/images/g/NhcAAOSwyPhf5Cd...</td>\n",
       "      <td>https://www.ebay.com/itm/Nike-air-jordan-v-5-r...</td>\n",
       "      <td>./imgs/sneakers/sneakers0.jpg</td>\n",
       "    </tr>\n",
       "    <tr>\n",
       "      <th>1</th>\n",
       "      <td>Air Jordan Retro 12 Fiba Size 10</td>\n",
       "      <td>$115.00</td>\n",
       "      <td>US</td>\n",
       "      <td>{'Condition:': 'Pre-owned:An item that has bee...</td>\n",
       "      <td>https://i.ebayimg.com/images/g/bw0AAOSwRIJf5Cr...</td>\n",
       "      <td>https://www.ebay.com/itm/Air-Jordan-Retro-12-F...</td>\n",
       "      <td>./imgs/sneakers/sneakers1.jpg</td>\n",
       "    </tr>\n",
       "    <tr>\n",
       "      <th>3</th>\n",
       "      <td>Nike Air Jordan IV 4 Retro What The Size 13</td>\n",
       "      <td>$180.00</td>\n",
       "      <td>US</td>\n",
       "      <td>{'Condition:': 'Pre-owned:An item that has bee...</td>\n",
       "      <td>https://i.ebayimg.com/images/g/~DAAAOSwpk9f5Bt...</td>\n",
       "      <td>https://www.ebay.com/itm/Nike-Air-Jordan-IV-4-...</td>\n",
       "      <td>./imgs/sneakers/sneakers3.jpg</td>\n",
       "    </tr>\n",
       "    <tr>\n",
       "      <th>4</th>\n",
       "      <td>Nike Air Jordan 11 Retro Concord (2018) 378037...</td>\n",
       "      <td>$100.00</td>\n",
       "      <td>US</td>\n",
       "      <td>{'Condition:': 'Pre-owned:An item that has bee...</td>\n",
       "      <td>https://i.ebayimg.com/images/g/P6YAAOSwr15f5Ce...</td>\n",
       "      <td>https://www.ebay.com/itm/Nike-Air-Jordan-11-Re...</td>\n",
       "      <td>./imgs/sneakers/sneakers4.jpg</td>\n",
       "    </tr>\n",
       "    <tr>\n",
       "      <th>5</th>\n",
       "      <td>Nike Air Jordan Retro 11 XI Concord GS - Size ...</td>\n",
       "      <td>$100.00</td>\n",
       "      <td>US</td>\n",
       "      <td>{'Condition:': 'Pre-owned:An item that has bee...</td>\n",
       "      <td>https://i.ebayimg.com/images/g/sdcAAOSwoKxf5CA...</td>\n",
       "      <td>https://www.ebay.com/itm/Nike-Air-Jordan-Retro...</td>\n",
       "      <td>./imgs/sneakers/sneakers5.jpg</td>\n",
       "    </tr>\n",
       "  </tbody>\n",
       "</table>\n",
       "</div>"
      ],
      "text/plain": [
       "                                               title    price currency  \\\n",
       "0                 Nike air jordan v 5 retro fire red   $65.00       US   \n",
       "1                   Air Jordan Retro 12 Fiba Size 10  $115.00       US   \n",
       "3       Nike Air Jordan IV 4 Retro What The Size 13   $180.00       US   \n",
       "4  Nike Air Jordan 11 Retro Concord (2018) 378037...  $100.00       US   \n",
       "5  Nike Air Jordan Retro 11 XI Concord GS - Size ...  $100.00       US   \n",
       "\n",
       "                                          attributes  \\\n",
       "0  {'Condition:': 'Pre-owned:An item that has bee...   \n",
       "1  {'Condition:': 'Pre-owned:An item that has bee...   \n",
       "3  {'Condition:': 'Pre-owned:An item that has bee...   \n",
       "4  {'Condition:': 'Pre-owned:An item that has bee...   \n",
       "5  {'Condition:': 'Pre-owned:An item that has bee...   \n",
       "\n",
       "                                          image_link  \\\n",
       "0  https://i.ebayimg.com/images/g/NhcAAOSwyPhf5Cd...   \n",
       "1  https://i.ebayimg.com/images/g/bw0AAOSwRIJf5Cr...   \n",
       "3  https://i.ebayimg.com/images/g/~DAAAOSwpk9f5Bt...   \n",
       "4  https://i.ebayimg.com/images/g/P6YAAOSwr15f5Ce...   \n",
       "5  https://i.ebayimg.com/images/g/sdcAAOSwoKxf5CA...   \n",
       "\n",
       "                                        listing_link  \\\n",
       "0  https://www.ebay.com/itm/Nike-air-jordan-v-5-r...   \n",
       "1  https://www.ebay.com/itm/Air-Jordan-Retro-12-F...   \n",
       "3  https://www.ebay.com/itm/Nike-Air-Jordan-IV-4-...   \n",
       "4  https://www.ebay.com/itm/Nike-Air-Jordan-11-Re...   \n",
       "5  https://www.ebay.com/itm/Nike-Air-Jordan-Retro...   \n",
       "\n",
       "                               i  \n",
       "0  ./imgs/sneakers/sneakers0.jpg  \n",
       "1  ./imgs/sneakers/sneakers1.jpg  \n",
       "3  ./imgs/sneakers/sneakers3.jpg  \n",
       "4  ./imgs/sneakers/sneakers4.jpg  \n",
       "5  ./imgs/sneakers/sneakers5.jpg  "
      ]
     },
     "execution_count": 180,
     "metadata": {},
     "output_type": "execute_result"
    }
   ],
   "source": [
    "sneakers.head()"
   ]
  },
  {
   "cell_type": "code",
   "execution_count": 181,
   "metadata": {},
   "outputs": [
    {
     "data": {
      "text/plain": [
       "title           Nike Air Jordan Retro 1 High Bred Toe 100%Auth...\n",
       "price                                                     $520.00\n",
       "currency                                                       US\n",
       "attributes      {'Condition:': 'Pre-owned:An item that has bee...\n",
       "image_link      https://i.ebayimg.com/images/g/3ewAAOSwMvxf5Ez...\n",
       "listing_link    https://www.ebay.com/itm/Nike-Air-Jordan-Retro...\n",
       "i                               ./imgs/sneakers/sneakers36057.jpg\n",
       "Name: 36057, dtype: object"
      ]
     },
     "execution_count": 181,
     "metadata": {},
     "output_type": "execute_result"
    }
   ],
   "source": [
    "sneakers.iloc[29499]"
   ]
  },
  {
   "cell_type": "code",
   "execution_count": 182,
   "metadata": {},
   "outputs": [
    {
     "data": {
      "text/html": [
       "<div>\n",
       "<style scoped>\n",
       "    .dataframe tbody tr th:only-of-type {\n",
       "        vertical-align: middle;\n",
       "    }\n",
       "\n",
       "    .dataframe tbody tr th {\n",
       "        vertical-align: top;\n",
       "    }\n",
       "\n",
       "    .dataframe thead th {\n",
       "        text-align: right;\n",
       "    }\n",
       "</style>\n",
       "<table border=\"1\" class=\"dataframe\">\n",
       "  <thead>\n",
       "    <tr style=\"text-align: right;\">\n",
       "      <th></th>\n",
       "      <th>price</th>\n",
       "    </tr>\n",
       "  </thead>\n",
       "  <tbody>\n",
       "    <tr>\n",
       "      <th>count</th>\n",
       "      <td>27237.000000</td>\n",
       "    </tr>\n",
       "    <tr>\n",
       "      <th>mean</th>\n",
       "      <td>166.832511</td>\n",
       "    </tr>\n",
       "    <tr>\n",
       "      <th>std</th>\n",
       "      <td>168.873560</td>\n",
       "    </tr>\n",
       "    <tr>\n",
       "      <th>min</th>\n",
       "      <td>15.000000</td>\n",
       "    </tr>\n",
       "    <tr>\n",
       "      <th>25%</th>\n",
       "      <td>64.000000</td>\n",
       "    </tr>\n",
       "    <tr>\n",
       "      <th>50%</th>\n",
       "      <td>125.000000</td>\n",
       "    </tr>\n",
       "    <tr>\n",
       "      <th>75%</th>\n",
       "      <td>199.990000</td>\n",
       "    </tr>\n",
       "    <tr>\n",
       "      <th>max</th>\n",
       "      <td>1150.000000</td>\n",
       "    </tr>\n",
       "  </tbody>\n",
       "</table>\n",
       "</div>"
      ],
      "text/plain": [
       "              price\n",
       "count  27237.000000\n",
       "mean     166.832511\n",
       "std      168.873560\n",
       "min       15.000000\n",
       "25%       64.000000\n",
       "50%      125.000000\n",
       "75%      199.990000\n",
       "max     1150.000000"
      ]
     },
     "execution_count": 182,
     "metadata": {},
     "output_type": "execute_result"
    }
   ],
   "source": [
    "sneakers['price'] = sneakers['price'].replace('[^.0-9]', '', regex=True).astype(float)\n",
    "\n",
    "sneakers.describe()"
   ]
  },
  {
   "cell_type": "code",
   "execution_count": 183,
   "metadata": {},
   "outputs": [
    {
     "data": {
      "text/html": [
       "<div>\n",
       "<style scoped>\n",
       "    .dataframe tbody tr th:only-of-type {\n",
       "        vertical-align: middle;\n",
       "    }\n",
       "\n",
       "    .dataframe tbody tr th {\n",
       "        vertical-align: top;\n",
       "    }\n",
       "\n",
       "    .dataframe thead th {\n",
       "        text-align: right;\n",
       "    }\n",
       "</style>\n",
       "<table border=\"1\" class=\"dataframe\">\n",
       "  <thead>\n",
       "    <tr style=\"text-align: right;\">\n",
       "      <th></th>\n",
       "      <th>title</th>\n",
       "      <th>price</th>\n",
       "      <th>currency</th>\n",
       "      <th>attributes</th>\n",
       "      <th>image_link</th>\n",
       "      <th>listing_link</th>\n",
       "      <th>i</th>\n",
       "    </tr>\n",
       "  </thead>\n",
       "  <tbody>\n",
       "    <tr>\n",
       "      <th>0</th>\n",
       "      <td>Vintage PENDLETON USA Sport Coat Blazer Jacket...</td>\n",
       "      <td>$29.99</td>\n",
       "      <td>US</td>\n",
       "      <td>NaN</td>\n",
       "      <td>https://i.ebayimg.com/images/g/xcoAAOSwVrNf4i3...</td>\n",
       "      <td>https://www.ebay.com/itm/Vintage-PENDLETON-USA...</td>\n",
       "      <td>0</td>\n",
       "    </tr>\n",
       "    <tr>\n",
       "      <th>1</th>\n",
       "      <td>Orvis Donegal Brown Harris Fleck Tweed Wool Me...</td>\n",
       "      <td>$50.00</td>\n",
       "      <td>US</td>\n",
       "      <td>{'Condition:': 'Pre-owned:An item that has bee...</td>\n",
       "      <td>https://i.ebayimg.com/images/g/9AsAAOSwWZZf49M...</td>\n",
       "      <td>https://www.ebay.com/itm/Orvis-Donegal-Brown-H...</td>\n",
       "      <td>1</td>\n",
       "    </tr>\n",
       "    <tr>\n",
       "      <th>2</th>\n",
       "      <td>Men Khaki Jacket Size M MOSSIMO 100% Cotton Wa...</td>\n",
       "      <td>$36.99</td>\n",
       "      <td>US</td>\n",
       "      <td>NaN</td>\n",
       "      <td>https://i.ebayimg.com/images/g/3lsAAOSwm5xcNZv...</td>\n",
       "      <td>https://www.ebay.com/itm/Men-Khaki-Jacket-Size...</td>\n",
       "      <td>2</td>\n",
       "    </tr>\n",
       "    <tr>\n",
       "      <th>3</th>\n",
       "      <td>Mens Blazer</td>\n",
       "      <td>$65.00</td>\n",
       "      <td>US</td>\n",
       "      <td>{'Condition:': 'Pre-owned:An item that has bee...</td>\n",
       "      <td>https://i.ebayimg.com/images/g/DWYAAOSw5yVf49K...</td>\n",
       "      <td>https://www.ebay.com/itm/Mens-Blazer/114591581...</td>\n",
       "      <td>3</td>\n",
       "    </tr>\n",
       "    <tr>\n",
       "      <th>4</th>\n",
       "      <td>Ermenegildo Zegna Men's 54R Navy Blue 2 Button...</td>\n",
       "      <td>$143.00</td>\n",
       "      <td>US</td>\n",
       "      <td>{'Condition:': 'Pre-owned:An item that has bee...</td>\n",
       "      <td>https://i.ebayimg.com/images/g/Q0gAAOSwM0VeD3Q...</td>\n",
       "      <td>https://www.ebay.com/itm/Ermenegildo-Zegna-Men...</td>\n",
       "      <td>4</td>\n",
       "    </tr>\n",
       "  </tbody>\n",
       "</table>\n",
       "</div>"
      ],
      "text/plain": [
       "                                               title    price currency  \\\n",
       "0  Vintage PENDLETON USA Sport Coat Blazer Jacket...   $29.99       US   \n",
       "1  Orvis Donegal Brown Harris Fleck Tweed Wool Me...   $50.00       US   \n",
       "2  Men Khaki Jacket Size M MOSSIMO 100% Cotton Wa...   $36.99       US   \n",
       "3                                        Mens Blazer   $65.00       US   \n",
       "4  Ermenegildo Zegna Men's 54R Navy Blue 2 Button...  $143.00       US   \n",
       "\n",
       "                                          attributes  \\\n",
       "0                                                NaN   \n",
       "1  {'Condition:': 'Pre-owned:An item that has bee...   \n",
       "2                                                NaN   \n",
       "3  {'Condition:': 'Pre-owned:An item that has bee...   \n",
       "4  {'Condition:': 'Pre-owned:An item that has bee...   \n",
       "\n",
       "                                          image_link  \\\n",
       "0  https://i.ebayimg.com/images/g/xcoAAOSwVrNf4i3...   \n",
       "1  https://i.ebayimg.com/images/g/9AsAAOSwWZZf49M...   \n",
       "2  https://i.ebayimg.com/images/g/3lsAAOSwm5xcNZv...   \n",
       "3  https://i.ebayimg.com/images/g/DWYAAOSw5yVf49K...   \n",
       "4  https://i.ebayimg.com/images/g/Q0gAAOSwM0VeD3Q...   \n",
       "\n",
       "                                        listing_link  i  \n",
       "0  https://www.ebay.com/itm/Vintage-PENDLETON-USA...  0  \n",
       "1  https://www.ebay.com/itm/Orvis-Donegal-Brown-H...  1  \n",
       "2  https://www.ebay.com/itm/Men-Khaki-Jacket-Size...  2  \n",
       "3  https://www.ebay.com/itm/Mens-Blazer/114591581...  3  \n",
       "4  https://www.ebay.com/itm/Ermenegildo-Zegna-Men...  4  "
      ]
     },
     "execution_count": 183,
     "metadata": {},
     "output_type": "execute_result"
    }
   ],
   "source": [
    "suits['i'] = suits.index\n",
    "\n",
    "suits.head()"
   ]
  },
  {
   "cell_type": "code",
   "execution_count": 184,
   "metadata": {},
   "outputs": [
    {
     "name": "stderr",
     "output_type": "stream",
     "text": [
      "/home/mario/anaconda3/envs/tensorflow/lib/python3.7/site-packages/ipykernel_launcher.py:2: SettingWithCopyWarning: \n",
      "A value is trying to be set on a copy of a slice from a DataFrame\n",
      "\n",
      "See the caveats in the documentation: https://pandas.pydata.org/pandas-docs/stable/user_guide/indexing.html#returning-a-view-versus-a-copy\n",
      "  \n",
      "/home/mario/anaconda3/envs/tensorflow/lib/python3.7/site-packages/pandas/core/indexing.py:670: SettingWithCopyWarning: \n",
      "A value is trying to be set on a copy of a slice from a DataFrame\n",
      "\n",
      "See the caveats in the documentation: https://pandas.pydata.org/pandas-docs/stable/user_guide/indexing.html#returning-a-view-versus-a-copy\n",
      "  iloc._setitem_with_indexer(indexer, value)\n"
     ]
    }
   ],
   "source": [
    "for i in suits.index:\n",
    "    suits['i'][i] = './imgs/suits/suit' + str(i) + '.jpg'"
   ]
  },
  {
   "cell_type": "code",
   "execution_count": 185,
   "metadata": {},
   "outputs": [
    {
     "data": {
      "text/html": [
       "<div>\n",
       "<style scoped>\n",
       "    .dataframe tbody tr th:only-of-type {\n",
       "        vertical-align: middle;\n",
       "    }\n",
       "\n",
       "    .dataframe tbody tr th {\n",
       "        vertical-align: top;\n",
       "    }\n",
       "\n",
       "    .dataframe thead th {\n",
       "        text-align: right;\n",
       "    }\n",
       "</style>\n",
       "<table border=\"1\" class=\"dataframe\">\n",
       "  <thead>\n",
       "    <tr style=\"text-align: right;\">\n",
       "      <th></th>\n",
       "      <th>title</th>\n",
       "      <th>price</th>\n",
       "      <th>currency</th>\n",
       "      <th>attributes</th>\n",
       "      <th>image_link</th>\n",
       "      <th>listing_link</th>\n",
       "      <th>i</th>\n",
       "    </tr>\n",
       "  </thead>\n",
       "  <tbody>\n",
       "    <tr>\n",
       "      <th>0</th>\n",
       "      <td>Vintage PENDLETON USA Sport Coat Blazer Jacket...</td>\n",
       "      <td>$29.99</td>\n",
       "      <td>US</td>\n",
       "      <td>NaN</td>\n",
       "      <td>https://i.ebayimg.com/images/g/xcoAAOSwVrNf4i3...</td>\n",
       "      <td>https://www.ebay.com/itm/Vintage-PENDLETON-USA...</td>\n",
       "      <td>./imgs/suits/suit0.jpg</td>\n",
       "    </tr>\n",
       "    <tr>\n",
       "      <th>1</th>\n",
       "      <td>Orvis Donegal Brown Harris Fleck Tweed Wool Me...</td>\n",
       "      <td>$50.00</td>\n",
       "      <td>US</td>\n",
       "      <td>{'Condition:': 'Pre-owned:An item that has bee...</td>\n",
       "      <td>https://i.ebayimg.com/images/g/9AsAAOSwWZZf49M...</td>\n",
       "      <td>https://www.ebay.com/itm/Orvis-Donegal-Brown-H...</td>\n",
       "      <td>./imgs/suits/suit1.jpg</td>\n",
       "    </tr>\n",
       "    <tr>\n",
       "      <th>2</th>\n",
       "      <td>Men Khaki Jacket Size M MOSSIMO 100% Cotton Wa...</td>\n",
       "      <td>$36.99</td>\n",
       "      <td>US</td>\n",
       "      <td>NaN</td>\n",
       "      <td>https://i.ebayimg.com/images/g/3lsAAOSwm5xcNZv...</td>\n",
       "      <td>https://www.ebay.com/itm/Men-Khaki-Jacket-Size...</td>\n",
       "      <td>./imgs/suits/suit2.jpg</td>\n",
       "    </tr>\n",
       "    <tr>\n",
       "      <th>3</th>\n",
       "      <td>Mens Blazer</td>\n",
       "      <td>$65.00</td>\n",
       "      <td>US</td>\n",
       "      <td>{'Condition:': 'Pre-owned:An item that has bee...</td>\n",
       "      <td>https://i.ebayimg.com/images/g/DWYAAOSw5yVf49K...</td>\n",
       "      <td>https://www.ebay.com/itm/Mens-Blazer/114591581...</td>\n",
       "      <td>./imgs/suits/suit3.jpg</td>\n",
       "    </tr>\n",
       "    <tr>\n",
       "      <th>4</th>\n",
       "      <td>Ermenegildo Zegna Men's 54R Navy Blue 2 Button...</td>\n",
       "      <td>$143.00</td>\n",
       "      <td>US</td>\n",
       "      <td>{'Condition:': 'Pre-owned:An item that has bee...</td>\n",
       "      <td>https://i.ebayimg.com/images/g/Q0gAAOSwM0VeD3Q...</td>\n",
       "      <td>https://www.ebay.com/itm/Ermenegildo-Zegna-Men...</td>\n",
       "      <td>./imgs/suits/suit4.jpg</td>\n",
       "    </tr>\n",
       "  </tbody>\n",
       "</table>\n",
       "</div>"
      ],
      "text/plain": [
       "                                               title    price currency  \\\n",
       "0  Vintage PENDLETON USA Sport Coat Blazer Jacket...   $29.99       US   \n",
       "1  Orvis Donegal Brown Harris Fleck Tweed Wool Me...   $50.00       US   \n",
       "2  Men Khaki Jacket Size M MOSSIMO 100% Cotton Wa...   $36.99       US   \n",
       "3                                        Mens Blazer   $65.00       US   \n",
       "4  Ermenegildo Zegna Men's 54R Navy Blue 2 Button...  $143.00       US   \n",
       "\n",
       "                                          attributes  \\\n",
       "0                                                NaN   \n",
       "1  {'Condition:': 'Pre-owned:An item that has bee...   \n",
       "2                                                NaN   \n",
       "3  {'Condition:': 'Pre-owned:An item that has bee...   \n",
       "4  {'Condition:': 'Pre-owned:An item that has bee...   \n",
       "\n",
       "                                          image_link  \\\n",
       "0  https://i.ebayimg.com/images/g/xcoAAOSwVrNf4i3...   \n",
       "1  https://i.ebayimg.com/images/g/9AsAAOSwWZZf49M...   \n",
       "2  https://i.ebayimg.com/images/g/3lsAAOSwm5xcNZv...   \n",
       "3  https://i.ebayimg.com/images/g/DWYAAOSw5yVf49K...   \n",
       "4  https://i.ebayimg.com/images/g/Q0gAAOSwM0VeD3Q...   \n",
       "\n",
       "                                        listing_link                       i  \n",
       "0  https://www.ebay.com/itm/Vintage-PENDLETON-USA...  ./imgs/suits/suit0.jpg  \n",
       "1  https://www.ebay.com/itm/Orvis-Donegal-Brown-H...  ./imgs/suits/suit1.jpg  \n",
       "2  https://www.ebay.com/itm/Men-Khaki-Jacket-Size...  ./imgs/suits/suit2.jpg  \n",
       "3  https://www.ebay.com/itm/Mens-Blazer/114591581...  ./imgs/suits/suit3.jpg  \n",
       "4  https://www.ebay.com/itm/Ermenegildo-Zegna-Men...  ./imgs/suits/suit4.jpg  "
      ]
     },
     "execution_count": 185,
     "metadata": {},
     "output_type": "execute_result"
    }
   ],
   "source": [
    "suits.head()"
   ]
  },
  {
   "cell_type": "code",
   "execution_count": 186,
   "metadata": {},
   "outputs": [
    {
     "data": {
      "text/plain": [
       "title           Ted Baker Men's Plaid Wool Dark Gray Suit Wais...\n",
       "price                                                      $49.00\n",
       "currency                                                       US\n",
       "attributes      {'Condition:': 'Pre-owned:An item that has bee...\n",
       "image_link      https://i.ebayimg.com/images/g/mIkAAOSwtvxf5AL...\n",
       "listing_link    https://www.ebay.com/itm/Ted-Baker-Mens-Plaid-...\n",
       "i                                      ./imgs/suits/suit36197.jpg\n",
       "Name: 36197, dtype: object"
      ]
     },
     "execution_count": 186,
     "metadata": {},
     "output_type": "execute_result"
    }
   ],
   "source": [
    "suits.iloc[35968]"
   ]
  },
  {
   "cell_type": "code",
   "execution_count": 187,
   "metadata": {},
   "outputs": [
    {
     "data": {
      "text/html": [
       "<div>\n",
       "<style scoped>\n",
       "    .dataframe tbody tr th:only-of-type {\n",
       "        vertical-align: middle;\n",
       "    }\n",
       "\n",
       "    .dataframe tbody tr th {\n",
       "        vertical-align: top;\n",
       "    }\n",
       "\n",
       "    .dataframe thead th {\n",
       "        text-align: right;\n",
       "    }\n",
       "</style>\n",
       "<table border=\"1\" class=\"dataframe\">\n",
       "  <thead>\n",
       "    <tr style=\"text-align: right;\">\n",
       "      <th></th>\n",
       "      <th>price</th>\n",
       "    </tr>\n",
       "  </thead>\n",
       "  <tbody>\n",
       "    <tr>\n",
       "      <th>count</th>\n",
       "      <td>15365.000000</td>\n",
       "    </tr>\n",
       "    <tr>\n",
       "      <th>mean</th>\n",
       "      <td>86.546588</td>\n",
       "    </tr>\n",
       "    <tr>\n",
       "      <th>std</th>\n",
       "      <td>74.442889</td>\n",
       "    </tr>\n",
       "    <tr>\n",
       "      <th>min</th>\n",
       "      <td>11.700000</td>\n",
       "    </tr>\n",
       "    <tr>\n",
       "      <th>25%</th>\n",
       "      <td>44.980000</td>\n",
       "    </tr>\n",
       "    <tr>\n",
       "      <th>50%</th>\n",
       "      <td>59.950000</td>\n",
       "    </tr>\n",
       "    <tr>\n",
       "      <th>75%</th>\n",
       "      <td>99.990000</td>\n",
       "    </tr>\n",
       "    <tr>\n",
       "      <th>max</th>\n",
       "      <td>600.000000</td>\n",
       "    </tr>\n",
       "  </tbody>\n",
       "</table>\n",
       "</div>"
      ],
      "text/plain": [
       "              price\n",
       "count  15365.000000\n",
       "mean      86.546588\n",
       "std       74.442889\n",
       "min       11.700000\n",
       "25%       44.980000\n",
       "50%       59.950000\n",
       "75%       99.990000\n",
       "max      600.000000"
      ]
     },
     "execution_count": 187,
     "metadata": {},
     "output_type": "execute_result"
    }
   ],
   "source": [
    "suits['price'] = suits['price'].replace('[^.0-9]', '', regex=True).astype(float)\n",
    "\n",
    "suits.describe()"
   ]
  },
  {
   "cell_type": "code",
   "execution_count": 188,
   "metadata": {},
   "outputs": [
    {
     "data": {
      "text/html": [
       "<div>\n",
       "<style scoped>\n",
       "    .dataframe tbody tr th:only-of-type {\n",
       "        vertical-align: middle;\n",
       "    }\n",
       "\n",
       "    .dataframe tbody tr th {\n",
       "        vertical-align: top;\n",
       "    }\n",
       "\n",
       "    .dataframe thead th {\n",
       "        text-align: right;\n",
       "    }\n",
       "</style>\n",
       "<table border=\"1\" class=\"dataframe\">\n",
       "  <thead>\n",
       "    <tr style=\"text-align: right;\">\n",
       "      <th></th>\n",
       "      <th>title</th>\n",
       "      <th>price</th>\n",
       "      <th>currency</th>\n",
       "      <th>attributes</th>\n",
       "      <th>image_link</th>\n",
       "      <th>listing_link</th>\n",
       "      <th>i</th>\n",
       "    </tr>\n",
       "  </thead>\n",
       "  <tbody>\n",
       "    <tr>\n",
       "      <th>0</th>\n",
       "      <td>Kosmopolitan V-neck Wool Sweater - Size XL</td>\n",
       "      <td>$20.00</td>\n",
       "      <td>US</td>\n",
       "      <td>{'Condition:': 'Pre-owned:An item that has bee...</td>\n",
       "      <td>https://i.ebayimg.com/images/g/L5oAAOSwuN5f480...</td>\n",
       "      <td>https://www.ebay.com/itm/Kosmopolitan-V-neck-W...</td>\n",
       "      <td>0</td>\n",
       "    </tr>\n",
       "    <tr>\n",
       "      <th>1</th>\n",
       "      <td>Mens Tundra Canada Sweater,XL</td>\n",
       "      <td>$50.00</td>\n",
       "      <td>US</td>\n",
       "      <td>{'Condition:': 'Pre-owned:An item that has bee...</td>\n",
       "      <td>https://i.ebayimg.com/images/g/kJMAAOSwDxdf44w...</td>\n",
       "      <td>https://www.ebay.com/itm/Mens-Tundra-Canada-Sw...</td>\n",
       "      <td>1</td>\n",
       "    </tr>\n",
       "    <tr>\n",
       "      <th>2</th>\n",
       "      <td>Peter Millar Quarter Zip Mens Pull Over Golf C...</td>\n",
       "      <td>$36.99</td>\n",
       "      <td>US</td>\n",
       "      <td>NaN</td>\n",
       "      <td>https://i.ebayimg.com/images/g/TREAAOSwksBf4Uu...</td>\n",
       "      <td>https://www.ebay.com/itm/Peter-Millar-Quarter-...</td>\n",
       "      <td>2</td>\n",
       "    </tr>\n",
       "    <tr>\n",
       "      <th>3</th>\n",
       "      <td>vintage demetre sweater Large</td>\n",
       "      <td>$30.00</td>\n",
       "      <td>US</td>\n",
       "      <td>{'Condition:': 'Pre-owned:An item that has bee...</td>\n",
       "      <td>https://i.ebayimg.com/images/g/yKsAAOSwvZ5f47M...</td>\n",
       "      <td>https://www.ebay.com/itm/vintage-demetre-sweat...</td>\n",
       "      <td>3</td>\n",
       "    </tr>\n",
       "    <tr>\n",
       "      <th>4</th>\n",
       "      <td>vintage Lido sweater Large</td>\n",
       "      <td>$30.00</td>\n",
       "      <td>US</td>\n",
       "      <td>{'Condition:': 'Pre-owned:An item that has bee...</td>\n",
       "      <td>https://i.ebayimg.com/images/g/dfcAAOSw1rJf47s...</td>\n",
       "      <td>https://www.ebay.com/itm/vintage-Lido-sweater-...</td>\n",
       "      <td>4</td>\n",
       "    </tr>\n",
       "  </tbody>\n",
       "</table>\n",
       "</div>"
      ],
      "text/plain": [
       "                                               title   price currency  \\\n",
       "0         Kosmopolitan V-neck Wool Sweater - Size XL  $20.00       US   \n",
       "1                      Mens Tundra Canada Sweater,XL  $50.00       US   \n",
       "2  Peter Millar Quarter Zip Mens Pull Over Golf C...  $36.99       US   \n",
       "3                      vintage demetre sweater Large  $30.00       US   \n",
       "4                         vintage Lido sweater Large  $30.00       US   \n",
       "\n",
       "                                          attributes  \\\n",
       "0  {'Condition:': 'Pre-owned:An item that has bee...   \n",
       "1  {'Condition:': 'Pre-owned:An item that has bee...   \n",
       "2                                                NaN   \n",
       "3  {'Condition:': 'Pre-owned:An item that has bee...   \n",
       "4  {'Condition:': 'Pre-owned:An item that has bee...   \n",
       "\n",
       "                                          image_link  \\\n",
       "0  https://i.ebayimg.com/images/g/L5oAAOSwuN5f480...   \n",
       "1  https://i.ebayimg.com/images/g/kJMAAOSwDxdf44w...   \n",
       "2  https://i.ebayimg.com/images/g/TREAAOSwksBf4Uu...   \n",
       "3  https://i.ebayimg.com/images/g/yKsAAOSwvZ5f47M...   \n",
       "4  https://i.ebayimg.com/images/g/dfcAAOSw1rJf47s...   \n",
       "\n",
       "                                        listing_link  i  \n",
       "0  https://www.ebay.com/itm/Kosmopolitan-V-neck-W...  0  \n",
       "1  https://www.ebay.com/itm/Mens-Tundra-Canada-Sw...  1  \n",
       "2  https://www.ebay.com/itm/Peter-Millar-Quarter-...  2  \n",
       "3  https://www.ebay.com/itm/vintage-demetre-sweat...  3  \n",
       "4  https://www.ebay.com/itm/vintage-Lido-sweater-...  4  "
      ]
     },
     "execution_count": 188,
     "metadata": {},
     "output_type": "execute_result"
    }
   ],
   "source": [
    "sweaters['i'] = sweaters.index\n",
    "\n",
    "sweaters.head()"
   ]
  },
  {
   "cell_type": "code",
   "execution_count": 189,
   "metadata": {},
   "outputs": [
    {
     "name": "stderr",
     "output_type": "stream",
     "text": [
      "/home/mario/anaconda3/envs/tensorflow/lib/python3.7/site-packages/ipykernel_launcher.py:2: SettingWithCopyWarning: \n",
      "A value is trying to be set on a copy of a slice from a DataFrame\n",
      "\n",
      "See the caveats in the documentation: https://pandas.pydata.org/pandas-docs/stable/user_guide/indexing.html#returning-a-view-versus-a-copy\n",
      "  \n",
      "/home/mario/anaconda3/envs/tensorflow/lib/python3.7/site-packages/pandas/core/indexing.py:670: SettingWithCopyWarning: \n",
      "A value is trying to be set on a copy of a slice from a DataFrame\n",
      "\n",
      "See the caveats in the documentation: https://pandas.pydata.org/pandas-docs/stable/user_guide/indexing.html#returning-a-view-versus-a-copy\n",
      "  iloc._setitem_with_indexer(indexer, value)\n"
     ]
    }
   ],
   "source": [
    "for i in sweaters.index:\n",
    "    sweaters['i'][i] = './imgs/sweaters/sweater' + str(i) + '.jpg'"
   ]
  },
  {
   "cell_type": "code",
   "execution_count": 190,
   "metadata": {},
   "outputs": [
    {
     "data": {
      "text/html": [
       "<div>\n",
       "<style scoped>\n",
       "    .dataframe tbody tr th:only-of-type {\n",
       "        vertical-align: middle;\n",
       "    }\n",
       "\n",
       "    .dataframe tbody tr th {\n",
       "        vertical-align: top;\n",
       "    }\n",
       "\n",
       "    .dataframe thead th {\n",
       "        text-align: right;\n",
       "    }\n",
       "</style>\n",
       "<table border=\"1\" class=\"dataframe\">\n",
       "  <thead>\n",
       "    <tr style=\"text-align: right;\">\n",
       "      <th></th>\n",
       "      <th>title</th>\n",
       "      <th>price</th>\n",
       "      <th>currency</th>\n",
       "      <th>attributes</th>\n",
       "      <th>image_link</th>\n",
       "      <th>listing_link</th>\n",
       "      <th>i</th>\n",
       "    </tr>\n",
       "  </thead>\n",
       "  <tbody>\n",
       "    <tr>\n",
       "      <th>0</th>\n",
       "      <td>Kosmopolitan V-neck Wool Sweater - Size XL</td>\n",
       "      <td>$20.00</td>\n",
       "      <td>US</td>\n",
       "      <td>{'Condition:': 'Pre-owned:An item that has bee...</td>\n",
       "      <td>https://i.ebayimg.com/images/g/L5oAAOSwuN5f480...</td>\n",
       "      <td>https://www.ebay.com/itm/Kosmopolitan-V-neck-W...</td>\n",
       "      <td>./imgs/sweaters/sweater0.jpg</td>\n",
       "    </tr>\n",
       "    <tr>\n",
       "      <th>1</th>\n",
       "      <td>Mens Tundra Canada Sweater,XL</td>\n",
       "      <td>$50.00</td>\n",
       "      <td>US</td>\n",
       "      <td>{'Condition:': 'Pre-owned:An item that has bee...</td>\n",
       "      <td>https://i.ebayimg.com/images/g/kJMAAOSwDxdf44w...</td>\n",
       "      <td>https://www.ebay.com/itm/Mens-Tundra-Canada-Sw...</td>\n",
       "      <td>./imgs/sweaters/sweater1.jpg</td>\n",
       "    </tr>\n",
       "    <tr>\n",
       "      <th>2</th>\n",
       "      <td>Peter Millar Quarter Zip Mens Pull Over Golf C...</td>\n",
       "      <td>$36.99</td>\n",
       "      <td>US</td>\n",
       "      <td>NaN</td>\n",
       "      <td>https://i.ebayimg.com/images/g/TREAAOSwksBf4Uu...</td>\n",
       "      <td>https://www.ebay.com/itm/Peter-Millar-Quarter-...</td>\n",
       "      <td>./imgs/sweaters/sweater2.jpg</td>\n",
       "    </tr>\n",
       "    <tr>\n",
       "      <th>3</th>\n",
       "      <td>vintage demetre sweater Large</td>\n",
       "      <td>$30.00</td>\n",
       "      <td>US</td>\n",
       "      <td>{'Condition:': 'Pre-owned:An item that has bee...</td>\n",
       "      <td>https://i.ebayimg.com/images/g/yKsAAOSwvZ5f47M...</td>\n",
       "      <td>https://www.ebay.com/itm/vintage-demetre-sweat...</td>\n",
       "      <td>./imgs/sweaters/sweater3.jpg</td>\n",
       "    </tr>\n",
       "    <tr>\n",
       "      <th>4</th>\n",
       "      <td>vintage Lido sweater Large</td>\n",
       "      <td>$30.00</td>\n",
       "      <td>US</td>\n",
       "      <td>{'Condition:': 'Pre-owned:An item that has bee...</td>\n",
       "      <td>https://i.ebayimg.com/images/g/dfcAAOSw1rJf47s...</td>\n",
       "      <td>https://www.ebay.com/itm/vintage-Lido-sweater-...</td>\n",
       "      <td>./imgs/sweaters/sweater4.jpg</td>\n",
       "    </tr>\n",
       "  </tbody>\n",
       "</table>\n",
       "</div>"
      ],
      "text/plain": [
       "                                               title   price currency  \\\n",
       "0         Kosmopolitan V-neck Wool Sweater - Size XL  $20.00       US   \n",
       "1                      Mens Tundra Canada Sweater,XL  $50.00       US   \n",
       "2  Peter Millar Quarter Zip Mens Pull Over Golf C...  $36.99       US   \n",
       "3                      vintage demetre sweater Large  $30.00       US   \n",
       "4                         vintage Lido sweater Large  $30.00       US   \n",
       "\n",
       "                                          attributes  \\\n",
       "0  {'Condition:': 'Pre-owned:An item that has bee...   \n",
       "1  {'Condition:': 'Pre-owned:An item that has bee...   \n",
       "2                                                NaN   \n",
       "3  {'Condition:': 'Pre-owned:An item that has bee...   \n",
       "4  {'Condition:': 'Pre-owned:An item that has bee...   \n",
       "\n",
       "                                          image_link  \\\n",
       "0  https://i.ebayimg.com/images/g/L5oAAOSwuN5f480...   \n",
       "1  https://i.ebayimg.com/images/g/kJMAAOSwDxdf44w...   \n",
       "2  https://i.ebayimg.com/images/g/TREAAOSwksBf4Uu...   \n",
       "3  https://i.ebayimg.com/images/g/yKsAAOSwvZ5f47M...   \n",
       "4  https://i.ebayimg.com/images/g/dfcAAOSw1rJf47s...   \n",
       "\n",
       "                                        listing_link  \\\n",
       "0  https://www.ebay.com/itm/Kosmopolitan-V-neck-W...   \n",
       "1  https://www.ebay.com/itm/Mens-Tundra-Canada-Sw...   \n",
       "2  https://www.ebay.com/itm/Peter-Millar-Quarter-...   \n",
       "3  https://www.ebay.com/itm/vintage-demetre-sweat...   \n",
       "4  https://www.ebay.com/itm/vintage-Lido-sweater-...   \n",
       "\n",
       "                              i  \n",
       "0  ./imgs/sweaters/sweater0.jpg  \n",
       "1  ./imgs/sweaters/sweater1.jpg  \n",
       "2  ./imgs/sweaters/sweater2.jpg  \n",
       "3  ./imgs/sweaters/sweater3.jpg  \n",
       "4  ./imgs/sweaters/sweater4.jpg  "
      ]
     },
     "execution_count": 190,
     "metadata": {},
     "output_type": "execute_result"
    }
   ],
   "source": [
    "sweaters.head()"
   ]
  },
  {
   "cell_type": "code",
   "execution_count": 191,
   "metadata": {},
   "outputs": [
    {
     "data": {
      "text/plain": [
       "title           Rare Vintage Gino Paoli 1950’s Green 100% Wool...\n",
       "price                                                     $150.00\n",
       "currency                                                       US\n",
       "attributes      {'Condition:': 'Pre-owned:An item that has bee...\n",
       "image_link      https://i.ebayimg.com/images/g/LLkAAOSwLMZfjyc...\n",
       "listing_link    https://www.ebay.com/itm/Rare-Vintage-Gino-Pao...\n",
       "i                                ./imgs/sweaters/sweater36077.jpg\n",
       "Name: 36077, dtype: object"
      ]
     },
     "execution_count": 191,
     "metadata": {},
     "output_type": "execute_result"
    }
   ],
   "source": [
    "sweaters.iloc[36077]"
   ]
  },
  {
   "cell_type": "code",
   "execution_count": 192,
   "metadata": {},
   "outputs": [
    {
     "data": {
      "text/html": [
       "<div>\n",
       "<style scoped>\n",
       "    .dataframe tbody tr th:only-of-type {\n",
       "        vertical-align: middle;\n",
       "    }\n",
       "\n",
       "    .dataframe tbody tr th {\n",
       "        vertical-align: top;\n",
       "    }\n",
       "\n",
       "    .dataframe thead th {\n",
       "        text-align: right;\n",
       "    }\n",
       "</style>\n",
       "<table border=\"1\" class=\"dataframe\">\n",
       "  <thead>\n",
       "    <tr style=\"text-align: right;\">\n",
       "      <th></th>\n",
       "      <th>price</th>\n",
       "    </tr>\n",
       "  </thead>\n",
       "  <tbody>\n",
       "    <tr>\n",
       "      <th>count</th>\n",
       "      <td>26141.000000</td>\n",
       "    </tr>\n",
       "    <tr>\n",
       "      <th>mean</th>\n",
       "      <td>72.843465</td>\n",
       "    </tr>\n",
       "    <tr>\n",
       "      <th>std</th>\n",
       "      <td>97.553549</td>\n",
       "    </tr>\n",
       "    <tr>\n",
       "      <th>min</th>\n",
       "      <td>9.090000</td>\n",
       "    </tr>\n",
       "    <tr>\n",
       "      <th>25%</th>\n",
       "      <td>29.950000</td>\n",
       "    </tr>\n",
       "    <tr>\n",
       "      <th>50%</th>\n",
       "      <td>39.900000</td>\n",
       "    </tr>\n",
       "    <tr>\n",
       "      <th>75%</th>\n",
       "      <td>74.990000</td>\n",
       "    </tr>\n",
       "    <tr>\n",
       "      <th>max</th>\n",
       "      <td>1600.000000</td>\n",
       "    </tr>\n",
       "  </tbody>\n",
       "</table>\n",
       "</div>"
      ],
      "text/plain": [
       "              price\n",
       "count  26141.000000\n",
       "mean      72.843465\n",
       "std       97.553549\n",
       "min        9.090000\n",
       "25%       29.950000\n",
       "50%       39.900000\n",
       "75%       74.990000\n",
       "max     1600.000000"
      ]
     },
     "execution_count": 192,
     "metadata": {},
     "output_type": "execute_result"
    }
   ],
   "source": [
    "sweaters['price'] = sweaters['price'].replace('[^.0-9]', '', regex=True).astype(float)\n",
    "\n",
    "sweaters.describe()"
   ]
  },
  {
   "cell_type": "code",
   "execution_count": 193,
   "metadata": {},
   "outputs": [
    {
     "data": {
      "text/html": [
       "<div>\n",
       "<style scoped>\n",
       "    .dataframe tbody tr th:only-of-type {\n",
       "        vertical-align: middle;\n",
       "    }\n",
       "\n",
       "    .dataframe tbody tr th {\n",
       "        vertical-align: top;\n",
       "    }\n",
       "\n",
       "    .dataframe thead th {\n",
       "        text-align: right;\n",
       "    }\n",
       "</style>\n",
       "<table border=\"1\" class=\"dataframe\">\n",
       "  <thead>\n",
       "    <tr style=\"text-align: right;\">\n",
       "      <th></th>\n",
       "      <th>title</th>\n",
       "      <th>price</th>\n",
       "      <th>currency</th>\n",
       "      <th>attributes</th>\n",
       "      <th>image_link</th>\n",
       "      <th>listing_link</th>\n",
       "      <th>i</th>\n",
       "    </tr>\n",
       "  </thead>\n",
       "  <tbody>\n",
       "    <tr>\n",
       "      <th>0</th>\n",
       "      <td>Lot of 8 Nike T-Shirts - Men's Size XL</td>\n",
       "      <td>52.88</td>\n",
       "      <td>US</td>\n",
       "      <td>{'Condition:': 'Pre-owned:An item that has bee...</td>\n",
       "      <td>https://i.ebayimg.com/images/g/ObkAAOSwyxhfSNz...</td>\n",
       "      <td>https://www.ebay.com/itm/Lot-of-8-Nike-T-Shirt...</td>\n",
       "      <td>0</td>\n",
       "    </tr>\n",
       "    <tr>\n",
       "      <th>1</th>\n",
       "      <td>Quicksilver Men's Graphic T-shirt L Surfer Shirt</td>\n",
       "      <td>5.00</td>\n",
       "      <td>US</td>\n",
       "      <td>NaN</td>\n",
       "      <td>https://i.ebayimg.com/images/g/81oAAOSw22Ff45L...</td>\n",
       "      <td>https://www.ebay.com/itm/Quicksilver-Mens-Grap...</td>\n",
       "      <td>1</td>\n",
       "    </tr>\n",
       "    <tr>\n",
       "      <th>2</th>\n",
       "      <td>Lot of 2 Rick and Morty Ripple Junction T-Shir...</td>\n",
       "      <td>6.99</td>\n",
       "      <td>US</td>\n",
       "      <td>{'Condition:': 'Pre-owned:An item that has bee...</td>\n",
       "      <td>https://i.ebayimg.com/images/g/eJAAAOSwqlZf43Y...</td>\n",
       "      <td>https://www.ebay.com/itm/Lot-of-2-Rick-and-Mor...</td>\n",
       "      <td>2</td>\n",
       "    </tr>\n",
       "    <tr>\n",
       "      <th>3</th>\n",
       "      <td>Jamaica Irie Tank Top Size Medium Lindsays Ori...</td>\n",
       "      <td>9.25</td>\n",
       "      <td>US</td>\n",
       "      <td>{'Condition:': 'Pre-owned:An item that has bee...</td>\n",
       "      <td>https://i.ebayimg.com/images/g/qfMAAOSwUmhf423...</td>\n",
       "      <td>https://www.ebay.com/itm/Jamaica-Irie-Tank-Top...</td>\n",
       "      <td>3</td>\n",
       "    </tr>\n",
       "    <tr>\n",
       "      <th>4</th>\n",
       "      <td>Lot of 4 Polo by Ralph Lauren Mens Small Short...</td>\n",
       "      <td>NaN</td>\n",
       "      <td>NaN</td>\n",
       "      <td>{'Condition:': 'Pre-owned:An item that has bee...</td>\n",
       "      <td>https://i.ebayimg.com/images/g/DqUAAOSwi9Vf4zB...</td>\n",
       "      <td>https://www.ebay.com/itm/Lot-of-4-Polo-by-Ralp...</td>\n",
       "      <td>4</td>\n",
       "    </tr>\n",
       "  </tbody>\n",
       "</table>\n",
       "</div>"
      ],
      "text/plain": [
       "                                               title  price currency  \\\n",
       "0             Lot of 8 Nike T-Shirts - Men's Size XL  52.88       US   \n",
       "1   Quicksilver Men's Graphic T-shirt L Surfer Shirt   5.00       US   \n",
       "2  Lot of 2 Rick and Morty Ripple Junction T-Shir...   6.99       US   \n",
       "3  Jamaica Irie Tank Top Size Medium Lindsays Ori...   9.25       US   \n",
       "4  Lot of 4 Polo by Ralph Lauren Mens Small Short...    NaN      NaN   \n",
       "\n",
       "                                          attributes  \\\n",
       "0  {'Condition:': 'Pre-owned:An item that has bee...   \n",
       "1                                                NaN   \n",
       "2  {'Condition:': 'Pre-owned:An item that has bee...   \n",
       "3  {'Condition:': 'Pre-owned:An item that has bee...   \n",
       "4  {'Condition:': 'Pre-owned:An item that has bee...   \n",
       "\n",
       "                                          image_link  \\\n",
       "0  https://i.ebayimg.com/images/g/ObkAAOSwyxhfSNz...   \n",
       "1  https://i.ebayimg.com/images/g/81oAAOSw22Ff45L...   \n",
       "2  https://i.ebayimg.com/images/g/eJAAAOSwqlZf43Y...   \n",
       "3  https://i.ebayimg.com/images/g/qfMAAOSwUmhf423...   \n",
       "4  https://i.ebayimg.com/images/g/DqUAAOSwi9Vf4zB...   \n",
       "\n",
       "                                        listing_link  i  \n",
       "0  https://www.ebay.com/itm/Lot-of-8-Nike-T-Shirt...  0  \n",
       "1  https://www.ebay.com/itm/Quicksilver-Mens-Grap...  1  \n",
       "2  https://www.ebay.com/itm/Lot-of-2-Rick-and-Mor...  2  \n",
       "3  https://www.ebay.com/itm/Jamaica-Irie-Tank-Top...  3  \n",
       "4  https://www.ebay.com/itm/Lot-of-4-Polo-by-Ralp...  4  "
      ]
     },
     "execution_count": 193,
     "metadata": {},
     "output_type": "execute_result"
    }
   ],
   "source": [
    "tees['i'] = tees.index\n",
    "\n",
    "tees.head()"
   ]
  },
  {
   "cell_type": "code",
   "execution_count": 194,
   "metadata": {},
   "outputs": [
    {
     "name": "stderr",
     "output_type": "stream",
     "text": [
      "/home/mario/anaconda3/envs/tensorflow/lib/python3.7/site-packages/ipykernel_launcher.py:2: SettingWithCopyWarning: \n",
      "A value is trying to be set on a copy of a slice from a DataFrame\n",
      "\n",
      "See the caveats in the documentation: https://pandas.pydata.org/pandas-docs/stable/user_guide/indexing.html#returning-a-view-versus-a-copy\n",
      "  \n",
      "/home/mario/anaconda3/envs/tensorflow/lib/python3.7/site-packages/pandas/core/indexing.py:670: SettingWithCopyWarning: \n",
      "A value is trying to be set on a copy of a slice from a DataFrame\n",
      "\n",
      "See the caveats in the documentation: https://pandas.pydata.org/pandas-docs/stable/user_guide/indexing.html#returning-a-view-versus-a-copy\n",
      "  iloc._setitem_with_indexer(indexer, value)\n"
     ]
    }
   ],
   "source": [
    "for i in tees.index:\n",
    "    tees['i'][i] = './imgs/tshirts/tshirt' + str(i) + '.jpg'"
   ]
  },
  {
   "cell_type": "code",
   "execution_count": 195,
   "metadata": {},
   "outputs": [
    {
     "data": {
      "text/html": [
       "<div>\n",
       "<style scoped>\n",
       "    .dataframe tbody tr th:only-of-type {\n",
       "        vertical-align: middle;\n",
       "    }\n",
       "\n",
       "    .dataframe tbody tr th {\n",
       "        vertical-align: top;\n",
       "    }\n",
       "\n",
       "    .dataframe thead th {\n",
       "        text-align: right;\n",
       "    }\n",
       "</style>\n",
       "<table border=\"1\" class=\"dataframe\">\n",
       "  <thead>\n",
       "    <tr style=\"text-align: right;\">\n",
       "      <th></th>\n",
       "      <th>title</th>\n",
       "      <th>price</th>\n",
       "      <th>currency</th>\n",
       "      <th>attributes</th>\n",
       "      <th>image_link</th>\n",
       "      <th>listing_link</th>\n",
       "      <th>i</th>\n",
       "    </tr>\n",
       "  </thead>\n",
       "  <tbody>\n",
       "    <tr>\n",
       "      <th>0</th>\n",
       "      <td>Lot of 8 Nike T-Shirts - Men's Size XL</td>\n",
       "      <td>52.88</td>\n",
       "      <td>US</td>\n",
       "      <td>{'Condition:': 'Pre-owned:An item that has bee...</td>\n",
       "      <td>https://i.ebayimg.com/images/g/ObkAAOSwyxhfSNz...</td>\n",
       "      <td>https://www.ebay.com/itm/Lot-of-8-Nike-T-Shirt...</td>\n",
       "      <td>./imgs/tshirts/tshirt0.jpg</td>\n",
       "    </tr>\n",
       "    <tr>\n",
       "      <th>1</th>\n",
       "      <td>Quicksilver Men's Graphic T-shirt L Surfer Shirt</td>\n",
       "      <td>5.00</td>\n",
       "      <td>US</td>\n",
       "      <td>NaN</td>\n",
       "      <td>https://i.ebayimg.com/images/g/81oAAOSw22Ff45L...</td>\n",
       "      <td>https://www.ebay.com/itm/Quicksilver-Mens-Grap...</td>\n",
       "      <td>./imgs/tshirts/tshirt1.jpg</td>\n",
       "    </tr>\n",
       "    <tr>\n",
       "      <th>2</th>\n",
       "      <td>Lot of 2 Rick and Morty Ripple Junction T-Shir...</td>\n",
       "      <td>6.99</td>\n",
       "      <td>US</td>\n",
       "      <td>{'Condition:': 'Pre-owned:An item that has bee...</td>\n",
       "      <td>https://i.ebayimg.com/images/g/eJAAAOSwqlZf43Y...</td>\n",
       "      <td>https://www.ebay.com/itm/Lot-of-2-Rick-and-Mor...</td>\n",
       "      <td>./imgs/tshirts/tshirt2.jpg</td>\n",
       "    </tr>\n",
       "    <tr>\n",
       "      <th>3</th>\n",
       "      <td>Jamaica Irie Tank Top Size Medium Lindsays Ori...</td>\n",
       "      <td>9.25</td>\n",
       "      <td>US</td>\n",
       "      <td>{'Condition:': 'Pre-owned:An item that has bee...</td>\n",
       "      <td>https://i.ebayimg.com/images/g/qfMAAOSwUmhf423...</td>\n",
       "      <td>https://www.ebay.com/itm/Jamaica-Irie-Tank-Top...</td>\n",
       "      <td>./imgs/tshirts/tshirt3.jpg</td>\n",
       "    </tr>\n",
       "    <tr>\n",
       "      <th>4</th>\n",
       "      <td>Lot of 4 Polo by Ralph Lauren Mens Small Short...</td>\n",
       "      <td>NaN</td>\n",
       "      <td>NaN</td>\n",
       "      <td>{'Condition:': 'Pre-owned:An item that has bee...</td>\n",
       "      <td>https://i.ebayimg.com/images/g/DqUAAOSwi9Vf4zB...</td>\n",
       "      <td>https://www.ebay.com/itm/Lot-of-4-Polo-by-Ralp...</td>\n",
       "      <td>./imgs/tshirts/tshirt4.jpg</td>\n",
       "    </tr>\n",
       "  </tbody>\n",
       "</table>\n",
       "</div>"
      ],
      "text/plain": [
       "                                               title  price currency  \\\n",
       "0             Lot of 8 Nike T-Shirts - Men's Size XL  52.88       US   \n",
       "1   Quicksilver Men's Graphic T-shirt L Surfer Shirt   5.00       US   \n",
       "2  Lot of 2 Rick and Morty Ripple Junction T-Shir...   6.99       US   \n",
       "3  Jamaica Irie Tank Top Size Medium Lindsays Ori...   9.25       US   \n",
       "4  Lot of 4 Polo by Ralph Lauren Mens Small Short...    NaN      NaN   \n",
       "\n",
       "                                          attributes  \\\n",
       "0  {'Condition:': 'Pre-owned:An item that has bee...   \n",
       "1                                                NaN   \n",
       "2  {'Condition:': 'Pre-owned:An item that has bee...   \n",
       "3  {'Condition:': 'Pre-owned:An item that has bee...   \n",
       "4  {'Condition:': 'Pre-owned:An item that has bee...   \n",
       "\n",
       "                                          image_link  \\\n",
       "0  https://i.ebayimg.com/images/g/ObkAAOSwyxhfSNz...   \n",
       "1  https://i.ebayimg.com/images/g/81oAAOSw22Ff45L...   \n",
       "2  https://i.ebayimg.com/images/g/eJAAAOSwqlZf43Y...   \n",
       "3  https://i.ebayimg.com/images/g/qfMAAOSwUmhf423...   \n",
       "4  https://i.ebayimg.com/images/g/DqUAAOSwi9Vf4zB...   \n",
       "\n",
       "                                        listing_link  \\\n",
       "0  https://www.ebay.com/itm/Lot-of-8-Nike-T-Shirt...   \n",
       "1  https://www.ebay.com/itm/Quicksilver-Mens-Grap...   \n",
       "2  https://www.ebay.com/itm/Lot-of-2-Rick-and-Mor...   \n",
       "3  https://www.ebay.com/itm/Jamaica-Irie-Tank-Top...   \n",
       "4  https://www.ebay.com/itm/Lot-of-4-Polo-by-Ralp...   \n",
       "\n",
       "                            i  \n",
       "0  ./imgs/tshirts/tshirt0.jpg  \n",
       "1  ./imgs/tshirts/tshirt1.jpg  \n",
       "2  ./imgs/tshirts/tshirt2.jpg  \n",
       "3  ./imgs/tshirts/tshirt3.jpg  \n",
       "4  ./imgs/tshirts/tshirt4.jpg  "
      ]
     },
     "execution_count": 195,
     "metadata": {},
     "output_type": "execute_result"
    }
   ],
   "source": [
    "tees.head()"
   ]
  },
  {
   "cell_type": "code",
   "execution_count": 196,
   "metadata": {},
   "outputs": [
    {
     "data": {
      "text/plain": [
       "title           Ann Arbor Pirate Graphic Mens T-Shirts Black S...\n",
       "price                                                          19\n",
       "currency                                                       US\n",
       "attributes                                                    NaN\n",
       "image_link      https://i.ebayimg.com/images/g/9RcAAOSwNM1fot0...\n",
       "listing_link    https://www.ebay.com/itm/Ann-Arbor-Pirate-Grap...\n",
       "i                                  ./imgs/tshirts/tshirt24806.jpg\n",
       "Name: 24806, dtype: object"
      ]
     },
     "execution_count": 196,
     "metadata": {},
     "output_type": "execute_result"
    }
   ],
   "source": [
    "tees.iloc[24806]"
   ]
  },
  {
   "cell_type": "code",
   "execution_count": 197,
   "metadata": {},
   "outputs": [
    {
     "data": {
      "text/html": [
       "<div>\n",
       "<style scoped>\n",
       "    .dataframe tbody tr th:only-of-type {\n",
       "        vertical-align: middle;\n",
       "    }\n",
       "\n",
       "    .dataframe tbody tr th {\n",
       "        vertical-align: top;\n",
       "    }\n",
       "\n",
       "    .dataframe thead th {\n",
       "        text-align: right;\n",
       "    }\n",
       "</style>\n",
       "<table border=\"1\" class=\"dataframe\">\n",
       "  <thead>\n",
       "    <tr style=\"text-align: right;\">\n",
       "      <th></th>\n",
       "      <th>price</th>\n",
       "    </tr>\n",
       "  </thead>\n",
       "  <tbody>\n",
       "    <tr>\n",
       "      <th>count</th>\n",
       "      <td>19681.000000</td>\n",
       "    </tr>\n",
       "    <tr>\n",
       "      <th>mean</th>\n",
       "      <td>29.323417</td>\n",
       "    </tr>\n",
       "    <tr>\n",
       "      <th>std</th>\n",
       "      <td>94.088025</td>\n",
       "    </tr>\n",
       "    <tr>\n",
       "      <th>min</th>\n",
       "      <td>1.990000</td>\n",
       "    </tr>\n",
       "    <tr>\n",
       "      <th>25%</th>\n",
       "      <td>9.990000</td>\n",
       "    </tr>\n",
       "    <tr>\n",
       "      <th>50%</th>\n",
       "      <td>14.990000</td>\n",
       "    </tr>\n",
       "    <tr>\n",
       "      <th>75%</th>\n",
       "      <td>20.000000</td>\n",
       "    </tr>\n",
       "    <tr>\n",
       "      <th>max</th>\n",
       "      <td>2500.000000</td>\n",
       "    </tr>\n",
       "  </tbody>\n",
       "</table>\n",
       "</div>"
      ],
      "text/plain": [
       "              price\n",
       "count  19681.000000\n",
       "mean      29.323417\n",
       "std       94.088025\n",
       "min        1.990000\n",
       "25%        9.990000\n",
       "50%       14.990000\n",
       "75%       20.000000\n",
       "max     2500.000000"
      ]
     },
     "execution_count": 197,
     "metadata": {},
     "output_type": "execute_result"
    }
   ],
   "source": [
    "tees['price'] = tees['price'].replace('[^.0-9]', '', regex=True).astype(float)\n",
    "\n",
    "tees.describe()"
   ]
  },
  {
   "cell_type": "code",
   "execution_count": 198,
   "metadata": {},
   "outputs": [],
   "source": [
    "combo = pd.concat([boots, casual_shirts, casual_shoes, coats_jackets, dress_shirts, dress_shoes, jeans, pants, polos, shorts, sneakers, suits, sweaters, tees])"
   ]
  },
  {
   "cell_type": "code",
   "execution_count": 199,
   "metadata": {},
   "outputs": [
    {
     "name": "stdout",
     "output_type": "stream",
     "text": [
      "<class 'pandas.core.frame.DataFrame'>\n",
      "Int64Index: 470490 entries, 0 to 27032\n",
      "Data columns (total 7 columns):\n",
      " #   Column        Non-Null Count   Dtype  \n",
      "---  ------        --------------   -----  \n",
      " 0   title         470490 non-null  object \n",
      " 1   price         315355 non-null  float64\n",
      " 2   currency      315355 non-null  object \n",
      " 3   attributes    317881 non-null  object \n",
      " 4   image_link    470490 non-null  object \n",
      " 5   listing_link  470490 non-null  object \n",
      " 6   i             470490 non-null  object \n",
      "dtypes: float64(1), object(6)\n",
      "memory usage: 28.7+ MB\n"
     ]
    }
   ],
   "source": [
    "combo.info()"
   ]
  },
  {
   "cell_type": "code",
   "execution_count": 200,
   "metadata": {},
   "outputs": [
    {
     "data": {
      "text/plain": [
       "'/device:GPU:0'"
      ]
     },
     "execution_count": 200,
     "metadata": {},
     "output_type": "execute_result"
    }
   ],
   "source": [
    "tf.test.gpu_device_name()"
   ]
  },
  {
   "cell_type": "code",
   "execution_count": 226,
   "metadata": {},
   "outputs": [],
   "source": [
    "import glob\n",
    "\n",
    "from sklearn.model_selection import train_test_split"
   ]
  },
  {
   "cell_type": "code",
   "execution_count": 229,
   "metadata": {},
   "outputs": [],
   "source": [
    "boot_data = glob.glob('imgs/boots/*.*')\n",
    "casualshirt_data = glob.glob('imgs/casualshirt/*.*')\n",
    "casualshoe_data = glob.glob('imgs/casualshoe/*.*')\n",
    "coat_data = glob.glob('imgs/coatjacket/*.*')\n",
    "dressshirt_data = glob.glob('imgs/dressshirt/*.*')\n",
    "dressshoe_data = glob.glob('imgs/dressshoe/*.*')\n",
    "jeans_data = glob.glob('imgs/jeans/*.*')\n",
    "pants_data = glob.glob('imgs/pants/*.*')\n",
    "polos_data = glob.glob('imgs/polos/*.*')\n",
    "shorts_data = glob.glob('imgs/shorts/*.*')\n",
    "sneakers_data = glob.glob('imgs/sneakers/*.*')\n",
    "suits_data = glob.glob('imgs/suits/*.*')\n",
    "sweaters_data = glob.glob('imgs/sweaters/*.*')\n",
    "tshirt_data = glob.glob('imgs/tshirts/*.*')\n",
    "\n",
    "\n",
    "data = []\n",
    "labels = []\n",
    "\n",
    "for i in boot_data:   \n",
    "    image=tf.keras.preprocessing.image.load_img(i, color_mode='rgb', \n",
    "    target_size= (224,224))\n",
    "    image=np.array(image)\n",
    "    data.append(image)\n",
    "    labels.append(0)\n",
    "\n",
    "\n"
   ]
  },
  {
   "cell_type": "code",
   "execution_count": null,
   "metadata": {},
   "outputs": [],
   "source": [
    "for i in casualshirt_data:   \n",
    "    image=tf.keras.preprocessing.image.load_img(i, color_mode='rgb', \n",
    "    target_size= (224,224))\n",
    "    image=np.array(image)\n",
    "    data.append(image)\n",
    "    labels.append(1)"
   ]
  },
  {
   "cell_type": "code",
   "execution_count": 204,
   "metadata": {},
   "outputs": [],
   "source": [
    "for i in casualshoe_data:   \n",
    "    image=tf.keras.preprocessing.image.load_img(i, color_mode='rgb', \n",
    "    target_size= (200,200))\n",
    "    image=np.array(image)\n",
    "    data.append(image)\n",
    "    labels.append(2)"
   ]
  },
  {
   "cell_type": "code",
   "execution_count": 230,
   "metadata": {},
   "outputs": [],
   "source": [
    "for i in coat_data:   \n",
    "    image=tf.keras.preprocessing.image.load_img(i, color_mode='rgb', \n",
    "    target_size= (200,200))\n",
    "    image=np.array(image)\n",
    "    data.append(image)\n",
    "    labels.append(3)"
   ]
  },
  {
   "cell_type": "code",
   "execution_count": 205,
   "metadata": {},
   "outputs": [],
   "source": [
    "for i in dressshirt_data:   \n",
    "    image=tf.keras.preprocessing.image.load_img(i, color_mode='rgb', \n",
    "    target_size= (200,200))\n",
    "    image=np.array(image)\n",
    "    data.append(image)\n",
    "    labels.append(4)"
   ]
  },
  {
   "cell_type": "code",
   "execution_count": null,
   "metadata": {},
   "outputs": [],
   "source": [
    "for i in dressshoe_data:   \n",
    "    image=tf.keras.preprocessing.image.load_img(i, color_mode='rgb', \n",
    "    target_size= (200,200))\n",
    "    image=np.array(image)\n",
    "    data.append(image)\n",
    "    labels.append(5)"
   ]
  },
  {
   "cell_type": "code",
   "execution_count": null,
   "metadata": {},
   "outputs": [],
   "source": [
    "for i in jeans_data:   \n",
    "    image=tf.keras.preprocessing.image.load_img(i, color_mode='rgb', \n",
    "    target_size= (200,200))\n",
    "    image=np.array(image)\n",
    "    data.append(image)\n",
    "    labels.append(6)"
   ]
  },
  {
   "cell_type": "code",
   "execution_count": null,
   "metadata": {},
   "outputs": [],
   "source": [
    "for i in pants_data:   \n",
    "    image=tf.keras.preprocessing.image.load_img(i, color_mode='rgb', \n",
    "    target_size= (200,200))\n",
    "    image=np.array(image)\n",
    "    data.append(image)\n",
    "    labels.append(7)"
   ]
  },
  {
   "cell_type": "code",
   "execution_count": null,
   "metadata": {},
   "outputs": [],
   "source": [
    "for i in polos_data:   \n",
    "    image=tf.keras.preprocessing.image.load_img(i, color_mode='rgb', \n",
    "    target_size= (200,200))\n",
    "    image=np.array(image)\n",
    "    data.append(image)\n",
    "    labels.append(8)"
   ]
  },
  {
   "cell_type": "code",
   "execution_count": null,
   "metadata": {},
   "outputs": [],
   "source": [
    "for i in shorts_data:   \n",
    "    image=tf.keras.preprocessing.image.load_img(i, color_mode='rgb', \n",
    "    target_size= (200,200))\n",
    "    image=np.array(image)\n",
    "    data.append(image)\n",
    "    labels.append(9)"
   ]
  },
  {
   "cell_type": "code",
   "execution_count": null,
   "metadata": {},
   "outputs": [],
   "source": [
    "for i in sneakers_data:   \n",
    "    image=tf.keras.preprocessing.image.load_img(i, color_mode='rgb', \n",
    "    target_size= (200,200))\n",
    "    image=np.array(image)\n",
    "    data.append(image)\n",
    "    labels.append(10)"
   ]
  },
  {
   "cell_type": "code",
   "execution_count": null,
   "metadata": {},
   "outputs": [],
   "source": [
    "for i in suits_data:   \n",
    "    image=tf.keras.preprocessing.image.load_img(i, color_mode='rgb', \n",
    "    target_size= (200,200))\n",
    "    image=np.array(image)\n",
    "    data.append(image)\n",
    "    labels.append(11)"
   ]
  },
  {
   "cell_type": "code",
   "execution_count": null,
   "metadata": {},
   "outputs": [],
   "source": [
    "for i in sweaters_data:   \n",
    "    image=tf.keras.preprocessing.image.load_img(i, color_mode='rgb', \n",
    "    target_size= (300,300))\n",
    "    image=np.array(image)\n",
    "    data.append(image)\n",
    "    labels.append(12)"
   ]
  },
  {
   "cell_type": "code",
   "execution_count": null,
   "metadata": {},
   "outputs": [],
   "source": [
    "for i in tshirt_data:   \n",
    "    image=tf.keras.preprocessing.image.load_img(i, color_mode='rgb', \n",
    "    target_size= (300,300))\n",
    "    image=np.array(image)\n",
    "    data.append(image)\n",
    "    labels.append(13)"
   ]
  },
  {
   "cell_type": "code",
   "execution_count": null,
   "metadata": {},
   "outputs": [],
   "source": []
  },
  {
   "cell_type": "code",
   "execution_count": null,
   "metadata": {},
   "outputs": [],
   "source": []
  },
  {
   "cell_type": "code",
   "execution_count": null,
   "metadata": {},
   "outputs": [],
   "source": []
  },
  {
   "cell_type": "code",
   "execution_count": null,
   "metadata": {},
   "outputs": [],
   "source": []
  },
  {
   "cell_type": "code",
   "execution_count": null,
   "metadata": {},
   "outputs": [],
   "source": [
    "data = np.array(data)\n",
    "labels = np.array(labels)"
   ]
  },
  {
   "cell_type": "code",
   "execution_count": null,
   "metadata": {
    "scrolled": false
   },
   "outputs": [],
   "source": [
    "X_train, X_test, ytrain, ytest = train_test_split(data, labels, test_size=0.2,\n",
    "                                                random_state=42)"
   ]
  },
  {
   "cell_type": "code",
   "execution_count": 202,
   "metadata": {},
   "outputs": [],
   "source": [
    "import tensorflow_hub as hub"
   ]
  },
  {
   "cell_type": "code",
   "execution_count": 203,
   "metadata": {},
   "outputs": [],
   "source": [
    "import tensorflow_datasets as tfds"
   ]
  },
  {
   "cell_type": "code",
   "execution_count": 206,
   "metadata": {},
   "outputs": [
    {
     "name": "stderr",
     "output_type": "stream",
     "text": [
      "WARNING:absl:Warning: Setting shuffle_files=True because split=TRAIN and shuffle_files=None. This behavior will be deprecated on 2019-08-06, at which point shuffle_files=False will be the default for all splits.\n"
     ]
    }
   ],
   "source": [
    "datasets, info = tfds.load(name='horses_or_humans', with_info=True, as_supervised=True, split=['train', 'test'])"
   ]
  },
  {
   "cell_type": "code",
   "execution_count": 216,
   "metadata": {},
   "outputs": [
    {
     "data": {
      "text/plain": [
       "tfds.core.DatasetInfo(\n",
       "    name='horses_or_humans',\n",
       "    version=1.0.0,\n",
       "    description='A large set of images of horses and humans.',\n",
       "    urls=['http://laurencemoroney.com/horses-or-humans-dataset'],\n",
       "    features=FeaturesDict({\n",
       "        'image': Image(shape=(None, None, 3), dtype=tf.uint8),\n",
       "        'label': ClassLabel(shape=(), dtype=tf.int64, num_classes=2),\n",
       "    }),\n",
       "    total_num_examples=1283,\n",
       "    splits={\n",
       "        'test': 256,\n",
       "        'train': 1027,\n",
       "    },\n",
       "    supervised_keys=('image', 'label'),\n",
       "    citation=\"\"\"@ONLINE {horses_or_humans,\n",
       "    author = \"Laurence Moroney\",\n",
       "    title = \"Horses or Humans Dataset\",\n",
       "    month = \"feb\",\n",
       "    year = \"2019\",\n",
       "    url = \"http://laurencemoroney.com/horses-or-humans-dataset\"\n",
       "    }\"\"\",\n",
       "    redistribution_info=,\n",
       ")"
      ]
     },
     "execution_count": 216,
     "metadata": {},
     "output_type": "execute_result"
    }
   ],
   "source": [
    "info"
   ]
  },
  {
   "cell_type": "code",
   "execution_count": 227,
   "metadata": {},
   "outputs": [
    {
     "data": {
      "image/png": "[encoded data removed]",
      "text/plain": [
       "<Figure size 648x648 with 9 Axes>"
      ]
     },
     "metadata": {},
     "output_type": "display_data"
    }
   ],
   "source": [
    "train, info_train = tfds.load(name='horses_or_humans', with_info=True, split='test')\n",
    "\n",
    "tfds.show_examples(info_train, train);"
   ]
  },
  {
   "cell_type": "code",
   "execution_count": 220,
   "metadata": {},
   "outputs": [
    {
     "data": {
      "text/plain": [
       "tfds.core.DatasetInfo(\n",
       "    name='horses_or_humans',\n",
       "    version=1.0.0,\n",
       "    description='A large set of images of horses and humans.',\n",
       "    urls=['http://laurencemoroney.com/horses-or-humans-dataset'],\n",
       "    features=FeaturesDict({\n",
       "        'image': Image(shape=(None, None, 3), dtype=tf.uint8),\n",
       "        'label': ClassLabel(shape=(), dtype=tf.int64, num_classes=2),\n",
       "    }),\n",
       "    total_num_examples=1283,\n",
       "    splits={\n",
       "        'test': 256,\n",
       "        'train': 1027,\n",
       "    },\n",
       "    supervised_keys=('image', 'label'),\n",
       "    citation=\"\"\"@ONLINE {horses_or_humans,\n",
       "    author = \"Laurence Moroney\",\n",
       "    title = \"Horses or Humans Dataset\",\n",
       "    month = \"feb\",\n",
       "    year = \"2019\",\n",
       "    url = \"http://laurencemoroney.com/horses-or-humans-dataset\"\n",
       "    }\"\"\",\n",
       "    redistribution_info=,\n",
       ")"
      ]
     },
     "execution_count": 220,
     "metadata": {},
     "output_type": "execute_result"
    }
   ],
   "source": [
    "info_train"
   ]
  },
  {
   "cell_type": "code",
   "execution_count": 209,
   "metadata": {},
   "outputs": [],
   "source": [
    "def scale(image,label):\n",
    "    image = tf.cast(image, tf.float32)\n",
    "    image /= 255.0\n",
    "    \n",
    "    return tf.image.resize(image, [224,224], tf.one_hot(label, 2))"
   ]
  },
  {
   "cell_type": "code",
   "execution_count": 210,
   "metadata": {},
   "outputs": [],
   "source": [
    "def get_dataset(batch_size=32):\n",
    "    train_dataset_scaled = datasets[0].map(scale).shuffle(1000).batch(batch_size)\n",
    "    test_dataset_scaled = datasets[1].map(scale).batch(batch_size)\n",
    "    return train_dataset_scaled, test_dataset_scaled"
   ]
  },
  {
   "cell_type": "code",
   "execution_count": 219,
   "metadata": {},
   "outputs": [
    {
     "ename": "TypeError",
     "evalue": "in user code:\n\n    <ipython-input-209-1fba32db2074>:5 scale  *\n        return tf.image.resize(image, [224,224], tf.one_hot(label, 2))\n    /home/mario/anaconda3/envs/tensorflow/lib/python3.7/site-packages/tensorflow/python/ops/image_ops_impl.py:1517 resize_images_v2  **\n        skip_resize_if_same=False)\n    /home/mario/anaconda3/envs/tensorflow/lib/python3.7/site-packages/tensorflow/python/ops/image_ops_impl.py:1247 _resize_images_common\n        images = resizer_fn(images, size)\n    /home/mario/anaconda3/envs/tensorflow/lib/python3.7/site-packages/tensorflow/python/ops/image_ops_impl.py:1489 resize_fn\n        if method == ResizeMethod.BILINEAR:\n    /home/mario/anaconda3/envs/tensorflow/lib/python3.7/site-packages/tensorflow/python/ops/math_ops.py:1491 tensor_equals\n        return gen_math_ops.equal(self, other, incompatible_shape_error=False)\n    /home/mario/anaconda3/envs/tensorflow/lib/python3.7/site-packages/tensorflow/python/ops/gen_math_ops.py:3224 equal\n        name=name)\n    /home/mario/anaconda3/envs/tensorflow/lib/python3.7/site-packages/tensorflow/python/framework/op_def_library.py:479 _apply_op_helper\n        repr(values), type(values).__name__, err))\n\n    TypeError: Expected float32 passed to parameter 'y' of op 'Equal', got 'bilinear' of type 'str' instead. Error: Expected float32, got 'bilinear' of type 'str' instead.\n",
     "output_type": "error",
     "traceback": [
      "\u001b[0;31m---------------------------------------------------------------------------\u001b[0m",
      "\u001b[0;31mTypeError\u001b[0m                                 Traceback (most recent call last)",
      "\u001b[0;32m<ipython-input-219-51c56689328b>\u001b[0m in \u001b[0;36m<module>\u001b[0;34m\u001b[0m\n\u001b[0;32m----> 1\u001b[0;31m \u001b[0mtrain_dataset_scaled\u001b[0m \u001b[0;34m=\u001b[0m \u001b[0mdatasets\u001b[0m\u001b[0;34m[\u001b[0m\u001b[0;36m1\u001b[0m\u001b[0;34m]\u001b[0m\u001b[0;34m.\u001b[0m\u001b[0mmap\u001b[0m\u001b[0;34m(\u001b[0m\u001b[0mscale\u001b[0m\u001b[0;34m)\u001b[0m\u001b[0;34m.\u001b[0m\u001b[0mshuffle\u001b[0m\u001b[0;34m(\u001b[0m\u001b[0;36m1000\u001b[0m\u001b[0;34m)\u001b[0m\u001b[0;34m.\u001b[0m\u001b[0mbatch\u001b[0m\u001b[0;34m(\u001b[0m\u001b[0;36m32\u001b[0m\u001b[0;34m)\u001b[0m\u001b[0;34m\u001b[0m\u001b[0;34m\u001b[0m\u001b[0m\n\u001b[0m",
      "\u001b[0;32m~/anaconda3/envs/tensorflow/lib/python3.7/site-packages/tensorflow/python/data/ops/dataset_ops.py\u001b[0m in \u001b[0;36mmap\u001b[0;34m(self, map_func, num_parallel_calls, deterministic)\u001b[0m\n\u001b[1;32m   1619\u001b[0m     \"\"\"\n\u001b[1;32m   1620\u001b[0m     \u001b[0;32mif\u001b[0m \u001b[0mnum_parallel_calls\u001b[0m \u001b[0;32mis\u001b[0m \u001b[0;32mNone\u001b[0m\u001b[0;34m:\u001b[0m\u001b[0;34m\u001b[0m\u001b[0;34m\u001b[0m\u001b[0m\n\u001b[0;32m-> 1621\u001b[0;31m       \u001b[0;32mreturn\u001b[0m \u001b[0mMapDataset\u001b[0m\u001b[0;34m(\u001b[0m\u001b[0mself\u001b[0m\u001b[0;34m,\u001b[0m \u001b[0mmap_func\u001b[0m\u001b[0;34m,\u001b[0m \u001b[0mpreserve_cardinality\u001b[0m\u001b[0;34m=\u001b[0m\u001b[0;32mTrue\u001b[0m\u001b[0;34m)\u001b[0m\u001b[0;34m\u001b[0m\u001b[0;34m\u001b[0m\u001b[0m\n\u001b[0m\u001b[1;32m   1622\u001b[0m     \u001b[0;32melse\u001b[0m\u001b[0;34m:\u001b[0m\u001b[0;34m\u001b[0m\u001b[0;34m\u001b[0m\u001b[0m\n\u001b[1;32m   1623\u001b[0m       return ParallelMapDataset(\n",
      "\u001b[0;32m~/anaconda3/envs/tensorflow/lib/python3.7/site-packages/tensorflow/python/data/ops/dataset_ops.py\u001b[0m in \u001b[0;36m__init__\u001b[0;34m(self, input_dataset, map_func, use_inter_op_parallelism, preserve_cardinality, use_legacy_function)\u001b[0m\n\u001b[1;32m   3979\u001b[0m         \u001b[0mself\u001b[0m\u001b[0;34m.\u001b[0m\u001b[0m_transformation_name\u001b[0m\u001b[0;34m(\u001b[0m\u001b[0;34m)\u001b[0m\u001b[0;34m,\u001b[0m\u001b[0;34m\u001b[0m\u001b[0;34m\u001b[0m\u001b[0m\n\u001b[1;32m   3980\u001b[0m         \u001b[0mdataset\u001b[0m\u001b[0;34m=\u001b[0m\u001b[0minput_dataset\u001b[0m\u001b[0;34m,\u001b[0m\u001b[0;34m\u001b[0m\u001b[0;34m\u001b[0m\u001b[0m\n\u001b[0;32m-> 3981\u001b[0;31m         use_legacy_function=use_legacy_function)\n\u001b[0m\u001b[1;32m   3982\u001b[0m     variant_tensor = gen_dataset_ops.map_dataset(\n\u001b[1;32m   3983\u001b[0m         \u001b[0minput_dataset\u001b[0m\u001b[0;34m.\u001b[0m\u001b[0m_variant_tensor\u001b[0m\u001b[0;34m,\u001b[0m  \u001b[0;31m# pylint: disable=protected-access\u001b[0m\u001b[0;34m\u001b[0m\u001b[0;34m\u001b[0m\u001b[0m\n",
      "\u001b[0;32m~/anaconda3/envs/tensorflow/lib/python3.7/site-packages/tensorflow/python/data/ops/dataset_ops.py\u001b[0m in \u001b[0;36m__init__\u001b[0;34m(self, func, transformation_name, dataset, input_classes, input_shapes, input_types, input_structure, add_to_graph, use_legacy_function, defun_kwargs)\u001b[0m\n\u001b[1;32m   3219\u001b[0m       \u001b[0;32mwith\u001b[0m \u001b[0mtracking\u001b[0m\u001b[0;34m.\u001b[0m\u001b[0mresource_tracker_scope\u001b[0m\u001b[0;34m(\u001b[0m\u001b[0mresource_tracker\u001b[0m\u001b[0;34m)\u001b[0m\u001b[0;34m:\u001b[0m\u001b[0;34m\u001b[0m\u001b[0;34m\u001b[0m\u001b[0m\n\u001b[1;32m   3220\u001b[0m         \u001b[0;31m# TODO(b/141462134): Switch to using garbage collection.\u001b[0m\u001b[0;34m\u001b[0m\u001b[0;34m\u001b[0m\u001b[0;34m\u001b[0m\u001b[0m\n\u001b[0;32m-> 3221\u001b[0;31m         \u001b[0mself\u001b[0m\u001b[0;34m.\u001b[0m\u001b[0m_function\u001b[0m \u001b[0;34m=\u001b[0m \u001b[0mwrapper_fn\u001b[0m\u001b[0;34m.\u001b[0m\u001b[0mget_concrete_function\u001b[0m\u001b[0;34m(\u001b[0m\u001b[0;34m)\u001b[0m\u001b[0;34m\u001b[0m\u001b[0;34m\u001b[0m\u001b[0m\n\u001b[0m\u001b[1;32m   3222\u001b[0m \u001b[0;34m\u001b[0m\u001b[0m\n\u001b[1;32m   3223\u001b[0m         \u001b[0;32mif\u001b[0m \u001b[0madd_to_graph\u001b[0m\u001b[0;34m:\u001b[0m\u001b[0;34m\u001b[0m\u001b[0;34m\u001b[0m\u001b[0m\n",
      "\u001b[0;32m~/anaconda3/envs/tensorflow/lib/python3.7/site-packages/tensorflow/python/eager/function.py\u001b[0m in \u001b[0;36mget_concrete_function\u001b[0;34m(self, *args, **kwargs)\u001b[0m\n\u001b[1;32m   2530\u001b[0m     \"\"\"\n\u001b[1;32m   2531\u001b[0m     graph_function = self._get_concrete_function_garbage_collected(\n\u001b[0;32m-> 2532\u001b[0;31m         *args, **kwargs)\n\u001b[0m\u001b[1;32m   2533\u001b[0m     \u001b[0mgraph_function\u001b[0m\u001b[0;34m.\u001b[0m\u001b[0m_garbage_collector\u001b[0m\u001b[0;34m.\u001b[0m\u001b[0mrelease\u001b[0m\u001b[0;34m(\u001b[0m\u001b[0;34m)\u001b[0m  \u001b[0;31m# pylint: disable=protected-access\u001b[0m\u001b[0;34m\u001b[0m\u001b[0;34m\u001b[0m\u001b[0m\n\u001b[1;32m   2534\u001b[0m     \u001b[0;32mreturn\u001b[0m \u001b[0mgraph_function\u001b[0m\u001b[0;34m\u001b[0m\u001b[0;34m\u001b[0m\u001b[0m\n",
      "\u001b[0;32m~/anaconda3/envs/tensorflow/lib/python3.7/site-packages/tensorflow/python/eager/function.py\u001b[0m in \u001b[0;36m_get_concrete_function_garbage_collected\u001b[0;34m(self, *args, **kwargs)\u001b[0m\n\u001b[1;32m   2494\u001b[0m       \u001b[0margs\u001b[0m\u001b[0;34m,\u001b[0m \u001b[0mkwargs\u001b[0m \u001b[0;34m=\u001b[0m \u001b[0;32mNone\u001b[0m\u001b[0;34m,\u001b[0m \u001b[0;32mNone\u001b[0m\u001b[0;34m\u001b[0m\u001b[0;34m\u001b[0m\u001b[0m\n\u001b[1;32m   2495\u001b[0m     \u001b[0;32mwith\u001b[0m \u001b[0mself\u001b[0m\u001b[0;34m.\u001b[0m\u001b[0m_lock\u001b[0m\u001b[0;34m:\u001b[0m\u001b[0;34m\u001b[0m\u001b[0;34m\u001b[0m\u001b[0m\n\u001b[0;32m-> 2496\u001b[0;31m       \u001b[0mgraph_function\u001b[0m\u001b[0;34m,\u001b[0m \u001b[0margs\u001b[0m\u001b[0;34m,\u001b[0m \u001b[0mkwargs\u001b[0m \u001b[0;34m=\u001b[0m \u001b[0mself\u001b[0m\u001b[0;34m.\u001b[0m\u001b[0m_maybe_define_function\u001b[0m\u001b[0;34m(\u001b[0m\u001b[0margs\u001b[0m\u001b[0;34m,\u001b[0m \u001b[0mkwargs\u001b[0m\u001b[0;34m)\u001b[0m\u001b[0;34m\u001b[0m\u001b[0;34m\u001b[0m\u001b[0m\n\u001b[0m\u001b[1;32m   2497\u001b[0m       \u001b[0;32mif\u001b[0m \u001b[0mself\u001b[0m\u001b[0;34m.\u001b[0m\u001b[0minput_signature\u001b[0m\u001b[0;34m:\u001b[0m\u001b[0;34m\u001b[0m\u001b[0;34m\u001b[0m\u001b[0m\n\u001b[1;32m   2498\u001b[0m         \u001b[0margs\u001b[0m \u001b[0;34m=\u001b[0m \u001b[0mself\u001b[0m\u001b[0;34m.\u001b[0m\u001b[0minput_signature\u001b[0m\u001b[0;34m\u001b[0m\u001b[0;34m\u001b[0m\u001b[0m\n",
      "\u001b[0;32m~/anaconda3/envs/tensorflow/lib/python3.7/site-packages/tensorflow/python/eager/function.py\u001b[0m in \u001b[0;36m_maybe_define_function\u001b[0;34m(self, args, kwargs)\u001b[0m\n\u001b[1;32m   2775\u001b[0m \u001b[0;34m\u001b[0m\u001b[0m\n\u001b[1;32m   2776\u001b[0m       \u001b[0mself\u001b[0m\u001b[0;34m.\u001b[0m\u001b[0m_function_cache\u001b[0m\u001b[0;34m.\u001b[0m\u001b[0mmissed\u001b[0m\u001b[0;34m.\u001b[0m\u001b[0madd\u001b[0m\u001b[0;34m(\u001b[0m\u001b[0mcall_context_key\u001b[0m\u001b[0;34m)\u001b[0m\u001b[0;34m\u001b[0m\u001b[0;34m\u001b[0m\u001b[0m\n\u001b[0;32m-> 2777\u001b[0;31m       \u001b[0mgraph_function\u001b[0m \u001b[0;34m=\u001b[0m \u001b[0mself\u001b[0m\u001b[0;34m.\u001b[0m\u001b[0m_create_graph_function\u001b[0m\u001b[0;34m(\u001b[0m\u001b[0margs\u001b[0m\u001b[0;34m,\u001b[0m \u001b[0mkwargs\u001b[0m\u001b[0;34m)\u001b[0m\u001b[0;34m\u001b[0m\u001b[0;34m\u001b[0m\u001b[0m\n\u001b[0m\u001b[1;32m   2778\u001b[0m       \u001b[0mself\u001b[0m\u001b[0;34m.\u001b[0m\u001b[0m_function_cache\u001b[0m\u001b[0;34m.\u001b[0m\u001b[0mprimary\u001b[0m\u001b[0;34m[\u001b[0m\u001b[0mcache_key\u001b[0m\u001b[0;34m]\u001b[0m \u001b[0;34m=\u001b[0m \u001b[0mgraph_function\u001b[0m\u001b[0;34m\u001b[0m\u001b[0;34m\u001b[0m\u001b[0m\n\u001b[1;32m   2779\u001b[0m       \u001b[0;32mreturn\u001b[0m \u001b[0mgraph_function\u001b[0m\u001b[0;34m,\u001b[0m \u001b[0margs\u001b[0m\u001b[0;34m,\u001b[0m \u001b[0mkwargs\u001b[0m\u001b[0;34m\u001b[0m\u001b[0;34m\u001b[0m\u001b[0m\n",
      "\u001b[0;32m~/anaconda3/envs/tensorflow/lib/python3.7/site-packages/tensorflow/python/eager/function.py\u001b[0m in \u001b[0;36m_create_graph_function\u001b[0;34m(self, args, kwargs, override_flat_arg_shapes)\u001b[0m\n\u001b[1;32m   2665\u001b[0m             \u001b[0marg_names\u001b[0m\u001b[0;34m=\u001b[0m\u001b[0marg_names\u001b[0m\u001b[0;34m,\u001b[0m\u001b[0;34m\u001b[0m\u001b[0;34m\u001b[0m\u001b[0m\n\u001b[1;32m   2666\u001b[0m             \u001b[0moverride_flat_arg_shapes\u001b[0m\u001b[0;34m=\u001b[0m\u001b[0moverride_flat_arg_shapes\u001b[0m\u001b[0;34m,\u001b[0m\u001b[0;34m\u001b[0m\u001b[0;34m\u001b[0m\u001b[0m\n\u001b[0;32m-> 2667\u001b[0;31m             capture_by_value=self._capture_by_value),\n\u001b[0m\u001b[1;32m   2668\u001b[0m         \u001b[0mself\u001b[0m\u001b[0;34m.\u001b[0m\u001b[0m_function_attributes\u001b[0m\u001b[0;34m,\u001b[0m\u001b[0;34m\u001b[0m\u001b[0;34m\u001b[0m\u001b[0m\n\u001b[1;32m   2669\u001b[0m         \u001b[0;31m# Tell the ConcreteFunction to clean up its graph once it goes out of\u001b[0m\u001b[0;34m\u001b[0m\u001b[0;34m\u001b[0m\u001b[0;34m\u001b[0m\u001b[0m\n",
      "\u001b[0;32m~/anaconda3/envs/tensorflow/lib/python3.7/site-packages/tensorflow/python/framework/func_graph.py\u001b[0m in \u001b[0;36mfunc_graph_from_py_func\u001b[0;34m(name, python_func, args, kwargs, signature, func_graph, autograph, autograph_options, add_control_dependencies, arg_names, op_return_value, collections, capture_by_value, override_flat_arg_shapes)\u001b[0m\n\u001b[1;32m    979\u001b[0m         \u001b[0m_\u001b[0m\u001b[0;34m,\u001b[0m \u001b[0moriginal_func\u001b[0m \u001b[0;34m=\u001b[0m \u001b[0mtf_decorator\u001b[0m\u001b[0;34m.\u001b[0m\u001b[0munwrap\u001b[0m\u001b[0;34m(\u001b[0m\u001b[0mpython_func\u001b[0m\u001b[0;34m)\u001b[0m\u001b[0;34m\u001b[0m\u001b[0;34m\u001b[0m\u001b[0m\n\u001b[1;32m    980\u001b[0m \u001b[0;34m\u001b[0m\u001b[0m\n\u001b[0;32m--> 981\u001b[0;31m       \u001b[0mfunc_outputs\u001b[0m \u001b[0;34m=\u001b[0m \u001b[0mpython_func\u001b[0m\u001b[0;34m(\u001b[0m\u001b[0;34m*\u001b[0m\u001b[0mfunc_args\u001b[0m\u001b[0;34m,\u001b[0m \u001b[0;34m**\u001b[0m\u001b[0mfunc_kwargs\u001b[0m\u001b[0;34m)\u001b[0m\u001b[0;34m\u001b[0m\u001b[0;34m\u001b[0m\u001b[0m\n\u001b[0m\u001b[1;32m    982\u001b[0m \u001b[0;34m\u001b[0m\u001b[0m\n\u001b[1;32m    983\u001b[0m       \u001b[0;31m# invariant: `func_outputs` contains only Tensors, CompositeTensors,\u001b[0m\u001b[0;34m\u001b[0m\u001b[0;34m\u001b[0m\u001b[0;34m\u001b[0m\u001b[0m\n",
      "\u001b[0;32m~/anaconda3/envs/tensorflow/lib/python3.7/site-packages/tensorflow/python/data/ops/dataset_ops.py\u001b[0m in \u001b[0;36mwrapper_fn\u001b[0;34m(*args)\u001b[0m\n\u001b[1;32m   3212\u001b[0m           attributes=defun_kwargs)\n\u001b[1;32m   3213\u001b[0m       \u001b[0;32mdef\u001b[0m \u001b[0mwrapper_fn\u001b[0m\u001b[0;34m(\u001b[0m\u001b[0;34m*\u001b[0m\u001b[0margs\u001b[0m\u001b[0;34m)\u001b[0m\u001b[0;34m:\u001b[0m  \u001b[0;31m# pylint: disable=missing-docstring\u001b[0m\u001b[0;34m\u001b[0m\u001b[0;34m\u001b[0m\u001b[0m\n\u001b[0;32m-> 3214\u001b[0;31m         \u001b[0mret\u001b[0m \u001b[0;34m=\u001b[0m \u001b[0m_wrapper_helper\u001b[0m\u001b[0;34m(\u001b[0m\u001b[0;34m*\u001b[0m\u001b[0margs\u001b[0m\u001b[0;34m)\u001b[0m\u001b[0;34m\u001b[0m\u001b[0;34m\u001b[0m\u001b[0m\n\u001b[0m\u001b[1;32m   3215\u001b[0m         \u001b[0mret\u001b[0m \u001b[0;34m=\u001b[0m \u001b[0mstructure\u001b[0m\u001b[0;34m.\u001b[0m\u001b[0mto_tensor_list\u001b[0m\u001b[0;34m(\u001b[0m\u001b[0mself\u001b[0m\u001b[0;34m.\u001b[0m\u001b[0m_output_structure\u001b[0m\u001b[0;34m,\u001b[0m \u001b[0mret\u001b[0m\u001b[0;34m)\u001b[0m\u001b[0;34m\u001b[0m\u001b[0;34m\u001b[0m\u001b[0m\n\u001b[1;32m   3216\u001b[0m         \u001b[0;32mreturn\u001b[0m \u001b[0;34m[\u001b[0m\u001b[0mops\u001b[0m\u001b[0;34m.\u001b[0m\u001b[0mconvert_to_tensor\u001b[0m\u001b[0;34m(\u001b[0m\u001b[0mt\u001b[0m\u001b[0;34m)\u001b[0m \u001b[0;32mfor\u001b[0m \u001b[0mt\u001b[0m \u001b[0;32min\u001b[0m \u001b[0mret\u001b[0m\u001b[0;34m]\u001b[0m\u001b[0;34m\u001b[0m\u001b[0;34m\u001b[0m\u001b[0m\n",
      "\u001b[0;32m~/anaconda3/envs/tensorflow/lib/python3.7/site-packages/tensorflow/python/data/ops/dataset_ops.py\u001b[0m in \u001b[0;36m_wrapper_helper\u001b[0;34m(*args)\u001b[0m\n\u001b[1;32m   3154\u001b[0m         \u001b[0mnested_args\u001b[0m \u001b[0;34m=\u001b[0m \u001b[0;34m(\u001b[0m\u001b[0mnested_args\u001b[0m\u001b[0;34m,\u001b[0m\u001b[0;34m)\u001b[0m\u001b[0;34m\u001b[0m\u001b[0;34m\u001b[0m\u001b[0m\n\u001b[1;32m   3155\u001b[0m \u001b[0;34m\u001b[0m\u001b[0m\n\u001b[0;32m-> 3156\u001b[0;31m       \u001b[0mret\u001b[0m \u001b[0;34m=\u001b[0m \u001b[0mautograph\u001b[0m\u001b[0;34m.\u001b[0m\u001b[0mtf_convert\u001b[0m\u001b[0;34m(\u001b[0m\u001b[0mfunc\u001b[0m\u001b[0;34m,\u001b[0m \u001b[0mag_ctx\u001b[0m\u001b[0;34m)\u001b[0m\u001b[0;34m(\u001b[0m\u001b[0;34m*\u001b[0m\u001b[0mnested_args\u001b[0m\u001b[0;34m)\u001b[0m\u001b[0;34m\u001b[0m\u001b[0;34m\u001b[0m\u001b[0m\n\u001b[0m\u001b[1;32m   3157\u001b[0m       \u001b[0;31m# If `func` returns a list of tensors, `nest.flatten()` and\u001b[0m\u001b[0;34m\u001b[0m\u001b[0;34m\u001b[0m\u001b[0;34m\u001b[0m\u001b[0m\n\u001b[1;32m   3158\u001b[0m       \u001b[0;31m# `ops.convert_to_tensor()` would conspire to attempt to stack\u001b[0m\u001b[0;34m\u001b[0m\u001b[0;34m\u001b[0m\u001b[0;34m\u001b[0m\u001b[0m\n",
      "\u001b[0;32m~/anaconda3/envs/tensorflow/lib/python3.7/site-packages/tensorflow/python/autograph/impl/api.py\u001b[0m in \u001b[0;36mwrapper\u001b[0;34m(*args, **kwargs)\u001b[0m\n\u001b[1;32m    263\u001b[0m       \u001b[0;32mexcept\u001b[0m \u001b[0mException\u001b[0m \u001b[0;32mas\u001b[0m \u001b[0me\u001b[0m\u001b[0;34m:\u001b[0m  \u001b[0;31m# pylint:disable=broad-except\u001b[0m\u001b[0;34m\u001b[0m\u001b[0;34m\u001b[0m\u001b[0m\n\u001b[1;32m    264\u001b[0m         \u001b[0;32mif\u001b[0m \u001b[0mhasattr\u001b[0m\u001b[0;34m(\u001b[0m\u001b[0me\u001b[0m\u001b[0;34m,\u001b[0m \u001b[0;34m'ag_error_metadata'\u001b[0m\u001b[0;34m)\u001b[0m\u001b[0;34m:\u001b[0m\u001b[0;34m\u001b[0m\u001b[0;34m\u001b[0m\u001b[0m\n\u001b[0;32m--> 265\u001b[0;31m           \u001b[0;32mraise\u001b[0m \u001b[0me\u001b[0m\u001b[0;34m.\u001b[0m\u001b[0mag_error_metadata\u001b[0m\u001b[0;34m.\u001b[0m\u001b[0mto_exception\u001b[0m\u001b[0;34m(\u001b[0m\u001b[0me\u001b[0m\u001b[0;34m)\u001b[0m\u001b[0;34m\u001b[0m\u001b[0;34m\u001b[0m\u001b[0m\n\u001b[0m\u001b[1;32m    266\u001b[0m         \u001b[0;32melse\u001b[0m\u001b[0;34m:\u001b[0m\u001b[0;34m\u001b[0m\u001b[0;34m\u001b[0m\u001b[0m\n\u001b[1;32m    267\u001b[0m           \u001b[0;32mraise\u001b[0m\u001b[0;34m\u001b[0m\u001b[0;34m\u001b[0m\u001b[0m\n",
      "\u001b[0;31mTypeError\u001b[0m: in user code:\n\n    <ipython-input-209-1fba32db2074>:5 scale  *\n        return tf.image.resize(image, [224,224], tf.one_hot(label, 2))\n    /home/mario/anaconda3/envs/tensorflow/lib/python3.7/site-packages/tensorflow/python/ops/image_ops_impl.py:1517 resize_images_v2  **\n        skip_resize_if_same=False)\n    /home/mario/anaconda3/envs/tensorflow/lib/python3.7/site-packages/tensorflow/python/ops/image_ops_impl.py:1247 _resize_images_common\n        images = resizer_fn(images, size)\n    /home/mario/anaconda3/envs/tensorflow/lib/python3.7/site-packages/tensorflow/python/ops/image_ops_impl.py:1489 resize_fn\n        if method == ResizeMethod.BILINEAR:\n    /home/mario/anaconda3/envs/tensorflow/lib/python3.7/site-packages/tensorflow/python/ops/math_ops.py:1491 tensor_equals\n        return gen_math_ops.equal(self, other, incompatible_shape_error=False)\n    /home/mario/anaconda3/envs/tensorflow/lib/python3.7/site-packages/tensorflow/python/ops/gen_math_ops.py:3224 equal\n        name=name)\n    /home/mario/anaconda3/envs/tensorflow/lib/python3.7/site-packages/tensorflow/python/framework/op_def_library.py:479 _apply_op_helper\n        repr(values), type(values).__name__, err))\n\n    TypeError: Expected float32 passed to parameter 'y' of op 'Equal', got 'bilinear' of type 'str' instead. Error: Expected float32, got 'bilinear' of type 'str' instead.\n"
     ]
    }
   ],
   "source": [
    "train_dataset_scaled = datasets[1].map(scale).shuffle(1000).batch(32)"
   ]
  },
  {
   "cell_type": "code",
   "execution_count": 228,
   "metadata": {},
   "outputs": [],
   "source": [
    "feature_extractor = \"https://tfhub.dev/google/tf2-preview/mobilenet_v2/feature_vector/4\""
   ]
  },
  {
   "cell_type": "code",
   "execution_count": 229,
   "metadata": {},
   "outputs": [],
   "source": [
    "feature_extractor_layer = hub.KerasLayer(feature_extractor, input_shape=(224,224,3))"
   ]
  },
  {
   "cell_type": "code",
   "execution_count": 230,
   "metadata": {},
   "outputs": [],
   "source": [
    "feature_extractor_layer.trainable=False"
   ]
  },
  {
   "cell_type": "code",
   "execution_count": 231,
   "metadata": {},
   "outputs": [
    {
     "name": "stdout",
     "output_type": "stream",
     "text": [
      "Model: \"sequential\"\n",
      "_________________________________________________________________\n",
      "Layer (type)                 Output Shape              Param #   \n",
      "=================================================================\n",
      "keras_layer (KerasLayer)     (None, 1280)              2257984   \n",
      "_________________________________________________________________\n",
      "dropout (Dropout)            (None, 1280)              0         \n",
      "_________________________________________________________________\n",
      "dense (Dense)                (None, 3)                 3843      \n",
      "=================================================================\n",
      "Total params: 2,261,827\n",
      "Trainable params: 3,843\n",
      "Non-trainable params: 2,257,984\n",
      "_________________________________________________________________\n"
     ]
    }
   ],
   "source": [
    "model = tf.keras.Sequential([\n",
    "    feature_extractor_layer,\n",
    "    tf.keras.layers.Dropout(0.3),\n",
    "    tf.keras.layers.Dense(3, activation='softmax')\n",
    "])\n",
    "\n",
    "model.summary()"
   ]
  },
  {
   "cell_type": "code",
   "execution_count": 232,
   "metadata": {},
   "outputs": [],
   "source": [
    "model.compile(\n",
    "    optimizer=tf.keras.optimizers.Adam(),\n",
    "    loss=tf.keras.losses.CategoricalCrossentropy(from_logits=True),\n",
    "    metrics=['acc'])"
   ]
  },
  {
   "cell_type": "code",
   "execution_count": null,
   "metadata": {},
   "outputs": [],
   "source": []
  }
 ],
 "metadata": {
  "kernelspec": {
   "display_name": "Python 3",
   "language": "python",
   "name": "python3"
  },
  "language_info": {
   "codemirror_mode": {
    "name": "ipython",
    "version": 3
   },
   "file_extension": ".py",
   "mimetype": "text/x-python",
   "name": "python",
   "nbconvert_exporter": "python",
   "pygments_lexer": "ipython3",
   "version": "3.7.9"
  }
 },
 "nbformat": 4,
 "nbformat_minor": 4
}
